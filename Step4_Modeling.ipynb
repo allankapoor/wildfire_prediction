{
 "cells": [
  {
   "cell_type": "markdown",
   "id": "2e6e38a4",
   "metadata": {},
   "source": [
    "# Step 4: Modeling\n",
    "\n",
    "In this notebook I take the processed wildfire data and train/evaluate a series of ML algorithms. The goal to correctly identify the most large wildfires without incorrectly classifying too many small wildfires as large. While both recall and precision are important, recall is more important. Therefore, we will use the F2 score as our evaluation metric (but also consider recall and check confusion matrices).\n",
    "\n",
    "In previous notebooks I a) generated many environmental and weather features leveraging Google Earth Engine b) performed EDA and c) feature engineering - including transformation of features to move them closer to normal distributions.\n",
    "\n",
    "Wildfire size prediction is challenging for three reasons: 1) large wildfires are very rare compared to small wildfires, resulting is a severe class imbalance and 2) wildfire behavior is very complex and location specific so there is a lot of noise in the data, and 3) much of wildfire behavior is caused by wind/weather conditions in the days/weeks after the fire has started. As this model is intended to be used to make predictions on wildfires when they are discovered, we can't use any variables that would not yet be available (even if we can get them for historic wildfires).\n",
    "\n",
    "In this notebook I test the performance of a series of algorithms:\n",
    "* Logistic Regression\n",
    "* Random Forest\n",
    "* XGBoost\n",
    "* LightGBM.\n",
    "\n",
    "Model performance is evaluated via 10-fold cross-validation using the F2 score. To address the severe class imbalance in the data, two approaches are tried for each algorithm:\n",
    "* Class weighting \n",
    "* SMOTE oversampling/Random undersampling. This approach is explained in more detail below.\n",
    "\n",
    "Hyperparameters are initially tuned using RandomSearchCV. LightGBM without over/undersampling is identified as the best performing model. This algorithm is then tuned using Optuna, a state of the art hyperparameter optimization framework. This model outperforms the other models by 10-20% with an F2 score of 0.296. The tuned model is then trained on the full training set and performance is evaluated on the the hold-out test set resulting in a test F2 score of 0.297."
   ]
  },
  {
   "cell_type": "code",
   "execution_count": 12,
   "id": "6e31f292",
   "metadata": {},
   "outputs": [],
   "source": [
    "# load packages\n",
    "import numpy as np\n",
    "import pandas as pd\n",
    "import seaborn as sns\n",
    "import matplotlib.pyplot as plt\n",
    "from sklearn.model_selection import train_test_split\n",
    "from sklearn.metrics import plot_confusion_matrix\n",
    "from sklearn.metrics import precision_recall_fscore_support\n",
    "from sklearn.metrics import precision_score\n",
    "from sklearn.metrics import recall_score\n",
    "from sklearn.metrics import f1_score\n",
    "from sklearn.metrics import roc_auc_score\n",
    "from sklearn.metrics import average_precision_score\n",
    "from sklearn.metrics import fbeta_score\n",
    "from sklearn.metrics import accuracy_score\n",
    "from sklearn.model_selection import RandomizedSearchCV\n",
    "from sklearn.model_selection import GridSearchCV\n",
    "from sklearn.model_selection import RepeatedStratifiedKFold\n",
    "from sklearn.metrics import fbeta_score, make_scorer\n",
    "from sklearn.preprocessing import OneHotEncoder\n",
    "from sklearn.preprocessing import MinMaxScaler\n",
    "from sklearn.compose import ColumnTransformer\n",
    "from sklearn.pipeline import Pipeline"
   ]
  },
  {
   "cell_type": "code",
   "execution_count": 13,
   "id": "975bbbd8",
   "metadata": {},
   "outputs": [],
   "source": [
    "#load data processed in previous notebooks\n",
    "wfs = pd.read_csv('Datasets/wfs_preprocessed.csv', index_col=0)\n",
    "wfs_y =  pd.read_csv('Datasets/wfs_preprocessed_y.csv', index_col=0)"
   ]
  },
  {
   "cell_type": "markdown",
   "id": "5d38f01b",
   "metadata": {},
   "source": [
    "First I convert the `FIRE_SIZE_CLASS` feature into a binary categorical variable. While it would be nice to be able to predict fire size with more nuance (or predict only the very largest wildfires) due to the severe class imbalance this is this will be very difficult. Our ultimate goal is to predict if a wildfire could erupt into a large fire as it starts, a binary classification of small vs large fires is sufficient.\n",
    "\n",
    "Per this journal article from <i>Nature</i>, wildfires of class E or higher(>300 acres) can be considered \"large\". I'll use this as a precedent for creating a binary target variable.\n",
    "\n",
    "https://www.nature.com/articles/s41598-021-88131-9"
   ]
  },
  {
   "cell_type": "code",
   "execution_count": 14,
   "id": "abd13c1d",
   "metadata": {},
   "outputs": [],
   "source": [
    "# convert target feature to a binary variable (small vs large wildfires)\n",
    "large_fire_classes = ['E','F','G']\n",
    "wfs_y = wfs_y['FIRE_SIZE_CLASS'].apply(lambda t: 1 if t in large_fire_classes else 0)"
   ]
  },
  {
   "cell_type": "markdown",
   "id": "ac7ad83b",
   "metadata": {},
   "source": [
    "Before modeling I drop a few correlated/redundant features. These were IDed during pre-processing but I waited to remove them to maintain flexibility.\n",
    "`LATITUDE`, `erc`, `fm1000` have strong correlation with other variables.\n",
    "`aspect`,`aspect_cat`, `DISCOVERY_MONTH`, `DISCOVERY_DOY` have been replaced with dual cyclical variables (see Feature Engineering notebook)"
   ]
  },
  {
   "cell_type": "code",
   "execution_count": 15,
   "id": "9e554337",
   "metadata": {},
   "outputs": [],
   "source": [
    "# drop correlated/redundant columns\n",
    "drop_cols = ['LATITUDE', 'erc', 'fm1000', 'aspect','aspect_cat', 'DISCOVERY_MONTH', 'DISCOVERY_DOY']\n",
    "wfs_subset = wfs.drop(columns=drop_cols)\n",
    "\n",
    "#simplify categorical column names\n",
    "wfs_subset = wfs_subset.rename(columns={'WHR10NAME':'WHR10', 'NA_L2NAME':'L2', 'US_L3NAME':'L3'})"
   ]
  },
  {
   "cell_type": "markdown",
   "id": "4f3e4b22",
   "metadata": {},
   "source": [
    "### Evaluation Function\n",
    "This function simplifies the process of fitting a model and then producing evaluation metrics/confusion matrix. I'll will use it to quickly generate confusion matrices for each model. Note that while this function uses a single validation set, this is NOT the hold-out/test set, which will only be used at the very end. Also, while this function does produce an F2 score, I will use the mean F2 scores from 10-fold cross validation to compare model performance."
   ]
  },
  {
   "cell_type": "code",
   "execution_count": 16,
   "id": "699cc969",
   "metadata": {},
   "outputs": [],
   "source": [
    "def evaluate_model(model, X_t, y_t, X_v, y_v):\n",
    "    \n",
    "    ''' Fit model to traing data, predict and evaluate based on validation data, and produce confusion matrices. '''\n",
    "        \n",
    "    # fit model to training data\n",
    "    model.fit(X_t,y_t)\n",
    "\n",
    "    # predict on validation set\n",
    "    y_pred = model.predict(X_v)\n",
    "\n",
    "    # calculate other evaluation metrics\n",
    "    precision = round(precision_score(y_v, y_pred),4)\n",
    "    recall = round(recall_score(y_v, y_pred),4)\n",
    "    f2 = round(fbeta_score(y_v, y_pred, beta=2),4)\n",
    "    \n",
    "    #plot confusion matrix (on validation data)\n",
    "    plot_confusion_matrix(model, X_v, y_v, labels=None, sample_weight=None, normalize=None);\n",
    "    \n",
    "    #plot confusion matrix (on validation data)\n",
    "    plot_confusion_matrix(model, X_v, y_v, labels=None, sample_weight=None, normalize='true');\n",
    "\n",
    "    # print evaluation metrics\n",
    "    print('----- EVAL METRICS -----')\n",
    "    print(f'Precision: {precision}')\n",
    "    print(f'Recall: {recall}')\n",
    "    print(f'F2: {f2}')"
   ]
  },
  {
   "cell_type": "code",
   "execution_count": 17,
   "id": "b9ccab90",
   "metadata": {},
   "outputs": [],
   "source": [
    "def get_cv_scores(gr):\n",
    "    \n",
    "    '''Print mean CV scores for F2 and Recall from grid result'''\n",
    "\n",
    "    fbeta = round(gr.cv_results_['mean_test_fbeta'][gr.best_index_],4)\n",
    "    recall = round(gr.cv_results_['mean_test_Recall'][gr.best_index_],4)\n",
    "    print(f'F2: {fbeta}')\n",
    "    print(f'Recall: {recall}')"
   ]
  },
  {
   "cell_type": "markdown",
   "id": "96d1741d",
   "metadata": {},
   "source": [
    "### Grid Search Plot Function\n",
    "I'll use this function below to plot grid search results in order to understand how different hyperparameters influence model performance."
   ]
  },
  {
   "cell_type": "code",
   "execution_count": 18,
   "id": "6efd02a0",
   "metadata": {},
   "outputs": [],
   "source": [
    "def plot_grid_search(cv_results, grid_param_1, grid_param_2, name_param_1, name_param_2):\n",
    "    \n",
    "    '''Take grid search results and plot two parameters against mean CV scores '''\n",
    "    \n",
    "    # Get Test Scores Mean and std for each grid search\n",
    "    scores_mean = cv_results['mean_test_score']\n",
    "    scores_mean = np.array(scores_mean).reshape(len(grid_param_2),len(grid_param_1))\n",
    "\n",
    "    scores_sd = cv_results['std_test_score']\n",
    "    scores_sd = np.array(scores_sd).reshape(len(grid_param_2),len(grid_param_1))\n",
    "\n",
    "    # Plot Grid search scores\n",
    "    _, ax = plt.subplots(1,1)\n",
    "    \n",
    "    # Param1 is the X-axis, Param 2 is represented as a different curve (color line)\n",
    "    for idx, val in enumerate(grid_param_2):\n",
    "        ax.plot(grid_param_1, scores_mean[idx,:], '-o', label= name_param_2 + ': ' + str(val))\n",
    "\n",
    "    ax.set_title(f\"Grid Search Scores vs. {name_param_1} and {name_param_2}\", fontsize=12, fontweight='bold')\n",
    "    ax.set_xlabel(name_param_1, fontsize=12)\n",
    "    ax.set_ylabel('CV Average Score', fontsize=12)\n",
    "    ax.legend(loc='lower right', bbox_to_anchor= (1.5, 0), ncol=2,\n",
    "            borderaxespad=0, frameon=False)\n",
    "    ax.figure.set_size_inches(10, 10)\n",
    "    ax.grid('on')"
   ]
  },
  {
   "cell_type": "markdown",
   "id": "55734584",
   "metadata": {},
   "source": [
    "### Train/Test Split\n",
    "\n",
    "Here I split the dataset into training, validation, and a test set. Training will be used to fit different models via cross validation. Validation will be used to iteratively test the performance of various models. The test set represents completely unseen data and to prevent leakage will only be used to test model performance of the selected model at the very end."
   ]
  },
  {
   "cell_type": "code",
   "execution_count": 19,
   "id": "26353f06",
   "metadata": {},
   "outputs": [],
   "source": [
    "# Create feature and target arrays\n",
    "X = wfs_subset\n",
    "y = wfs_y\n",
    "\n",
    "# Split into training and test set\n",
    "X_train, X_test, y_train, y_test = train_test_split(X, y, test_size = 0.2, random_state=123, stratify=y)\n",
    "\n",
    "# Split training into training_sub and validation\n",
    "X_train_sub, X_val, y_train_sub, y_val = train_test_split(X_train, y_train, test_size = 0.2, random_state=123, stratify=y_train)"
   ]
  },
  {
   "cell_type": "markdown",
   "id": "b7d3ed9a",
   "metadata": {},
   "source": [
    "### Dummy Model"
   ]
  },
  {
   "cell_type": "markdown",
   "id": "5c089f7b",
   "metadata": {},
   "source": [
    "First, a dummy model to benchmark performance against. This model predicts classes randomly according to the class ratio in the training data. F2 Score is low and ROC AUC is close to 0.5 (no predictive power). However, accuracy is misleadingly high, because there are so many small wildfires.  This underscores my decision to use the F2 as the evaluation metric. "
   ]
  },
  {
   "cell_type": "code",
   "execution_count": 122,
   "id": "b6a117b1",
   "metadata": {},
   "outputs": [
    {
     "name": "stdout",
     "output_type": "stream",
     "text": [
      "Performance on Validation set:\n",
      "Accuracy: 0.9511\n",
      "AUC: 0.5028\n",
      "Recall: 0.0314\n",
      "F2: 0.0311\n"
     ]
    },
    {
     "data": {
      "image/png": "[encoded data removed]",
      "text/plain": [
       "<Figure size 432x288 with 2 Axes>"
      ]
     },
     "metadata": {
      "needs_background": "light"
     },
     "output_type": "display_data"
    },
    {
     "data": {
      "image/png": "[encoded data removed]",
      "text/plain": [
       "<Figure size 432x288 with 2 Axes>"
      ]
     },
     "metadata": {
      "needs_background": "light"
     },
     "output_type": "display_data"
    }
   ],
   "source": [
    "from sklearn.dummy import DummyClassifier\n",
    "\n",
    "# one hot encode (columns 15, 16, 17 only)\n",
    "encode = ColumnTransformer(transformers=[('cat', OneHotEncoder(), [15,16,17])], remainder='passthrough' )\n",
    "scale = MinMaxScaler()\n",
    "\n",
    "# define model\n",
    "dummy = DummyClassifier('stratified')\n",
    "steps = [('encode', encode), ('scale', scale), ('model', dummy)]\n",
    "pipeline_dummy = Pipeline(steps=steps)\n",
    "\n",
    "# fit it\n",
    "pipeline_dummy.fit(X_train_sub,y_train_sub)\n",
    "\n",
    "# test\n",
    "y_pred = pipeline_dummy.predict(X_val)\n",
    "\n",
    "# performance\n",
    "print('Performance on Validation set:')\n",
    "print(f'Accuracy: {round(accuracy_score(y_val,y_pred),4)}')\n",
    "print(f'AUC: {round(roc_auc_score(y_val, y_pred),4)}')\n",
    "print(f'Recall: {round(recall_score(y_val,y_pred),4)}')\n",
    "print(f'F2: {round(fbeta_score(y_val, y_pred, beta=2),4)}')\n",
    "\n",
    "plot_confusion_matrix(pipeline_dummy, X_val, y_val, labels=None, sample_weight=None, normalize=None)\n",
    "plot_confusion_matrix(pipeline_dummy, X_val, y_val, labels=None, sample_weight=None, normalize='true');"
   ]
  },
  {
   "cell_type": "markdown",
   "id": "901aefe9",
   "metadata": {},
   "source": [
    "### Logistic Regression"
   ]
  },
  {
   "cell_type": "markdown",
   "id": "294fdffb",
   "metadata": {},
   "source": [
    "As a start I try a class weighted logistic regression. The model is successful at identifying large wildfires but misclassifies too many small wildfires to be useful."
   ]
  },
  {
   "cell_type": "code",
   "execution_count": 20,
   "id": "39309cba",
   "metadata": {},
   "outputs": [
    {
     "name": "stdout",
     "output_type": "stream",
     "text": [
      "Performance on Validation set:\n",
      "Accuracy: 0.7191\n",
      "AUC: 0.7487\n",
      "Recall: 0.7799\n",
      "F2: 0.2431\n"
     ]
    },
    {
     "data": {
      "image/png": "[encoded data removed]",
      "text/plain": [
       "<Figure size 432x288 with 2 Axes>"
      ]
     },
     "metadata": {
      "needs_background": "light"
     },
     "output_type": "display_data"
    },
    {
     "data": {
      "image/png": "[encoded data removed]",
      "text/plain": [
       "<Figure size 432x288 with 2 Axes>"
      ]
     },
     "metadata": {
      "needs_background": "light"
     },
     "output_type": "display_data"
    }
   ],
   "source": [
    "from sklearn.linear_model import LogisticRegression\n",
    "\n",
    "# one hot encode (columns 15, 16, 17 only)\n",
    "encode = ColumnTransformer(transformers=[('cat', OneHotEncoder(), [15,16,17])], remainder='passthrough' )\n",
    "scale = MinMaxScaler()\n",
    "\n",
    "# define model\n",
    "lg1 = LogisticRegression(random_state=13, class_weight='balanced', max_iter=200)\n",
    "steps = [('encode', encode), ('scale', scale), ('model', lg1)]\n",
    "pipeline_lg1 = Pipeline(steps=steps)\n",
    "\n",
    "# fit it\n",
    "pipeline_lg1.fit(X_train_sub,y_train_sub)\n",
    "\n",
    "# test\n",
    "y_pred = pipeline_lg1.predict(X_val)\n",
    "\n",
    "# performance\n",
    "print('Performance on Validation set:')\n",
    "print(f'Accuracy: {round(accuracy_score(y_val,y_pred),4)}')\n",
    "print(f'AUC: {round(roc_auc_score(y_val, y_pred),4)}')\n",
    "print(f'Recall: {round(recall_score(y_val,y_pred),4)}')\n",
    "print(f'F2: {round(fbeta_score(y_val, y_pred, beta=2),4)}')\n",
    "    \n",
    "plot_confusion_matrix(pipeline_lg1, X_val, y_val, labels=None, sample_weight=None, normalize=None)\n",
    "plot_confusion_matrix(pipeline_lg1, X_val, y_val, labels=None, sample_weight=None, normalize='true');"
   ]
  },
  {
   "cell_type": "markdown",
   "id": "b815c666",
   "metadata": {},
   "source": [
    "### Explore Optimal Tree Depth and Number of Estimators for Random Forest\n",
    "\n",
    "I anticipate that given the prediction problem, ensemble methods will perform best. I'll start with Random Forest. One of the more important hyperparameters for Random Forest is tree depth. Here I explore optimal tree depth for a decision tree classifier. I will use this as the upper range for the tree depth hyperparameter in my grid search for the random forest classifier."
   ]
  },
  {
   "cell_type": "code",
   "execution_count": 21,
   "id": "a97006ae",
   "metadata": {},
   "outputs": [],
   "source": [
    "from sklearn.tree import DecisionTreeClassifier \n",
    "\n",
    "fb_scores = []\n",
    "accuracy_scores = []\n",
    "depth_range = list(range(1,50))\n",
    "\n",
    "# iterate through the range of tree depths\n",
    "for i in depth_range:\n",
    "\n",
    "    # one hot encode (columns 15, 16, 17 only)\n",
    "    cat_col_indeces = []\n",
    "    for i,col in enumerate(X_train.columns):\n",
    "        if X_train[col].dtype == 'O':\n",
    "            cat_col_indeces.append(i)\n",
    "    encode = ColumnTransformer(transformers=[('cat', OneHotEncoder(), cat_col_indeces)], remainder='passthrough' )\n",
    "\n",
    "    # instantiate model\n",
    "    dt_model = DecisionTreeClassifier(max_depth=i, criterion='gini')\n",
    "\n",
    "    # define pipeline\n",
    "    steps = [('encode', encode), ('model', dt_model)]\n",
    "    dt_pipeline = Pipeline(steps=steps)\n",
    "\n",
    "    # fit\n",
    "    dt_pipeline.fit(X_train_sub, y_train_sub)\n",
    "    \n",
    "    # predict\n",
    "    y_pred = dt_pipeline.predict(X_val)\n",
    "    \n",
    "    # caluate scores\n",
    "    f2 = fbeta_score(y_val, y_pred, beta=2)\n",
    "    accuracy = accuracy_score(y_val, y_pred)\n",
    "    \n",
    "    # save scores\n",
    "    fb_scores.append(f2)\n",
    "    accuracy_scores.append(accuracy)"
   ]
  },
  {
   "cell_type": "code",
   "execution_count": 22,
   "id": "7d688f70",
   "metadata": {},
   "outputs": [
    {
     "data": {
      "image/png": "[encoded data removed]",
      "text/plain": [
       "<Figure size 432x288 with 1 Axes>"
      ]
     },
     "metadata": {
      "needs_background": "light"
     },
     "output_type": "display_data"
    }
   ],
   "source": [
    "sns.lineplot(x=depth_range, y=fb_scores)\n",
    "plt.xlabel('Tree Depth')\n",
    "plt.ylabel('F2 Score')\n",
    "plt.title('Tree Depth vs F2 Score');"
   ]
  },
  {
   "cell_type": "markdown",
   "id": "9771a682",
   "metadata": {},
   "source": [
    "After 20, the f2 score oscillates but does not improve substantially."
   ]
  },
  {
   "cell_type": "code",
   "execution_count": 23,
   "id": "89cbd1ad",
   "metadata": {},
   "outputs": [
    {
     "data": {
      "image/png": "[encoded data removed]",
      "text/plain": [
       "<Figure size 432x288 with 1 Axes>"
      ]
     },
     "metadata": {
      "needs_background": "light"
     },
     "output_type": "display_data"
    }
   ],
   "source": [
    "sns.lineplot(x=depth_range, y=accuracy_scores)\n",
    "plt.xlabel('Tree Depth')\n",
    "plt.ylabel('Accuracy')\n",
    "plt.title('Tree Depth vs Accuracy');"
   ]
  },
  {
   "cell_type": "markdown",
   "id": "aa3b186e",
   "metadata": {},
   "source": [
    "Accuracy goes down quickly with increased tree depth, quickly performing worse than a dummy model. This suggests that higher depths are resulting on overfitting. For the Random Forest model (which generally performs best with small treed depth values) I'll use 20 as my max."
   ]
  },
  {
   "cell_type": "markdown",
   "id": "9c3064c4",
   "metadata": {},
   "source": [
    "Now I'll use the number of features to estimate a good start for n_estimators. For the models below I one-hot encode within a pipeline, but because I want the total number of features post-encoding, I encode outside the pipeline here:"
   ]
  },
  {
   "cell_type": "code",
   "execution_count": 24,
   "id": "84669ba7",
   "metadata": {},
   "outputs": [
    {
     "data": {
      "text/plain": [
       "44"
      ]
     },
     "execution_count": 24,
     "metadata": {},
     "output_type": "execute_result"
    }
   ],
   "source": [
    "#outside pipeline, we calculate number of features (post dummy-encoding)\n",
    "# which we use to estimate optimal value for n_estimators\n",
    "\n",
    "# categoricals > dummies\n",
    "cat_cols = ['WHR10', 'L2','L3']\n",
    "X_train_sub_dummies = X_train_sub\n",
    "\n",
    "for col in cat_cols:\n",
    "    X_train_sub_dummies = pd.get_dummies(X_train_sub_dummies, columns=[col], drop_first=True, prefix=col)\n",
    "    \n",
    "X_train_sub_dummies.shape[1]"
   ]
  },
  {
   "cell_type": "markdown",
   "id": "486b10e8",
   "metadata": {},
   "source": [
    "I'll try a range around 44 for n_estimators."
   ]
  },
  {
   "cell_type": "markdown",
   "id": "77345e94",
   "metadata": {},
   "source": [
    "### Random Forest - No Oversampling\n",
    "I am first trying a random forest model because a) the data is severely imbalanced and b) the classes are very mixed. Random forest models should perform well compared to models that cannot handle class imbalance well (such as KNN) or models that have trouble with very mixed classes (SVM). \n",
    "\n",
    "First I will try with no upsampling or downsampling, but I will weight the classes (class_weight='balanced subsample') so that the model pays extra attention to the minority class."
   ]
  },
  {
   "cell_type": "code",
   "execution_count": 25,
   "id": "dbea996e",
   "metadata": {},
   "outputs": [],
   "source": [
    "from sklearn.ensemble import RandomForestClassifier\n",
    "\n",
    "# define grid search/random forest function that takes a param grid as input\n",
    "def GridSearch_RandomForest(param_grid):\n",
    "    \n",
    "    '''Carry out a grid search with 10-fold cross valididation on a random forest model given a hyperparameter grid'''\n",
    "    \n",
    "    #make f2 scorer\n",
    "    f2_scorer = make_scorer(fbeta_score, beta=2)\n",
    "\n",
    "    # one hot encode (columns 15, 16, 17 only)\n",
    "    encode = ColumnTransformer(transformers=[('cat', OneHotEncoder(), [15,16,17])], remainder='passthrough')\n",
    "\n",
    "    # instantiate model\n",
    "    model = RandomForestClassifier(class_weight = 'balanced_subsample')\n",
    "\n",
    "    # define pipeline\n",
    "    steps = [('encode', encode), ('model', model)]\n",
    "    pipeline = Pipeline(steps=steps)\n",
    "\n",
    "    # define cross-validation\n",
    "    cv = RepeatedStratifiedKFold(n_splits=10, n_repeats=1, random_state=1)\n",
    "\n",
    "    # define grid search\n",
    "    grid = GridSearchCV(estimator=pipeline, param_grid=param_grid, n_jobs=-1, cv=cv, scoring=f2_scorer)\n",
    "\n",
    "    # execute the grid search\n",
    "    grid_result = grid.fit(X_train_sub, y_train_sub)\n",
    "\n",
    "    # report the best configuration\n",
    "    print(\"Best: %f using %s\" % (grid_result.best_score_, grid_result.best_params_))\n",
    "    \n",
    "    return grid_result"
   ]
  },
  {
   "cell_type": "markdown",
   "id": "29ca477b",
   "metadata": {},
   "source": [
    "`n_estimators` and `max_depth` are likely to influence model performance most because they control complexity. We will tune them first.\n",
    "<br/> For `n_estimators` we have estimated 44 as the optimal number and select a few higher/lower values to test.\n",
    "<br/> For `max_depth` we have estimated that 20 is the max (see decision tree above) and will test all values below that."
   ]
  },
  {
   "cell_type": "code",
   "execution_count": 26,
   "id": "0d1f947b",
   "metadata": {},
   "outputs": [
    {
     "name": "stdout",
     "output_type": "stream",
     "text": [
      "Best: 0.272267 using {'model__max_depth': 8, 'model__n_estimators': 100}\n"
     ]
    }
   ],
   "source": [
    "#grid search of most important hyperparameters\n",
    "param_grid = {'model__n_estimators': [25, 44, 100, 200], # 44 is estimated optimal\n",
    "        'model__max_depth' : list(range(1,20)), # 20 is estimated max for decision tree \n",
    "        }\n",
    "\n",
    "RF_primary_parameters_GS = GridSearch_RandomForest(param_grid)"
   ]
  },
  {
   "cell_type": "markdown",
   "id": "21e138c2",
   "metadata": {},
   "source": [
    "Note that the score above is the mean of the 10-fold CV. The scores (and confusion matrix) below are based on a validation set (not the training set, which will be held out until the very end)."
   ]
  },
  {
   "cell_type": "code",
   "execution_count": 27,
   "id": "e3d7865c",
   "metadata": {},
   "outputs": [
    {
     "name": "stdout",
     "output_type": "stream",
     "text": [
      "----- EVAL METRICS -----\n",
      "Precision: 0.0896\n",
      "Recall: 0.5157\n",
      "F2: 0.2643\n"
     ]
    },
    {
     "data": {
      "image/png": "[encoded data removed]",
      "text/plain": [
       "<Figure size 432x288 with 2 Axes>"
      ]
     },
     "metadata": {
      "needs_background": "light"
     },
     "output_type": "display_data"
    },
    {
     "data": {
      "image/png": "[encoded data removed]",
      "text/plain": [
       "<Figure size 432x288 with 2 Axes>"
      ]
     },
     "metadata": {
      "needs_background": "light"
     },
     "output_type": "display_data"
    }
   ],
   "source": [
    "# confusion matrices\n",
    "evaluate_model(RF_primary_parameters_GS.best_estimator_, X_train_sub, y_train_sub, X_val, y_val)"
   ]
  },
  {
   "cell_type": "markdown",
   "id": "cc6b5479",
   "metadata": {},
   "source": [
    "Model performance is a good start. The chart below plots max depth against mean CV F2 score for 4 different numbers of estimators. We can clearly see that 44 is the optimal number of estimators. For larger values, performance drops as tree depth increases. For less estimators, performance improves with greater tree depth but does not reach the best F2 scores achieved by 44 estimator runs."
   ]
  },
  {
   "cell_type": "code",
   "execution_count": 28,
   "id": "6e3b9185",
   "metadata": {},
   "outputs": [
    {
     "data": {
      "image/png": "[encoded data removed]",
      "text/plain": [
       "<Figure size 720x720 with 1 Axes>"
      ]
     },
     "metadata": {
      "needs_background": "light"
     },
     "output_type": "display_data"
    }
   ],
   "source": [
    "# plot grid search results\n",
    "plot_grid_search(RF_primary_parameters_GS.cv_results_,list(range(1,20)),[25, 44, 100, 200],'max_depth','n_estimators')"
   ]
  },
  {
   "cell_type": "markdown",
   "id": "edf91543",
   "metadata": {},
   "source": [
    "Now I'll grid search the less critical parameters to see if performance can be improved. I'll also include max_depth and n_estimators in the search, but have tightened the range of values based on the results of the above search."
   ]
  },
  {
   "cell_type": "code",
   "execution_count": 29,
   "id": "baae1ba3",
   "metadata": {},
   "outputs": [
    {
     "name": "stdout",
     "output_type": "stream",
     "text": [
      "Best: 0.273148 using {'model__class_weight': 'balanced_subsample', 'model__criterion': 'gini', 'model__max_depth': 9, 'model__max_features': 'sqrt', 'model__n_estimators': 44}\n"
     ]
    }
   ],
   "source": [
    "#grid search the less critical parameters and critical parameters closer to optimal zone\n",
    "param_grid = {'model__n_estimators': [40,44,50], # 44 is estimated optimal\n",
    "        'model__max_depth' : list(range(3,10)), #7 and 8 were best results previously\n",
    "        'model__class_weight': ['balanced_subsample'],\n",
    "        'model__criterion' :['gini', 'entropy'],\n",
    "        'model__max_features': ['auto', 'sqrt', 'log2']}\n",
    "\n",
    "RF_secondary_parameters_GS2 = GridSearch_RandomForest(param_grid)"
   ]
  },
  {
   "cell_type": "code",
   "execution_count": 30,
   "id": "82cc2ae3",
   "metadata": {},
   "outputs": [
    {
     "name": "stdout",
     "output_type": "stream",
     "text": [
      "----- EVAL METRICS -----\n",
      "Precision: 0.0947\n",
      "Recall: 0.4025\n",
      "F2: 0.2439\n"
     ]
    },
    {
     "data": {
      "image/png": "[encoded data removed]",
      "text/plain": [
       "<Figure size 432x288 with 2 Axes>"
      ]
     },
     "metadata": {
      "needs_background": "light"
     },
     "output_type": "display_data"
    },
    {
     "data": {
      "image/png": "[encoded data removed]",
      "text/plain": [
       "<Figure size 432x288 with 2 Axes>"
      ]
     },
     "metadata": {
      "needs_background": "light"
     },
     "output_type": "display_data"
    }
   ],
   "source": [
    "evaluate_model(RF_secondary_parameters_GS2.best_estimator_, X_train_sub, y_train_sub, X_val, y_val)"
   ]
  },
  {
   "cell_type": "markdown",
   "id": "b54fe269",
   "metadata": {},
   "source": [
    "Performance is better on validation set, but we must be careful not to overfit this particular validation set. The mean f2 score from cross validation is also slightly higher."
   ]
  },
  {
   "cell_type": "markdown",
   "id": "32f2ecfd",
   "metadata": {},
   "source": [
    "### Random Forest - with under/oversampling"
   ]
  },
  {
   "cell_type": "markdown",
   "id": "1525e9e9",
   "metadata": {},
   "source": [
    "Now I will see if oversampling/undersampling can improve performance. Recall is currently only ~0.5 and this may be because the model doesn't have enough of the minority class to work with. I'll use a pipeline with SMOTE oversampling and random undersampling via the Imbalanced Learn package.\n",
    "\n",
    "SMOTE works by selecting K nearest neighbors in the mindority class, draws a \"line\" between the neighbors in the feature space and then synthesizes a new sample at a random point along that line.\n",
    "https://machinelearningmastery.com/smote-oversampling-for-imbalanced-classification/\n",
    "\n",
    "I'll try a few different hyperparameter values for the sampling: ratios of over/under sampling as well as k for the SMOTE oversampling. This determines how many real members of the minority class are used to generate each synthesized record. I use the SMOTENC version of SMOTE which is designed to handle categorical features as well as numeric features."
   ]
  },
  {
   "cell_type": "code",
   "execution_count": 31,
   "id": "1e1bd0b0",
   "metadata": {},
   "outputs": [],
   "source": [
    "from imblearn.pipeline import Pipeline as Pipeline_imb\n",
    "from imblearn.over_sampling import SMOTENC\n",
    "from imblearn.under_sampling import RandomUnderSampler\n",
    "from sklearn.preprocessing import LabelBinarizer\n",
    "from sklearn.compose import ColumnTransformer\n",
    "from sklearn.model_selection import cross_val_score\n",
    "from sklearn.metrics import recall_score"
   ]
  },
  {
   "cell_type": "code",
   "execution_count": 32,
   "id": "5bd90f55",
   "metadata": {},
   "outputs": [
    {
     "name": "stdout",
     "output_type": "stream",
     "text": [
      "Best: 0.246326 using {'under__sampling_strategy': 0.8, 'over__sampling_strategy': 0.1, 'over__k_neighbors': 10, 'model__n_estimators': 53, 'model__max_features': 'auto', 'model__max_depth': 11, 'model__criterion': 'gini', 'model__class_weight': 'balanced'}\n"
     ]
    }
   ],
   "source": [
    "# Random Search CV: random forest pipeline with SMOTE oversampling, undersampling\n",
    "\n",
    "# parameter grid\n",
    "param_grid = {'model__n_estimators': list(range(40,55)),\n",
    "        'model__max_features': ['auto'],\n",
    "        'model__max_depth' : list(range(6,12)),\n",
    "        'model__criterion' :['gini'],\n",
    "        'model__class_weight': ['balanced', 'balanced_subsample'],\n",
    "       'under__sampling_strategy': [0.5, 0.8],\n",
    "       'over__sampling_strategy': [0.1, 0.2],\n",
    "       'over__k_neighbors': [2,5,10]}\n",
    "\n",
    "# over sample minority class\n",
    "cat_cols_mask = [True if col in cat_cols else False for col in X_train.columns]\n",
    "over = SMOTENC(categorical_features=cat_cols_mask)\n",
    "\n",
    "# under sample majority class\n",
    "under = RandomUnderSampler()\n",
    "\n",
    "# one hot encode (columns 15, 16, 17 only)\n",
    "encode = ColumnTransformer(transformers=[('cat', OneHotEncoder(), [15,16,17])], remainder='passthrough' )\n",
    "\n",
    "# instantiate model\n",
    "model = RandomForestClassifier()\n",
    "\n",
    "# define pipeline\n",
    "steps = [('over', over), ('under', under), ('encode', encode), ('model', model)]\n",
    "pipeline = Pipeline_imb(steps=steps)\n",
    "\n",
    "# define cross-validation\n",
    "cv = RepeatedStratifiedKFold(n_splits=10, n_repeats=1, random_state=1)\n",
    "\n",
    "# define grid search multi-metric scoring\n",
    "scoring = {'Recall': make_scorer(recall_score), 'fbeta': make_scorer(fbeta_score, beta=2)}\n",
    "\n",
    "# define grid search\n",
    "grid = RandomizedSearchCV(estimator=pipeline, param_distributions=param_grid, n_iter=100,\n",
    "                          n_jobs=-1, cv=cv, scoring=scoring, refit='fbeta', return_train_score=False)\n",
    "\n",
    "# execute the grid search\n",
    "grid_result_RFss = grid.fit(X_train_sub, y_train_sub)\n",
    "\n",
    "# report the best configuration\n",
    "print(\"Best: %f using %s\" % (grid_result_RFss.best_score_, grid_result_RFss.best_params_))"
   ]
  },
  {
   "cell_type": "code",
   "execution_count": 33,
   "id": "4dda8fc2",
   "metadata": {},
   "outputs": [
    {
     "name": "stdout",
     "output_type": "stream",
     "text": [
      "----- EVAL METRICS -----\n",
      "Precision: 0.0757\n",
      "Recall: 0.5031\n",
      "F2: 0.2363\n"
     ]
    },
    {
     "data": {
      "image/png": "[encoded data removed]",
      "text/plain": [
       "<Figure size 432x288 with 2 Axes>"
      ]
     },
     "metadata": {
      "needs_background": "light"
     },
     "output_type": "display_data"
    },
    {
     "data": {
      "image/png": "[encoded data removed]",
      "text/plain": [
       "<Figure size 432x288 with 2 Axes>"
      ]
     },
     "metadata": {
      "needs_background": "light"
     },
     "output_type": "display_data"
    }
   ],
   "source": [
    "evaluate_model(grid_result_RFss.best_estimator_, X_train_sub, y_train_sub, X_val, y_val)"
   ]
  },
  {
   "cell_type": "code",
   "execution_count": 34,
   "id": "11ef8817",
   "metadata": {},
   "outputs": [],
   "source": [
    "random_forest_SMOTE_results = pd.DataFrame(grid_result_RFss.cv_results_)"
   ]
  },
  {
   "cell_type": "code",
   "execution_count": 35,
   "id": "321ac61d",
   "metadata": {},
   "outputs": [
    {
     "data": {
      "text/html": [
       "<div>\n",
       "<style scoped>\n",
       "    .dataframe tbody tr th:only-of-type {\n",
       "        vertical-align: middle;\n",
       "    }\n",
       "\n",
       "    .dataframe tbody tr th {\n",
       "        vertical-align: top;\n",
       "    }\n",
       "\n",
       "    .dataframe thead th {\n",
       "        text-align: right;\n",
       "    }\n",
       "</style>\n",
       "<table border=\"1\" class=\"dataframe\">\n",
       "  <thead>\n",
       "    <tr style=\"text-align: right;\">\n",
       "      <th></th>\n",
       "      <th>mean_test_fbeta</th>\n",
       "      <th>mean_test_Recall</th>\n",
       "      <th>param_model__max_depth</th>\n",
       "      <th>param_model__n_estimators</th>\n",
       "      <th>param_over__k_neighbors</th>\n",
       "    </tr>\n",
       "  </thead>\n",
       "  <tbody>\n",
       "    <tr>\n",
       "      <th>75</th>\n",
       "      <td>0.246326</td>\n",
       "      <td>0.521181</td>\n",
       "      <td>11</td>\n",
       "      <td>53</td>\n",
       "      <td>10</td>\n",
       "    </tr>\n",
       "    <tr>\n",
       "      <th>11</th>\n",
       "      <td>0.245398</td>\n",
       "      <td>0.557540</td>\n",
       "      <td>10</td>\n",
       "      <td>52</td>\n",
       "      <td>5</td>\n",
       "    </tr>\n",
       "    <tr>\n",
       "      <th>20</th>\n",
       "      <td>0.245205</td>\n",
       "      <td>0.450471</td>\n",
       "      <td>11</td>\n",
       "      <td>52</td>\n",
       "      <td>2</td>\n",
       "    </tr>\n",
       "    <tr>\n",
       "      <th>4</th>\n",
       "      <td>0.244913</td>\n",
       "      <td>0.588963</td>\n",
       "      <td>9</td>\n",
       "      <td>41</td>\n",
       "      <td>2</td>\n",
       "    </tr>\n",
       "    <tr>\n",
       "      <th>13</th>\n",
       "      <td>0.243769</td>\n",
       "      <td>0.516543</td>\n",
       "      <td>11</td>\n",
       "      <td>46</td>\n",
       "      <td>5</td>\n",
       "    </tr>\n",
       "    <tr>\n",
       "      <th>0</th>\n",
       "      <td>0.243525</td>\n",
       "      <td>0.530556</td>\n",
       "      <td>9</td>\n",
       "      <td>50</td>\n",
       "      <td>5</td>\n",
       "    </tr>\n",
       "    <tr>\n",
       "      <th>57</th>\n",
       "      <td>0.243436</td>\n",
       "      <td>0.533854</td>\n",
       "      <td>10</td>\n",
       "      <td>46</td>\n",
       "      <td>5</td>\n",
       "    </tr>\n",
       "    <tr>\n",
       "      <th>90</th>\n",
       "      <td>0.243137</td>\n",
       "      <td>0.566939</td>\n",
       "      <td>9</td>\n",
       "      <td>54</td>\n",
       "      <td>10</td>\n",
       "    </tr>\n",
       "    <tr>\n",
       "      <th>12</th>\n",
       "      <td>0.242589</td>\n",
       "      <td>0.489732</td>\n",
       "      <td>10</td>\n",
       "      <td>44</td>\n",
       "      <td>5</td>\n",
       "    </tr>\n",
       "    <tr>\n",
       "      <th>15</th>\n",
       "      <td>0.242260</td>\n",
       "      <td>0.527431</td>\n",
       "      <td>10</td>\n",
       "      <td>49</td>\n",
       "      <td>10</td>\n",
       "    </tr>\n",
       "    <tr>\n",
       "      <th>24</th>\n",
       "      <td>0.240987</td>\n",
       "      <td>0.608011</td>\n",
       "      <td>7</td>\n",
       "      <td>53</td>\n",
       "      <td>2</td>\n",
       "    </tr>\n",
       "    <tr>\n",
       "      <th>40</th>\n",
       "      <td>0.240711</td>\n",
       "      <td>0.444122</td>\n",
       "      <td>11</td>\n",
       "      <td>48</td>\n",
       "      <td>10</td>\n",
       "    </tr>\n",
       "    <tr>\n",
       "      <th>70</th>\n",
       "      <td>0.240549</td>\n",
       "      <td>0.524380</td>\n",
       "      <td>9</td>\n",
       "      <td>45</td>\n",
       "      <td>5</td>\n",
       "    </tr>\n",
       "    <tr>\n",
       "      <th>30</th>\n",
       "      <td>0.240286</td>\n",
       "      <td>0.603100</td>\n",
       "      <td>8</td>\n",
       "      <td>42</td>\n",
       "      <td>10</td>\n",
       "    </tr>\n",
       "    <tr>\n",
       "      <th>99</th>\n",
       "      <td>0.239997</td>\n",
       "      <td>0.563914</td>\n",
       "      <td>9</td>\n",
       "      <td>54</td>\n",
       "      <td>2</td>\n",
       "    </tr>\n",
       "    <tr>\n",
       "      <th>91</th>\n",
       "      <td>0.239865</td>\n",
       "      <td>0.513442</td>\n",
       "      <td>9</td>\n",
       "      <td>54</td>\n",
       "      <td>10</td>\n",
       "    </tr>\n",
       "    <tr>\n",
       "      <th>32</th>\n",
       "      <td>0.239745</td>\n",
       "      <td>0.610987</td>\n",
       "      <td>7</td>\n",
       "      <td>49</td>\n",
       "      <td>5</td>\n",
       "    </tr>\n",
       "    <tr>\n",
       "      <th>56</th>\n",
       "      <td>0.239736</td>\n",
       "      <td>0.607986</td>\n",
       "      <td>8</td>\n",
       "      <td>48</td>\n",
       "      <td>5</td>\n",
       "    </tr>\n",
       "    <tr>\n",
       "      <th>88</th>\n",
       "      <td>0.239713</td>\n",
       "      <td>0.478819</td>\n",
       "      <td>10</td>\n",
       "      <td>47</td>\n",
       "      <td>2</td>\n",
       "    </tr>\n",
       "    <tr>\n",
       "      <th>85</th>\n",
       "      <td>0.239666</td>\n",
       "      <td>0.576463</td>\n",
       "      <td>9</td>\n",
       "      <td>53</td>\n",
       "      <td>2</td>\n",
       "    </tr>\n",
       "  </tbody>\n",
       "</table>\n",
       "</div>"
      ],
      "text/plain": [
       "    mean_test_fbeta  mean_test_Recall param_model__max_depth  \\\n",
       "75         0.246326          0.521181                     11   \n",
       "11         0.245398          0.557540                     10   \n",
       "20         0.245205          0.450471                     11   \n",
       "4          0.244913          0.588963                      9   \n",
       "13         0.243769          0.516543                     11   \n",
       "0          0.243525          0.530556                      9   \n",
       "57         0.243436          0.533854                     10   \n",
       "90         0.243137          0.566939                      9   \n",
       "12         0.242589          0.489732                     10   \n",
       "15         0.242260          0.527431                     10   \n",
       "24         0.240987          0.608011                      7   \n",
       "40         0.240711          0.444122                     11   \n",
       "70         0.240549          0.524380                      9   \n",
       "30         0.240286          0.603100                      8   \n",
       "99         0.239997          0.563914                      9   \n",
       "91         0.239865          0.513442                      9   \n",
       "32         0.239745          0.610987                      7   \n",
       "56         0.239736          0.607986                      8   \n",
       "88         0.239713          0.478819                     10   \n",
       "85         0.239666          0.576463                      9   \n",
       "\n",
       "   param_model__n_estimators param_over__k_neighbors  \n",
       "75                        53                      10  \n",
       "11                        52                       5  \n",
       "20                        52                       2  \n",
       "4                         41                       2  \n",
       "13                        46                       5  \n",
       "0                         50                       5  \n",
       "57                        46                       5  \n",
       "90                        54                      10  \n",
       "12                        44                       5  \n",
       "15                        49                      10  \n",
       "24                        53                       2  \n",
       "40                        48                      10  \n",
       "70                        45                       5  \n",
       "30                        42                      10  \n",
       "99                        54                       2  \n",
       "91                        54                      10  \n",
       "32                        49                       5  \n",
       "56                        48                       5  \n",
       "88                        47                       2  \n",
       "85                        53                       2  "
      ]
     },
     "execution_count": 35,
     "metadata": {},
     "output_type": "execute_result"
    }
   ],
   "source": [
    "#compare results of different hyperparameter combinations\n",
    "random_forest_SMOTE_results[['mean_test_fbeta','mean_test_Recall', 'param_model__max_depth',\n",
    "                            'param_model__n_estimators','param_over__k_neighbors']].sort_values('mean_test_fbeta', ascending=False).head(20)"
   ]
  },
  {
   "cell_type": "markdown",
   "id": "4e19f8c4",
   "metadata": {},
   "source": [
    "Over/under sampling results in increased recall but at the expense of precision/F2. This means that while more large wildfires are being correctly identified, more small wildfires are also being misclassified.\n",
    "\n",
    "If this model is to provide value to wildland firefighting efforts I don't want it to incorrectly classify too many small fires as large. "
   ]
  },
  {
   "cell_type": "markdown",
   "id": "d3540577",
   "metadata": {},
   "source": [
    "### XGBoost - No Sampling\n",
    "\n",
    "Now I will try using the Extreme Gradient Boosting algorithm to see if it offers better performance than the standard random forest model. First I'll try with no over/undersampling.\n",
    "\n",
    "Learning rate, subsample and min child weight = most important hyperparameters\n",
    "https://blog.dataiku.com/narrowing-the-search-which-hyperparameters-really-matter"
   ]
  },
  {
   "cell_type": "code",
   "execution_count": 36,
   "id": "bc1069d9",
   "metadata": {},
   "outputs": [
    {
     "name": "stdout",
     "output_type": "stream",
     "text": [
      "Estimate: 39.909\n"
     ]
    }
   ],
   "source": [
    "# determine ratio of positive to negeative classes in order to estimate optimal value for scale positive weight\n",
    "from collections import Counter\n",
    "counter = Counter(y_train)\n",
    "# estimate scale_pos_weight value\n",
    "estimate = counter[0] / counter[1]\n",
    "print('Estimate: %.3f' % estimate)"
   ]
  },
  {
   "cell_type": "code",
   "execution_count": 37,
   "id": "92096a93",
   "metadata": {},
   "outputs": [
    {
     "name": "stderr",
     "output_type": "stream",
     "text": [
      "/Users/allankapoor/opt/anaconda3/envs/boost/lib/python3.8/site-packages/xgboost/sklearn.py:1146: UserWarning: The use of label encoder in XGBClassifier is deprecated and will be removed in a future release. To remove this warning, do the following: 1) Pass option use_label_encoder=False when constructing XGBClassifier object; and 2) Encode your labels (y) as integers starting with 0, i.e. 0, 1, 2, ..., [num_class - 1].\n",
      "  warnings.warn(label_encoder_deprecation_msg, UserWarning)\n"
     ]
    },
    {
     "name": "stdout",
     "output_type": "stream",
     "text": [
      "Best: 0.274361 using {'model__subsample': 0.7999999999999999, 'model__scale_pos_weight': 35, 'model__min_child_weight': 0.6, 'model__max_depth': 3, 'model__learning_rate': 0.2, 'model__colsample_bytree': 0.8999999999999999}\n"
     ]
    }
   ],
   "source": [
    "from xgboost import XGBClassifier\n",
    "\n",
    "# parameter grid - these ranges were refined through a few iterations that are not shown here\n",
    "param_grid = {'model__max_depth':[2,3,4,5,6,7],\n",
    "              'model__learning_rate':np.arange(0.2, 1.0, 0.1),\n",
    "              'model__colsample_bytree': np.arange(0.5, 1.0, 0.1),\n",
    "              'model__subsample':np.arange(0.5, 1.0, 0.1),\n",
    "              'model__min_child_weight':np.arange(0.1, 2, 0.1),\n",
    "              'model__scale_pos_weight': np.arange(30,60,5)}\n",
    "\n",
    "# one hot encode (columns 15, 16, 17 only)\n",
    "encode = ColumnTransformer(transformers=[('cat', OneHotEncoder(), [15,16,17])], remainder='passthrough' )\n",
    "\n",
    "# instantiate model\n",
    "model = XGBClassifier(verbosity = 0)\n",
    "\n",
    "# define pipeline\n",
    "steps = [('encode', encode), ('model', model)]\n",
    "pipeline = Pipeline_imb(steps=steps)\n",
    "\n",
    "# define cross-validation\n",
    "cv = RepeatedStratifiedKFold(n_splits=10, n_repeats=1, random_state=1)\n",
    "\n",
    "# define grid search multi-metric scoring\n",
    "scoring = {'Recall': make_scorer(recall_score), 'fbeta': make_scorer(fbeta_score, beta=2)}\n",
    "\n",
    "# define grid search\n",
    "grid = RandomizedSearchCV(estimator=pipeline, n_iter = 100, param_distributions=param_grid,\n",
    "                          n_jobs=-1, cv=cv, scoring=scoring, refit='fbeta', return_train_score=False)\n",
    "\n",
    "# execute the grid search\n",
    "grid_result_xgb = grid.fit(X_train_sub, y_train_sub)\n",
    "\n",
    "# report the best configuration\n",
    "print(\"Best: %f using %s\" % (grid_result_xgb.best_score_, grid_result_xgb.best_params_))"
   ]
  },
  {
   "cell_type": "code",
   "execution_count": 38,
   "id": "c4ea2b4a",
   "metadata": {},
   "outputs": [
    {
     "name": "stdout",
     "output_type": "stream",
     "text": [
      "Best: 0.274361 using {'model__subsample': 0.7999999999999999, 'model__scale_pos_weight': 35, 'model__min_child_weight': 0.6, 'model__max_depth': 3, 'model__learning_rate': 0.2, 'model__colsample_bytree': 0.8999999999999999}\n"
     ]
    }
   ],
   "source": [
    "print(\"Best: %f using %s\" % (grid_result_xgb.best_score_, grid_result_xgb.best_params_))"
   ]
  },
  {
   "cell_type": "code",
   "execution_count": 39,
   "id": "769120a9",
   "metadata": {},
   "outputs": [],
   "source": [
    "def get_cv_scores(gr):\n",
    "    \n",
    "    '''Print mean CV scores for F2 and Recall from grid result'''\n",
    "\n",
    "    fbeta = round(gr.cv_results_['mean_test_fbeta'][gr.best_index_],4)\n",
    "    recall = round(gr.cv_results_['mean_test_Recall'][gr.best_index_],4)\n",
    "    print(f'F2: {fbeta}')\n",
    "    print(f'Recall: {recall}')"
   ]
  },
  {
   "cell_type": "code",
   "execution_count": 40,
   "id": "47d3a17b",
   "metadata": {},
   "outputs": [
    {
     "name": "stdout",
     "output_type": "stream",
     "text": [
      "F2: 0.2744\n",
      "Recall: 0.5762\n"
     ]
    }
   ],
   "source": [
    "get_cv_scores(grid_result_xgb)"
   ]
  },
  {
   "cell_type": "code",
   "execution_count": 41,
   "id": "2c82ec47",
   "metadata": {},
   "outputs": [
    {
     "name": "stderr",
     "output_type": "stream",
     "text": [
      "/Users/allankapoor/opt/anaconda3/envs/boost/lib/python3.8/site-packages/xgboost/sklearn.py:1146: UserWarning: The use of label encoder in XGBClassifier is deprecated and will be removed in a future release. To remove this warning, do the following: 1) Pass option use_label_encoder=False when constructing XGBClassifier object; and 2) Encode your labels (y) as integers starting with 0, i.e. 0, 1, 2, ..., [num_class - 1].\n",
      "  warnings.warn(label_encoder_deprecation_msg, UserWarning)\n"
     ]
    },
    {
     "name": "stdout",
     "output_type": "stream",
     "text": [
      "----- EVAL METRICS -----\n",
      "Precision: 0.084\n",
      "Recall: 0.5346\n",
      "F2: 0.2579\n"
     ]
    },
    {
     "data": {
      "image/png": "[encoded data removed]",
      "text/plain": [
       "<Figure size 432x288 with 2 Axes>"
      ]
     },
     "metadata": {
      "needs_background": "light"
     },
     "output_type": "display_data"
    },
    {
     "data": {
      "image/png": "[encoded data removed]",
      "text/plain": [
       "<Figure size 432x288 with 2 Axes>"
      ]
     },
     "metadata": {
      "needs_background": "light"
     },
     "output_type": "display_data"
    }
   ],
   "source": [
    "evaluate_model(grid_result_xgb.best_estimator_, X_train_sub, y_train_sub, X_val, y_val)"
   ]
  },
  {
   "cell_type": "code",
   "execution_count": 42,
   "id": "dac284c6",
   "metadata": {},
   "outputs": [
    {
     "data": {
      "text/html": [
       "<div>\n",
       "<style scoped>\n",
       "    .dataframe tbody tr th:only-of-type {\n",
       "        vertical-align: middle;\n",
       "    }\n",
       "\n",
       "    .dataframe tbody tr th {\n",
       "        vertical-align: top;\n",
       "    }\n",
       "\n",
       "    .dataframe thead th {\n",
       "        text-align: right;\n",
       "    }\n",
       "</style>\n",
       "<table border=\"1\" class=\"dataframe\">\n",
       "  <thead>\n",
       "    <tr style=\"text-align: right;\">\n",
       "      <th></th>\n",
       "      <th>mean_test_fbeta</th>\n",
       "      <th>mean_test_Recall</th>\n",
       "      <th>param_model__subsample</th>\n",
       "      <th>param_model__scale_pos_weight</th>\n",
       "      <th>param_model__max_depth</th>\n",
       "      <th>param_model__learning_rate</th>\n",
       "      <th>param_model__colsample_bytree</th>\n",
       "      <th>param_model__subsample</th>\n",
       "      <th>param_model__min_child_weight</th>\n",
       "    </tr>\n",
       "  </thead>\n",
       "  <tbody>\n",
       "    <tr>\n",
       "      <th>75</th>\n",
       "      <td>0.274361</td>\n",
       "      <td>0.576166</td>\n",
       "      <td>0.8</td>\n",
       "      <td>35</td>\n",
       "      <td>3</td>\n",
       "      <td>0.2</td>\n",
       "      <td>0.9</td>\n",
       "      <td>0.8</td>\n",
       "      <td>0.6</td>\n",
       "    </tr>\n",
       "    <tr>\n",
       "      <th>94</th>\n",
       "      <td>0.270584</td>\n",
       "      <td>0.428398</td>\n",
       "      <td>0.8</td>\n",
       "      <td>30</td>\n",
       "      <td>4</td>\n",
       "      <td>0.2</td>\n",
       "      <td>0.6</td>\n",
       "      <td>0.8</td>\n",
       "      <td>1.0</td>\n",
       "    </tr>\n",
       "    <tr>\n",
       "      <th>30</th>\n",
       "      <td>0.267381</td>\n",
       "      <td>0.470784</td>\n",
       "      <td>0.9</td>\n",
       "      <td>40</td>\n",
       "      <td>4</td>\n",
       "      <td>0.2</td>\n",
       "      <td>0.9</td>\n",
       "      <td>0.9</td>\n",
       "      <td>1.2</td>\n",
       "    </tr>\n",
       "    <tr>\n",
       "      <th>46</th>\n",
       "      <td>0.265779</td>\n",
       "      <td>0.496057</td>\n",
       "      <td>0.8</td>\n",
       "      <td>45</td>\n",
       "      <td>4</td>\n",
       "      <td>0.2</td>\n",
       "      <td>0.7</td>\n",
       "      <td>0.8</td>\n",
       "      <td>0.5</td>\n",
       "    </tr>\n",
       "    <tr>\n",
       "      <th>87</th>\n",
       "      <td>0.263203</td>\n",
       "      <td>0.588914</td>\n",
       "      <td>0.8</td>\n",
       "      <td>40</td>\n",
       "      <td>3</td>\n",
       "      <td>0.2</td>\n",
       "      <td>0.9</td>\n",
       "      <td>0.8</td>\n",
       "      <td>0.9</td>\n",
       "    </tr>\n",
       "    <tr>\n",
       "      <th>70</th>\n",
       "      <td>0.262426</td>\n",
       "      <td>0.559102</td>\n",
       "      <td>0.5</td>\n",
       "      <td>30</td>\n",
       "      <td>2</td>\n",
       "      <td>0.4</td>\n",
       "      <td>0.9</td>\n",
       "      <td>0.5</td>\n",
       "      <td>0.2</td>\n",
       "    </tr>\n",
       "    <tr>\n",
       "      <th>61</th>\n",
       "      <td>0.252565</td>\n",
       "      <td>0.411086</td>\n",
       "      <td>0.7</td>\n",
       "      <td>50</td>\n",
       "      <td>4</td>\n",
       "      <td>0.3</td>\n",
       "      <td>0.7</td>\n",
       "      <td>0.7</td>\n",
       "      <td>0.9</td>\n",
       "    </tr>\n",
       "    <tr>\n",
       "      <th>67</th>\n",
       "      <td>0.250257</td>\n",
       "      <td>0.592063</td>\n",
       "      <td>0.6</td>\n",
       "      <td>45</td>\n",
       "      <td>3</td>\n",
       "      <td>0.2</td>\n",
       "      <td>0.9</td>\n",
       "      <td>0.6</td>\n",
       "      <td>1.4</td>\n",
       "    </tr>\n",
       "    <tr>\n",
       "      <th>9</th>\n",
       "      <td>0.248947</td>\n",
       "      <td>0.430035</td>\n",
       "      <td>0.9</td>\n",
       "      <td>55</td>\n",
       "      <td>3</td>\n",
       "      <td>0.6</td>\n",
       "      <td>0.9</td>\n",
       "      <td>0.9</td>\n",
       "      <td>1.2</td>\n",
       "    </tr>\n",
       "    <tr>\n",
       "      <th>37</th>\n",
       "      <td>0.247221</td>\n",
       "      <td>0.596726</td>\n",
       "      <td>0.8</td>\n",
       "      <td>50</td>\n",
       "      <td>2</td>\n",
       "      <td>0.9</td>\n",
       "      <td>0.5</td>\n",
       "      <td>0.8</td>\n",
       "      <td>1.1</td>\n",
       "    </tr>\n",
       "    <tr>\n",
       "      <th>17</th>\n",
       "      <td>0.245607</td>\n",
       "      <td>0.645536</td>\n",
       "      <td>0.9</td>\n",
       "      <td>45</td>\n",
       "      <td>2</td>\n",
       "      <td>0.4</td>\n",
       "      <td>0.5</td>\n",
       "      <td>0.9</td>\n",
       "      <td>0.6</td>\n",
       "    </tr>\n",
       "    <tr>\n",
       "      <th>80</th>\n",
       "      <td>0.244706</td>\n",
       "      <td>0.497768</td>\n",
       "      <td>0.8</td>\n",
       "      <td>50</td>\n",
       "      <td>3</td>\n",
       "      <td>0.4</td>\n",
       "      <td>0.6</td>\n",
       "      <td>0.8</td>\n",
       "      <td>1.6</td>\n",
       "    </tr>\n",
       "    <tr>\n",
       "      <th>65</th>\n",
       "      <td>0.244192</td>\n",
       "      <td>0.378100</td>\n",
       "      <td>0.7</td>\n",
       "      <td>45</td>\n",
       "      <td>4</td>\n",
       "      <td>0.3</td>\n",
       "      <td>0.9</td>\n",
       "      <td>0.7</td>\n",
       "      <td>1.2</td>\n",
       "    </tr>\n",
       "    <tr>\n",
       "      <th>78</th>\n",
       "      <td>0.243031</td>\n",
       "      <td>0.521181</td>\n",
       "      <td>0.5</td>\n",
       "      <td>50</td>\n",
       "      <td>3</td>\n",
       "      <td>0.4</td>\n",
       "      <td>0.5</td>\n",
       "      <td>0.5</td>\n",
       "      <td>0.9</td>\n",
       "    </tr>\n",
       "    <tr>\n",
       "      <th>48</th>\n",
       "      <td>0.241868</td>\n",
       "      <td>0.318155</td>\n",
       "      <td>0.7</td>\n",
       "      <td>35</td>\n",
       "      <td>4</td>\n",
       "      <td>0.4</td>\n",
       "      <td>0.9</td>\n",
       "      <td>0.7</td>\n",
       "      <td>1.6</td>\n",
       "    </tr>\n",
       "    <tr>\n",
       "      <th>95</th>\n",
       "      <td>0.241108</td>\n",
       "      <td>0.659846</td>\n",
       "      <td>0.5</td>\n",
       "      <td>45</td>\n",
       "      <td>2</td>\n",
       "      <td>0.3</td>\n",
       "      <td>0.8</td>\n",
       "      <td>0.5</td>\n",
       "      <td>0.1</td>\n",
       "    </tr>\n",
       "    <tr>\n",
       "      <th>35</th>\n",
       "      <td>0.237235</td>\n",
       "      <td>0.524380</td>\n",
       "      <td>0.8</td>\n",
       "      <td>40</td>\n",
       "      <td>2</td>\n",
       "      <td>0.9</td>\n",
       "      <td>0.5</td>\n",
       "      <td>0.8</td>\n",
       "      <td>0.2</td>\n",
       "    </tr>\n",
       "    <tr>\n",
       "      <th>79</th>\n",
       "      <td>0.237033</td>\n",
       "      <td>0.629861</td>\n",
       "      <td>0.8</td>\n",
       "      <td>55</td>\n",
       "      <td>2</td>\n",
       "      <td>0.6</td>\n",
       "      <td>0.5</td>\n",
       "      <td>0.8</td>\n",
       "      <td>0.2</td>\n",
       "    </tr>\n",
       "    <tr>\n",
       "      <th>59</th>\n",
       "      <td>0.234413</td>\n",
       "      <td>0.510144</td>\n",
       "      <td>0.7</td>\n",
       "      <td>35</td>\n",
       "      <td>2</td>\n",
       "      <td>0.7</td>\n",
       "      <td>0.6</td>\n",
       "      <td>0.7</td>\n",
       "      <td>1.5</td>\n",
       "    </tr>\n",
       "    <tr>\n",
       "      <th>23</th>\n",
       "      <td>0.233405</td>\n",
       "      <td>0.661260</td>\n",
       "      <td>0.7</td>\n",
       "      <td>55</td>\n",
       "      <td>2</td>\n",
       "      <td>0.4</td>\n",
       "      <td>0.9</td>\n",
       "      <td>0.7</td>\n",
       "      <td>0.7</td>\n",
       "    </tr>\n",
       "  </tbody>\n",
       "</table>\n",
       "</div>"
      ],
      "text/plain": [
       "    mean_test_fbeta  mean_test_Recall param_model__subsample  \\\n",
       "75         0.274361          0.576166                    0.8   \n",
       "94         0.270584          0.428398                    0.8   \n",
       "30         0.267381          0.470784                    0.9   \n",
       "46         0.265779          0.496057                    0.8   \n",
       "87         0.263203          0.588914                    0.8   \n",
       "70         0.262426          0.559102                    0.5   \n",
       "61         0.252565          0.411086                    0.7   \n",
       "67         0.250257          0.592063                    0.6   \n",
       "9          0.248947          0.430035                    0.9   \n",
       "37         0.247221          0.596726                    0.8   \n",
       "17         0.245607          0.645536                    0.9   \n",
       "80         0.244706          0.497768                    0.8   \n",
       "65         0.244192          0.378100                    0.7   \n",
       "78         0.243031          0.521181                    0.5   \n",
       "48         0.241868          0.318155                    0.7   \n",
       "95         0.241108          0.659846                    0.5   \n",
       "35         0.237235          0.524380                    0.8   \n",
       "79         0.237033          0.629861                    0.8   \n",
       "59         0.234413          0.510144                    0.7   \n",
       "23         0.233405          0.661260                    0.7   \n",
       "\n",
       "   param_model__scale_pos_weight param_model__max_depth  \\\n",
       "75                            35                      3   \n",
       "94                            30                      4   \n",
       "30                            40                      4   \n",
       "46                            45                      4   \n",
       "87                            40                      3   \n",
       "70                            30                      2   \n",
       "61                            50                      4   \n",
       "67                            45                      3   \n",
       "9                             55                      3   \n",
       "37                            50                      2   \n",
       "17                            45                      2   \n",
       "80                            50                      3   \n",
       "65                            45                      4   \n",
       "78                            50                      3   \n",
       "48                            35                      4   \n",
       "95                            45                      2   \n",
       "35                            40                      2   \n",
       "79                            55                      2   \n",
       "59                            35                      2   \n",
       "23                            55                      2   \n",
       "\n",
       "   param_model__learning_rate param_model__colsample_bytree  \\\n",
       "75                        0.2                           0.9   \n",
       "94                        0.2                           0.6   \n",
       "30                        0.2                           0.9   \n",
       "46                        0.2                           0.7   \n",
       "87                        0.2                           0.9   \n",
       "70                        0.4                           0.9   \n",
       "61                        0.3                           0.7   \n",
       "67                        0.2                           0.9   \n",
       "9                         0.6                           0.9   \n",
       "37                        0.9                           0.5   \n",
       "17                        0.4                           0.5   \n",
       "80                        0.4                           0.6   \n",
       "65                        0.3                           0.9   \n",
       "78                        0.4                           0.5   \n",
       "48                        0.4                           0.9   \n",
       "95                        0.3                           0.8   \n",
       "35                        0.9                           0.5   \n",
       "79                        0.6                           0.5   \n",
       "59                        0.7                           0.6   \n",
       "23                        0.4                           0.9   \n",
       "\n",
       "   param_model__subsample param_model__min_child_weight  \n",
       "75                    0.8                           0.6  \n",
       "94                    0.8                           1.0  \n",
       "30                    0.9                           1.2  \n",
       "46                    0.8                           0.5  \n",
       "87                    0.8                           0.9  \n",
       "70                    0.5                           0.2  \n",
       "61                    0.7                           0.9  \n",
       "67                    0.6                           1.4  \n",
       "9                     0.9                           1.2  \n",
       "37                    0.8                           1.1  \n",
       "17                    0.9                           0.6  \n",
       "80                    0.8                           1.6  \n",
       "65                    0.7                           1.2  \n",
       "78                    0.5                           0.9  \n",
       "48                    0.7                           1.6  \n",
       "95                    0.5                           0.1  \n",
       "35                    0.8                           0.2  \n",
       "79                    0.8                           0.2  \n",
       "59                    0.7                           1.5  \n",
       "23                    0.7                           0.7  "
      ]
     },
     "execution_count": 42,
     "metadata": {},
     "output_type": "execute_result"
    }
   ],
   "source": [
    "#examine configurations of best peforming models\n",
    "xgboost_results = pd.DataFrame(grid_result_xgb.cv_results_)\n",
    "xgboost_results[['mean_test_fbeta',\n",
    "                 'mean_test_Recall',\n",
    "                 'param_model__subsample',\n",
    "                 'param_model__scale_pos_weight',\n",
    "                 'param_model__max_depth',\n",
    "                 'param_model__learning_rate',\n",
    "                 'param_model__colsample_bytree',\n",
    "                 'param_model__subsample',\n",
    "                 'param_model__min_child_weight'\n",
    "                ]].sort_values('mean_test_fbeta', ascending=False).head(20)"
   ]
  },
  {
   "cell_type": "markdown",
   "id": "b2fee052",
   "metadata": {},
   "source": [
    "XGBoost is performing close, but slightly worse than the random forest classifier."
   ]
  },
  {
   "cell_type": "markdown",
   "id": "8d4bb088",
   "metadata": {},
   "source": [
    "### XGBoost - SMOTE Oversampling"
   ]
  },
  {
   "cell_type": "markdown",
   "id": "9bf70914",
   "metadata": {},
   "source": [
    "Now I'll try XGBoost with under/oversampling. Perhaps the poor performance is due to class imbalance. First I need to think about how changing the class balance will influence the upper/lower bounds of our scale_pos_weight hyperparameter. Because the class imbalance will be less, the scale_pos_weight should be greatly reduced and the range in the grid search should be adjusted accordingly. "
   ]
  },
  {
   "cell_type": "code",
   "execution_count": 43,
   "id": "30712e55",
   "metadata": {},
   "outputs": [
    {
     "name": "stdout",
     "output_type": "stream",
     "text": [
      "Estimate: 5.000\n"
     ]
    }
   ],
   "source": [
    "# determine ratio of positive to negative classes in order to estimate scale positive weight\n",
    "over = SMOTENC(categorical_features=cat_cols_mask, sampling_strategy=0.1)\n",
    "oversampled_x, oversampled_y = over.fit_resample(X_train_sub, y_train_sub)\n",
    "under = RandomUnderSampler(sampling_strategy=0.2)\n",
    "\n",
    "undersampled_x, undersampled_y = under.fit_resample(oversampled_x, oversampled_y)\n",
    "\n",
    "from collections import Counter\n",
    "counter = Counter(undersampled_y)\n",
    "# estimate scale_pos_weight value\n",
    "estimate = counter[0] / counter[1]\n",
    "print('Estimate: %.3f' % estimate)"
   ]
  },
  {
   "cell_type": "code",
   "execution_count": 44,
   "id": "af223a25",
   "metadata": {},
   "outputs": [
    {
     "name": "stderr",
     "output_type": "stream",
     "text": [
      "/Users/allankapoor/opt/anaconda3/envs/boost/lib/python3.8/site-packages/sklearn/model_selection/_search.py:922: UserWarning: One or more of the test scores are non-finite: [0.46463294 0.28660714 0.34957837 0.61743552        nan        nan\n",
      "        nan 0.38896329 0.45359623 0.28829365 0.47884425 0.58258929\n",
      " 0.43479663 0.30104167 0.36686508        nan 0.79362599 0.57631448\n",
      "        nan 0.34171627 0.28320933 0.29618056 0.09134425 0.6125496\n",
      " 0.54494048 0.65818452 0.28035714 0.55907738 0.22698413 0.09769345\n",
      " 0.23142361 0.09312996 0.22524802 0.5906746  0.24414683 0.15771329\n",
      " 0.48023313 0.16542659        nan 0.1875248         nan 0.69444444\n",
      " 0.33251488 0.30257937 0.23303571 0.30716766 0.62842262 0.79362599\n",
      " 0.31185516 0.28494544        nan 0.603125   0.15143849 0.3781498\n",
      " 0.53065476        nan        nan 0.48194444 0.09915675 0.51949405\n",
      " 0.47710813 0.70230655 0.05193452 0.26292163 0.30260417 0.55897817\n",
      " 0.52433036 0.61887401 0.36061508 0.30543155 0.73521825 0.26932044\n",
      " 0.15287698 0.11180556 0.48038194 0.51019345 0.37321429 0.26924603\n",
      " 0.62986111 0.26629464 0.56049107        nan 0.51351687 0.34965278\n",
      " 0.44432044 0.54962798 0.43311012 0.68172123 0.6015625  0.21746032\n",
      " 0.31681548 0.609375   0.17800099 0.25349702 0.52118056 0.16688988\n",
      " 0.63782242 0.36391369 0.26314484 0.57626488]\n",
      "  warnings.warn(\n",
      "/Users/allankapoor/opt/anaconda3/envs/boost/lib/python3.8/site-packages/sklearn/model_selection/_search.py:922: UserWarning: One or more of the test scores are non-finite: [0.22995022 0.21597805 0.21428191 0.22039787        nan        nan\n",
      "        nan 0.23258698 0.24521382 0.22482808 0.23266387 0.23792323\n",
      " 0.24236246 0.21146617 0.23506987        nan 0.2084947  0.21609565\n",
      "        nan 0.23247467 0.20740285 0.20718384 0.09914549 0.21965217\n",
      " 0.23293289 0.2191287  0.19956746 0.22381313 0.17221468 0.1064586\n",
      " 0.20297752 0.10243445 0.18386645 0.23350818 0.19518565 0.15034007\n",
      " 0.23303696 0.15909565        nan 0.1708319         nan 0.21175884\n",
      " 0.21116587 0.21899958 0.19196152 0.23205676 0.24915176 0.20226246\n",
      " 0.22735931 0.21096328        nan 0.21908479 0.14012997 0.22565044\n",
      " 0.25358056        nan        nan 0.23581129 0.10395747 0.24622836\n",
      " 0.22680226 0.21448127 0.06031919 0.20928504 0.20943786 0.22282062\n",
      " 0.22358001 0.22775643 0.22884672 0.21672828 0.20511441 0.20882492\n",
      " 0.13965755 0.11400197 0.2381225  0.24999474 0.23020958 0.19138748\n",
      " 0.21876352 0.2125329  0.24309458        nan 0.23338877 0.23555832\n",
      " 0.24210876 0.24833075 0.23223098 0.22559733 0.23642203 0.18782533\n",
      " 0.21834703 0.22749632 0.16219996 0.19865162 0.24340426 0.15910945\n",
      " 0.22699043 0.2207949  0.1961693  0.24495709]\n",
      "  warnings.warn(\n"
     ]
    },
    {
     "name": "stdout",
     "output_type": "stream",
     "text": [
      "Best: 0.253581 using {'under__sampling_strategy': 0.8, 'over__sampling_strategy': 0.1, 'over__k_neighbors': 2, 'model__subsample': 0.6, 'model__scale_pos_weight': 2, 'model__min_child_weight': 1.4000000000000001, 'model__max_depth': 4, 'model__learning_rate': 0.2, 'model__colsample_bytree': 0.6}\n"
     ]
    }
   ],
   "source": [
    "from xgboost import XGBClassifier\n",
    "\n",
    "param_grid = {'model__max_depth':[2,3,4],\n",
    "              'model__learning_rate':[0.2, 0.3, 0.4],\n",
    "              'model__colsample_bytree': np.arange(0.5, 1.0, 0.1),\n",
    "              'model__subsample':np.arange(0.5, 1.0, 0.1),\n",
    "              'model__min_child_weight':np.arange(0.1, 2, 0.1),\n",
    "              'model__scale_pos_weight': [1, 2, 3, 5, 7],\n",
    "             'under__sampling_strategy': [0.2, 0.5, 0.8],\n",
    "              'over__sampling_strategy': [0.1, 0.2, 0.3],\n",
    "              'over__k_neighbors': [2,5,10]}\n",
    "\n",
    "# over sample minority class\n",
    "cat_cols_mask = [True if col in cat_cols else False for col in X_train.columns]\n",
    "over = SMOTENC(categorical_features=cat_cols_mask)\n",
    "\n",
    "# under sample majority class\n",
    "under = RandomUnderSampler()\n",
    "\n",
    "# one hot encode (columns 15, 16, 17 only)\n",
    "encode = ColumnTransformer(transformers=[('cat', OneHotEncoder(), [15,16,17])], remainder='passthrough' )\n",
    "\n",
    "# instantiate model\n",
    "model = XGBClassifier(use_label_encoder=False)\n",
    "\n",
    "# define pipeline\n",
    "steps = [('over',over), ('under', under), ('encode', encode), ('model', model)]\n",
    "pipeline = Pipeline_imb(steps=steps)\n",
    "\n",
    "# define cross-validation\n",
    "cv = RepeatedStratifiedKFold(n_splits=10, n_repeats=1, random_state=1)\n",
    "\n",
    "# define grid search multi-metric scoring\n",
    "scoring = {'Recall': make_scorer(recall_score), 'fbeta': make_scorer(fbeta_score, beta=2)}\n",
    "\n",
    "# define grid search\n",
    "grid = RandomizedSearchCV(estimator=pipeline, n_iter = 100, param_distributions=param_grid,\n",
    "                          n_jobs=-1, cv=cv, scoring=scoring, refit='fbeta', return_train_score=False)\n",
    "\n",
    "# execute the grid search\n",
    "grid_result_xgbos = grid.fit(X_train_sub, y_train_sub)\n",
    "\n",
    "# report the best configuration\n",
    "print(\"Best: %f using %s\" % (grid_result_xgbos.best_score_, grid_result_xgbos.best_params_))"
   ]
  },
  {
   "cell_type": "code",
   "execution_count": 45,
   "id": "64ae6dbb",
   "metadata": {},
   "outputs": [
    {
     "name": "stdout",
     "output_type": "stream",
     "text": [
      "----- EVAL METRICS -----\n",
      "Precision: 0.0775\n",
      "Recall: 0.4969\n",
      "F2: 0.2385\n"
     ]
    },
    {
     "data": {
      "image/png": "[encoded data removed]",
      "text/plain": [
       "<Figure size 432x288 with 2 Axes>"
      ]
     },
     "metadata": {
      "needs_background": "light"
     },
     "output_type": "display_data"
    },
    {
     "data": {
      "image/png": "[encoded data removed]",
      "text/plain": [
       "<Figure size 432x288 with 2 Axes>"
      ]
     },
     "metadata": {
      "needs_background": "light"
     },
     "output_type": "display_data"
    }
   ],
   "source": [
    "evaluate_model(grid_result_xgbos.best_estimator_, X_train_sub, y_train_sub, X_val, y_val)"
   ]
  },
  {
   "cell_type": "markdown",
   "id": "ba49d335",
   "metadata": {},
   "source": [
    "As with Random Forest, the addition of over/undersampling improves Recall at the expense of F2 (which is my primary evaluation metric). "
   ]
  },
  {
   "cell_type": "markdown",
   "id": "df72c5f1",
   "metadata": {},
   "source": [
    "XGBoost allows us to see \"Feature Importance\", the relative degree to which each feature is contributing to the model's decision."
   ]
  },
  {
   "cell_type": "code",
   "execution_count": 46,
   "id": "8f5103bd",
   "metadata": {},
   "outputs": [
    {
     "data": {
      "text/html": [
       "<div>\n",
       "<style scoped>\n",
       "    .dataframe tbody tr th:only-of-type {\n",
       "        vertical-align: middle;\n",
       "    }\n",
       "\n",
       "    .dataframe tbody tr th {\n",
       "        vertical-align: top;\n",
       "    }\n",
       "\n",
       "    .dataframe thead th {\n",
       "        text-align: right;\n",
       "    }\n",
       "</style>\n",
       "<table border=\"1\" class=\"dataframe\">\n",
       "  <thead>\n",
       "    <tr style=\"text-align: right;\">\n",
       "      <th></th>\n",
       "      <th>col_name</th>\n",
       "      <th>Importance</th>\n",
       "    </tr>\n",
       "  </thead>\n",
       "  <tbody>\n",
       "    <tr>\n",
       "      <th>39</th>\n",
       "      <td>usda_fi2</td>\n",
       "      <td>0.067818</td>\n",
       "    </tr>\n",
       "    <tr>\n",
       "      <th>41</th>\n",
       "      <td>usda_fi4</td>\n",
       "      <td>0.061314</td>\n",
       "    </tr>\n",
       "    <tr>\n",
       "      <th>40</th>\n",
       "      <td>usda_fi3</td>\n",
       "      <td>0.058055</td>\n",
       "    </tr>\n",
       "    <tr>\n",
       "      <th>30</th>\n",
       "      <td>slope</td>\n",
       "      <td>0.043034</td>\n",
       "    </tr>\n",
       "    <tr>\n",
       "      <th>7</th>\n",
       "      <td>cat__x0_Urban</td>\n",
       "      <td>0.042773</td>\n",
       "    </tr>\n",
       "    <tr>\n",
       "      <th>36</th>\n",
       "      <td>fm100</td>\n",
       "      <td>0.042422</td>\n",
       "    </tr>\n",
       "    <tr>\n",
       "      <th>38</th>\n",
       "      <td>usda_fi1</td>\n",
       "      <td>0.041790</td>\n",
       "    </tr>\n",
       "    <tr>\n",
       "      <th>29</th>\n",
       "      <td>elevation</td>\n",
       "      <td>0.035793</td>\n",
       "    </tr>\n",
       "    <tr>\n",
       "      <th>11</th>\n",
       "      <td>cat__x1_MARINE_W_COAST_FOREST</td>\n",
       "      <td>0.030368</td>\n",
       "    </tr>\n",
       "    <tr>\n",
       "      <th>24</th>\n",
       "      <td>cat__x2_S_CA_Mountains</td>\n",
       "      <td>0.030267</td>\n",
       "    </tr>\n",
       "    <tr>\n",
       "      <th>46</th>\n",
       "      <td>DISCOVERY_DOY_sin</td>\n",
       "      <td>0.029638</td>\n",
       "    </tr>\n",
       "    <tr>\n",
       "      <th>26</th>\n",
       "      <td>cat__x2_Sierra_Nevada</td>\n",
       "      <td>0.028233</td>\n",
       "    </tr>\n",
       "    <tr>\n",
       "      <th>44</th>\n",
       "      <td>aspect_sin</td>\n",
       "      <td>0.028188</td>\n",
       "    </tr>\n",
       "    <tr>\n",
       "      <th>45</th>\n",
       "      <td>DISCOVERY_DOY_cos</td>\n",
       "      <td>0.024605</td>\n",
       "    </tr>\n",
       "    <tr>\n",
       "      <th>14</th>\n",
       "      <td>cat__x1_W_CORDILLERA</td>\n",
       "      <td>0.024474</td>\n",
       "    </tr>\n",
       "    <tr>\n",
       "      <th>43</th>\n",
       "      <td>aspect_cos</td>\n",
       "      <td>0.023719</td>\n",
       "    </tr>\n",
       "    <tr>\n",
       "      <th>22</th>\n",
       "      <td>cat__x2_Mojave_Basin_and_Range</td>\n",
       "      <td>0.023534</td>\n",
       "    </tr>\n",
       "    <tr>\n",
       "      <th>25</th>\n",
       "      <td>cat__x2_S_CA_N_Baja_Coast</td>\n",
       "      <td>0.023034</td>\n",
       "    </tr>\n",
       "    <tr>\n",
       "      <th>28</th>\n",
       "      <td>LONGITUDE</td>\n",
       "      <td>0.021126</td>\n",
       "    </tr>\n",
       "    <tr>\n",
       "      <th>2</th>\n",
       "      <td>cat__x0_Conifer</td>\n",
       "      <td>0.020373</td>\n",
       "    </tr>\n",
       "    <tr>\n",
       "      <th>6</th>\n",
       "      <td>cat__x0_Shrub</td>\n",
       "      <td>0.019965</td>\n",
       "    </tr>\n",
       "    <tr>\n",
       "      <th>18</th>\n",
       "      <td>cat__x2_Central_CA_Valley</td>\n",
       "      <td>0.019791</td>\n",
       "    </tr>\n",
       "    <tr>\n",
       "      <th>3</th>\n",
       "      <td>cat__x0_Desert</td>\n",
       "      <td>0.019705</td>\n",
       "    </tr>\n",
       "    <tr>\n",
       "      <th>31</th>\n",
       "      <td>mean_monthly_ppt</td>\n",
       "      <td>0.019623</td>\n",
       "    </tr>\n",
       "    <tr>\n",
       "      <th>42</th>\n",
       "      <td>monthly_large_wf</td>\n",
       "      <td>0.018936</td>\n",
       "    </tr>\n",
       "    <tr>\n",
       "      <th>0</th>\n",
       "      <td>cat__x0_Agriculture</td>\n",
       "      <td>0.018915</td>\n",
       "    </tr>\n",
       "    <tr>\n",
       "      <th>21</th>\n",
       "      <td>cat__x2_Klamath_Mountains_CA_High_N_Coast_Range</td>\n",
       "      <td>0.018228</td>\n",
       "    </tr>\n",
       "    <tr>\n",
       "      <th>10</th>\n",
       "      <td>cat__x1_COLD_DESERTS</td>\n",
       "      <td>0.017939</td>\n",
       "    </tr>\n",
       "    <tr>\n",
       "      <th>37</th>\n",
       "      <td>usda_bp</td>\n",
       "      <td>0.017384</td>\n",
       "    </tr>\n",
       "    <tr>\n",
       "      <th>32</th>\n",
       "      <td>dew_point</td>\n",
       "      <td>0.016970</td>\n",
       "    </tr>\n",
       "    <tr>\n",
       "      <th>33</th>\n",
       "      <td>max_temp</td>\n",
       "      <td>0.016420</td>\n",
       "    </tr>\n",
       "    <tr>\n",
       "      <th>15</th>\n",
       "      <td>cat__x2_Cascades</td>\n",
       "      <td>0.016291</td>\n",
       "    </tr>\n",
       "    <tr>\n",
       "      <th>34</th>\n",
       "      <td>wind_speed</td>\n",
       "      <td>0.015858</td>\n",
       "    </tr>\n",
       "    <tr>\n",
       "      <th>35</th>\n",
       "      <td>bi</td>\n",
       "      <td>0.014590</td>\n",
       "    </tr>\n",
       "    <tr>\n",
       "      <th>4</th>\n",
       "      <td>cat__x0_Hardwood</td>\n",
       "      <td>0.012734</td>\n",
       "    </tr>\n",
       "    <tr>\n",
       "      <th>17</th>\n",
       "      <td>cat__x2_Central_CA_Foothills_and_Coastal_Mount...</td>\n",
       "      <td>0.012184</td>\n",
       "    </tr>\n",
       "    <tr>\n",
       "      <th>5</th>\n",
       "      <td>cat__x0_Herbaceous</td>\n",
       "      <td>0.012048</td>\n",
       "    </tr>\n",
       "    <tr>\n",
       "      <th>12</th>\n",
       "      <td>cat__x1_MEDITERRANEAN_CA</td>\n",
       "      <td>0.011859</td>\n",
       "    </tr>\n",
       "    <tr>\n",
       "      <th>1</th>\n",
       "      <td>cat__x0_Barren_Other</td>\n",
       "      <td>0.000000</td>\n",
       "    </tr>\n",
       "    <tr>\n",
       "      <th>8</th>\n",
       "      <td>cat__x0_Water</td>\n",
       "      <td>0.000000</td>\n",
       "    </tr>\n",
       "    <tr>\n",
       "      <th>9</th>\n",
       "      <td>cat__x0_Wetland</td>\n",
       "      <td>0.000000</td>\n",
       "    </tr>\n",
       "    <tr>\n",
       "      <th>16</th>\n",
       "      <td>cat__x2_Central_Basin_and_Range</td>\n",
       "      <td>0.000000</td>\n",
       "    </tr>\n",
       "    <tr>\n",
       "      <th>13</th>\n",
       "      <td>cat__x1_WARM_DESERTS</td>\n",
       "      <td>0.000000</td>\n",
       "    </tr>\n",
       "    <tr>\n",
       "      <th>27</th>\n",
       "      <td>cat__x2_Sonoran_Basin_and_Range</td>\n",
       "      <td>0.000000</td>\n",
       "    </tr>\n",
       "    <tr>\n",
       "      <th>19</th>\n",
       "      <td>cat__x2_Coast_Range</td>\n",
       "      <td>0.000000</td>\n",
       "    </tr>\n",
       "    <tr>\n",
       "      <th>20</th>\n",
       "      <td>cat__x2_E_Cascades_Slopes_and_Foothills</td>\n",
       "      <td>0.000000</td>\n",
       "    </tr>\n",
       "    <tr>\n",
       "      <th>23</th>\n",
       "      <td>cat__x2_N_Basin_and_Range</td>\n",
       "      <td>0.000000</td>\n",
       "    </tr>\n",
       "  </tbody>\n",
       "</table>\n",
       "</div>"
      ],
      "text/plain": [
       "                                             col_name  Importance\n",
       "39                                           usda_fi2    0.067818\n",
       "41                                           usda_fi4    0.061314\n",
       "40                                           usda_fi3    0.058055\n",
       "30                                              slope    0.043034\n",
       "7                                       cat__x0_Urban    0.042773\n",
       "36                                              fm100    0.042422\n",
       "38                                           usda_fi1    0.041790\n",
       "29                                          elevation    0.035793\n",
       "11                      cat__x1_MARINE_W_COAST_FOREST    0.030368\n",
       "24                             cat__x2_S_CA_Mountains    0.030267\n",
       "46                                  DISCOVERY_DOY_sin    0.029638\n",
       "26                              cat__x2_Sierra_Nevada    0.028233\n",
       "44                                         aspect_sin    0.028188\n",
       "45                                  DISCOVERY_DOY_cos    0.024605\n",
       "14                               cat__x1_W_CORDILLERA    0.024474\n",
       "43                                         aspect_cos    0.023719\n",
       "22                     cat__x2_Mojave_Basin_and_Range    0.023534\n",
       "25                          cat__x2_S_CA_N_Baja_Coast    0.023034\n",
       "28                                          LONGITUDE    0.021126\n",
       "2                                     cat__x0_Conifer    0.020373\n",
       "6                                       cat__x0_Shrub    0.019965\n",
       "18                          cat__x2_Central_CA_Valley    0.019791\n",
       "3                                      cat__x0_Desert    0.019705\n",
       "31                                   mean_monthly_ppt    0.019623\n",
       "42                                   monthly_large_wf    0.018936\n",
       "0                                 cat__x0_Agriculture    0.018915\n",
       "21    cat__x2_Klamath_Mountains_CA_High_N_Coast_Range    0.018228\n",
       "10                               cat__x1_COLD_DESERTS    0.017939\n",
       "37                                            usda_bp    0.017384\n",
       "32                                          dew_point    0.016970\n",
       "33                                           max_temp    0.016420\n",
       "15                                   cat__x2_Cascades    0.016291\n",
       "34                                         wind_speed    0.015858\n",
       "35                                                 bi    0.014590\n",
       "4                                    cat__x0_Hardwood    0.012734\n",
       "17  cat__x2_Central_CA_Foothills_and_Coastal_Mount...    0.012184\n",
       "5                                  cat__x0_Herbaceous    0.012048\n",
       "12                           cat__x1_MEDITERRANEAN_CA    0.011859\n",
       "1                                cat__x0_Barren_Other    0.000000\n",
       "8                                       cat__x0_Water    0.000000\n",
       "9                                     cat__x0_Wetland    0.000000\n",
       "16                    cat__x2_Central_Basin_and_Range    0.000000\n",
       "13                               cat__x1_WARM_DESERTS    0.000000\n",
       "27                    cat__x2_Sonoran_Basin_and_Range    0.000000\n",
       "19                                cat__x2_Coast_Range    0.000000\n",
       "20            cat__x2_E_Cascades_Slopes_and_Foothills    0.000000\n",
       "23                          cat__x2_N_Basin_and_Range    0.000000"
      ]
     },
     "execution_count": 46,
     "metadata": {},
     "output_type": "execute_result"
    }
   ],
   "source": [
    "#create sorted dataframe of feature importance\n",
    "from xgboost import plot_importance\n",
    "best_model = grid_result_xgbos.best_estimator_.fit(X_train, y_train)\n",
    "feat_importance = best_model.named_steps['model'].feature_importances_\n",
    "col_names = best_model.named_steps['encode'].get_feature_names()\n",
    "pd.DataFrame({'col_name':col_names, 'Importance':feat_importance}).sort_values('Importance', ascending=False)"
   ]
  },
  {
   "cell_type": "markdown",
   "id": "327b1591",
   "metadata": {},
   "source": [
    "Interestingly, the categorical environment fields are contributing the most to the model. Perhaps this is because wildfires located in urban/agricultural areas tend to be closer to roads and are therefore more easily put out before they grow to be too large. Let's compare vs cross tabulation:"
   ]
  },
  {
   "cell_type": "code",
   "execution_count": null,
   "id": "0db8ead7",
   "metadata": {},
   "outputs": [],
   "source": [
    "# plot bar chot of cross tabulation between fire size and another category\n",
    "wfs_train = pd.concat([X_train,y_train], axis=1)\n",
    "def plot_firesize_comparison(df,column,category):\n",
    "    flag = df.apply(lambda r: 1 if r[column] == category else 0, axis=1)\n",
    "    pd.crosstab(df['FIRE_SIZE_CLASS'],flag,normalize='index').plot.bar(stacked=True)\n",
    "    plt.ylabel('Proportion of Fires')\n",
    "    plt.xlabel('Fire Size Class')\n",
    "    plt.legend([f'Non-{category}', category],loc='right')\n",
    "    plt.title(f'Fire Size vs. {category}')\n",
    "\n",
    "    plt.show()"
   ]
  },
  {
   "cell_type": "code",
   "execution_count": null,
   "id": "3c3bf5fb",
   "metadata": {},
   "outputs": [],
   "source": [
    "plot_firesize_comparison(wfs_train,'WHR10','Urban')"
   ]
  },
  {
   "cell_type": "code",
   "execution_count": null,
   "id": "dc36b5b0",
   "metadata": {},
   "outputs": [],
   "source": [
    "plot_firesize_comparison(wfs_train,'WHR10','Agriculture')"
   ]
  },
  {
   "cell_type": "markdown",
   "id": "be2fff87",
   "metadata": {},
   "source": [
    "As expected, the charts show that wildfires are less likley to be large if they are in Urban or Agricultural areas. "
   ]
  },
  {
   "cell_type": "markdown",
   "id": "c8b755c0",
   "metadata": {},
   "source": [
    "### Light GBM\n",
    "XGBoost is not performing as well as I hoped, so I'll try another popular gradient boosting algorithm.\n",
    "\n",
    "First, with class weighting but no over/undersampling:"
   ]
  },
  {
   "cell_type": "code",
   "execution_count": 48,
   "id": "44acfb34",
   "metadata": {},
   "outputs": [
    {
     "name": "stdout",
     "output_type": "stream",
     "text": [
      "[LightGBM] [Warning] bagging_fraction is set=0.4000000000000001, subsample=1.0 will be ignored. Current value: bagging_fraction=0.4000000000000001\n",
      "[LightGBM] [Warning] min_gain_to_split is set=3, min_split_gain=0.0 will be ignored. Current value: min_gain_to_split=3\n",
      "[LightGBM] [Warning] lambda_l1 is set=31, reg_alpha=0.0 will be ignored. Current value: lambda_l1=31\n",
      "Best: 0.285640 using {'model__num_leaves': 2940, 'model__n_estimators': 700, 'model__min_gain_to_split': 3, 'model__max_depth': 10, 'model__learning_rate': 0.01, 'model__lambda_l1': 31, 'model__bagging_fraction': 0.4000000000000001}\n",
      "CPU times: user 20 s, sys: 2.65 s, total: 22.7 s\n",
      "Wall time: 37min 47s\n"
     ]
    }
   ],
   "source": [
    "%%time\n",
    "from lightgbm import LGBMClassifier\n",
    "\n",
    "# parameter grid - these ranges were refined through a few iterations that are not shown here\n",
    "param_grid = {'model__max_depth':range(3,12),\n",
    "              'model__num_leaves': np.arange(20, 3000,20),\n",
    "             'model__n_estimators': np.arange(50,1000,50),\n",
    "             'model__learning_rate': np.arange(0.01,0.3,0.2),\n",
    "             'model__lambda_l1':np.arange(1,100,10),\n",
    "             'model__min_gain_to_split':np.arange(0,15),\n",
    "             'model__bagging_fraction': np.arange(0.2,0.95, 0.1)}\n",
    "\n",
    "# one hot encode (columns 15, 16, 17 only)\n",
    "encode = ColumnTransformer(transformers=[('cat', OneHotEncoder(), [15,16,17])], remainder='passthrough' )\n",
    "\n",
    "# instantiate model\n",
    "model = LGBMClassifier(is_unbalance=True)\n",
    "\n",
    "# define pipeline\n",
    "steps = [('encode', encode), ('model', model)]\n",
    "pipeline = Pipeline_imb(steps=steps)\n",
    "\n",
    "# define cross-validation\n",
    "cv = RepeatedStratifiedKFold(n_splits=10, n_repeats=1, random_state=1)\n",
    "\n",
    "# define grid search multi-metric scoring\n",
    "scoring = {'Recall': make_scorer(recall_score), 'fbeta': make_scorer(fbeta_score, beta=2)}\n",
    "\n",
    "# define grid search\n",
    "grid = RandomizedSearchCV(estimator=pipeline, n_iter = 100, param_distributions=param_grid,\n",
    "                          n_jobs=-1, cv=cv, scoring=scoring, refit='fbeta', return_train_score=False)\n",
    "\n",
    "# execute the grid search\n",
    "grid_result_lgb = grid.fit(X_train_sub, y_train_sub)\n",
    "\n",
    "# report the best configuration\n",
    "print(\"Best: %f using %s\" % (grid_result_lgb.best_score_, grid_result_lgb.best_params_))"
   ]
  },
  {
   "cell_type": "code",
   "execution_count": 49,
   "id": "ec95096e",
   "metadata": {},
   "outputs": [
    {
     "name": "stdout",
     "output_type": "stream",
     "text": [
      "F2: 0.2856\n",
      "Recall: 0.4537\n"
     ]
    }
   ],
   "source": [
    "get_cv_scores(grid_result_lgb)"
   ]
  },
  {
   "cell_type": "code",
   "execution_count": 50,
   "id": "80da8e04",
   "metadata": {},
   "outputs": [
    {
     "name": "stdout",
     "output_type": "stream",
     "text": [
      "----- EVAL METRICS -----\n",
      "Precision: 0.1033\n",
      "Recall: 0.4151\n",
      "F2: 0.2588\n"
     ]
    },
    {
     "data": {
      "image/png": "[encoded data removed]",
      "text/plain": [
       "<Figure size 432x288 with 2 Axes>"
      ]
     },
     "metadata": {
      "needs_background": "light"
     },
     "output_type": "display_data"
    },
    {
     "data": {
      "image/png": "[encoded data removed]",
      "text/plain": [
       "<Figure size 432x288 with 2 Axes>"
      ]
     },
     "metadata": {
      "needs_background": "light"
     },
     "output_type": "display_data"
    }
   ],
   "source": [
    "evaluate_model(grid_result_lgb.best_estimator_, X_train_sub, y_train_sub, X_val, y_val)"
   ]
  },
  {
   "cell_type": "markdown",
   "id": "22d9294d",
   "metadata": {},
   "source": [
    "We see an improvement in F2 scores for both the cross-validation and on our validation set (not our test set!) over both random forest and XGBoost.\n",
    "\n",
    "Now I'll look at the feature importances to see if they are similar to the XGBoost model."
   ]
  },
  {
   "cell_type": "code",
   "execution_count": 51,
   "id": "455aa921",
   "metadata": {},
   "outputs": [
    {
     "name": "stdout",
     "output_type": "stream",
     "text": [
      "[LightGBM] [Warning] bagging_fraction is set=0.4000000000000001, subsample=1.0 will be ignored. Current value: bagging_fraction=0.4000000000000001\n",
      "[LightGBM] [Warning] min_gain_to_split is set=3, min_split_gain=0.0 will be ignored. Current value: min_gain_to_split=3\n",
      "[LightGBM] [Warning] lambda_l1 is set=31, reg_alpha=0.0 will be ignored. Current value: lambda_l1=31\n"
     ]
    }
   ],
   "source": [
    "#create sorted dataframe of feature importance\n",
    "from lightgbm import plot_importance\n",
    "best_model = grid_result_lgb.best_estimator_.fit(X_train, y_train)\n",
    "feat_importance = best_model.named_steps['model'].feature_importances_\n",
    "col_names = best_model.named_steps['encode'].get_feature_names()\n",
    "lgb_importances = pd.DataFrame({'col_name':col_names, 'Importance':feat_importance}).sort_values('Importance', ascending=False)"
   ]
  },
  {
   "cell_type": "code",
   "execution_count": 52,
   "id": "aefa44fa",
   "metadata": {},
   "outputs": [
    {
     "data": {
      "image/png": "[encoded data removed]",
      "text/plain": [
       "<Figure size 360x720 with 1 Axes>"
      ]
     },
     "metadata": {
      "needs_background": "light"
     },
     "output_type": "display_data"
    }
   ],
   "source": [
    "#plot feature importance\n",
    "fig, ax = plt.subplots(figsize=(5,10))\n",
    "sns.barplot(ax=ax, data=lgb_importances, x='Importance', y=\"col_name\")\n",
    "ax.set_title('Feature Importance for LightGBM Model')\n",
    "ax.set_ylabel('Feature Name')\n",
    "ax.set_xlabel('Importance');"
   ]
  },
  {
   "cell_type": "markdown",
   "id": "7823435a",
   "metadata": {},
   "source": [
    "The feature importance chart above looks very different than the  feature importance table for the XGBoost model. While for XGBoost dummy/categorical columns for Agriculture and Urban were most important, here we see that the numeric weather variables from Google Earth Engine are much more prominent.\n",
    "\n",
    "This much more in line with what we would expect based on background knowledge of factors influencing wildfire severity. Perhaps this is why performance has improved over XGBoost."
   ]
  },
  {
   "cell_type": "markdown",
   "id": "f5895d69",
   "metadata": {},
   "source": [
    "### LightGBM with Over/UnderSampling\n",
    "\n",
    "As with the other models, I'll try LightGBM with SMOTE oversampling/random undersampling"
   ]
  },
  {
   "cell_type": "code",
   "execution_count": 53,
   "id": "219556b6",
   "metadata": {},
   "outputs": [
    {
     "name": "stderr",
     "output_type": "stream",
     "text": [
      "/Users/allankapoor/opt/anaconda3/envs/boost/lib/python3.8/site-packages/sklearn/model_selection/_search.py:922: UserWarning: One or more of the test scores are non-finite: [       nan 0.27256944 0.25183532 0.51478175 0.5827629  0.30734127\n",
      " 0.40654762 0.01572421 0.36842758 0.43638393 0.32601687 0.35925099\n",
      "        nan 0.30714286 0.28048115        nan 0.54665179 0.29300595\n",
      " 0.5639881  0.30892857 0.44565972 0.22683532 0.47571925 0.31676587\n",
      "        nan 0.40488591        nan 0.53546627 0.41733631 0.42217262\n",
      " 0.3781002  0.26314484 0.40017361 0.33085317 0.3859375  0.30414187\n",
      " 0.36388889 0.34186508 0.31842758 0.47095734 0.1968254  0.20962302\n",
      " 0.43630952 0.5624752  0.41116071 0.49310516 0.5639881  0.34186508\n",
      " 0.44568452 0.47418155 0.49610615 0.36857639 0.15277778        nan\n",
      " 0.35451389        nan        nan 0.32460317 0.51979167 0.49771825\n",
      "        nan 0.33095238 0.34506448 0.1812252         nan 0.50714286\n",
      " 0.40478671 0.42688492 0.3828621  0.24087302 0.36240079 0.36857639\n",
      "        nan 0.30882937 0.51827877 0.33226687 0.26463294 0.27264385\n",
      " 0.48045635 0.3859871  0.50394345        nan        nan 0.3890873\n",
      " 0.1624256         nan 0.56386409 0.31979167 0.40168651 0.34201389\n",
      " 0.42852183 0.31996528 0.50877976 0.15756448 0.26302083 0.37643849\n",
      " 0.32462798 0.26768353 0.26783234 0.48345734]\n",
      "  warnings.warn(\n",
      "/Users/allankapoor/opt/anaconda3/envs/boost/lib/python3.8/site-packages/sklearn/model_selection/_search.py:922: UserWarning: One or more of the test scores are non-finite: [       nan 0.19245489 0.18270778 0.23622298 0.23079885 0.2155975\n",
      " 0.21734075 0.01816448 0.25086798 0.2404388  0.22776968 0.21670611\n",
      "        nan 0.21568333 0.20386682        nan 0.22246305 0.21165162\n",
      " 0.21468688 0.21462834 0.24122162 0.18845606 0.21651969 0.20990322\n",
      "        nan 0.22060364        nan 0.23342549 0.24925456 0.22207934\n",
      " 0.21727137 0.2177168  0.22029893 0.20855756 0.21435244 0.20360828\n",
      " 0.23326444 0.21582418 0.21139998 0.24278868 0.17259956 0.17583727\n",
      " 0.23326473 0.22437343 0.23045553 0.22992376 0.22308271 0.21488184\n",
      " 0.24561723 0.23161153 0.24767322 0.23677671 0.149323          nan\n",
      " 0.22935357        nan        nan 0.20794845 0.23888119 0.22726598\n",
      "        nan 0.20375675 0.20226261 0.15203598        nan 0.24374252\n",
      " 0.20698896 0.22957584 0.21832882 0.1670959  0.2228913  0.23889323\n",
      "        nan 0.21724151 0.24307448 0.21867422 0.21253726 0.19686502\n",
      " 0.24152959 0.21869766 0.25870077        nan        nan 0.21639561\n",
      " 0.15343606        nan 0.22877732 0.21257816 0.21928629 0.22193326\n",
      " 0.24955253 0.22173887 0.22061998 0.14959893 0.19994856 0.2217363\n",
      " 0.2203374  0.21191433 0.19098557 0.24679881]\n",
      "  warnings.warn(\n"
     ]
    },
    {
     "name": "stdout",
     "output_type": "stream",
     "text": [
      "Best: 0.258701 using {'under__sampling_strategy': 0.4, 'over__sampling_strategy': 0.1, 'over__k_neighbors': 5, 'model__num_leaves': 2700, 'model__n_estimators': 950, 'model__min_gain_to_split': 3, 'model__max_depth': 4, 'model__learning_rate': 0.01, 'model__lambda_l1': 21, 'model__bagging_fraction': 0.9000000000000001}\n",
      "CPU times: user 11.1 s, sys: 1.77 s, total: 12.9 s\n",
      "Wall time: 26min 42s\n"
     ]
    }
   ],
   "source": [
    "%%time\n",
    "from lightgbm import LGBMClassifier\n",
    "\n",
    "# parameter grid - these ranges were refined throgh a few iterations that are not shown here\n",
    "param_grid = {'model__max_depth':range(3,12),\n",
    "              'model__num_leaves': np.arange(20, 3000,20),\n",
    "             'model__n_estimators': np.arange(50,1000,50),\n",
    "             'model__learning_rate': np.arange(0.01,0.3,0.2),\n",
    "             'model__lambda_l1':np.arange(1,100,10),\n",
    "             'model__min_gain_to_split':np.arange(0,15),\n",
    "             'model__bagging_fraction': np.arange(0.2,0.95, 0.1),\n",
    "             'under__sampling_strategy': np.arange(0.2,0.98, 0.2),\n",
    "             'over__sampling_strategy': [0.1, 0.2, 0.3],\n",
    "             'over__k_neighbors': [2,5,10]}\n",
    "\n",
    "# over sample minority class\n",
    "cat_cols_mask = [True if col in cat_cols else False for col in X_train.columns]\n",
    "over = SMOTENC(categorical_features=cat_cols_mask)\n",
    "\n",
    "# under sample majority class\n",
    "under = RandomUnderSampler()\n",
    "\n",
    "# one hot encode (columns 15, 16, 17 only)\n",
    "encode = ColumnTransformer(transformers=[('cat', OneHotEncoder(), [15,16,17])], remainder='passthrough' )\n",
    "\n",
    "# instantiate model\n",
    "model = LGBMClassifier(is_unbalance=True)\n",
    "\n",
    "# define pipeline\n",
    "steps = [('over',over), ('under', under), ('encode', encode), ('model', model)]\n",
    "pipeline = Pipeline_imb(steps=steps)\n",
    "\n",
    "# define cross-validation\n",
    "cv = RepeatedStratifiedKFold(n_splits=10, n_repeats=1, random_state=1)\n",
    "\n",
    "# define grid search multi-metric scoring\n",
    "scoring = {'Recall': make_scorer(recall_score), 'fbeta': make_scorer(fbeta_score, beta=2)}\n",
    "\n",
    "# define grid search\n",
    "grid = RandomizedSearchCV(estimator=pipeline, n_iter = 100, param_distributions=param_grid,\n",
    "                          n_jobs=-1, cv=cv, scoring=scoring, refit='fbeta', return_train_score=False)\n",
    "\n",
    "# execute the grid search\n",
    "grid_result_lgb_os = grid.fit(X_train_sub, y_train_sub)\n",
    "\n",
    "# report the best configuration\n",
    "print(\"Best: %f using %s\" % (grid_result_lgb_os.best_score_, grid_result_lgb_os.best_params_))"
   ]
  },
  {
   "cell_type": "code",
   "execution_count": 54,
   "id": "60a7f688",
   "metadata": {},
   "outputs": [
    {
     "name": "stdout",
     "output_type": "stream",
     "text": [
      "F2: 0.2587\n",
      "Recall: 0.5039\n"
     ]
    }
   ],
   "source": [
    "get_cv_scores(grid_result_lgb_os)"
   ]
  },
  {
   "cell_type": "code",
   "execution_count": 55,
   "id": "a87f307c",
   "metadata": {},
   "outputs": [
    {
     "name": "stdout",
     "output_type": "stream",
     "text": [
      "----- EVAL METRICS -----\n",
      "Precision: 0.089\n",
      "Recall: 0.4843\n",
      "F2: 0.2565\n"
     ]
    },
    {
     "data": {
      "image/png": "[encoded data removed]",
      "text/plain": [
       "<Figure size 432x288 with 2 Axes>"
      ]
     },
     "metadata": {
      "needs_background": "light"
     },
     "output_type": "display_data"
    },
    {
     "data": {
      "image/png": "[encoded data removed]",
      "text/plain": [
       "<Figure size 432x288 with 2 Axes>"
      ]
     },
     "metadata": {
      "needs_background": "light"
     },
     "output_type": "display_data"
    }
   ],
   "source": [
    "evaluate_model(grid_result_lgb_os.best_estimator_, X_train_sub, y_train_sub, X_val, y_val)"
   ]
  },
  {
   "cell_type": "markdown",
   "id": "8be1b92e",
   "metadata": {},
   "source": [
    "Performance is not as good as the LightGBM model without overundersampling.\n",
    "\n",
    "For all three algorithms, the addition of under/oversampling has negatively impacted performance (although for some the recall was improved). This is counter to most information available online which suggests that oversampling improves model performance for imbalanced classification. Perhaps in this instance the SMOTE method is creating syntheic records of wildfires that wouldn't actually exist in reality and therefore a model trained on these is preforming worse when encountering unseen (real) data."
   ]
  },
  {
   "cell_type": "markdown",
   "id": "c530e472",
   "metadata": {},
   "source": [
    "### Hyperparameter Tuning of LightGBM with Optuna\n",
    "\n",
    "Of all the algorithms/pipelines I have tried, LightGBM (class weighted, no over/undersampling) is performing the best. Now I'll try to optimize the hyperparameters as much as possible using Optuna (rather than RandomSearchCV).\n",
    "\n",
    "Credit: https://towardsdatascience.com/kagglers-guide-to-lightgbm-hyperparameter-tuning-with-optuna-in-2021-ed048d9838b5"
   ]
  },
  {
   "cell_type": "code",
   "execution_count": 56,
   "id": "2c7caf33",
   "metadata": {},
   "outputs": [],
   "source": [
    "#dummy encode categorical variables for train and validation set (since we will not use an Sklearn pipeline here)\n",
    "# train (subset) and validation sets\n",
    "X_train_sub_dummies = pd.get_dummies(X_train_sub, columns=['WHR10','L2','L3'], drop_first=True)\n",
    "X_val_dummies = pd.get_dummies(X_val, columns=['WHR10','L2','L3'], drop_first=True)\n",
    "\n",
    "# full train and test sets (for final model)\n",
    "X_train_dummies = pd.get_dummies(X_train, columns=['WHR10','L2','L3'], drop_first=True)\n",
    "X_test_dummies = pd.get_dummies(X_test, columns=['WHR10','L2','L3'], drop_first=True)"
   ]
  },
  {
   "cell_type": "code",
   "execution_count": 113,
   "id": "f6afef97",
   "metadata": {},
   "outputs": [],
   "source": [
    "# modified evaluate model function to handle optuna outputs\n",
    "def evaluate_model_lgb(best_params, X_t, y_t, X_v, y_v):\n",
    "    \n",
    "    '''Fit model to traing data, predict and evaluate based on validation data, and produce confusion matrices. '''\n",
    "        \n",
    "    # fit model to training data\n",
    "    lgb = LGBMClassifier(is_unbalance=True, **best_params)\n",
    "    lgb.fit(X_t,y_t)\n",
    "\n",
    "    # predict on validation set\n",
    "    y_pred = lgb.predict(X_v)\n",
    "\n",
    "    # calculate other evaluation metrics\n",
    "    precision = round(precision_score(y_v, y_pred),4)\n",
    "    recall = round(recall_score(y_v, y_pred),4)\n",
    "    f2 = round(fbeta_score(y_v, y_pred, beta=2),4)\n",
    "    auc = round(roc_auc_score(y_v, y_pred),4)\n",
    "    \n",
    "    #plot confusion matrix (on validation data)\n",
    "    plot_confusion_matrix(lgb, X_v, y_v, labels=None, sample_weight=None, normalize=None);\n",
    "    \n",
    "    #plot confusion matrix (on validation data)\n",
    "    plot_confusion_matrix(lgb, X_v, y_v, labels=None, sample_weight=None, normalize='true');\n",
    "\n",
    "    # print evaluation metrics\n",
    "    print('----- EVAL METRICS -----')\n",
    "    print(f'Precision: {precision}')\n",
    "    print(f'Recall: {recall}')\n",
    "    print(f'F2: {f2}')\n",
    "    print(f'ROC AUC: {auc}')"
   ]
  },
  {
   "cell_type": "code",
   "execution_count": 58,
   "id": "6a1172f8",
   "metadata": {},
   "outputs": [],
   "source": [
    "import optuna\n",
    "import warnings\n",
    "\n",
    "# suppress log messages\n",
    "warnings.filterwarnings(\"ignore\")\n",
    "\n",
    "# define scoring\n",
    "f2_scorer = make_scorer(fbeta_score, beta=2)\n",
    "\n",
    "# define objective for optuna study\n",
    "def objective(trial):\n",
    "    \n",
    "    # parameter grid with ranges\n",
    "    param_grid = {\n",
    "        \"n_estimators\": trial.suggest_int(\"n_estimators\", 50, 1000, step=50),\n",
    "        \"learning_rate\": trial.suggest_float(\"learning_rate\", 0.01, 0.3),\n",
    "        \"num_leaves\": trial.suggest_int(\"num_leaves\", 20, 3000, step=20),\n",
    "        \"max_depth\": trial.suggest_int(\"max_depth\", 3, 12),\n",
    "        \"min_data_in_leaf\": trial.suggest_int(\"min_data_in_leaf\", 200, 10000, step=100),\n",
    "        \"lambda_l1\": trial.suggest_int(\"lambda_l1\", 0, 100, step=5),\n",
    "        \"lambda_l2\": trial.suggest_int(\"lambda_l2\", 0, 100, step=5),\n",
    "        \"min_gain_to_split\": trial.suggest_float(\"min_gain_to_split\", 0, 15),\n",
    "        \"bagging_fraction\": trial.suggest_float(\"bagging_fraction\", 0.2, 0.95, step=0.1),\n",
    "        \"bagging_freq\": trial.suggest_categorical(\"bagging_freq\", [1]),\n",
    "        \"feature_fraction\": trial.suggest_float(\"feature_fraction\", 0.2, 0.95, step=0.1),}\n",
    "    \n",
    "    #instantiate model\n",
    "    lgb = LGBMClassifier(is_unbalance=True, **param_grid)\n",
    "    \n",
    "    #cross validation with 10 folds\n",
    "    return cross_val_score(lgb, X_train_sub_dummies, y_train_sub, n_jobs=-1, cv=10,scoring=f2_scorer).mean()"
   ]
  },
  {
   "cell_type": "markdown",
   "id": "c654c3c2",
   "metadata": {},
   "source": [
    "### Red text below is NOT an error. Optuna is printing the results of each trial."
   ]
  },
  {
   "cell_type": "code",
   "execution_count": 59,
   "id": "b8311123",
   "metadata": {},
   "outputs": [
    {
     "name": "stderr",
     "output_type": "stream",
     "text": [
      "\u001b[32m[I 2021-10-11 23:19:33,148]\u001b[0m A new study created in memory with name: LGBM Classifier 1\u001b[0m\n",
      "\u001b[32m[I 2021-10-11 23:19:36,455]\u001b[0m Trial 0 finished with value: 0.0 and parameters: {'n_estimators': 300, 'learning_rate': 0.0727109753119416, 'num_leaves': 600, 'max_depth': 7, 'min_data_in_leaf': 9900, 'lambda_l1': 60, 'lambda_l2': 80, 'min_gain_to_split': 9.484547377248647, 'bagging_fraction': 0.4, 'bagging_freq': 1, 'feature_fraction': 0.6000000000000001}. Best is trial 0 with value: 0.0.\u001b[0m\n",
      "\u001b[32m[I 2021-10-11 23:19:40,674]\u001b[0m Trial 1 finished with value: 0.0 and parameters: {'n_estimators': 350, 'learning_rate': 0.18026670425216815, 'num_leaves': 1720, 'max_depth': 11, 'min_data_in_leaf': 9800, 'lambda_l1': 100, 'lambda_l2': 65, 'min_gain_to_split': 5.798500757460975, 'bagging_fraction': 0.5, 'bagging_freq': 1, 'feature_fraction': 0.6000000000000001}. Best is trial 0 with value: 0.0.\u001b[0m\n",
      "\u001b[32m[I 2021-10-11 23:19:47,461]\u001b[0m Trial 2 finished with value: 0.0 and parameters: {'n_estimators': 700, 'learning_rate': 0.1288691188188944, 'num_leaves': 40, 'max_depth': 11, 'min_data_in_leaf': 7500, 'lambda_l1': 90, 'lambda_l2': 15, 'min_gain_to_split': 14.173219559117838, 'bagging_fraction': 0.4, 'bagging_freq': 1, 'feature_fraction': 0.4}. Best is trial 0 with value: 0.0.\u001b[0m\n",
      "\u001b[32m[I 2021-10-11 23:20:02,234]\u001b[0m Trial 3 finished with value: 0.25996349656307005 and parameters: {'n_estimators': 650, 'learning_rate': 0.2344614391983112, 'num_leaves': 2140, 'max_depth': 8, 'min_data_in_leaf': 1300, 'lambda_l1': 85, 'lambda_l2': 95, 'min_gain_to_split': 7.748110508818743, 'bagging_fraction': 0.6000000000000001, 'bagging_freq': 1, 'feature_fraction': 0.8}. Best is trial 3 with value: 0.25996349656307005.\u001b[0m\n",
      "\u001b[32m[I 2021-10-11 23:20:09,034]\u001b[0m Trial 4 finished with value: 0.0 and parameters: {'n_estimators': 750, 'learning_rate': 0.11426676870220513, 'num_leaves': 2400, 'max_depth': 9, 'min_data_in_leaf': 6900, 'lambda_l1': 15, 'lambda_l2': 80, 'min_gain_to_split': 13.513076088615165, 'bagging_fraction': 0.4, 'bagging_freq': 1, 'feature_fraction': 0.5}. Best is trial 3 with value: 0.25996349656307005.\u001b[0m\n",
      "\u001b[32m[I 2021-10-11 23:20:10,321]\u001b[0m Trial 5 finished with value: 0.0 and parameters: {'n_estimators': 100, 'learning_rate': 0.23775137744401723, 'num_leaves': 160, 'max_depth': 10, 'min_data_in_leaf': 7800, 'lambda_l1': 50, 'lambda_l2': 70, 'min_gain_to_split': 4.850418950778118, 'bagging_fraction': 0.30000000000000004, 'bagging_freq': 1, 'feature_fraction': 0.7}. Best is trial 3 with value: 0.25996349656307005.\u001b[0m\n",
      "\u001b[32m[I 2021-10-11 23:20:13,770]\u001b[0m Trial 6 finished with value: 0.22432926242333834 and parameters: {'n_estimators': 150, 'learning_rate': 0.28263128898940876, 'num_leaves': 120, 'max_depth': 9, 'min_data_in_leaf': 1600, 'lambda_l1': 85, 'lambda_l2': 35, 'min_gain_to_split': 4.992738289923678, 'bagging_fraction': 0.4, 'bagging_freq': 1, 'feature_fraction': 0.7}. Best is trial 3 with value: 0.25996349656307005.\u001b[0m\n",
      "\u001b[32m[I 2021-10-11 23:20:22,226]\u001b[0m Trial 7 finished with value: 0.24087731328778386 and parameters: {'n_estimators': 400, 'learning_rate': 0.23708301208260715, 'num_leaves': 1720, 'max_depth': 9, 'min_data_in_leaf': 700, 'lambda_l1': 80, 'lambda_l2': 85, 'min_gain_to_split': 4.14426994693516, 'bagging_fraction': 0.2, 'bagging_freq': 1, 'feature_fraction': 0.9}. Best is trial 3 with value: 0.25996349656307005.\u001b[0m\n",
      "\u001b[32m[I 2021-10-11 23:20:30,571]\u001b[0m Trial 8 finished with value: 0.0 and parameters: {'n_estimators': 950, 'learning_rate': 0.2680695962753951, 'num_leaves': 880, 'max_depth': 11, 'min_data_in_leaf': 9300, 'lambda_l1': 90, 'lambda_l2': 35, 'min_gain_to_split': 9.70983511829421, 'bagging_fraction': 0.4, 'bagging_freq': 1, 'feature_fraction': 0.8}. Best is trial 3 with value: 0.25996349656307005.\u001b[0m\n",
      "\u001b[32m[I 2021-10-11 23:20:39,197]\u001b[0m Trial 9 finished with value: 0.0 and parameters: {'n_estimators': 1000, 'learning_rate': 0.03470596712744808, 'num_leaves': 2020, 'max_depth': 7, 'min_data_in_leaf': 6300, 'lambda_l1': 10, 'lambda_l2': 80, 'min_gain_to_split': 4.746568486862758, 'bagging_fraction': 0.7, 'bagging_freq': 1, 'feature_fraction': 0.30000000000000004}. Best is trial 3 with value: 0.25996349656307005.\u001b[0m\n",
      "\u001b[32m[I 2021-10-11 23:20:51,041]\u001b[0m Trial 10 finished with value: 0.258631094319044 and parameters: {'n_estimators': 650, 'learning_rate': 0.1845870220471814, 'num_leaves': 2980, 'max_depth': 4, 'min_data_in_leaf': 3300, 'lambda_l1': 55, 'lambda_l2': 100, 'min_gain_to_split': 0.47522174333752965, 'bagging_fraction': 0.9, 'bagging_freq': 1, 'feature_fraction': 0.2}. Best is trial 3 with value: 0.25996349656307005.\u001b[0m\n",
      "\u001b[32m[I 2021-10-11 23:20:56,756]\u001b[0m Trial 11 finished with value: 0.0 and parameters: {'n_estimators': 600, 'learning_rate': 0.18174716945475392, 'num_leaves': 2960, 'max_depth': 4, 'min_data_in_leaf': 3100, 'lambda_l1': 60, 'lambda_l2': 100, 'min_gain_to_split': 0.12006436244955687, 'bagging_fraction': 0.9, 'bagging_freq': 1, 'feature_fraction': 0.30000000000000004}. Best is trial 3 with value: 0.25996349656307005.\u001b[0m\n",
      "\u001b[32m[I 2021-10-11 23:21:11,248]\u001b[0m Trial 12 finished with value: 0.2592484411142943 and parameters: {'n_estimators': 800, 'learning_rate': 0.20929816163870982, 'num_leaves': 2900, 'max_depth': 3, 'min_data_in_leaf': 3600, 'lambda_l1': 35, 'lambda_l2': 100, 'min_gain_to_split': 0.3670724120421399, 'bagging_fraction': 0.9, 'bagging_freq': 1, 'feature_fraction': 0.2}. Best is trial 3 with value: 0.25996349656307005.\u001b[0m\n",
      "\u001b[32m[I 2021-10-11 23:21:25,735]\u001b[0m Trial 13 finished with value: 0.23998895968786105 and parameters: {'n_estimators': 850, 'learning_rate': 0.223456085943362, 'num_leaves': 2420, 'max_depth': 6, 'min_data_in_leaf': 4400, 'lambda_l1': 30, 'lambda_l2': 50, 'min_gain_to_split': 8.516200828542699, 'bagging_fraction': 0.7, 'bagging_freq': 1, 'feature_fraction': 0.9}. Best is trial 3 with value: 0.25996349656307005.\u001b[0m\n",
      "\u001b[32m[I 2021-10-11 23:21:35,746]\u001b[0m Trial 14 finished with value: 0.2555800590220766 and parameters: {'n_estimators': 500, 'learning_rate': 0.29821205556222624, 'num_leaves': 2500, 'max_depth': 3, 'min_data_in_leaf': 2000, 'lambda_l1': 35, 'lambda_l2': 100, 'min_gain_to_split': 2.6869848913170475, 'bagging_fraction': 0.7, 'bagging_freq': 1, 'feature_fraction': 0.2}. Best is trial 3 with value: 0.25996349656307005.\u001b[0m\n",
      "\u001b[32m[I 2021-10-11 23:21:48,502]\u001b[0m Trial 15 finished with value: 0.23568652402422133 and parameters: {'n_estimators': 800, 'learning_rate': 0.2139969657204692, 'num_leaves': 1240, 'max_depth': 5, 'min_data_in_leaf': 4500, 'lambda_l1': 40, 'lambda_l2': 0, 'min_gain_to_split': 10.879735579367301, 'bagging_fraction': 0.8, 'bagging_freq': 1, 'feature_fraction': 0.5}. Best is trial 3 with value: 0.25996349656307005.\u001b[0m\n",
      "\u001b[32m[I 2021-10-11 23:22:03,628]\u001b[0m Trial 16 finished with value: 0.27130365503014514 and parameters: {'n_estimators': 500, 'learning_rate': 0.14749324961507776, 'num_leaves': 2200, 'max_depth': 8, 'min_data_in_leaf': 200, 'lambda_l1': 70, 'lambda_l2': 60, 'min_gain_to_split': 6.997547624047798, 'bagging_fraction': 0.6000000000000001, 'bagging_freq': 1, 'feature_fraction': 0.8}. Best is trial 16 with value: 0.27130365503014514.\u001b[0m\n",
      "\u001b[32m[I 2021-10-11 23:22:18,254]\u001b[0m Trial 17 finished with value: 0.28035291172438837 and parameters: {'n_estimators': 550, 'learning_rate': 0.13954342033974237, 'num_leaves': 2040, 'max_depth': 8, 'min_data_in_leaf': 300, 'lambda_l1': 70, 'lambda_l2': 55, 'min_gain_to_split': 7.424501389202869, 'bagging_fraction': 0.6000000000000001, 'bagging_freq': 1, 'feature_fraction': 0.8}. Best is trial 17 with value: 0.28035291172438837.\u001b[0m\n",
      "\u001b[32m[I 2021-10-11 23:22:30,842]\u001b[0m Trial 18 finished with value: 0.26262183704941855 and parameters: {'n_estimators': 500, 'learning_rate': 0.132678370663292, 'num_leaves': 1200, 'max_depth': 8, 'min_data_in_leaf': 200, 'lambda_l1': 70, 'lambda_l2': 50, 'min_gain_to_split': 11.843437547171575, 'bagging_fraction': 0.6000000000000001, 'bagging_freq': 1, 'feature_fraction': 0.8}. Best is trial 17 with value: 0.28035291172438837.\u001b[0m\n",
      "\u001b[32m[I 2021-10-11 23:22:34,891]\u001b[0m Trial 19 finished with value: 0.2277739395122138 and parameters: {'n_estimators': 200, 'learning_rate': 0.0890112582901017, 'num_leaves': 1960, 'max_depth': 6, 'min_data_in_leaf': 2800, 'lambda_l1': 75, 'lambda_l2': 60, 'min_gain_to_split': 6.6838605806373765, 'bagging_fraction': 0.5, 'bagging_freq': 1, 'feature_fraction': 0.7}. Best is trial 17 with value: 0.28035291172438837.\u001b[0m\n"
     ]
    },
    {
     "name": "stderr",
     "output_type": "stream",
     "text": [
      "\u001b[32m[I 2021-10-11 23:22:43,067]\u001b[0m Trial 20 finished with value: 0.21832843553037073 and parameters: {'n_estimators': 450, 'learning_rate': 0.1528774774529525, 'num_leaves': 1440, 'max_depth': 12, 'min_data_in_leaf': 5600, 'lambda_l1': 70, 'lambda_l2': 35, 'min_gain_to_split': 6.600860813502545, 'bagging_fraction': 0.6000000000000001, 'bagging_freq': 1, 'feature_fraction': 0.9}. Best is trial 17 with value: 0.28035291172438837.\u001b[0m\n",
      "\u001b[32m[I 2021-10-11 23:22:56,806]\u001b[0m Trial 21 finished with value: 0.26802485959591105 and parameters: {'n_estimators': 550, 'learning_rate': 0.13164184291419226, 'num_leaves': 1140, 'max_depth': 8, 'min_data_in_leaf': 300, 'lambda_l1': 70, 'lambda_l2': 50, 'min_gain_to_split': 11.62726892253556, 'bagging_fraction': 0.6000000000000001, 'bagging_freq': 1, 'feature_fraction': 0.8}. Best is trial 17 with value: 0.28035291172438837.\u001b[0m\n",
      "\u001b[32m[I 2021-10-11 23:23:10,981]\u001b[0m Trial 22 finished with value: 0.26662407449399134 and parameters: {'n_estimators': 550, 'learning_rate': 0.09435579937908573, 'num_leaves': 820, 'max_depth': 8, 'min_data_in_leaf': 900, 'lambda_l1': 60, 'lambda_l2': 55, 'min_gain_to_split': 12.056341552545126, 'bagging_fraction': 0.7, 'bagging_freq': 1, 'feature_fraction': 0.8}. Best is trial 17 with value: 0.28035291172438837.\u001b[0m\n",
      "\u001b[32m[I 2021-10-11 23:23:19,692]\u001b[0m Trial 23 finished with value: 0.26613776677166373 and parameters: {'n_estimators': 250, 'learning_rate': 0.1599788669242114, 'num_leaves': 1560, 'max_depth': 6, 'min_data_in_leaf': 300, 'lambda_l1': 70, 'lambda_l2': 45, 'min_gain_to_split': 8.852411571258635, 'bagging_fraction': 0.5, 'bagging_freq': 1, 'feature_fraction': 0.7}. Best is trial 17 with value: 0.28035291172438837.\u001b[0m\n",
      "\u001b[32m[I 2021-10-11 23:23:29,685]\u001b[0m Trial 24 finished with value: 0.2473444691136774 and parameters: {'n_estimators': 400, 'learning_rate': 0.046872948046470006, 'num_leaves': 2640, 'max_depth': 7, 'min_data_in_leaf': 2200, 'lambda_l1': 100, 'lambda_l2': 25, 'min_gain_to_split': 10.65243039180203, 'bagging_fraction': 0.8, 'bagging_freq': 1, 'feature_fraction': 0.9}. Best is trial 17 with value: 0.28035291172438837.\u001b[0m\n",
      "\u001b[32m[I 2021-10-11 23:23:44,843]\u001b[0m Trial 25 finished with value: 0.2406184891819369 and parameters: {'n_estimators': 550, 'learning_rate': 0.010648404867079908, 'num_leaves': 2220, 'max_depth': 10, 'min_data_in_leaf': 1300, 'lambda_l1': 45, 'lambda_l2': 70, 'min_gain_to_split': 7.5913003015500236, 'bagging_fraction': 0.6000000000000001, 'bagging_freq': 1, 'feature_fraction': 0.8}. Best is trial 17 with value: 0.28035291172438837.\u001b[0m\n",
      "\u001b[32m[I 2021-10-11 23:23:55,910]\u001b[0m Trial 26 finished with value: 0.25539722686861127 and parameters: {'n_estimators': 600, 'learning_rate': 0.1464343807445325, 'num_leaves': 1820, 'max_depth': 9, 'min_data_in_leaf': 2400, 'lambda_l1': 65, 'lambda_l2': 45, 'min_gain_to_split': 14.987453426316307, 'bagging_fraction': 0.8, 'bagging_freq': 1, 'feature_fraction': 0.6000000000000001}. Best is trial 17 with value: 0.28035291172438837.\u001b[0m\n",
      "\u001b[32m[I 2021-10-11 23:24:14,661]\u001b[0m Trial 27 finished with value: 0.2747900487437477 and parameters: {'n_estimators': 450, 'learning_rate': 0.11008639315920438, 'num_leaves': 1300, 'max_depth': 8, 'min_data_in_leaf': 300, 'lambda_l1': 75, 'lambda_l2': 60, 'min_gain_to_split': 3.274316556853482, 'bagging_fraction': 0.5, 'bagging_freq': 1, 'feature_fraction': 0.7}. Best is trial 17 with value: 0.28035291172438837.\u001b[0m\n",
      "\u001b[32m[I 2021-10-11 23:24:25,684]\u001b[0m Trial 28 finished with value: 0.25441661081351685 and parameters: {'n_estimators': 400, 'learning_rate': 0.10918294276096903, 'num_leaves': 1540, 'max_depth': 10, 'min_data_in_leaf': 1600, 'lambda_l1': 80, 'lambda_l2': 65, 'min_gain_to_split': 2.8458078172613517, 'bagging_fraction': 0.5, 'bagging_freq': 1, 'feature_fraction': 0.6000000000000001}. Best is trial 17 with value: 0.28035291172438837.\u001b[0m\n",
      "\u001b[32m[I 2021-10-11 23:24:31,506]\u001b[0m Trial 29 finished with value: 0.24618096409957832 and parameters: {'n_estimators': 250, 'learning_rate': 0.06607215220431331, 'num_leaves': 600, 'max_depth': 7, 'min_data_in_leaf': 1000, 'lambda_l1': 60, 'lambda_l2': 75, 'min_gain_to_split': 2.293461623479586, 'bagging_fraction': 0.30000000000000004, 'bagging_freq': 1, 'feature_fraction': 0.7}. Best is trial 17 with value: 0.28035291172438837.\u001b[0m\n",
      "\u001b[32m[I 2021-10-11 23:24:34,922]\u001b[0m Trial 30 finished with value: 0.0 and parameters: {'n_estimators': 350, 'learning_rate': 0.0640216878784425, 'num_leaves': 2720, 'max_depth': 7, 'min_data_in_leaf': 4200, 'lambda_l1': 55, 'lambda_l2': 60, 'min_gain_to_split': 3.6233923641683545, 'bagging_fraction': 0.30000000000000004, 'bagging_freq': 1, 'feature_fraction': 0.6000000000000001}. Best is trial 17 with value: 0.28035291172438837.\u001b[0m\n",
      "\u001b[32m[I 2021-10-11 23:24:49,195]\u001b[0m Trial 31 finished with value: 0.2714487904130554 and parameters: {'n_estimators': 450, 'learning_rate': 0.11720020476550878, 'num_leaves': 1140, 'max_depth': 8, 'min_data_in_leaf': 300, 'lambda_l1': 75, 'lambda_l2': 45, 'min_gain_to_split': 6.48094743952343, 'bagging_fraction': 0.6000000000000001, 'bagging_freq': 1, 'feature_fraction': 0.8}. Best is trial 17 with value: 0.28035291172438837.\u001b[0m\n",
      "\u001b[32m[I 2021-10-11 23:25:03,893]\u001b[0m Trial 32 finished with value: 0.26370617315436873 and parameters: {'n_estimators': 450, 'learning_rate': 0.09817111226781862, 'num_leaves': 1360, 'max_depth': 8, 'min_data_in_leaf': 800, 'lambda_l1': 80, 'lambda_l2': 40, 'min_gain_to_split': 6.100228933479693, 'bagging_fraction': 0.5, 'bagging_freq': 1, 'feature_fraction': 0.7}. Best is trial 17 with value: 0.28035291172438837.\u001b[0m\n",
      "\u001b[32m[I 2021-10-11 23:25:15,185]\u001b[0m Trial 33 finished with value: 0.2703305468261452 and parameters: {'n_estimators': 350, 'learning_rate': 0.16831167629940258, 'num_leaves': 980, 'max_depth': 9, 'min_data_in_leaf': 200, 'lambda_l1': 90, 'lambda_l2': 60, 'min_gain_to_split': 5.5982365119591755, 'bagging_fraction': 0.6000000000000001, 'bagging_freq': 1, 'feature_fraction': 0.8}. Best is trial 17 with value: 0.28035291172438837.\u001b[0m\n",
      "\u001b[32m[I 2021-10-11 23:25:23,781]\u001b[0m Trial 34 finished with value: 0.2555439714345926 and parameters: {'n_estimators': 300, 'learning_rate': 0.11613514806769004, 'num_leaves': 1820, 'max_depth': 6, 'min_data_in_leaf': 1800, 'lambda_l1': 75, 'lambda_l2': 55, 'min_gain_to_split': 7.365454030702976, 'bagging_fraction': 0.7, 'bagging_freq': 1, 'feature_fraction': 0.9}. Best is trial 17 with value: 0.28035291172438837.\u001b[0m\n",
      "\u001b[32m[I 2021-10-11 23:25:36,767]\u001b[0m Trial 35 finished with value: 0.2381254837577457 and parameters: {'n_estimators': 650, 'learning_rate': 0.08199848553705988, 'num_leaves': 2240, 'max_depth': 8, 'min_data_in_leaf': 2600, 'lambda_l1': 100, 'lambda_l2': 25, 'min_gain_to_split': 8.30934512800526, 'bagging_fraction': 0.5, 'bagging_freq': 1, 'feature_fraction': 0.7}. Best is trial 17 with value: 0.28035291172438837.\u001b[0m\n",
      "\u001b[32m[I 2021-10-11 23:25:51,756]\u001b[0m Trial 36 finished with value: 0.28205544435439156 and parameters: {'n_estimators': 450, 'learning_rate': 0.14248200085849674, 'num_leaves': 640, 'max_depth': 10, 'min_data_in_leaf': 1000, 'lambda_l1': 0, 'lambda_l2': 65, 'min_gain_to_split': 9.572651819997919, 'bagging_fraction': 0.6000000000000001, 'bagging_freq': 1, 'feature_fraction': 0.8}. Best is trial 36 with value: 0.28205544435439156.\u001b[0m\n",
      "\u001b[32m[I 2021-10-11 23:26:02,454]\u001b[0m Trial 37 finished with value: 0.2504529584463356 and parameters: {'n_estimators': 450, 'learning_rate': 0.12612550989258062, 'num_leaves': 340, 'max_depth': 10, 'min_data_in_leaf': 1300, 'lambda_l1': 85, 'lambda_l2': 90, 'min_gain_to_split': 1.7339981037582852, 'bagging_fraction': 0.4, 'bagging_freq': 1, 'feature_fraction': 0.5}. Best is trial 36 with value: 0.28205544435439156.\u001b[0m\n",
      "\u001b[32m[I 2021-10-11 23:26:14,253]\u001b[0m Trial 38 finished with value: 0.2758640786720636 and parameters: {'n_estimators': 300, 'learning_rate': 0.10719320633029067, 'num_leaves': 600, 'max_depth': 11, 'min_data_in_leaf': 800, 'lambda_l1': 0, 'lambda_l2': 70, 'min_gain_to_split': 9.675192336377455, 'bagging_fraction': 0.6000000000000001, 'bagging_freq': 1, 'feature_fraction': 0.9}. Best is trial 36 with value: 0.28205544435439156.\u001b[0m\n",
      "\u001b[32m[I 2021-10-11 23:26:17,511]\u001b[0m Trial 39 finished with value: 0.0 and parameters: {'n_estimators': 300, 'learning_rate': 0.10361215749399855, 'num_leaves': 540, 'max_depth': 12, 'min_data_in_leaf': 8600, 'lambda_l1': 0, 'lambda_l2': 70, 'min_gain_to_split': 9.658559892839309, 'bagging_fraction': 0.5, 'bagging_freq': 1, 'feature_fraction': 0.9}. Best is trial 36 with value: 0.28205544435439156.\u001b[0m\n"
     ]
    },
    {
     "name": "stderr",
     "output_type": "stream",
     "text": [
      "\u001b[32m[I 2021-10-11 23:26:21,421]\u001b[0m Trial 40 finished with value: 0.25128105202447465 and parameters: {'n_estimators': 100, 'learning_rate': 0.1964911294862116, 'num_leaves': 600, 'max_depth': 11, 'min_data_in_leaf': 1200, 'lambda_l1': 15, 'lambda_l2': 75, 'min_gain_to_split': 12.957546056944452, 'bagging_fraction': 0.7, 'bagging_freq': 1, 'feature_fraction': 0.9}. Best is trial 36 with value: 0.28205544435439156.\u001b[0m\n",
      "\u001b[32m[I 2021-10-11 23:26:35,703]\u001b[0m Trial 41 finished with value: 0.27713747598993665 and parameters: {'n_estimators': 400, 'learning_rate': 0.1206627738185834, 'num_leaves': 380, 'max_depth': 9, 'min_data_in_leaf': 900, 'lambda_l1': 0, 'lambda_l2': 65, 'min_gain_to_split': 10.105994185806981, 'bagging_fraction': 0.6000000000000001, 'bagging_freq': 1, 'feature_fraction': 0.8}. Best is trial 36 with value: 0.28205544435439156.\u001b[0m\n",
      "\u001b[32m[I 2021-10-11 23:26:45,415]\u001b[0m Trial 42 finished with value: 0.26453076774904083 and parameters: {'n_estimators': 400, 'learning_rate': 0.13864242340873648, 'num_leaves': 220, 'max_depth': 10, 'min_data_in_leaf': 1700, 'lambda_l1': 0, 'lambda_l2': 65, 'min_gain_to_split': 10.491269721151667, 'bagging_fraction': 0.6000000000000001, 'bagging_freq': 1, 'feature_fraction': 0.8}. Best is trial 36 with value: 0.28205544435439156.\u001b[0m\n",
      "\u001b[32m[I 2021-10-11 23:26:58,979]\u001b[0m Trial 43 finished with value: 0.27743244235496173 and parameters: {'n_estimators': 350, 'learning_rate': 0.07515971349491968, 'num_leaves': 500, 'max_depth': 9, 'min_data_in_leaf': 700, 'lambda_l1': 5, 'lambda_l2': 85, 'min_gain_to_split': 9.252874462746732, 'bagging_fraction': 0.5, 'bagging_freq': 1, 'feature_fraction': 0.9}. Best is trial 36 with value: 0.28205544435439156.\u001b[0m\n",
      "\u001b[32m[I 2021-10-11 23:27:05,986]\u001b[0m Trial 44 finished with value: 0.2497545708887096 and parameters: {'n_estimators': 200, 'learning_rate': 0.05267255706436201, 'num_leaves': 400, 'max_depth': 11, 'min_data_in_leaf': 800, 'lambda_l1': 5, 'lambda_l2': 90, 'min_gain_to_split': 9.11622315096815, 'bagging_fraction': 0.4, 'bagging_freq': 1, 'feature_fraction': 0.9}. Best is trial 36 with value: 0.28205544435439156.\u001b[0m\n",
      "\u001b[32m[I 2021-10-11 23:27:14,932]\u001b[0m Trial 45 finished with value: 0.25690613047352956 and parameters: {'n_estimators': 350, 'learning_rate': 0.07934612958343078, 'num_leaves': 40, 'max_depth': 9, 'min_data_in_leaf': 1900, 'lambda_l1': 20, 'lambda_l2': 85, 'min_gain_to_split': 8.26276748135641, 'bagging_fraction': 0.7, 'bagging_freq': 1, 'feature_fraction': 0.9}. Best is trial 36 with value: 0.28205544435439156.\u001b[0m\n",
      "\u001b[32m[I 2021-10-11 23:27:17,109]\u001b[0m Trial 46 finished with value: 0.2438630983795314 and parameters: {'n_estimators': 50, 'learning_rate': 0.1764394396277464, 'num_leaves': 800, 'max_depth': 11, 'min_data_in_leaf': 1000, 'lambda_l1': 10, 'lambda_l2': 75, 'min_gain_to_split': 9.643861128769167, 'bagging_fraction': 0.6000000000000001, 'bagging_freq': 1, 'feature_fraction': 0.9}. Best is trial 36 with value: 0.28205544435439156.\u001b[0m\n",
      "\u001b[32m[I 2021-10-11 23:27:25,783]\u001b[0m Trial 47 finished with value: 0.2584755164675222 and parameters: {'n_estimators': 300, 'learning_rate': 0.16388095436750116, 'num_leaves': 700, 'max_depth': 10, 'min_data_in_leaf': 1400, 'lambda_l1': 20, 'lambda_l2': 80, 'min_gain_to_split': 10.345770358878712, 'bagging_fraction': 0.5, 'bagging_freq': 1, 'feature_fraction': 0.8}. Best is trial 36 with value: 0.28205544435439156.\u001b[0m\n",
      "\u001b[32m[I 2021-10-11 23:27:35,074]\u001b[0m Trial 48 finished with value: 0.1365431284469548 and parameters: {'n_estimators': 700, 'learning_rate': 0.0729958617758507, 'num_leaves': 380, 'max_depth': 9, 'min_data_in_leaf': 3000, 'lambda_l1': 5, 'lambda_l2': 85, 'min_gain_to_split': 11.211629975188519, 'bagging_fraction': 0.4, 'bagging_freq': 1, 'feature_fraction': 0.4}. Best is trial 36 with value: 0.28205544435439156.\u001b[0m\n",
      "\u001b[32m[I 2021-10-11 23:27:39,759]\u001b[0m Trial 49 finished with value: 0.22787600623237214 and parameters: {'n_estimators': 250, 'learning_rate': 0.12470081735912308, 'num_leaves': 1020, 'max_depth': 11, 'min_data_in_leaf': 3500, 'lambda_l1': 5, 'lambda_l2': 70, 'min_gain_to_split': 7.959282542099532, 'bagging_fraction': 0.6000000000000001, 'bagging_freq': 1, 'feature_fraction': 0.9}. Best is trial 36 with value: 0.28205544435439156.\u001b[0m\n",
      "\u001b[32m[I 2021-10-11 23:27:54,469]\u001b[0m Trial 50 finished with value: 0.25186945481005324 and parameters: {'n_estimators': 600, 'learning_rate': 0.02822201787364466, 'num_leaves': 240, 'max_depth': 12, 'min_data_in_leaf': 2300, 'lambda_l1': 15, 'lambda_l2': 65, 'min_gain_to_split': 12.759166204246046, 'bagging_fraction': 0.8, 'bagging_freq': 1, 'feature_fraction': 0.8}. Best is trial 36 with value: 0.28205544435439156.\u001b[0m\n",
      "\u001b[32m[I 2021-10-11 23:28:10,242]\u001b[0m Trial 51 finished with value: 0.2764886139599371 and parameters: {'n_estimators': 400, 'learning_rate': 0.10687211174610137, 'num_leaves': 460, 'max_depth': 9, 'min_data_in_leaf': 600, 'lambda_l1': 0, 'lambda_l2': 55, 'min_gain_to_split': 10.107396497701833, 'bagging_fraction': 0.5, 'bagging_freq': 1, 'feature_fraction': 0.7}. Best is trial 36 with value: 0.28205544435439156.\u001b[0m\n",
      "\u001b[32m[I 2021-10-11 23:28:24,227]\u001b[0m Trial 52 finished with value: 0.2718142453942153 and parameters: {'n_estimators': 350, 'learning_rate': 0.14027766987601453, 'num_leaves': 480, 'max_depth': 9, 'min_data_in_leaf': 600, 'lambda_l1': 0, 'lambda_l2': 55, 'min_gain_to_split': 10.006782240335305, 'bagging_fraction': 0.5, 'bagging_freq': 1, 'feature_fraction': 0.7}. Best is trial 36 with value: 0.28205544435439156.\u001b[0m\n",
      "\u001b[32m[I 2021-10-11 23:28:41,549]\u001b[0m Trial 53 finished with value: 0.2815360098768171 and parameters: {'n_estimators': 500, 'learning_rate': 0.09259467045612622, 'num_leaves': 720, 'max_depth': 9, 'min_data_in_leaf': 600, 'lambda_l1': 25, 'lambda_l2': 80, 'min_gain_to_split': 9.507073103238957, 'bagging_fraction': 0.6000000000000001, 'bagging_freq': 1, 'feature_fraction': 0.8}. Best is trial 36 with value: 0.28205544435439156.\u001b[0m\n",
      "\u001b[32m[I 2021-10-11 23:28:52,267]\u001b[0m Trial 54 finished with value: 0.2574613194591543 and parameters: {'n_estimators': 400, 'learning_rate': 0.08925160396757646, 'num_leaves': 740, 'max_depth': 9, 'min_data_in_leaf': 1500, 'lambda_l1': 25, 'lambda_l2': 90, 'min_gain_to_split': 9.005015291708444, 'bagging_fraction': 0.5, 'bagging_freq': 1, 'feature_fraction': 0.8}. Best is trial 36 with value: 0.28205544435439156.\u001b[0m\n",
      "\u001b[32m[I 2021-10-11 23:29:00,191]\u001b[0m Trial 55 finished with value: 0.21407942750653666 and parameters: {'n_estimators': 550, 'learning_rate': 0.12033525726656044, 'num_leaves': 940, 'max_depth': 10, 'min_data_in_leaf': 7100, 'lambda_l1': 10, 'lambda_l2': 95, 'min_gain_to_split': 11.011502860024004, 'bagging_fraction': 0.7, 'bagging_freq': 1, 'feature_fraction': 0.8}. Best is trial 36 with value: 0.28205544435439156.\u001b[0m\n",
      "\u001b[32m[I 2021-10-11 23:29:17,293]\u001b[0m Trial 56 finished with value: 0.2711476070724615 and parameters: {'n_estimators': 500, 'learning_rate': 0.15273133170455877, 'num_leaves': 140, 'max_depth': 9, 'min_data_in_leaf': 600, 'lambda_l1': 10, 'lambda_l2': 80, 'min_gain_to_split': 9.149733773763044, 'bagging_fraction': 0.6000000000000001, 'bagging_freq': 1, 'feature_fraction': 0.8}. Best is trial 36 with value: 0.28205544435439156.\u001b[0m\n",
      "\u001b[32m[I 2021-10-11 23:29:31,515]\u001b[0m Trial 57 finished with value: 0.24085857463094248 and parameters: {'n_estimators': 700, 'learning_rate': 0.09653387261400066, 'num_leaves': 460, 'max_depth': 10, 'min_data_in_leaf': 2000, 'lambda_l1': 5, 'lambda_l2': 55, 'min_gain_to_split': 10.116670324417056, 'bagging_fraction': 0.4, 'bagging_freq': 1, 'feature_fraction': 0.7}. Best is trial 36 with value: 0.28205544435439156.\u001b[0m\n",
      "\u001b[32m[I 2021-10-11 23:29:54,428]\u001b[0m Trial 58 finished with value: 0.2865766074909201 and parameters: {'n_estimators': 500, 'learning_rate': 0.048683517138422054, 'num_leaves': 300, 'max_depth': 9, 'min_data_in_leaf': 600, 'lambda_l1': 20, 'lambda_l2': 75, 'min_gain_to_split': 7.194435752963958, 'bagging_fraction': 0.7, 'bagging_freq': 1, 'feature_fraction': 0.8}. Best is trial 58 with value: 0.2865766074909201.\u001b[0m\n",
      "\u001b[32m[I 2021-10-11 23:30:01,811]\u001b[0m Trial 59 finished with value: 0.21904814012981885 and parameters: {'n_estimators': 500, 'learning_rate': 0.04702614392720048, 'num_leaves': 300, 'max_depth': 8, 'min_data_in_leaf': 6300, 'lambda_l1': 30, 'lambda_l2': 95, 'min_gain_to_split': 7.080880841185074, 'bagging_fraction': 0.7, 'bagging_freq': 1, 'feature_fraction': 0.8}. Best is trial 58 with value: 0.2865766074909201.\u001b[0m\n"
     ]
    },
    {
     "name": "stderr",
     "output_type": "stream",
     "text": [
      "\u001b[32m[I 2021-10-11 23:30:21,489]\u001b[0m Trial 60 finished with value: 0.2706399966126326 and parameters: {'n_estimators': 600, 'learning_rate': 0.05600810986286435, 'num_leaves': 700, 'max_depth': 9, 'min_data_in_leaf': 1200, 'lambda_l1': 20, 'lambda_l2': 75, 'min_gain_to_split': 8.601857957437469, 'bagging_fraction': 0.7, 'bagging_freq': 1, 'feature_fraction': 0.8}. Best is trial 58 with value: 0.2865766074909201.\u001b[0m\n",
      "\u001b[32m[I 2021-10-11 23:30:42,409]\u001b[0m Trial 61 finished with value: 0.2701144852343119 and parameters: {'n_estimators': 450, 'learning_rate': 0.030389973102272497, 'num_leaves': 120, 'max_depth': 9, 'min_data_in_leaf': 600, 'lambda_l1': 5, 'lambda_l2': 85, 'min_gain_to_split': 7.961147019164015, 'bagging_fraction': 0.6000000000000001, 'bagging_freq': 1, 'feature_fraction': 0.7}. Best is trial 58 with value: 0.2865766074909201.\u001b[0m\n",
      "\u001b[32m[I 2021-10-11 23:31:00,655]\u001b[0m Trial 62 finished with value: 0.27955726808752096 and parameters: {'n_estimators': 500, 'learning_rate': 0.08522535998805589, 'num_leaves': 480, 'max_depth': 10, 'min_data_in_leaf': 700, 'lambda_l1': 10, 'lambda_l2': 65, 'min_gain_to_split': 11.374425208752788, 'bagging_fraction': 0.5, 'bagging_freq': 1, 'feature_fraction': 0.7}. Best is trial 58 with value: 0.2865766074909201.\u001b[0m\n",
      "\u001b[32m[I 2021-10-11 23:31:19,847]\u001b[0m Trial 63 finished with value: 0.2703959881194731 and parameters: {'n_estimators': 650, 'learning_rate': 0.08203770755138784, 'num_leaves': 320, 'max_depth': 10, 'min_data_in_leaf': 1000, 'lambda_l1': 25, 'lambda_l2': 65, 'min_gain_to_split': 11.303717795971714, 'bagging_fraction': 0.6000000000000001, 'bagging_freq': 1, 'feature_fraction': 0.8}. Best is trial 58 with value: 0.2865766074909201.\u001b[0m\n",
      "\u001b[32m[I 2021-10-11 23:31:38,688]\u001b[0m Trial 64 finished with value: 0.28445923682538277 and parameters: {'n_estimators': 500, 'learning_rate': 0.0685558061720295, 'num_leaves': 20, 'max_depth': 10, 'min_data_in_leaf': 500, 'lambda_l1': 15, 'lambda_l2': 75, 'min_gain_to_split': 12.121842536412778, 'bagging_fraction': 0.7, 'bagging_freq': 1, 'feature_fraction': 0.8}. Best is trial 58 with value: 0.2865766074909201.\u001b[0m\n",
      "\u001b[32m[I 2021-10-11 23:31:47,968]\u001b[0m Trial 65 finished with value: 0.2306061913988008 and parameters: {'n_estimators': 550, 'learning_rate': 0.038627008619234834, 'num_leaves': 20, 'max_depth': 10, 'min_data_in_leaf': 5200, 'lambda_l1': 15, 'lambda_l2': 80, 'min_gain_to_split': 13.612323191248246, 'bagging_fraction': 0.8, 'bagging_freq': 1, 'feature_fraction': 0.7}. Best is trial 58 with value: 0.2865766074909201.\u001b[0m\n",
      "\u001b[32m[I 2021-10-11 23:32:03,753]\u001b[0m Trial 66 finished with value: 0.27499283334932373 and parameters: {'n_estimators': 500, 'learning_rate': 0.06584412284361013, 'num_leaves': 220, 'max_depth': 10, 'min_data_in_leaf': 500, 'lambda_l1': 40, 'lambda_l2': 80, 'min_gain_to_split': 11.977646960080683, 'bagging_fraction': 0.8, 'bagging_freq': 1, 'feature_fraction': 0.9}. Best is trial 58 with value: 0.2865766074909201.\u001b[0m\n",
      "\u001b[32m[I 2021-10-11 23:32:10,214]\u001b[0m Trial 67 finished with value: 0.04411852532208639 and parameters: {'n_estimators': 550, 'learning_rate': 0.058476761314373064, 'num_leaves': 680, 'max_depth': 10, 'min_data_in_leaf': 1600, 'lambda_l1': 25, 'lambda_l2': 75, 'min_gain_to_split': 12.710337640745191, 'bagging_fraction': 0.2, 'bagging_freq': 1, 'feature_fraction': 0.6000000000000001}. Best is trial 58 with value: 0.2865766074909201.\u001b[0m\n",
      "\u001b[32m[I 2021-10-11 23:32:31,113]\u001b[0m Trial 68 finished with value: 0.26217182692625607 and parameters: {'n_estimators': 600, 'learning_rate': 0.01987262822678096, 'num_leaves': 900, 'max_depth': 8, 'min_data_in_leaf': 1100, 'lambda_l1': 15, 'lambda_l2': 70, 'min_gain_to_split': 5.738332242317936, 'bagging_fraction': 0.7, 'bagging_freq': 1, 'feature_fraction': 0.9}. Best is trial 58 with value: 0.2865766074909201.\u001b[0m\n",
      "\u001b[32m[I 2021-10-11 23:32:35,639]\u001b[0m Trial 69 finished with value: 0.0 and parameters: {'n_estimators': 500, 'learning_rate': 0.07013848455508641, 'num_leaves': 2080, 'max_depth': 11, 'min_data_in_leaf': 9900, 'lambda_l1': 30, 'lambda_l2': 75, 'min_gain_to_split': 5.069299768043338, 'bagging_fraction': 0.7, 'bagging_freq': 1, 'feature_fraction': 0.7}. Best is trial 58 with value: 0.2865766074909201.\u001b[0m\n",
      "\u001b[32m[I 2021-10-11 23:33:00,235]\u001b[0m Trial 70 finished with value: 0.28713021740283795 and parameters: {'n_estimators': 450, 'learning_rate': 0.07437400986535682, 'num_leaves': 520, 'max_depth': 9, 'min_data_in_leaf': 200, 'lambda_l1': 10, 'lambda_l2': 85, 'min_gain_to_split': 7.453795775255849, 'bagging_fraction': 0.5, 'bagging_freq': 1, 'feature_fraction': 0.8}. Best is trial 70 with value: 0.28713021740283795.\u001b[0m\n",
      "\u001b[32m[I 2021-10-11 23:33:24,200]\u001b[0m Trial 71 finished with value: 0.27748420041524274 and parameters: {'n_estimators': 450, 'learning_rate': 0.04426405371063659, 'num_leaves': 800, 'max_depth': 9, 'min_data_in_leaf': 400, 'lambda_l1': 10, 'lambda_l2': 85, 'min_gain_to_split': 7.278416320331312, 'bagging_fraction': 0.5, 'bagging_freq': 1, 'feature_fraction': 0.8}. Best is trial 70 with value: 0.28713021740283795.\u001b[0m\n",
      "\u001b[32m[I 2021-10-11 23:33:52,002]\u001b[0m Trial 72 finished with value: 0.2837629058293461 and parameters: {'n_estimators': 450, 'learning_rate': 0.03902841885989708, 'num_leaves': 600, 'max_depth': 10, 'min_data_in_leaf': 200, 'lambda_l1': 10, 'lambda_l2': 90, 'min_gain_to_split': 7.323052816272132, 'bagging_fraction': 0.5, 'bagging_freq': 1, 'feature_fraction': 0.8}. Best is trial 70 with value: 0.28713021740283795.\u001b[0m\n",
      "\u001b[32m[I 2021-10-11 23:34:26,305]\u001b[0m Trial 73 finished with value: 0.2765127658825249 and parameters: {'n_estimators': 500, 'learning_rate': 0.01760394951912414, 'num_leaves': 1680, 'max_depth': 10, 'min_data_in_leaf': 200, 'lambda_l1': 20, 'lambda_l2': 90, 'min_gain_to_split': 6.0747113376188, 'bagging_fraction': 0.5, 'bagging_freq': 1, 'feature_fraction': 0.8}. Best is trial 70 with value: 0.28713021740283795.\u001b[0m\n",
      "\u001b[32m[I 2021-10-11 23:34:40,637]\u001b[0m Trial 74 finished with value: 0.26920712475480174 and parameters: {'n_estimators': 550, 'learning_rate': 0.26379957381382096, 'num_leaves': 540, 'max_depth': 10, 'min_data_in_leaf': 200, 'lambda_l1': 50, 'lambda_l2': 95, 'min_gain_to_split': 6.68596499394766, 'bagging_fraction': 0.6000000000000001, 'bagging_freq': 1, 'feature_fraction': 0.8}. Best is trial 70 with value: 0.28713021740283795.\u001b[0m\n",
      "\u001b[32m[I 2021-10-11 23:34:57,035]\u001b[0m Trial 75 finished with value: 0.27736257099861644 and parameters: {'n_estimators': 450, 'learning_rate': 0.08877762293119472, 'num_leaves': 200, 'max_depth': 7, 'min_data_in_leaf': 500, 'lambda_l1': 10, 'lambda_l2': 70, 'min_gain_to_split': 7.853687682869904, 'bagging_fraction': 0.4, 'bagging_freq': 1, 'feature_fraction': 0.8}. Best is trial 70 with value: 0.28713021740283795.\u001b[0m\n",
      "\u001b[32m[I 2021-10-11 23:35:14,404]\u001b[0m Trial 76 finished with value: 0.26415830661993367 and parameters: {'n_estimators': 450, 'learning_rate': 0.059196792583384845, 'num_leaves': 1080, 'max_depth': 11, 'min_data_in_leaf': 1400, 'lambda_l1': 15, 'lambda_l2': 80, 'min_gain_to_split': 12.214912223052082, 'bagging_fraction': 0.6000000000000001, 'bagging_freq': 1, 'feature_fraction': 0.7}. Best is trial 70 with value: 0.28713021740283795.\u001b[0m\n",
      "\u001b[32m[I 2021-10-11 23:35:31,996]\u001b[0m Trial 77 finished with value: 0.26483798631432115 and parameters: {'n_estimators': 600, 'learning_rate': 0.04130752369994915, 'num_leaves': 280, 'max_depth': 8, 'min_data_in_leaf': 1100, 'lambda_l1': 20, 'lambda_l2': 5, 'min_gain_to_split': 5.324394596443382, 'bagging_fraction': 0.5, 'bagging_freq': 1, 'feature_fraction': 0.4}. Best is trial 70 with value: 0.28713021740283795.\u001b[0m\n",
      "\u001b[32m[I 2021-10-11 23:35:52,103]\u001b[0m Trial 78 finished with value: 0.28620270382811097 and parameters: {'n_estimators': 500, 'learning_rate': 0.04961336204103483, 'num_leaves': 80, 'max_depth': 10, 'min_data_in_leaf': 800, 'lambda_l1': 15, 'lambda_l2': 60, 'min_gain_to_split': 8.633113108933271, 'bagging_fraction': 0.7, 'bagging_freq': 1, 'feature_fraction': 0.8}. Best is trial 70 with value: 0.28713021740283795.\u001b[0m\n",
      "\u001b[32m[I 2021-10-11 23:36:16,113]\u001b[0m Trial 79 finished with value: 0.28034655105151696 and parameters: {'n_estimators': 550, 'learning_rate': 0.03302580467251993, 'num_leaves': 20, 'max_depth': 9, 'min_data_in_leaf': 400, 'lambda_l1': 35, 'lambda_l2': 60, 'min_gain_to_split': 8.588471826198456, 'bagging_fraction': 0.7, 'bagging_freq': 1, 'feature_fraction': 0.8}. Best is trial 70 with value: 0.28713021740283795.\u001b[0m\n"
     ]
    },
    {
     "name": "stderr",
     "output_type": "stream",
     "text": [
      "\u001b[32m[I 2021-10-11 23:36:26,648]\u001b[0m Trial 80 finished with value: 0.2562267013448654 and parameters: {'n_estimators': 400, 'learning_rate': 0.05302765986818025, 'num_leaves': 80, 'max_depth': 10, 'min_data_in_leaf': 1900, 'lambda_l1': 25, 'lambda_l2': 50, 'min_gain_to_split': 7.62623964897185, 'bagging_fraction': 0.7, 'bagging_freq': 1, 'feature_fraction': 0.8}. Best is trial 70 with value: 0.28713021740283795.\u001b[0m\n",
      "\u001b[32m[I 2021-10-11 23:36:52,923]\u001b[0m Trial 81 finished with value: 0.2804773743535057 and parameters: {'n_estimators': 550, 'learning_rate': 0.029788639087989136, 'num_leaves': 140, 'max_depth': 9, 'min_data_in_leaf': 400, 'lambda_l1': 35, 'lambda_l2': 60, 'min_gain_to_split': 8.613536652329671, 'bagging_fraction': 0.7, 'bagging_freq': 1, 'feature_fraction': 0.8}. Best is trial 70 with value: 0.28713021740283795.\u001b[0m\n",
      "\u001b[32m[I 2021-10-11 23:37:14,493]\u001b[0m Trial 82 finished with value: 0.26733587895193855 and parameters: {'n_estimators': 500, 'learning_rate': 0.025407589890029048, 'num_leaves': 2320, 'max_depth': 8, 'min_data_in_leaf': 800, 'lambda_l1': 30, 'lambda_l2': 60, 'min_gain_to_split': 7.005853219958624, 'bagging_fraction': 0.8, 'bagging_freq': 1, 'feature_fraction': 0.8}. Best is trial 70 with value: 0.28713021740283795.\u001b[0m\n",
      "\u001b[32m[I 2021-10-11 23:37:59,445]\u001b[0m Trial 83 finished with value: 0.2774103315823401 and parameters: {'n_estimators': 600, 'learning_rate': 0.010955213463406735, 'num_leaves': 140, 'max_depth': 9, 'min_data_in_leaf': 200, 'lambda_l1': 15, 'lambda_l2': 50, 'min_gain_to_split': 8.20079919921311, 'bagging_fraction': 0.7, 'bagging_freq': 1, 'feature_fraction': 0.8}. Best is trial 70 with value: 0.28713021740283795.\u001b[0m\n",
      "\u001b[32m[I 2021-10-11 23:38:16,799]\u001b[0m Trial 84 finished with value: 0.26068237259434024 and parameters: {'n_estimators': 550, 'learning_rate': 0.03689287917236686, 'num_leaves': 640, 'max_depth': 9, 'min_data_in_leaf': 1200, 'lambda_l1': 45, 'lambda_l2': 90, 'min_gain_to_split': 8.690213217062679, 'bagging_fraction': 0.7, 'bagging_freq': 1, 'feature_fraction': 0.8}. Best is trial 70 with value: 0.28713021740283795.\u001b[0m\n",
      "\u001b[32m[I 2021-10-11 23:38:32,366]\u001b[0m Trial 85 finished with value: 0.2738015319879644 and parameters: {'n_estimators': 450, 'learning_rate': 0.062179249474146804, 'num_leaves': 400, 'max_depth': 8, 'min_data_in_leaf': 1000, 'lambda_l1': 35, 'lambda_l2': 60, 'min_gain_to_split': 6.599959920001878, 'bagging_fraction': 0.7, 'bagging_freq': 1, 'feature_fraction': 0.8}. Best is trial 70 with value: 0.28713021740283795.\u001b[0m\n",
      "\u001b[32m[I 2021-10-11 23:38:58,882]\u001b[0m Trial 86 finished with value: 0.28492362518030573 and parameters: {'n_estimators': 900, 'learning_rate': 0.048544943523688766, 'num_leaves': 180, 'max_depth': 10, 'min_data_in_leaf': 500, 'lambda_l1': 20, 'lambda_l2': 65, 'min_gain_to_split': 7.557129377009537, 'bagging_fraction': 0.9, 'bagging_freq': 1, 'feature_fraction': 0.9}. Best is trial 70 with value: 0.28713021740283795.\u001b[0m\n",
      "\u001b[32m[I 2021-10-11 23:39:09,856]\u001b[0m Trial 87 finished with value: 0.21888466688859678 and parameters: {'n_estimators': 800, 'learning_rate': 0.04395472745254032, 'num_leaves': 280, 'max_depth': 11, 'min_data_in_leaf': 8200, 'lambda_l1': 25, 'lambda_l2': 70, 'min_gain_to_split': 7.533615160150266, 'bagging_fraction': 0.9, 'bagging_freq': 1, 'feature_fraction': 0.9}. Best is trial 70 with value: 0.28713021740283795.\u001b[0m\n",
      "\u001b[32m[I 2021-10-11 23:39:41,065]\u001b[0m Trial 88 finished with value: 0.2834440466350296 and parameters: {'n_estimators': 950, 'learning_rate': 0.050256331857680775, 'num_leaves': 180, 'max_depth': 10, 'min_data_in_leaf': 1500, 'lambda_l1': 20, 'lambda_l2': 75, 'min_gain_to_split': 4.1737403764430105, 'bagging_fraction': 0.8, 'bagging_freq': 1, 'feature_fraction': 0.9}. Best is trial 70 with value: 0.28713021740283795.\u001b[0m\n",
      "\u001b[32m[I 2021-10-11 23:40:14,671]\u001b[0m Trial 89 finished with value: 0.28531453835950626 and parameters: {'n_estimators': 950, 'learning_rate': 0.049761264044492444, 'num_leaves': 200, 'max_depth': 11, 'min_data_in_leaf': 1500, 'lambda_l1': 15, 'lambda_l2': 75, 'min_gain_to_split': 1.1219755409939713, 'bagging_fraction': 0.9, 'bagging_freq': 1, 'feature_fraction': 0.9}. Best is trial 70 with value: 0.28713021740283795.\u001b[0m\n",
      "\u001b[32m[I 2021-10-11 23:40:42,175]\u001b[0m Trial 90 finished with value: 0.27623825088768383 and parameters: {'n_estimators': 950, 'learning_rate': 0.04928274729128049, 'num_leaves': 80, 'max_depth': 11, 'min_data_in_leaf': 2100, 'lambda_l1': 20, 'lambda_l2': 75, 'min_gain_to_split': 2.5464985851660527, 'bagging_fraction': 0.9, 'bagging_freq': 1, 'feature_fraction': 0.9}. Best is trial 70 with value: 0.28713021740283795.\u001b[0m\n",
      "\u001b[32m[I 2021-10-11 23:41:06,644]\u001b[0m Trial 91 finished with value: 0.27218647724020334 and parameters: {'n_estimators': 950, 'learning_rate': 0.07196760810275235, 'num_leaves': 200, 'max_depth': 10, 'min_data_in_leaf': 2500, 'lambda_l1': 15, 'lambda_l2': 85, 'min_gain_to_split': 0.5520096176767115, 'bagging_fraction': 0.9, 'bagging_freq': 1, 'feature_fraction': 0.9}. Best is trial 70 with value: 0.28713021740283795.\u001b[0m\n",
      "\u001b[32m[I 2021-10-11 23:41:40,418]\u001b[0m Trial 92 finished with value: 0.28226935483173854 and parameters: {'n_estimators': 900, 'learning_rate': 0.05454634442604491, 'num_leaves': 360, 'max_depth': 12, 'min_data_in_leaf': 1500, 'lambda_l1': 20, 'lambda_l2': 75, 'min_gain_to_split': 1.3852019650957703, 'bagging_fraction': 0.9, 'bagging_freq': 1, 'feature_fraction': 0.9}. Best is trial 70 with value: 0.28713021740283795.\u001b[0m\n",
      "\u001b[32m[I 2021-10-11 23:42:11,730]\u001b[0m Trial 93 finished with value: 0.2872095419566368 and parameters: {'n_estimators': 900, 'learning_rate': 0.052012848341419386, 'num_leaves': 360, 'max_depth': 12, 'min_data_in_leaf': 1600, 'lambda_l1': 20, 'lambda_l2': 75, 'min_gain_to_split': 1.389455304365631, 'bagging_fraction': 0.9, 'bagging_freq': 1, 'feature_fraction': 0.9}. Best is trial 93 with value: 0.2872095419566368.\u001b[0m\n",
      "\u001b[32m[I 2021-10-11 23:42:41,127]\u001b[0m Trial 94 finished with value: 0.28114576869478364 and parameters: {'n_estimators': 900, 'learning_rate': 0.05256368938728544, 'num_leaves': 360, 'max_depth': 12, 'min_data_in_leaf': 1700, 'lambda_l1': 20, 'lambda_l2': 75, 'min_gain_to_split': 1.169175134945867, 'bagging_fraction': 0.9, 'bagging_freq': 1, 'feature_fraction': 0.9}. Best is trial 93 with value: 0.2872095419566368.\u001b[0m\n",
      "\u001b[32m[I 2021-10-11 23:43:11,141]\u001b[0m Trial 95 finished with value: 0.2832468633941586 and parameters: {'n_estimators': 900, 'learning_rate': 0.0656759448989824, 'num_leaves': 260, 'max_depth': 12, 'min_data_in_leaf': 1500, 'lambda_l1': 15, 'lambda_l2': 70, 'min_gain_to_split': 3.96492214452331, 'bagging_fraction': 0.9, 'bagging_freq': 1, 'feature_fraction': 0.9}. Best is trial 93 with value: 0.2872095419566368.\u001b[0m\n",
      "\u001b[32m[I 2021-10-11 23:43:35,083]\u001b[0m Trial 96 finished with value: 0.265427093783631 and parameters: {'n_estimators': 1000, 'learning_rate': 0.07698997353755747, 'num_leaves': 260, 'max_depth': 12, 'min_data_in_leaf': 2800, 'lambda_l1': 15, 'lambda_l2': 70, 'min_gain_to_split': 3.8519335256066976, 'bagging_fraction': 0.8, 'bagging_freq': 1, 'feature_fraction': 0.9}. Best is trial 93 with value: 0.2872095419566368.\u001b[0m\n",
      "\u001b[32m[I 2021-10-11 23:44:08,346]\u001b[0m Trial 97 finished with value: 0.2724322164176872 and parameters: {'n_estimators': 850, 'learning_rate': 0.021194007608026737, 'num_leaves': 100, 'max_depth': 12, 'min_data_in_leaf': 1300, 'lambda_l1': 10, 'lambda_l2': 80, 'min_gain_to_split': 4.2516431310910905, 'bagging_fraction': 0.9, 'bagging_freq': 1, 'feature_fraction': 0.9}. Best is trial 93 with value: 0.2872095419566368.\u001b[0m\n",
      "\u001b[32m[I 2021-10-11 23:44:37,931]\u001b[0m Trial 98 finished with value: 0.2877285196620496 and parameters: {'n_estimators': 900, 'learning_rate': 0.06649393389083554, 'num_leaves': 180, 'max_depth': 11, 'min_data_in_leaf': 1800, 'lambda_l1': 15, 'lambda_l2': 70, 'min_gain_to_split': 3.149189522080276, 'bagging_fraction': 0.9, 'bagging_freq': 1, 'feature_fraction': 0.9}. Best is trial 98 with value: 0.2877285196620496.\u001b[0m\n",
      "\u001b[32m[I 2021-10-11 23:45:03,894]\u001b[0m Trial 99 finished with value: 0.26825581587246705 and parameters: {'n_estimators': 850, 'learning_rate': 0.037419392390108525, 'num_leaves': 180, 'max_depth': 11, 'min_data_in_leaf': 1800, 'lambda_l1': 10, 'lambda_l2': 80, 'min_gain_to_split': 1.929980079158164, 'bagging_fraction': 0.8, 'bagging_freq': 1, 'feature_fraction': 0.9}. Best is trial 98 with value: 0.2877285196620496.\u001b[0m\n"
     ]
    },
    {
     "name": "stderr",
     "output_type": "stream",
     "text": [
      "\u001b[32m[I 2021-10-11 23:45:34,035]\u001b[0m Trial 100 finished with value: 0.2715074254553852 and parameters: {'n_estimators': 1000, 'learning_rate': 0.04999320454715431, 'num_leaves': 420, 'max_depth': 11, 'min_data_in_leaf': 2200, 'lambda_l1': 20, 'lambda_l2': 65, 'min_gain_to_split': 3.2006183066559304, 'bagging_fraction': 0.9, 'bagging_freq': 1, 'feature_fraction': 0.9}. Best is trial 98 with value: 0.2877285196620496.\u001b[0m\n",
      "\u001b[32m[I 2021-10-11 23:46:22,531]\u001b[0m Trial 101 finished with value: 0.2589393567100438 and parameters: {'n_estimators': 900, 'learning_rate': 0.06585610865508788, 'num_leaves': 300, 'max_depth': 12, 'min_data_in_leaf': 800, 'lambda_l1': 15, 'lambda_l2': 70, 'min_gain_to_split': 0.6593376694475506, 'bagging_fraction': 0.9, 'bagging_freq': 1, 'feature_fraction': 0.9}. Best is trial 98 with value: 0.2877285196620496.\u001b[0m\n",
      "\u001b[32m[I 2021-10-11 23:46:51,849]\u001b[0m Trial 102 finished with value: 0.2785621707999148 and parameters: {'n_estimators': 950, 'learning_rate': 0.06680685406143547, 'num_leaves': 540, 'max_depth': 11, 'min_data_in_leaf': 1500, 'lambda_l1': 15, 'lambda_l2': 75, 'min_gain_to_split': 4.619361684205219, 'bagging_fraction': 0.9, 'bagging_freq': 1, 'feature_fraction': 0.9}. Best is trial 98 with value: 0.2877285196620496.\u001b[0m\n",
      "\u001b[32m[I 2021-10-11 23:47:30,006]\u001b[0m Trial 103 finished with value: 0.281984613018188 and parameters: {'n_estimators': 900, 'learning_rate': 0.06045031438628323, 'num_leaves': 180, 'max_depth': 11, 'min_data_in_leaf': 1200, 'lambda_l1': 5, 'lambda_l2': 70, 'min_gain_to_split': 0.9341812539102263, 'bagging_fraction': 0.9, 'bagging_freq': 1, 'feature_fraction': 0.9}. Best is trial 98 with value: 0.2877285196620496.\u001b[0m\n",
      "\u001b[32m[I 2021-10-11 23:47:57,338]\u001b[0m Trial 104 finished with value: 0.2738183607335269 and parameters: {'n_estimators': 850, 'learning_rate': 0.041150441188856385, 'num_leaves': 60, 'max_depth': 12, 'min_data_in_leaf': 1700, 'lambda_l1': 10, 'lambda_l2': 65, 'min_gain_to_split': 0.017821779781517444, 'bagging_fraction': 0.8, 'bagging_freq': 1, 'feature_fraction': 0.9}. Best is trial 98 with value: 0.2877285196620496.\u001b[0m\n",
      "\u001b[32m[I 2021-10-11 23:48:02,809]\u001b[0m Trial 105 finished with value: 0.0 and parameters: {'n_estimators': 800, 'learning_rate': 0.0763267023350758, 'num_leaves': 240, 'max_depth': 12, 'min_data_in_leaf': 9400, 'lambda_l1': 20, 'lambda_l2': 70, 'min_gain_to_split': 4.346641373404766, 'bagging_fraction': 0.8, 'bagging_freq': 1, 'feature_fraction': 0.9}. Best is trial 98 with value: 0.2877285196620496.\u001b[0m\n",
      "\u001b[32m[I 2021-10-11 23:48:42,778]\u001b[0m Trial 106 finished with value: 0.2918163949308746 and parameters: {'n_estimators': 950, 'learning_rate': 0.046511052455054755, 'num_leaves': 320, 'max_depth': 10, 'min_data_in_leaf': 900, 'lambda_l1': 15, 'lambda_l2': 85, 'min_gain_to_split': 3.740368176876673, 'bagging_fraction': 0.9, 'bagging_freq': 1, 'feature_fraction': 0.9}. Best is trial 106 with value: 0.2918163949308746.\u001b[0m\n",
      "\u001b[32m[I 2021-10-11 23:49:23,942]\u001b[0m Trial 107 finished with value: 0.29118187792184813 and parameters: {'n_estimators': 1000, 'learning_rate': 0.045877412436751835, 'num_leaves': 20, 'max_depth': 10, 'min_data_in_leaf': 900, 'lambda_l1': 25, 'lambda_l2': 85, 'min_gain_to_split': 2.088425091578457, 'bagging_fraction': 0.9, 'bagging_freq': 1, 'feature_fraction': 0.9}. Best is trial 106 with value: 0.2918163949308746.\u001b[0m\n",
      "\u001b[32m[I 2021-10-11 23:49:45,256]\u001b[0m Trial 108 finished with value: 0.24626524435381159 and parameters: {'n_estimators': 1000, 'learning_rate': 0.03603528540136019, 'num_leaves': 20, 'max_depth': 10, 'min_data_in_leaf': 4100, 'lambda_l1': 25, 'lambda_l2': 85, 'min_gain_to_split': 1.9930926176073296, 'bagging_fraction': 0.9, 'bagging_freq': 1, 'feature_fraction': 0.9}. Best is trial 106 with value: 0.2918163949308746.\u001b[0m\n",
      "\u001b[32m[I 2021-10-11 23:50:32,674]\u001b[0m Trial 109 finished with value: 0.28979568374475556 and parameters: {'n_estimators': 950, 'learning_rate': 0.025227334132597146, 'num_leaves': 440, 'max_depth': 10, 'min_data_in_leaf': 900, 'lambda_l1': 10, 'lambda_l2': 95, 'min_gain_to_split': 2.3457706485674525, 'bagging_fraction': 0.9, 'bagging_freq': 1, 'feature_fraction': 0.9}. Best is trial 106 with value: 0.2918163949308746.\u001b[0m\n",
      "\u001b[32m[I 2021-10-11 23:51:18,765]\u001b[0m Trial 110 finished with value: 0.29189382468367364 and parameters: {'n_estimators': 950, 'learning_rate': 0.027004295273006233, 'num_leaves': 100, 'max_depth': 11, 'min_data_in_leaf': 900, 'lambda_l1': 30, 'lambda_l2': 100, 'min_gain_to_split': 3.204116812175573, 'bagging_fraction': 0.9, 'bagging_freq': 1, 'feature_fraction': 0.9}. Best is trial 110 with value: 0.29189382468367364.\u001b[0m\n",
      "\u001b[32m[I 2021-10-11 23:52:08,327]\u001b[0m Trial 111 finished with value: 0.29048864402880425 and parameters: {'n_estimators': 1000, 'learning_rate': 0.02612996595507681, 'num_leaves': 120, 'max_depth': 11, 'min_data_in_leaf': 800, 'lambda_l1': 30, 'lambda_l2': 100, 'min_gain_to_split': 2.3798607189316465, 'bagging_fraction': 0.9, 'bagging_freq': 1, 'feature_fraction': 0.9}. Best is trial 110 with value: 0.29189382468367364.\u001b[0m\n",
      "\u001b[32m[I 2021-10-11 23:52:54,676]\u001b[0m Trial 112 finished with value: 0.28788446072381757 and parameters: {'n_estimators': 1000, 'learning_rate': 0.02414389266877324, 'num_leaves': 100, 'max_depth': 11, 'min_data_in_leaf': 900, 'lambda_l1': 30, 'lambda_l2': 100, 'min_gain_to_split': 2.8116427198660925, 'bagging_fraction': 0.9, 'bagging_freq': 1, 'feature_fraction': 0.9}. Best is trial 110 with value: 0.29189382468367364.\u001b[0m\n",
      "\u001b[32m[I 2021-10-11 23:53:44,864]\u001b[0m Trial 113 finished with value: 0.2910994629907143 and parameters: {'n_estimators': 1000, 'learning_rate': 0.025315727747996345, 'num_leaves': 100, 'max_depth': 11, 'min_data_in_leaf': 1000, 'lambda_l1': 30, 'lambda_l2': 95, 'min_gain_to_split': 2.8619624155959045, 'bagging_fraction': 0.9, 'bagging_freq': 1, 'feature_fraction': 0.9}. Best is trial 110 with value: 0.29189382468367364.\u001b[0m\n",
      "\u001b[32m[I 2021-10-11 23:54:32,768]\u001b[0m Trial 114 finished with value: 0.2789116573807579 and parameters: {'n_estimators': 1000, 'learning_rate': 0.015615201428275388, 'num_leaves': 80, 'max_depth': 11, 'min_data_in_leaf': 900, 'lambda_l1': 30, 'lambda_l2': 100, 'min_gain_to_split': 3.0811937537432366, 'bagging_fraction': 0.9, 'bagging_freq': 1, 'feature_fraction': 0.9}. Best is trial 110 with value: 0.29189382468367364.\u001b[0m\n",
      "\u001b[32m[I 2021-10-11 23:55:17,928]\u001b[0m Trial 115 finished with value: 0.2855723351650626 and parameters: {'n_estimators': 1000, 'learning_rate': 0.024704940931623665, 'num_leaves': 120, 'max_depth': 11, 'min_data_in_leaf': 900, 'lambda_l1': 40, 'lambda_l2': 100, 'min_gain_to_split': 2.4358268459352366, 'bagging_fraction': 0.9, 'bagging_freq': 1, 'feature_fraction': 0.9}. Best is trial 110 with value: 0.29189382468367364.\u001b[0m\n",
      "\u001b[32m[I 2021-10-11 23:56:11,767]\u001b[0m Trial 116 finished with value: 0.27631210003744155 and parameters: {'n_estimators': 1000, 'learning_rate': 0.011006157238001232, 'num_leaves': 320, 'max_depth': 11, 'min_data_in_leaf': 700, 'lambda_l1': 30, 'lambda_l2': 95, 'min_gain_to_split': 2.8775727700154707, 'bagging_fraction': 0.9, 'bagging_freq': 1, 'feature_fraction': 0.9}. Best is trial 110 with value: 0.29189382468367364.\u001b[0m\n",
      "\u001b[32m[I 2021-10-11 23:56:52,362]\u001b[0m Trial 117 finished with value: 0.27893559762490355 and parameters: {'n_estimators': 950, 'learning_rate': 0.024196224390326843, 'num_leaves': 440, 'max_depth': 11, 'min_data_in_leaf': 1100, 'lambda_l1': 30, 'lambda_l2': 100, 'min_gain_to_split': 1.6634063505674426, 'bagging_fraction': 0.9, 'bagging_freq': 1, 'feature_fraction': 0.9}. Best is trial 110 with value: 0.29189382468367364.\u001b[0m\n",
      "\u001b[32m[I 2021-10-11 23:57:28,389]\u001b[0m Trial 118 finished with value: 0.2808432934989073 and parameters: {'n_estimators': 1000, 'learning_rate': 0.03091076190531082, 'num_leaves': 120, 'max_depth': 11, 'min_data_in_leaf': 1300, 'lambda_l1': 25, 'lambda_l2': 95, 'min_gain_to_split': 3.582262321957675, 'bagging_fraction': 0.9, 'bagging_freq': 1, 'feature_fraction': 0.9}. Best is trial 110 with value: 0.29189382468367364.\u001b[0m\n",
      "\u001b[32m[I 2021-10-11 23:58:15,785]\u001b[0m Trial 119 finished with value: 0.2790942262300579 and parameters: {'n_estimators': 950, 'learning_rate': 0.016775340920152593, 'num_leaves': 340, 'max_depth': 11, 'min_data_in_leaf': 800, 'lambda_l1': 35, 'lambda_l2': 95, 'min_gain_to_split': 2.1946781125399704, 'bagging_fraction': 0.9, 'bagging_freq': 1, 'feature_fraction': 0.9}. Best is trial 110 with value: 0.29189382468367364.\u001b[0m\n"
     ]
    },
    {
     "name": "stderr",
     "output_type": "stream",
     "text": [
      "\u001b[32m[I 2021-10-11 23:58:57,334]\u001b[0m Trial 120 finished with value: 0.28725992311687965 and parameters: {'n_estimators': 950, 'learning_rate': 0.029890042556904382, 'num_leaves': 540, 'max_depth': 11, 'min_data_in_leaf': 900, 'lambda_l1': 25, 'lambda_l2': 100, 'min_gain_to_split': 2.6405222963294657, 'bagging_fraction': 0.9, 'bagging_freq': 1, 'feature_fraction': 0.9}. Best is trial 110 with value: 0.29189382468367364.\u001b[0m\n",
      "\u001b[32m[I 2021-10-11 23:59:24,606]\u001b[0m Trial 121 finished with value: 0.2735932861972426 and parameters: {'n_estimators': 950, 'learning_rate': 0.03349356853980483, 'num_leaves': 520, 'max_depth': 4, 'min_data_in_leaf': 1000, 'lambda_l1': 25, 'lambda_l2': 100, 'min_gain_to_split': 3.509407838074006, 'bagging_fraction': 0.9, 'bagging_freq': 1, 'feature_fraction': 0.9}. Best is trial 110 with value: 0.29189382468367364.\u001b[0m\n",
      "\u001b[32m[I 2021-10-12 00:00:13,144]\u001b[0m Trial 122 finished with value: 0.2878447104660333 and parameters: {'n_estimators': 950, 'learning_rate': 0.027087105652505782, 'num_leaves': 420, 'max_depth': 11, 'min_data_in_leaf': 700, 'lambda_l1': 30, 'lambda_l2': 100, 'min_gain_to_split': 2.7626150927209765, 'bagging_fraction': 0.9, 'bagging_freq': 1, 'feature_fraction': 0.9}. Best is trial 110 with value: 0.29189382468367364.\u001b[0m\n",
      "\u001b[32m[I 2021-10-12 00:01:03,751]\u001b[0m Trial 123 finished with value: 0.2874900544799262 and parameters: {'n_estimators': 950, 'learning_rate': 0.02397123593882848, 'num_leaves': 380, 'max_depth': 11, 'min_data_in_leaf': 600, 'lambda_l1': 30, 'lambda_l2': 100, 'min_gain_to_split': 2.6564672760386503, 'bagging_fraction': 0.9, 'bagging_freq': 1, 'feature_fraction': 0.9}. Best is trial 110 with value: 0.29189382468367364.\u001b[0m\n",
      "\u001b[32m[I 2021-10-12 00:02:00,551]\u001b[0m Trial 124 finished with value: 0.29588844041923074 and parameters: {'n_estimators': 1000, 'learning_rate': 0.024706132106928628, 'num_leaves': 440, 'max_depth': 11, 'min_data_in_leaf': 400, 'lambda_l1': 30, 'lambda_l2': 100, 'min_gain_to_split': 2.6049116545691877, 'bagging_fraction': 0.9, 'bagging_freq': 1, 'feature_fraction': 0.9}. Best is trial 124 with value: 0.29588844041923074.\u001b[0m\n",
      "\u001b[32m[I 2021-10-12 00:02:40,070]\u001b[0m Trial 125 finished with value: 0.27739230311066354 and parameters: {'n_estimators': 1000, 'learning_rate': 0.02563475508369948, 'num_leaves': 440, 'max_depth': 12, 'min_data_in_leaf': 1200, 'lambda_l1': 40, 'lambda_l2': 100, 'min_gain_to_split': 2.798350852511345, 'bagging_fraction': 0.9, 'bagging_freq': 1, 'feature_fraction': 0.9}. Best is trial 124 with value: 0.29588844041923074.\u001b[0m\n",
      "\u001b[32m[I 2021-10-12 00:03:36,993]\u001b[0m Trial 126 finished with value: 0.28583190564362904 and parameters: {'n_estimators': 950, 'learning_rate': 0.015597058904909715, 'num_leaves': 380, 'max_depth': 11, 'min_data_in_leaf': 600, 'lambda_l1': 30, 'lambda_l2': 100, 'min_gain_to_split': 2.1952565466042246, 'bagging_fraction': 0.9, 'bagging_freq': 1, 'feature_fraction': 0.9}. Best is trial 124 with value: 0.29588844041923074.\u001b[0m\n",
      "\u001b[32m[I 2021-10-12 00:04:40,829]\u001b[0m Trial 127 finished with value: 0.2922417120325617 and parameters: {'n_estimators': 1000, 'learning_rate': 0.028622016491470177, 'num_leaves': 240, 'max_depth': 11, 'min_data_in_leaf': 400, 'lambda_l1': 30, 'lambda_l2': 95, 'min_gain_to_split': 2.994548389401592, 'bagging_fraction': 0.9, 'bagging_freq': 1, 'feature_fraction': 0.9}. Best is trial 124 with value: 0.29588844041923074.\u001b[0m\n",
      "\u001b[32m[I 2021-10-12 00:05:33,925]\u001b[0m Trial 128 finished with value: 0.28778777894266344 and parameters: {'n_estimators': 1000, 'learning_rate': 0.020420709218763305, 'num_leaves': 240, 'max_depth': 11, 'min_data_in_leaf': 500, 'lambda_l1': 35, 'lambda_l2': 95, 'min_gain_to_split': 3.368140870604873, 'bagging_fraction': 0.9, 'bagging_freq': 1, 'feature_fraction': 0.9}. Best is trial 124 with value: 0.29588844041923074.\u001b[0m\n",
      "\u001b[32m[I 2021-10-12 00:06:26,008]\u001b[0m Trial 129 finished with value: 0.2917291161289969 and parameters: {'n_estimators': 1000, 'learning_rate': 0.021360318438346272, 'num_leaves': 260, 'max_depth': 11, 'min_data_in_leaf': 400, 'lambda_l1': 35, 'lambda_l2': 95, 'min_gain_to_split': 3.3671176124145705, 'bagging_fraction': 0.9, 'bagging_freq': 1, 'feature_fraction': 0.9}. Best is trial 124 with value: 0.29588844041923074.\u001b[0m\n",
      "\u001b[32m[I 2021-10-12 00:07:26,220]\u001b[0m Trial 130 finished with value: 0.2904127976941763 and parameters: {'n_estimators': 1000, 'learning_rate': 0.01760528748475359, 'num_leaves': 220, 'max_depth': 11, 'min_data_in_leaf': 400, 'lambda_l1': 35, 'lambda_l2': 95, 'min_gain_to_split': 3.4260532592356348, 'bagging_fraction': 0.9, 'bagging_freq': 1, 'feature_fraction': 0.9}. Best is trial 124 with value: 0.29588844041923074.\u001b[0m\n",
      "\u001b[32m[I 2021-10-12 00:08:35,046]\u001b[0m Trial 131 finished with value: 0.28581258358516787 and parameters: {'n_estimators': 1000, 'learning_rate': 0.010572712987747219, 'num_leaves': 240, 'max_depth': 11, 'min_data_in_leaf': 400, 'lambda_l1': 35, 'lambda_l2': 95, 'min_gain_to_split': 3.369170039025998, 'bagging_fraction': 0.9, 'bagging_freq': 1, 'feature_fraction': 0.9}. Best is trial 124 with value: 0.29588844041923074.\u001b[0m\n",
      "\u001b[32m[I 2021-10-12 00:09:30,767]\u001b[0m Trial 132 finished with value: 0.2904146592905199 and parameters: {'n_estimators': 1000, 'learning_rate': 0.02075649377095856, 'num_leaves': 160, 'max_depth': 11, 'min_data_in_leaf': 400, 'lambda_l1': 35, 'lambda_l2': 95, 'min_gain_to_split': 2.9720257688678737, 'bagging_fraction': 0.9, 'bagging_freq': 1, 'feature_fraction': 0.9}. Best is trial 124 with value: 0.29588844041923074.\u001b[0m\n",
      "\u001b[32m[I 2021-10-12 00:10:25,350]\u001b[0m Trial 133 finished with value: 0.29591988295370547 and parameters: {'n_estimators': 1000, 'learning_rate': 0.01962242203220438, 'num_leaves': 120, 'max_depth': 11, 'min_data_in_leaf': 400, 'lambda_l1': 40, 'lambda_l2': 95, 'min_gain_to_split': 2.9562376903087606, 'bagging_fraction': 0.9, 'bagging_freq': 1, 'feature_fraction': 0.9}. Best is trial 133 with value: 0.29591988295370547.\u001b[0m\n",
      "\u001b[32m[I 2021-10-12 00:11:29,318]\u001b[0m Trial 134 finished with value: 0.2887056466580775 and parameters: {'n_estimators': 1000, 'learning_rate': 0.016198622122681198, 'num_leaves': 140, 'max_depth': 11, 'min_data_in_leaf': 400, 'lambda_l1': 40, 'lambda_l2': 90, 'min_gain_to_split': 3.850095987565698, 'bagging_fraction': 0.9, 'bagging_freq': 1, 'feature_fraction': 0.9}. Best is trial 133 with value: 0.29591988295370547.\u001b[0m\n",
      "\u001b[32m[I 2021-10-12 00:12:19,701]\u001b[0m Trial 135 finished with value: 0.28982058350122164 and parameters: {'n_estimators': 1000, 'learning_rate': 0.017883439195935446, 'num_leaves': 20, 'max_depth': 11, 'min_data_in_leaf': 300, 'lambda_l1': 40, 'lambda_l2': 90, 'min_gain_to_split': 3.7232385257187572, 'bagging_fraction': 0.9, 'bagging_freq': 1, 'feature_fraction': 0.9}. Best is trial 133 with value: 0.29591988295370547.\u001b[0m\n",
      "\u001b[32m[I 2021-10-12 00:13:10,386]\u001b[0m Trial 136 finished with value: 0.2874842815564532 and parameters: {'n_estimators': 1000, 'learning_rate': 0.01549134418274865, 'num_leaves': 20, 'max_depth': 11, 'min_data_in_leaf': 300, 'lambda_l1': 40, 'lambda_l2': 90, 'min_gain_to_split': 3.8244181466527536, 'bagging_fraction': 0.9, 'bagging_freq': 1, 'feature_fraction': 0.9}. Best is trial 133 with value: 0.29591988295370547.\u001b[0m\n",
      "\u001b[32m[I 2021-10-12 00:14:07,048]\u001b[0m Trial 137 finished with value: 0.2876370118410243 and parameters: {'n_estimators': 1000, 'learning_rate': 0.017852110040729553, 'num_leaves': 100, 'max_depth': 11, 'min_data_in_leaf': 400, 'lambda_l1': 45, 'lambda_l2': 90, 'min_gain_to_split': 3.718958548524184, 'bagging_fraction': 0.8, 'bagging_freq': 1, 'feature_fraction': 0.9}. Best is trial 133 with value: 0.29591988295370547.\u001b[0m\n",
      "\u001b[32m[I 2021-10-12 00:14:45,684]\u001b[0m Trial 138 finished with value: 0.2830774438265659 and parameters: {'n_estimators': 1000, 'learning_rate': 0.03363400446297168, 'num_leaves': 160, 'max_depth': 11, 'min_data_in_leaf': 200, 'lambda_l1': 40, 'lambda_l2': 95, 'min_gain_to_split': 4.696364729888309, 'bagging_fraction': 0.9, 'bagging_freq': 1, 'feature_fraction': 0.4}. Best is trial 133 with value: 0.29591988295370547.\u001b[0m\n",
      "\u001b[32m[I 2021-10-12 00:15:47,749]\u001b[0m Trial 139 finished with value: 0.28377531618592233 and parameters: {'n_estimators': 1000, 'learning_rate': 0.013564557790527941, 'num_leaves': 60, 'max_depth': 11, 'min_data_in_leaf': 400, 'lambda_l1': 45, 'lambda_l2': 90, 'min_gain_to_split': 3.1261701878592123, 'bagging_fraction': 0.9, 'bagging_freq': 1, 'feature_fraction': 0.9}. Best is trial 133 with value: 0.29591988295370547.\u001b[0m\n"
     ]
    },
    {
     "name": "stderr",
     "output_type": "stream",
     "text": [
      "\u001b[32m[I 2021-10-12 00:16:26,843]\u001b[0m Trial 140 finished with value: 0.27463825564698147 and parameters: {'n_estimators': 950, 'learning_rate': 0.02065124507850032, 'num_leaves': 300, 'max_depth': 11, 'min_data_in_leaf': 700, 'lambda_l1': 50, 'lambda_l2': 95, 'min_gain_to_split': 2.10868076964142, 'bagging_fraction': 0.9, 'bagging_freq': 1, 'feature_fraction': 0.2}. Best is trial 133 with value: 0.29591988295370547.\u001b[0m\n",
      "\u001b[32m[I 2021-10-12 00:17:10,820]\u001b[0m Trial 141 finished with value: 0.28826147389438966 and parameters: {'n_estimators': 1000, 'learning_rate': 0.03165977646303847, 'num_leaves': 140, 'max_depth': 11, 'min_data_in_leaf': 900, 'lambda_l1': 35, 'lambda_l2': 95, 'min_gain_to_split': 1.7200177835472026, 'bagging_fraction': 0.9, 'bagging_freq': 1, 'feature_fraction': 0.9}. Best is trial 133 with value: 0.29591988295370547.\u001b[0m\n",
      "\u001b[32m[I 2021-10-12 00:18:04,253]\u001b[0m Trial 142 finished with value: 0.29598552311583354 and parameters: {'n_estimators': 1000, 'learning_rate': 0.029851024392091974, 'num_leaves': 140, 'max_depth': 11, 'min_data_in_leaf': 400, 'lambda_l1': 35, 'lambda_l2': 90, 'min_gain_to_split': 1.7371600166377643, 'bagging_fraction': 0.9, 'bagging_freq': 1, 'feature_fraction': 0.9}. Best is trial 142 with value: 0.29598552311583354.\u001b[0m\n",
      "\u001b[32m[I 2021-10-12 00:18:49,062]\u001b[0m Trial 143 finished with value: 0.29043809260048725 and parameters: {'n_estimators': 950, 'learning_rate': 0.03914012475165002, 'num_leaves': 260, 'max_depth': 11, 'min_data_in_leaf': 200, 'lambda_l1': 35, 'lambda_l2': 90, 'min_gain_to_split': 2.359408834098878, 'bagging_fraction': 0.9, 'bagging_freq': 1, 'feature_fraction': 0.9}. Best is trial 142 with value: 0.29598552311583354.\u001b[0m\n",
      "\u001b[32m[I 2021-10-12 00:19:28,282]\u001b[0m Trial 144 finished with value: 0.28540811112698533 and parameters: {'n_estimators': 950, 'learning_rate': 0.04083979886694622, 'num_leaves': 240, 'max_depth': 10, 'min_data_in_leaf': 600, 'lambda_l1': 35, 'lambda_l2': 90, 'min_gain_to_split': 2.432324130269315, 'bagging_fraction': 0.9, 'bagging_freq': 1, 'feature_fraction': 0.30000000000000004}. Best is trial 142 with value: 0.29598552311583354.\u001b[0m\n",
      "\u001b[32m[I 2021-10-12 00:20:20,869]\u001b[0m Trial 145 finished with value: 0.2946330056387055 and parameters: {'n_estimators': 950, 'learning_rate': 0.03527858476318636, 'num_leaves': 280, 'max_depth': 11, 'min_data_in_leaf': 200, 'lambda_l1': 35, 'lambda_l2': 95, 'min_gain_to_split': 1.8610117296471251, 'bagging_fraction': 0.9, 'bagging_freq': 1, 'feature_fraction': 0.9}. Best is trial 142 with value: 0.29598552311583354.\u001b[0m\n",
      "\u001b[32m[I 2021-10-12 00:21:04,843]\u001b[0m Trial 146 finished with value: 0.29678033177527025 and parameters: {'n_estimators': 1000, 'learning_rate': 0.04352522033166312, 'num_leaves': 20, 'max_depth': 12, 'min_data_in_leaf': 300, 'lambda_l1': 35, 'lambda_l2': 90, 'min_gain_to_split': 1.548122366341838, 'bagging_fraction': 0.9, 'bagging_freq': 1, 'feature_fraction': 0.5}. Best is trial 146 with value: 0.29678033177527025.\u001b[0m\n",
      "\u001b[32m[I 2021-10-12 00:21:57,029]\u001b[0m Trial 147 finished with value: 0.3020338140312329 and parameters: {'n_estimators': 950, 'learning_rate': 0.040322981927820314, 'num_leaves': 280, 'max_depth': 12, 'min_data_in_leaf': 200, 'lambda_l1': 35, 'lambda_l2': 95, 'min_gain_to_split': 1.6253662806232483, 'bagging_fraction': 0.9, 'bagging_freq': 1, 'feature_fraction': 0.5}. Best is trial 147 with value: 0.3020338140312329.\u001b[0m\n",
      "\u001b[32m[I 2021-10-12 00:22:44,925]\u001b[0m Trial 148 finished with value: 0.29329209547289264 and parameters: {'n_estimators': 900, 'learning_rate': 0.042537476006134486, 'num_leaves': 300, 'max_depth': 12, 'min_data_in_leaf': 200, 'lambda_l1': 35, 'lambda_l2': 95, 'min_gain_to_split': 1.6054012974454759, 'bagging_fraction': 0.8, 'bagging_freq': 1, 'feature_fraction': 0.5}. Best is trial 147 with value: 0.3020338140312329.\u001b[0m\n",
      "\u001b[32m[I 2021-10-12 00:23:37,849]\u001b[0m Trial 149 finished with value: 0.29421477467364265 and parameters: {'n_estimators': 950, 'learning_rate': 0.044635290466359376, 'num_leaves': 280, 'max_depth': 12, 'min_data_in_leaf': 200, 'lambda_l1': 30, 'lambda_l2': 90, 'min_gain_to_split': 1.3884243110907455, 'bagging_fraction': 0.8, 'bagging_freq': 1, 'feature_fraction': 0.5}. Best is trial 147 with value: 0.3020338140312329.\u001b[0m\n",
      "\u001b[32m[I 2021-10-12 00:23:50,193]\u001b[0m Trial 150 finished with value: 0.2248231574737106 and parameters: {'n_estimators': 900, 'learning_rate': 0.04305674568555431, 'num_leaves': 320, 'max_depth': 12, 'min_data_in_leaf': 6000, 'lambda_l1': 30, 'lambda_l2': 85, 'min_gain_to_split': 1.4859336329435768, 'bagging_fraction': 0.8, 'bagging_freq': 1, 'feature_fraction': 0.5}. Best is trial 147 with value: 0.3020338140312329.\u001b[0m\n",
      "\u001b[32m[I 2021-10-12 00:25:01,188]\u001b[0m Trial 151 finished with value: 0.2910310144942332 and parameters: {'n_estimators': 950, 'learning_rate': 0.03835656502539256, 'num_leaves': 280, 'max_depth': 12, 'min_data_in_leaf': 200, 'lambda_l1': 35, 'lambda_l2': 90, 'min_gain_to_split': 0.9003253007500628, 'bagging_fraction': 0.8, 'bagging_freq': 1, 'feature_fraction': 0.5}. Best is trial 147 with value: 0.3020338140312329.\u001b[0m\n",
      "\u001b[32m[I 2021-10-12 00:26:11,561]\u001b[0m Trial 152 finished with value: 0.29062375825100456 and parameters: {'n_estimators': 950, 'learning_rate': 0.036586242343651994, 'num_leaves': 280, 'max_depth': 12, 'min_data_in_leaf': 200, 'lambda_l1': 30, 'lambda_l2': 95, 'min_gain_to_split': 0.7697994573587252, 'bagging_fraction': 0.8, 'bagging_freq': 1, 'feature_fraction': 0.5}. Best is trial 147 with value: 0.3020338140312329.\u001b[0m\n",
      "\u001b[32m[I 2021-10-12 00:27:10,550]\u001b[0m Trial 153 finished with value: 0.2915570404569924 and parameters: {'n_estimators': 950, 'learning_rate': 0.04358207536072537, 'num_leaves': 300, 'max_depth': 12, 'min_data_in_leaf': 200, 'lambda_l1': 40, 'lambda_l2': 90, 'min_gain_to_split': 0.7130084483287562, 'bagging_fraction': 0.8, 'bagging_freq': 1, 'feature_fraction': 0.5}. Best is trial 147 with value: 0.3020338140312329.\u001b[0m\n",
      "\u001b[32m[I 2021-10-12 00:28:09,954]\u001b[0m Trial 154 finished with value: 0.29459116652660206 and parameters: {'n_estimators': 900, 'learning_rate': 0.04363168863229116, 'num_leaves': 340, 'max_depth': 12, 'min_data_in_leaf': 200, 'lambda_l1': 45, 'lambda_l2': 90, 'min_gain_to_split': 0.3730843339185772, 'bagging_fraction': 0.8, 'bagging_freq': 1, 'feature_fraction': 0.5}. Best is trial 147 with value: 0.3020338140312329.\u001b[0m\n",
      "\u001b[32m[I 2021-10-12 00:28:51,021]\u001b[0m Trial 155 finished with value: 0.2904613260876665 and parameters: {'n_estimators': 900, 'learning_rate': 0.04454313748210785, 'num_leaves': 340, 'max_depth': 12, 'min_data_in_leaf': 600, 'lambda_l1': 45, 'lambda_l2': 90, 'min_gain_to_split': 0.39865905347764286, 'bagging_fraction': 0.8, 'bagging_freq': 1, 'feature_fraction': 0.5}. Best is trial 147 with value: 0.3020338140312329.\u001b[0m\n",
      "\u001b[32m[I 2021-10-12 00:29:30,938]\u001b[0m Trial 156 finished with value: 0.2887529103783022 and parameters: {'n_estimators': 850, 'learning_rate': 0.04445311380695594, 'num_leaves': 220, 'max_depth': 12, 'min_data_in_leaf': 500, 'lambda_l1': 40, 'lambda_l2': 85, 'min_gain_to_split': 1.127243155126333, 'bagging_fraction': 0.8, 'bagging_freq': 1, 'feature_fraction': 0.5}. Best is trial 147 with value: 0.3020338140312329.\u001b[0m\n",
      "\u001b[32m[I 2021-10-12 00:30:11,824]\u001b[0m Trial 157 finished with value: 0.29600718648707164 and parameters: {'n_estimators': 900, 'learning_rate': 0.058694912590522244, 'num_leaves': 80, 'max_depth': 12, 'min_data_in_leaf': 200, 'lambda_l1': 45, 'lambda_l2': 95, 'min_gain_to_split': 1.7990504217988212, 'bagging_fraction': 0.8, 'bagging_freq': 1, 'feature_fraction': 0.5}. Best is trial 147 with value: 0.3020338140312329.\u001b[0m\n",
      "\u001b[32m[I 2021-10-12 00:30:47,063]\u001b[0m Trial 158 finished with value: 0.28963082954826513 and parameters: {'n_estimators': 900, 'learning_rate': 0.05786666734477822, 'num_leaves': 60, 'max_depth': 12, 'min_data_in_leaf': 400, 'lambda_l1': 45, 'lambda_l2': 90, 'min_gain_to_split': 1.8320458761210916, 'bagging_fraction': 0.8, 'bagging_freq': 1, 'feature_fraction': 0.5}. Best is trial 147 with value: 0.3020338140312329.\u001b[0m\n",
      "\u001b[32m[I 2021-10-12 00:31:40,520]\u001b[0m Trial 159 finished with value: 0.29605635572761974 and parameters: {'n_estimators': 900, 'learning_rate': 0.03305970913611606, 'num_leaves': 180, 'max_depth': 12, 'min_data_in_leaf': 200, 'lambda_l1': 40, 'lambda_l2': 85, 'min_gain_to_split': 1.3136198329868405, 'bagging_fraction': 0.8, 'bagging_freq': 1, 'feature_fraction': 0.5}. Best is trial 147 with value: 0.3020338140312329.\u001b[0m\n"
     ]
    },
    {
     "name": "stderr",
     "output_type": "stream",
     "text": [
      "\u001b[32m[I 2021-10-12 00:32:38,869]\u001b[0m Trial 160 finished with value: 0.30111212435388457 and parameters: {'n_estimators': 850, 'learning_rate': 0.03305610543440238, 'num_leaves': 200, 'max_depth': 12, 'min_data_in_leaf': 200, 'lambda_l1': 50, 'lambda_l2': 95, 'min_gain_to_split': 0.28629002456311925, 'bagging_fraction': 0.8, 'bagging_freq': 1, 'feature_fraction': 0.5}. Best is trial 147 with value: 0.3020338140312329.\u001b[0m\n",
      "\u001b[32m[I 2021-10-12 00:33:40,047]\u001b[0m Trial 161 finished with value: 0.2953120943303755 and parameters: {'n_estimators': 900, 'learning_rate': 0.03332793001303819, 'num_leaves': 180, 'max_depth': 12, 'min_data_in_leaf': 200, 'lambda_l1': 50, 'lambda_l2': 95, 'min_gain_to_split': 0.36466998680261914, 'bagging_fraction': 0.8, 'bagging_freq': 1, 'feature_fraction': 0.5}. Best is trial 147 with value: 0.3020338140312329.\u001b[0m\n",
      "\u001b[32m[I 2021-10-12 00:34:17,891]\u001b[0m Trial 162 finished with value: 0.2840893394683396 and parameters: {'n_estimators': 850, 'learning_rate': 0.03354264950194338, 'num_leaves': 220, 'max_depth': 12, 'min_data_in_leaf': 500, 'lambda_l1': 50, 'lambda_l2': 95, 'min_gain_to_split': 1.4549136465028205, 'bagging_fraction': 0.8, 'bagging_freq': 1, 'feature_fraction': 0.5}. Best is trial 147 with value: 0.3020338140312329.\u001b[0m\n",
      "\u001b[32m[I 2021-10-12 00:35:19,323]\u001b[0m Trial 163 finished with value: 0.29623441398809774 and parameters: {'n_estimators': 900, 'learning_rate': 0.03019896002525813, 'num_leaves': 160, 'max_depth': 12, 'min_data_in_leaf': 200, 'lambda_l1': 50, 'lambda_l2': 95, 'min_gain_to_split': 0.44891593476815045, 'bagging_fraction': 0.8, 'bagging_freq': 1, 'feature_fraction': 0.5}. Best is trial 147 with value: 0.3020338140312329.\u001b[0m\n",
      "\u001b[32m[I 2021-10-12 00:36:16,921]\u001b[0m Trial 164 finished with value: 0.29775551096399666 and parameters: {'n_estimators': 900, 'learning_rate': 0.03255562723709258, 'num_leaves': 180, 'max_depth': 12, 'min_data_in_leaf': 200, 'lambda_l1': 55, 'lambda_l2': 100, 'min_gain_to_split': 0.2360465262888426, 'bagging_fraction': 0.8, 'bagging_freq': 1, 'feature_fraction': 0.5}. Best is trial 147 with value: 0.3020338140312329.\u001b[0m\n",
      "\u001b[32m[I 2021-10-12 00:37:12,440]\u001b[0m Trial 165 finished with value: 0.29812823015932743 and parameters: {'n_estimators': 850, 'learning_rate': 0.030491643078649367, 'num_leaves': 180, 'max_depth': 12, 'min_data_in_leaf': 200, 'lambda_l1': 55, 'lambda_l2': 100, 'min_gain_to_split': 0.2016990328835072, 'bagging_fraction': 0.8, 'bagging_freq': 1, 'feature_fraction': 0.5}. Best is trial 147 with value: 0.3020338140312329.\u001b[0m\n",
      "\u001b[32m[I 2021-10-12 00:38:06,596]\u001b[0m Trial 166 finished with value: 0.2964120210393877 and parameters: {'n_estimators': 800, 'learning_rate': 0.03240229830524128, 'num_leaves': 180, 'max_depth': 12, 'min_data_in_leaf': 200, 'lambda_l1': 55, 'lambda_l2': 95, 'min_gain_to_split': 0.15790788313069323, 'bagging_fraction': 0.8, 'bagging_freq': 1, 'feature_fraction': 0.5}. Best is trial 147 with value: 0.3020338140312329.\u001b[0m\n",
      "\u001b[32m[I 2021-10-12 00:39:00,336]\u001b[0m Trial 167 finished with value: 0.29986667288579055 and parameters: {'n_estimators': 850, 'learning_rate': 0.03531788141653787, 'num_leaves': 180, 'max_depth': 12, 'min_data_in_leaf': 200, 'lambda_l1': 55, 'lambda_l2': 100, 'min_gain_to_split': 0.24288890916259853, 'bagging_fraction': 0.8, 'bagging_freq': 1, 'feature_fraction': 0.5}. Best is trial 147 with value: 0.3020338140312329.\u001b[0m\n",
      "\u001b[32m[I 2021-10-12 00:39:54,255]\u001b[0m Trial 168 finished with value: 0.29612563826247057 and parameters: {'n_estimators': 800, 'learning_rate': 0.035587705391745, 'num_leaves': 160, 'max_depth': 12, 'min_data_in_leaf': 200, 'lambda_l1': 55, 'lambda_l2': 100, 'min_gain_to_split': 0.06271325363935884, 'bagging_fraction': 0.8, 'bagging_freq': 1, 'feature_fraction': 0.5}. Best is trial 147 with value: 0.3020338140312329.\u001b[0m\n",
      "\u001b[32m[I 2021-10-12 00:40:46,039]\u001b[0m Trial 169 finished with value: 0.2995282529068518 and parameters: {'n_estimators': 800, 'learning_rate': 0.0357306513092652, 'num_leaves': 180, 'max_depth': 12, 'min_data_in_leaf': 200, 'lambda_l1': 55, 'lambda_l2': 100, 'min_gain_to_split': 0.32281089408403935, 'bagging_fraction': 0.8, 'bagging_freq': 1, 'feature_fraction': 0.5}. Best is trial 147 with value: 0.3020338140312329.\u001b[0m\n",
      "\u001b[32m[I 2021-10-12 00:41:20,075]\u001b[0m Trial 170 finished with value: 0.28233897772811334 and parameters: {'n_estimators': 750, 'learning_rate': 0.034809575757284154, 'num_leaves': 160, 'max_depth': 12, 'min_data_in_leaf': 600, 'lambda_l1': 55, 'lambda_l2': 100, 'min_gain_to_split': 0.150526840206838, 'bagging_fraction': 0.8, 'bagging_freq': 1, 'feature_fraction': 0.6000000000000001}. Best is trial 147 with value: 0.3020338140312329.\u001b[0m\n",
      "\u001b[32m[I 2021-10-12 00:42:12,995]\u001b[0m Trial 171 finished with value: 0.30123987058178764 and parameters: {'n_estimators': 800, 'learning_rate': 0.03583834168917616, 'num_leaves': 180, 'max_depth': 12, 'min_data_in_leaf': 200, 'lambda_l1': 55, 'lambda_l2': 100, 'min_gain_to_split': 0.4226209010307459, 'bagging_fraction': 0.8, 'bagging_freq': 1, 'feature_fraction': 0.5}. Best is trial 147 with value: 0.3020338140312329.\u001b[0m\n",
      "\u001b[32m[I 2021-10-12 00:43:16,095]\u001b[0m Trial 172 finished with value: 0.3007673222073374 and parameters: {'n_estimators': 800, 'learning_rate': 0.032104330272397105, 'num_leaves': 180, 'max_depth': 12, 'min_data_in_leaf': 200, 'lambda_l1': 55, 'lambda_l2': 100, 'min_gain_to_split': 0.020280522967665637, 'bagging_fraction': 0.8, 'bagging_freq': 1, 'feature_fraction': 0.5}. Best is trial 147 with value: 0.3020338140312329.\u001b[0m\n",
      "\u001b[32m[I 2021-10-12 00:43:53,150]\u001b[0m Trial 173 finished with value: 0.282135951936923 and parameters: {'n_estimators': 800, 'learning_rate': 0.029565444094039356, 'num_leaves': 160, 'max_depth': 12, 'min_data_in_leaf': 600, 'lambda_l1': 60, 'lambda_l2': 100, 'min_gain_to_split': 0.011877864770110047, 'bagging_fraction': 0.8, 'bagging_freq': 1, 'feature_fraction': 0.5}. Best is trial 147 with value: 0.3020338140312329.\u001b[0m\n",
      "\u001b[32m[I 2021-10-12 00:45:56,197]\u001b[0m Trial 174 finished with value: 0.29024462718776045 and parameters: {'n_estimators': 800, 'learning_rate': 0.03493697140701706, 'num_leaves': 180, 'max_depth': 12, 'min_data_in_leaf': 400, 'lambda_l1': 55, 'lambda_l2': 100, 'min_gain_to_split': 0.27382589039129324, 'bagging_fraction': 0.8, 'bagging_freq': 1, 'feature_fraction': 0.5}. Best is trial 147 with value: 0.3020338140312329.\u001b[0m\n",
      "\u001b[32m[I 2021-10-12 00:46:47,996]\u001b[0m Trial 175 finished with value: 0.2924388835285663 and parameters: {'n_estimators': 750, 'learning_rate': 0.03202184199366724, 'num_leaves': 80, 'max_depth': 12, 'min_data_in_leaf': 200, 'lambda_l1': 60, 'lambda_l2': 100, 'min_gain_to_split': 0.48095045804412573, 'bagging_fraction': 0.8, 'bagging_freq': 1, 'feature_fraction': 0.4}. Best is trial 147 with value: 0.3020338140312329.\u001b[0m\n",
      "\u001b[32m[I 2021-10-12 00:47:27,616]\u001b[0m Trial 176 finished with value: 0.2819657952223777 and parameters: {'n_estimators': 850, 'learning_rate': 0.0321503032006422, 'num_leaves': 180, 'max_depth': 12, 'min_data_in_leaf': 600, 'lambda_l1': 55, 'lambda_l2': 100, 'min_gain_to_split': 1.0084153233017794, 'bagging_fraction': 0.8, 'bagging_freq': 1, 'feature_fraction': 0.5}. Best is trial 147 with value: 0.3020338140312329.\u001b[0m\n",
      "\u001b[32m[I 2021-10-12 00:47:52,308]\u001b[0m Trial 177 finished with value: 0.27053881270319424 and parameters: {'n_estimators': 800, 'learning_rate': 0.20192098630499122, 'num_leaves': 80, 'max_depth': 12, 'min_data_in_leaf': 400, 'lambda_l1': 55, 'lambda_l2': 100, 'min_gain_to_split': 0.5639704497694642, 'bagging_fraction': 0.8, 'bagging_freq': 1, 'feature_fraction': 0.5}. Best is trial 147 with value: 0.3020338140312329.\u001b[0m\n",
      "\u001b[32m[I 2021-10-12 00:48:50,530]\u001b[0m Trial 178 finished with value: 0.30088977460385624 and parameters: {'n_estimators': 800, 'learning_rate': 0.03845168901430015, 'num_leaves': 120, 'max_depth': 12, 'min_data_in_leaf': 200, 'lambda_l1': 50, 'lambda_l2': 100, 'min_gain_to_split': 0.029414980553198633, 'bagging_fraction': 0.8, 'bagging_freq': 1, 'feature_fraction': 0.5}. Best is trial 147 with value: 0.3020338140312329.\u001b[0m\n",
      "\u001b[32m[I 2021-10-12 00:49:28,846]\u001b[0m Trial 179 finished with value: 0.28034173251321665 and parameters: {'n_estimators': 800, 'learning_rate': 0.028807956511924606, 'num_leaves': 20, 'max_depth': 12, 'min_data_in_leaf': 700, 'lambda_l1': 55, 'lambda_l2': 100, 'min_gain_to_split': 0.13981523023435316, 'bagging_fraction': 0.8, 'bagging_freq': 1, 'feature_fraction': 0.6000000000000001}. Best is trial 147 with value: 0.3020338140312329.\u001b[0m\n"
     ]
    },
    {
     "name": "stderr",
     "output_type": "stream",
     "text": [
      "\u001b[32m[I 2021-10-12 00:50:03,715]\u001b[0m Trial 180 finished with value: 0.28213692179710415 and parameters: {'n_estimators': 750, 'learning_rate': 0.039295620209079674, 'num_leaves': 120, 'max_depth': 12, 'min_data_in_leaf': 500, 'lambda_l1': 65, 'lambda_l2': 100, 'min_gain_to_split': 0.7648629883053435, 'bagging_fraction': 0.8, 'bagging_freq': 1, 'feature_fraction': 0.5}. Best is trial 147 with value: 0.3020338140312329.\u001b[0m\n",
      "\u001b[32m[I 2021-10-12 00:51:10,951]\u001b[0m Trial 181 finished with value: 0.30480910140171164 and parameters: {'n_estimators': 850, 'learning_rate': 0.03704841334017169, 'num_leaves': 200, 'max_depth': 12, 'min_data_in_leaf': 200, 'lambda_l1': 50, 'lambda_l2': 100, 'min_gain_to_split': 0.3217655057990588, 'bagging_fraction': 0.8, 'bagging_freq': 1, 'feature_fraction': 0.5}. Best is trial 181 with value: 0.30480910140171164.\u001b[0m\n",
      "\u001b[32m[I 2021-10-12 00:51:40,613]\u001b[0m Trial 182 finished with value: 0.24470092471309654 and parameters: {'n_estimators': 850, 'learning_rate': 0.25292279036804594, 'num_leaves': 200, 'max_depth': 12, 'min_data_in_leaf': 400, 'lambda_l1': 50, 'lambda_l2': 100, 'min_gain_to_split': 0.012154840691753543, 'bagging_fraction': 0.8, 'bagging_freq': 1, 'feature_fraction': 0.5}. Best is trial 181 with value: 0.30480910140171164.\u001b[0m\n",
      "\u001b[32m[I 2021-10-12 00:52:25,559]\u001b[0m Trial 183 finished with value: 0.295774690724247 and parameters: {'n_estimators': 750, 'learning_rate': 0.03859825161290178, 'num_leaves': 140, 'max_depth': 12, 'min_data_in_leaf': 200, 'lambda_l1': 60, 'lambda_l2': 100, 'min_gain_to_split': 0.5712371233604701, 'bagging_fraction': 0.8, 'bagging_freq': 1, 'feature_fraction': 0.5}. Best is trial 181 with value: 0.30480910140171164.\u001b[0m\n",
      "\u001b[32m[I 2021-10-12 00:53:00,367]\u001b[0m Trial 184 finished with value: 0.27988745868671494 and parameters: {'n_estimators': 850, 'learning_rate': 0.0284171568806265, 'num_leaves': 80, 'max_depth': 12, 'min_data_in_leaf': 700, 'lambda_l1': 50, 'lambda_l2': 100, 'min_gain_to_split': 1.1272563519252476, 'bagging_fraction': 0.8, 'bagging_freq': 1, 'feature_fraction': 0.5}. Best is trial 181 with value: 0.30480910140171164.\u001b[0m\n",
      "\u001b[32m[I 2021-10-12 00:53:23,840]\u001b[0m Trial 185 finished with value: 0.25572413810592726 and parameters: {'n_estimators': 800, 'learning_rate': 0.29148946760698125, 'num_leaves': 200, 'max_depth': 12, 'min_data_in_leaf': 400, 'lambda_l1': 50, 'lambda_l2': 95, 'min_gain_to_split': 0.30307257581912544, 'bagging_fraction': 0.8, 'bagging_freq': 1, 'feature_fraction': 0.4}. Best is trial 181 with value: 0.30480910140171164.\u001b[0m\n",
      "\u001b[32m[I 2021-10-12 00:54:04,634]\u001b[0m Trial 186 finished with value: 0.297464985053974 and parameters: {'n_estimators': 850, 'learning_rate': 0.05362669515401902, 'num_leaves': 120, 'max_depth': 12, 'min_data_in_leaf': 200, 'lambda_l1': 55, 'lambda_l2': 100, 'min_gain_to_split': 0.8376353466559361, 'bagging_fraction': 0.8, 'bagging_freq': 1, 'feature_fraction': 0.5}. Best is trial 181 with value: 0.30480910140171164.\u001b[0m\n",
      "\u001b[32m[I 2021-10-12 00:54:42,782]\u001b[0m Trial 187 finished with value: 0.286391171417988 and parameters: {'n_estimators': 850, 'learning_rate': 0.052863822599924865, 'num_leaves': 80, 'max_depth': 12, 'min_data_in_leaf': 200, 'lambda_l1': 55, 'lambda_l2': 30, 'min_gain_to_split': 0.869096259705555, 'bagging_fraction': 0.8, 'bagging_freq': 1, 'feature_fraction': 0.5}. Best is trial 181 with value: 0.30480910140171164.\u001b[0m\n",
      "\u001b[32m[I 2021-10-12 00:54:52,716]\u001b[0m Trial 188 finished with value: 0.22054620833601196 and parameters: {'n_estimators': 850, 'learning_rate': 0.056882151447392476, 'num_leaves': 140, 'max_depth': 12, 'min_data_in_leaf': 7200, 'lambda_l1': 55, 'lambda_l2': 95, 'min_gain_to_split': 0.023382644976185973, 'bagging_fraction': 0.8, 'bagging_freq': 1, 'feature_fraction': 0.5}. Best is trial 181 with value: 0.30480910140171164.\u001b[0m\n",
      "\u001b[32m[I 2021-10-12 00:55:26,747]\u001b[0m Trial 189 finished with value: 0.28512357460262566 and parameters: {'n_estimators': 800, 'learning_rate': 0.04883076600523348, 'num_leaves': 40, 'max_depth': 12, 'min_data_in_leaf': 600, 'lambda_l1': 60, 'lambda_l2': 100, 'min_gain_to_split': 0.7138942130536122, 'bagging_fraction': 0.8, 'bagging_freq': 1, 'feature_fraction': 0.5}. Best is trial 181 with value: 0.30480910140171164.\u001b[0m\n",
      "\u001b[32m[I 2021-10-12 00:56:24,877]\u001b[0m Trial 190 finished with value: 0.29707805070178545 and parameters: {'n_estimators': 850, 'learning_rate': 0.03892938166855624, 'num_leaves': 120, 'max_depth': 12, 'min_data_in_leaf': 200, 'lambda_l1': 55, 'lambda_l2': 95, 'min_gain_to_split': 0.38659052776418584, 'bagging_fraction': 0.8, 'bagging_freq': 1, 'feature_fraction': 0.5}. Best is trial 181 with value: 0.30480910140171164.\u001b[0m\n",
      "\u001b[32m[I 2021-10-12 00:57:17,849]\u001b[0m Trial 191 finished with value: 0.29381202457491407 and parameters: {'n_estimators': 850, 'learning_rate': 0.038426491127229435, 'num_leaves': 160, 'max_depth': 12, 'min_data_in_leaf': 200, 'lambda_l1': 55, 'lambda_l2': 95, 'min_gain_to_split': 0.3936316775754534, 'bagging_fraction': 0.8, 'bagging_freq': 1, 'feature_fraction': 0.5}. Best is trial 181 with value: 0.30480910140171164.\u001b[0m\n",
      "\u001b[32m[I 2021-10-12 00:58:02,480]\u001b[0m Trial 192 finished with value: 0.2933087623847678 and parameters: {'n_estimators': 800, 'learning_rate': 0.03846863755574134, 'num_leaves': 120, 'max_depth': 12, 'min_data_in_leaf': 400, 'lambda_l1': 55, 'lambda_l2': 100, 'min_gain_to_split': 0.32563362671862534, 'bagging_fraction': 0.8, 'bagging_freq': 1, 'feature_fraction': 0.5}. Best is trial 181 with value: 0.30480910140171164.\u001b[0m\n",
      "\u001b[32m[I 2021-10-12 00:58:59,520]\u001b[0m Trial 193 finished with value: 0.29841427844252183 and parameters: {'n_estimators': 800, 'learning_rate': 0.029283380184188936, 'num_leaves': 220, 'max_depth': 12, 'min_data_in_leaf': 200, 'lambda_l1': 50, 'lambda_l2': 95, 'min_gain_to_split': 1.050729388463402, 'bagging_fraction': 0.8, 'bagging_freq': 1, 'feature_fraction': 0.5}. Best is trial 181 with value: 0.30480910140171164.\u001b[0m\n",
      "\u001b[32m[I 2021-10-12 00:59:16,082]\u001b[0m Trial 194 finished with value: 0.2310912065424834 and parameters: {'n_estimators': 750, 'learning_rate': 0.04773388737655824, 'num_leaves': 2540, 'max_depth': 12, 'min_data_in_leaf': 4900, 'lambda_l1': 50, 'lambda_l2': 100, 'min_gain_to_split': 1.0334768521737807, 'bagging_fraction': 0.8, 'bagging_freq': 1, 'feature_fraction': 0.5}. Best is trial 181 with value: 0.30480910140171164.\u001b[0m\n",
      "\u001b[32m[I 2021-10-12 01:00:06,398]\u001b[0m Trial 195 finished with value: 0.28948994585322163 and parameters: {'n_estimators': 850, 'learning_rate': 0.03064937761548833, 'num_leaves': 200, 'max_depth': 12, 'min_data_in_leaf': 200, 'lambda_l1': 50, 'lambda_l2': 95, 'min_gain_to_split': 1.1947348379410148, 'bagging_fraction': 0.8, 'bagging_freq': 1, 'feature_fraction': 0.5}. Best is trial 181 with value: 0.30480910140171164.\u001b[0m\n",
      "\u001b[32m[I 2021-10-12 01:00:56,786]\u001b[0m Trial 196 finished with value: 0.2821759017173632 and parameters: {'n_estimators': 800, 'learning_rate': 0.039267609376944304, 'num_leaves': 1380, 'max_depth': 12, 'min_data_in_leaf': 600, 'lambda_l1': 65, 'lambda_l2': 100, 'min_gain_to_split': 0.5869199434787693, 'bagging_fraction': 0.8, 'bagging_freq': 1, 'feature_fraction': 0.5}. Best is trial 181 with value: 0.30480910140171164.\u001b[0m\n",
      "\u001b[32m[I 2021-10-12 01:01:40,340]\u001b[0m Trial 197 finished with value: 0.2915949349475243 and parameters: {'n_estimators': 850, 'learning_rate': 0.05354856152606019, 'num_leaves': 220, 'max_depth': 12, 'min_data_in_leaf': 200, 'lambda_l1': 60, 'lambda_l2': 95, 'min_gain_to_split': 0.7714172870617027, 'bagging_fraction': 0.8, 'bagging_freq': 1, 'feature_fraction': 0.6000000000000001}. Best is trial 181 with value: 0.30480910140171164.\u001b[0m\n",
      "\u001b[32m[I 2021-10-12 01:02:18,639]\u001b[0m Trial 198 finished with value: 0.2895930779025143 and parameters: {'n_estimators': 800, 'learning_rate': 0.035515327579978266, 'num_leaves': 20, 'max_depth': 12, 'min_data_in_leaf': 400, 'lambda_l1': 55, 'lambda_l2': 100, 'min_gain_to_split': 0.2871538195558464, 'bagging_fraction': 0.8, 'bagging_freq': 1, 'feature_fraction': 0.4}. Best is trial 181 with value: 0.30480910140171164.\u001b[0m\n",
      "\u001b[32m[I 2021-10-12 01:03:07,060]\u001b[0m Trial 199 finished with value: 0.2757213358134755 and parameters: {'n_estimators': 800, 'learning_rate': 0.029559459955524885, 'num_leaves': 1900, 'max_depth': 12, 'min_data_in_leaf': 700, 'lambda_l1': 55, 'lambda_l2': 95, 'min_gain_to_split': 1.2562199367943099, 'bagging_fraction': 0.8, 'bagging_freq': 1, 'feature_fraction': 0.5}. Best is trial 181 with value: 0.30480910140171164.\u001b[0m\n"
     ]
    },
    {
     "name": "stdout",
     "output_type": "stream",
     "text": [
      "CPU times: user 8.82 s, sys: 2.58 s, total: 11.4 s\n",
      "Wall time: 1h 43min 33s\n"
     ]
    }
   ],
   "source": [
    "%%time\n",
    "# optuna hyperparemter optimization study with 200 trials\n",
    "study = optuna.create_study(direction='maximize', study_name=\"LGBM Classifier 1\")\n",
    "study.optimize(objective, n_trials=200)"
   ]
  },
  {
   "cell_type": "code",
   "execution_count": 60,
   "id": "f8f76c98",
   "metadata": {},
   "outputs": [
    {
     "name": "stdout",
     "output_type": "stream",
     "text": [
      "F2: 0.30480910140171164\n",
      "Best hyperparameters: {'n_estimators': 850, 'learning_rate': 0.03704841334017169, 'num_leaves': 200, 'max_depth': 12, 'min_data_in_leaf': 200, 'lambda_l1': 50, 'lambda_l2': 100, 'min_gain_to_split': 0.3217655057990588, 'bagging_fraction': 0.8, 'bagging_freq': 1, 'feature_fraction': 0.5}\n"
     ]
    }
   ],
   "source": [
    "# get results/settings from best trial\n",
    "trial_1_best = study.best_trial\n",
    "print('F2: {}'.format(trial_1_best.value))\n",
    "print(\"Best hyperparameters: {}\".format(trial_1_best.params))\n",
    "trial_1_best_params = study.best_params"
   ]
  },
  {
   "cell_type": "code",
   "execution_count": 61,
   "id": "37eb4e01",
   "metadata": {},
   "outputs": [
    {
     "name": "stdout",
     "output_type": "stream",
     "text": [
      "[LightGBM] [Warning] bagging_freq is set=1, subsample_freq=0 will be ignored. Current value: bagging_freq=1\n",
      "[LightGBM] [Warning] lambda_l1 is set=50, reg_alpha=0.0 will be ignored. Current value: lambda_l1=50\n",
      "[LightGBM] [Warning] min_data_in_leaf is set=200, min_child_samples=20 will be ignored. Current value: min_data_in_leaf=200\n",
      "[LightGBM] [Warning] min_gain_to_split is set=0.3217655057990588, min_split_gain=0.0 will be ignored. Current value: min_gain_to_split=0.3217655057990588\n",
      "[LightGBM] [Warning] feature_fraction is set=0.5, colsample_bytree=1.0 will be ignored. Current value: feature_fraction=0.5\n",
      "[LightGBM] [Warning] bagging_fraction is set=0.8, subsample=1.0 will be ignored. Current value: bagging_fraction=0.8\n",
      "[LightGBM] [Warning] lambda_l2 is set=100, reg_lambda=0.0 will be ignored. Current value: lambda_l2=100\n",
      "----- EVAL METRICS -----\n",
      "Precision: 0.1189\n",
      "Recall: 0.4277\n",
      "F2: 0.2815\n"
     ]
    },
    {
     "data": {
      "image/png": "[encoded data removed]",
      "text/plain": [
       "<Figure size 432x288 with 2 Axes>"
      ]
     },
     "metadata": {
      "needs_background": "light"
     },
     "output_type": "display_data"
    },
    {
     "data": {
      "image/png": "[encoded data removed]",
      "text/plain": [
       "<Figure size 432x288 with 2 Axes>"
      ]
     },
     "metadata": {
      "needs_background": "light"
     },
     "output_type": "display_data"
    }
   ],
   "source": [
    "#evaulate model trained on best settings\n",
    "evaluate_model_lgb(trial_1_best_params, X_train_sub_dummies, y_train_sub, X_val_dummies, y_val)"
   ]
  },
  {
   "cell_type": "markdown",
   "id": "c320bdc0",
   "metadata": {},
   "source": [
    "After hyperparameter tuning with optuna, the LightGBM model performs even better than before. This is the best performing model by far, so we will move forward with it. But first, let's see the feature importances in the model:"
   ]
  },
  {
   "cell_type": "code",
   "execution_count": null,
   "id": "06a455c6",
   "metadata": {},
   "outputs": [],
   "source": [
    "type(pipeline)"
   ]
  },
  {
   "cell_type": "code",
   "execution_count": 62,
   "id": "44007dd8",
   "metadata": {},
   "outputs": [
    {
     "name": "stdout",
     "output_type": "stream",
     "text": [
      "[LightGBM] [Warning] bagging_freq is set=1, subsample_freq=0 will be ignored. Current value: bagging_freq=1\n",
      "[LightGBM] [Warning] lambda_l1 is set=50, reg_alpha=0.0 will be ignored. Current value: lambda_l1=50\n",
      "[LightGBM] [Warning] min_data_in_leaf is set=200, min_child_samples=20 will be ignored. Current value: min_data_in_leaf=200\n",
      "[LightGBM] [Warning] min_gain_to_split is set=0.3217655057990588, min_split_gain=0.0 will be ignored. Current value: min_gain_to_split=0.3217655057990588\n",
      "[LightGBM] [Warning] feature_fraction is set=0.5, colsample_bytree=1.0 will be ignored. Current value: feature_fraction=0.5\n",
      "[LightGBM] [Warning] bagging_fraction is set=0.8, subsample=1.0 will be ignored. Current value: bagging_fraction=0.8\n",
      "[LightGBM] [Warning] lambda_l2 is set=100, reg_lambda=0.0 will be ignored. Current value: lambda_l2=100\n"
     ]
    }
   ],
   "source": [
    "lgbm = LGBMClassifier(is_unbalance=True, **trial_1_best_params)\n",
    "\n",
    "scale=MinMaxScaler()\n",
    "X_train_dummies_scaled = scale.fit_transform(X_train_dummies)\n",
    "X_test_dummies_scaled = scale.transform(X_test_dummies)\n",
    "\n",
    "result_lgbm = lgbm.fit(X_train_dummies_scaled,y_train)\n",
    "\n",
    "feat_importance = result_lgbm.feature_importances_\n",
    "col_names = X_train_dummies.columns\n",
    "lgbm_importances = pd.DataFrame({'col_name':col_names, 'Importance':feat_importance}).sort_values('Importance', ascending=False)"
   ]
  },
  {
   "cell_type": "code",
   "execution_count": 63,
   "id": "592e0f6b",
   "metadata": {},
   "outputs": [
    {
     "data": {
      "image/png": "[encoded data removed]",
      "text/plain": [
       "<Figure size 360x720 with 1 Axes>"
      ]
     },
     "metadata": {
      "needs_background": "light"
     },
     "output_type": "display_data"
    }
   ],
   "source": [
    "#plot feature importance\n",
    "fig, ax = plt.subplots(figsize=(5,10))\n",
    "sns.barplot(ax=ax, data=lgb_importances, x='Importance', y=\"col_name\")\n",
    "ax.set_title('Feature Importance for LightGBM Model')\n",
    "ax.set_ylabel('Feature Name')\n",
    "ax.set_xlabel('Importance');"
   ]
  },
  {
   "cell_type": "markdown",
   "id": "8810d65a",
   "metadata": {},
   "source": [
    "Feature importances are similar to the first LightGBM model."
   ]
  },
  {
   "cell_type": "markdown",
   "id": "874cf0ec",
   "metadata": {},
   "source": [
    "# Model Evaluation"
   ]
  },
  {
   "cell_type": "code",
   "execution_count": 78,
   "id": "adfab3c8",
   "metadata": {},
   "outputs": [],
   "source": [
    "# collect best estimators\n",
    "LR = pipeline_lg1 #\n",
    "RF = RF_secondary_parameters_GS2.best_estimator_\n",
    "RF_SMOTE = grid_result_RFss.best_estimator_\n",
    "XGB = grid_result_xgb.best_estimator_\n",
    "XGB_SMOTE = grid_result_xgbos.best_estimator_\n",
    "LGBM = grid_result_lgb.best_estimator_\n",
    "LGBM_SMOTE = grid_result_lgb_os.best_estimator_\n",
    "\n",
    "# LGBM_Optuna classifier into pipeline\n",
    "encode = ColumnTransformer(transformers=[('cat', OneHotEncoder(), [15,16,17])], remainder='passthrough' )\n",
    "lgbm = LGBMClassifier(is_unbalance=True, **trial_1_best_params)\n",
    "steps = [('encode', encode), ('model', lgbm)]\n",
    "LGBM_Optuna = Pipeline(steps=steps)"
   ]
  },
  {
   "cell_type": "code",
   "execution_count": 82,
   "id": "daa139ca",
   "metadata": {},
   "outputs": [],
   "source": [
    "#dict of models to evaluate\n",
    "estimator_list = [LR, RF, RF_SMOTE, XGB, XGB_SMOTE, LGBM, LGBM_SMOTE, LGBM_Optuna]\n",
    "estimator_names = ['LR', 'RF', 'RF_SMOTE', 'XGB', 'XGB_SMOTE', 'LGBM', 'LGBM_SMOTE', 'LGBM_Optuna']\n",
    "estimators = dict(zip(estimator_names,estimator_list))"
   ]
  },
  {
   "cell_type": "code",
   "execution_count": 83,
   "id": "23151798",
   "metadata": {},
   "outputs": [
    {
     "name": "stdout",
     "output_type": "stream",
     "text": [
      "<<<<< LR >>>>>\n",
      "----- CV MEAN -----\n",
      "F2: 0.23190605062951644\n",
      "Recall: 0.748189484126984\n",
      "AUC: 0.7314911917676341\n",
      "----- VALIDATION -----\n",
      "F2: 0.2431372549019608\n",
      "Recall: 0.779874213836478\n",
      "AUC: 0.7487253681994003\n",
      "<<<<< RF >>>>>\n",
      "----- CV MEAN -----\n",
      "F2: 0.255258468818664\n",
      "Recall: 0.41294642857142855\n",
      "AUC: 0.6605166067906454\n",
      "----- VALIDATION -----\n",
      "F2: 0.2677224736048265\n",
      "Recall: 0.44654088050314467\n",
      "AUC: 0.6744380009962868\n",
      "<<<<< RF_SMOTE >>>>>\n",
      "----- CV MEAN -----\n",
      "F2: 0.23994286888616476\n",
      "Recall: 0.5073908730158729\n",
      "AUC: 0.6779163438057668\n",
      "----- VALIDATION -----\n",
      "F2: 0.23393461104847801\n",
      "Recall: 0.5220125786163522\n",
      "AUC: 0.6777781416275198\n",
      "<<<<< XGB >>>>>\n",
      "----- CV MEAN -----\n",
      "F2: 0.26000703915271794\n",
      "Recall: 0.5497023809523809\n",
      "AUC: 0.6994665750915751\n",
      "----- VALIDATION -----\n",
      "F2: 0.25788834951456313\n",
      "Recall: 0.5345911949685535\n",
      "AUC: 0.6941652724606099\n",
      "<<<<< XGB_SMOTE >>>>>\n",
      "----- CV MEAN -----\n",
      "F2: 0.23913640756633217\n",
      "Recall: 0.49308035714285714\n",
      "AUC: 0.6738577328120597\n",
      "----- VALIDATION -----\n",
      "F2: 0.24907749077490773\n",
      "Recall: 0.5094339622641509\n",
      "AUC: 0.6830066624195479\n",
      "[LightGBM] [Warning] bagging_fraction is set=0.4000000000000001, subsample=1.0 will be ignored. Current value: bagging_fraction=0.4000000000000001\n",
      "[LightGBM] [Warning] min_gain_to_split is set=3, min_split_gain=0.0 will be ignored. Current value: min_gain_to_split=3\n",
      "[LightGBM] [Warning] lambda_l1 is set=31, reg_alpha=0.0 will be ignored. Current value: lambda_l1=31\n",
      "<<<<< LGBM >>>>>\n",
      "----- CV MEAN -----\n",
      "F2: 0.27988136214222725\n",
      "Recall: 0.44749503968253973\n",
      "AUC: 0.6795068886775617\n",
      "----- VALIDATION -----\n",
      "F2: 0.2588235294117647\n",
      "Recall: 0.41509433962264153\n",
      "AUC: 0.6623436355733908\n",
      "[LightGBM] [Warning] bagging_fraction is set=0.9000000000000001, subsample=1.0 will be ignored. Current value: bagging_fraction=0.9000000000000001\n",
      "[LightGBM] [Warning] min_gain_to_split is set=3, min_split_gain=0.0 will be ignored. Current value: min_gain_to_split=3\n",
      "[LightGBM] [Warning] lambda_l1 is set=21, reg_alpha=0.0 will be ignored. Current value: lambda_l1=21\n",
      "<<<<< LGBM_SMOTE >>>>>\n",
      "----- CV MEAN -----\n",
      "F2: 0.2479685306131943\n",
      "Recall: 0.47596726190476185\n",
      "AUC: 0.6739599623133277\n",
      "----- VALIDATION -----\n",
      "F2: 0.24305555555555552\n",
      "Recall: 0.44025157232704404\n",
      "AUC: 0.6622210843648473\n",
      "[LightGBM] [Warning] bagging_freq is set=1, subsample_freq=0 will be ignored. Current value: bagging_freq=1\n",
      "[LightGBM] [Warning] lambda_l1 is set=50, reg_alpha=0.0 will be ignored. Current value: lambda_l1=50\n",
      "[LightGBM] [Warning] min_data_in_leaf is set=200, min_child_samples=20 will be ignored. Current value: min_data_in_leaf=200\n",
      "[LightGBM] [Warning] min_gain_to_split is set=0.3217655057990588, min_split_gain=0.0 will be ignored. Current value: min_gain_to_split=0.3217655057990588\n",
      "[LightGBM] [Warning] feature_fraction is set=0.5, colsample_bytree=1.0 will be ignored. Current value: feature_fraction=0.5\n",
      "[LightGBM] [Warning] bagging_fraction is set=0.8, subsample=1.0 will be ignored. Current value: bagging_fraction=0.8\n",
      "[LightGBM] [Warning] lambda_l2 is set=100, reg_lambda=0.0 will be ignored. Current value: lambda_l2=100\n",
      "<<<<< LGBM_Optuna >>>>>\n",
      "----- CV MEAN -----\n",
      "F2: 0.29561955387053285\n",
      "Recall: 0.456845238095238\n",
      "AUC: 0.6875744928148775\n",
      "----- VALIDATION -----\n",
      "F2: 0.2872606161532057\n",
      "Recall: 0.4339622641509434\n",
      "AUC: 0.6778520692796371\n"
     ]
    }
   ],
   "source": [
    "from sklearn.model_selection import cross_validate\n",
    "from sklearn.metrics import plot_roc_curve\n",
    "\n",
    "cv_scoring = {'fbeta': make_scorer(fbeta_score, beta=2),'recall': make_scorer(recall_score), 'auc': make_scorer(roc_auc_score)}\n",
    "\n",
    "estimator_results = {}\n",
    "\n",
    "for name, estimator in estimators.items():\n",
    "\n",
    "    #cross validation\n",
    "    cv_results = cross_validate(estimator, X=X_train_sub, y=y_train_sub, scoring=cv_scoring, cv=10, n_jobs=-1, fit_params=None)\n",
    "\n",
    "    #get mean cv scores\n",
    "    f2_mean = np.mean(cv_results['test_fbeta'])\n",
    "    recall_mean = np.mean(cv_results['test_recall'])\n",
    "    auc_mean = np.mean(cv_results['test_auc'])\n",
    "\n",
    "    # fit \n",
    "    estimator.fit(X_train_sub,y_train_sub)\n",
    "\n",
    "    # predict\n",
    "    y_pred = estimator.predict(X_val)\n",
    "\n",
    "    #get validation scores\n",
    "    f2_val = fbeta_score(y_val, y_pred, beta=2)\n",
    "    recall_val = recall_score(y_val, y_pred)\n",
    "    auc_val = roc_auc_score(y_val, y_pred)\n",
    "\n",
    "    #print results\n",
    "    print(f'<<<<< {name} >>>>>')\n",
    "    print('----- CV MEAN -----')\n",
    "    print(f'F2: {f2_mean}')\n",
    "    print(f'Recall: {recall_mean}')\n",
    "    print(f'AUC: {auc_mean}')\n",
    "\n",
    "    print('----- VALIDATION -----')\n",
    "    print(f'F2: {f2_val}')\n",
    "    print(f'Recall: {recall_val}')\n",
    "    print(f'AUC: {auc_val}')\n",
    "    \n",
    "    #save results\n",
    "    estimator_results[name] = [f2_mean, recall_mean, auc_mean, f2_val, recall_val, auc_val]\n"
   ]
  },
  {
   "cell_type": "code",
   "execution_count": 107,
   "id": "52573a28",
   "metadata": {},
   "outputs": [
    {
     "data": {
      "text/html": [
       "<div>\n",
       "<style scoped>\n",
       "    .dataframe tbody tr th:only-of-type {\n",
       "        vertical-align: middle;\n",
       "    }\n",
       "\n",
       "    .dataframe tbody tr th {\n",
       "        vertical-align: top;\n",
       "    }\n",
       "\n",
       "    .dataframe thead th {\n",
       "        text-align: right;\n",
       "    }\n",
       "</style>\n",
       "<table border=\"1\" class=\"dataframe\">\n",
       "  <thead>\n",
       "    <tr style=\"text-align: right;\">\n",
       "      <th></th>\n",
       "      <th>f2 CV Mean</th>\n",
       "      <th>recall CV mean</th>\n",
       "      <th>roc auc CV mean</th>\n",
       "      <th>f2 validation</th>\n",
       "      <th>recall validation</th>\n",
       "      <th>roc auc validation</th>\n",
       "    </tr>\n",
       "  </thead>\n",
       "  <tbody>\n",
       "    <tr>\n",
       "      <th>LGBM_Optuna</th>\n",
       "      <td>0.296</td>\n",
       "      <td>0.457</td>\n",
       "      <td>0.688</td>\n",
       "      <td>0.287</td>\n",
       "      <td>0.434</td>\n",
       "      <td>0.678</td>\n",
       "    </tr>\n",
       "    <tr>\n",
       "      <th>LGBM</th>\n",
       "      <td>0.280</td>\n",
       "      <td>0.447</td>\n",
       "      <td>0.680</td>\n",
       "      <td>0.259</td>\n",
       "      <td>0.415</td>\n",
       "      <td>0.662</td>\n",
       "    </tr>\n",
       "    <tr>\n",
       "      <th>XGB</th>\n",
       "      <td>0.260</td>\n",
       "      <td>0.550</td>\n",
       "      <td>0.699</td>\n",
       "      <td>0.258</td>\n",
       "      <td>0.535</td>\n",
       "      <td>0.694</td>\n",
       "    </tr>\n",
       "    <tr>\n",
       "      <th>RF</th>\n",
       "      <td>0.255</td>\n",
       "      <td>0.413</td>\n",
       "      <td>0.661</td>\n",
       "      <td>0.268</td>\n",
       "      <td>0.447</td>\n",
       "      <td>0.674</td>\n",
       "    </tr>\n",
       "    <tr>\n",
       "      <th>LGBM_SMOTE</th>\n",
       "      <td>0.248</td>\n",
       "      <td>0.476</td>\n",
       "      <td>0.674</td>\n",
       "      <td>0.243</td>\n",
       "      <td>0.440</td>\n",
       "      <td>0.662</td>\n",
       "    </tr>\n",
       "    <tr>\n",
       "      <th>RF_SMOTE</th>\n",
       "      <td>0.240</td>\n",
       "      <td>0.507</td>\n",
       "      <td>0.678</td>\n",
       "      <td>0.234</td>\n",
       "      <td>0.522</td>\n",
       "      <td>0.678</td>\n",
       "    </tr>\n",
       "    <tr>\n",
       "      <th>XGB_SMOTE</th>\n",
       "      <td>0.239</td>\n",
       "      <td>0.493</td>\n",
       "      <td>0.674</td>\n",
       "      <td>0.249</td>\n",
       "      <td>0.509</td>\n",
       "      <td>0.683</td>\n",
       "    </tr>\n",
       "    <tr>\n",
       "      <th>LR</th>\n",
       "      <td>0.232</td>\n",
       "      <td>0.748</td>\n",
       "      <td>0.731</td>\n",
       "      <td>0.243</td>\n",
       "      <td>0.780</td>\n",
       "      <td>0.749</td>\n",
       "    </tr>\n",
       "  </tbody>\n",
       "</table>\n",
       "</div>"
      ],
      "text/plain": [
       "             f2 CV Mean  recall CV mean  roc auc CV mean  f2 validation  \\\n",
       "LGBM_Optuna       0.296           0.457            0.688          0.287   \n",
       "LGBM              0.280           0.447            0.680          0.259   \n",
       "XGB               0.260           0.550            0.699          0.258   \n",
       "RF                0.255           0.413            0.661          0.268   \n",
       "LGBM_SMOTE        0.248           0.476            0.674          0.243   \n",
       "RF_SMOTE          0.240           0.507            0.678          0.234   \n",
       "XGB_SMOTE         0.239           0.493            0.674          0.249   \n",
       "LR                0.232           0.748            0.731          0.243   \n",
       "\n",
       "             recall validation  roc auc validation  \n",
       "LGBM_Optuna              0.434               0.678  \n",
       "LGBM                     0.415               0.662  \n",
       "XGB                      0.535               0.694  \n",
       "RF                       0.447               0.674  \n",
       "LGBM_SMOTE               0.440               0.662  \n",
       "RF_SMOTE                 0.522               0.678  \n",
       "XGB_SMOTE                0.509               0.683  \n",
       "LR                       0.780               0.749  "
      ]
     },
     "execution_count": 107,
     "metadata": {},
     "output_type": "execute_result"
    }
   ],
   "source": [
    "#dataframe of estimator results\n",
    "estimator_results_cols = ['f2 CV Mean', 'recall CV mean', 'roc auc CV mean',\n",
    "                          'f2 validation', 'recall validation', 'roc auc validation']\n",
    "estimator_results_df = pd.DataFrame.from_dict(estimator_results, orient='index', columns=estimator_results_cols)\n",
    "estimator_results_df = estimator_results_df.sort_values('f2 CV Mean', ascending=False)\n",
    "estimator_results_df = round(estimator_results_df,3)\n",
    "estimator_results_df.to_csv('estimator_results_df.csv')\n",
    "estimator_results_df"
   ]
  },
  {
   "cell_type": "code",
   "execution_count": 106,
   "id": "7bb1555c",
   "metadata": {},
   "outputs": [
    {
     "data": {
      "image/png": "[encoded data removed]",
      "text/plain": [
       "<Figure size 720x576 with 1 Axes>"
      ]
     },
     "metadata": {
      "needs_background": "light"
     },
     "output_type": "display_data"
    }
   ],
   "source": [
    "#dict of models to evaluate\n",
    "estimator_list_plot = [LR, RF, XGB, LGBM_Optuna]\n",
    "estimator_names_plot = ['LR', 'RF', 'XGB', 'LGBM_Optuna']\n",
    "estimators_plot = dict(zip(estimator_names_plot,estimator_list_plot))\n",
    "\n",
    "#plot roc curves\n",
    "fig, ax = plt.subplots(ncols=1, figsize=(10,8))\n",
    "\n",
    "for name,estimator in estimators_plot.items():\n",
    "\n",
    "    fig = plot_roc_curve(estimator, X_val, y_val, name=name, ax=ax)\n",
    "\n",
    "ax.plot([0, 1], [0, 1], linestyle='--', lw=1, color='grey',\n",
    "        label='Chance', alpha=.8)\n",
    "\n",
    "fig.figure_.suptitle(\"ROC curve comparison\")\n",
    "plt.show()"
   ]
  },
  {
   "cell_type": "code",
   "execution_count": 104,
   "id": "7cadbf47",
   "metadata": {},
   "outputs": [
    {
     "data": {
      "image/png": "[encoded data removed]",
      "text/plain": [
       "<Figure size 720x576 with 1 Axes>"
      ]
     },
     "metadata": {
      "needs_background": "light"
     },
     "output_type": "display_data"
    }
   ],
   "source": [
    "#plot pr curves\n",
    "from sklearn.metrics import plot_precision_recall_curve\n",
    "fig, ax = plt.subplots(ncols=1, figsize=(10,8))\n",
    "\n",
    "for name,estimator in estimators_plot.items():\n",
    "\n",
    "    fig = plot_precision_recall_curve(estimator, X_val, y_val, name=name, ax=ax)\n",
    "\n",
    "fig.figure_.suptitle(\"PR curve comparison\")\n",
    "plt.show()"
   ]
  },
  {
   "cell_type": "markdown",
   "id": "53806df7",
   "metadata": {},
   "source": [
    "# Final Model Training and Evaluation"
   ]
  },
  {
   "cell_type": "markdown",
   "id": "59a9b20b",
   "metadata": {},
   "source": [
    "Now that I have selected our best performing model (based on f2 scores from 10-fold cross validation) I train it on the full training set and evaluate performance on the hold-out test set that has not previously been used."
   ]
  },
  {
   "cell_type": "code",
   "execution_count": 114,
   "id": "443892b2",
   "metadata": {},
   "outputs": [
    {
     "name": "stdout",
     "output_type": "stream",
     "text": [
      "[LightGBM] [Warning] bagging_freq is set=1, subsample_freq=0 will be ignored. Current value: bagging_freq=1\n",
      "[LightGBM] [Warning] lambda_l1 is set=50, reg_alpha=0.0 will be ignored. Current value: lambda_l1=50\n",
      "[LightGBM] [Warning] min_data_in_leaf is set=200, min_child_samples=20 will be ignored. Current value: min_data_in_leaf=200\n",
      "[LightGBM] [Warning] min_gain_to_split is set=0.3217655057990588, min_split_gain=0.0 will be ignored. Current value: min_gain_to_split=0.3217655057990588\n",
      "[LightGBM] [Warning] feature_fraction is set=0.5, colsample_bytree=1.0 will be ignored. Current value: feature_fraction=0.5\n",
      "[LightGBM] [Warning] bagging_fraction is set=0.8, subsample=1.0 will be ignored. Current value: bagging_fraction=0.8\n",
      "[LightGBM] [Warning] lambda_l2 is set=100, reg_lambda=0.0 will be ignored. Current value: lambda_l2=100\n",
      "----- EVAL METRICS -----\n",
      "Precision: 0.1206\n",
      "Recall: 0.4673\n",
      "F2: 0.2967\n",
      "ROC AUC: 0.6909\n"
     ]
    },
    {
     "data": {
      "image/png": "[encoded data removed]",
      "text/plain": [
       "<Figure size 432x288 with 2 Axes>"
      ]
     },
     "metadata": {
      "needs_background": "light"
     },
     "output_type": "display_data"
    },
    {
     "data": {
      "image/png": "[encoded data removed]",
      "text/plain": [
       "<Figure size 432x288 with 2 Axes>"
      ]
     },
     "metadata": {
      "needs_background": "light"
     },
     "output_type": "display_data"
    }
   ],
   "source": [
    "#evaulate model trained on best settings\n",
    "evaluate_model_lgb(trial_1_best_params, X_train_dummies, y_train, X_test_dummies, y_test)"
   ]
  },
  {
   "cell_type": "code",
   "execution_count": 120,
   "id": "b6e19c56",
   "metadata": {},
   "outputs": [
    {
     "data": {
      "text/html": [
       "<div>\n",
       "<style scoped>\n",
       "    .dataframe tbody tr th:only-of-type {\n",
       "        vertical-align: middle;\n",
       "    }\n",
       "\n",
       "    .dataframe tbody tr th {\n",
       "        vertical-align: top;\n",
       "    }\n",
       "\n",
       "    .dataframe thead th {\n",
       "        text-align: right;\n",
       "    }\n",
       "</style>\n",
       "<table border=\"1\" class=\"dataframe\">\n",
       "  <thead>\n",
       "    <tr style=\"text-align: right;\">\n",
       "      <th></th>\n",
       "      <th>0</th>\n",
       "    </tr>\n",
       "  </thead>\n",
       "  <tbody>\n",
       "    <tr>\n",
       "      <th>n_estimators</th>\n",
       "      <td>850.000</td>\n",
       "    </tr>\n",
       "    <tr>\n",
       "      <th>learning_rate</th>\n",
       "      <td>0.037</td>\n",
       "    </tr>\n",
       "    <tr>\n",
       "      <th>num_leaves</th>\n",
       "      <td>200.000</td>\n",
       "    </tr>\n",
       "    <tr>\n",
       "      <th>max_depth</th>\n",
       "      <td>12.000</td>\n",
       "    </tr>\n",
       "    <tr>\n",
       "      <th>min_data_in_leaf</th>\n",
       "      <td>200.000</td>\n",
       "    </tr>\n",
       "    <tr>\n",
       "      <th>lambda_l1</th>\n",
       "      <td>50.000</td>\n",
       "    </tr>\n",
       "    <tr>\n",
       "      <th>lambda_l2</th>\n",
       "      <td>100.000</td>\n",
       "    </tr>\n",
       "    <tr>\n",
       "      <th>min_gain_to_split</th>\n",
       "      <td>0.322</td>\n",
       "    </tr>\n",
       "    <tr>\n",
       "      <th>bagging_fraction</th>\n",
       "      <td>0.800</td>\n",
       "    </tr>\n",
       "    <tr>\n",
       "      <th>bagging_freq</th>\n",
       "      <td>1.000</td>\n",
       "    </tr>\n",
       "    <tr>\n",
       "      <th>feature_fraction</th>\n",
       "      <td>0.500</td>\n",
       "    </tr>\n",
       "  </tbody>\n",
       "</table>\n",
       "</div>"
      ],
      "text/plain": [
       "                         0\n",
       "n_estimators       850.000\n",
       "learning_rate        0.037\n",
       "num_leaves         200.000\n",
       "max_depth           12.000\n",
       "min_data_in_leaf   200.000\n",
       "lambda_l1           50.000\n",
       "lambda_l2          100.000\n",
       "min_gain_to_split    0.322\n",
       "bagging_fraction     0.800\n",
       "bagging_freq         1.000\n",
       "feature_fraction     0.500"
      ]
     },
     "execution_count": 120,
     "metadata": {},
     "output_type": "execute_result"
    }
   ],
   "source": [
    "round(pd.DataFrame.from_dict(trial_1_best_params, orient='index'),3)"
   ]
  },
  {
   "cell_type": "code",
   "execution_count": 124,
   "id": "f2b8cbff",
   "metadata": {},
   "outputs": [
    {
     "name": "stdout",
     "output_type": "stream",
     "text": [
      "<<<<< DUMMY >>>>>\n",
      "----- CV MEAN -----\n",
      "F2: 0.02524032521341162\n",
      "Recall: 0.025148809523809525\n",
      "AUC: 0.5007400852352776\n",
      "----- VALIDATION -----\n",
      "F2: 0.018541409147095178\n",
      "Recall: 0.018867924528301886\n",
      "AUC: 0.49602279154783663\n"
     ]
    }
   ],
   "source": [
    "#cross validation\n",
    "cv_results = cross_validate(pipeline_dummy, X=X_train_sub, y=y_train_sub, scoring=cv_scoring, cv=10, n_jobs=-1, fit_params=None)\n",
    "\n",
    "#get mean cv scores\n",
    "f2_mean = np.mean(cv_results['test_fbeta'])\n",
    "recall_mean = np.mean(cv_results['test_recall'])\n",
    "auc_mean = np.mean(cv_results['test_auc'])\n",
    "\n",
    "# fit \n",
    "pipeline_dummy.fit(X_train_sub,y_train_sub)\n",
    "\n",
    "# predict\n",
    "y_pred = pipeline_dummy.predict(X_val)\n",
    "\n",
    "#get validation scores\n",
    "f2_val = fbeta_score(y_val, y_pred, beta=2)\n",
    "recall_val = recall_score(y_val, y_pred)\n",
    "auc_val = roc_auc_score(y_val, y_pred)\n",
    "\n",
    "#print results\n",
    "print(f'<<<<< DUMMY >>>>>')\n",
    "print('----- CV MEAN -----')\n",
    "print(f'F2: {f2_mean}')\n",
    "print(f'Recall: {recall_mean}')\n",
    "print(f'AUC: {auc_mean}')\n",
    "\n",
    "print('----- VALIDATION -----')\n",
    "print(f'F2: {f2_val}')\n",
    "print(f'Recall: {recall_val}')\n",
    "print(f'AUC: {auc_val}')\n"
   ]
  }
 ],
 "metadata": {
  "kernelspec": {
   "display_name": "boost",
   "language": "python",
   "name": "boost"
  },
  "language_info": {
   "codemirror_mode": {
    "name": "ipython",
    "version": 3
   },
   "file_extension": ".py",
   "mimetype": "text/x-python",
   "name": "python",
   "nbconvert_exporter": "python",
   "pygments_lexer": "ipython3",
   "version": "3.8.8"
  }
 },
 "nbformat": 4,
 "nbformat_minor": 5
}
