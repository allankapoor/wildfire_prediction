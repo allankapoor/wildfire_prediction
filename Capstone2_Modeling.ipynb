{
 "cells": [
  {
   "cell_type": "markdown",
   "id": "17c7b640",
   "metadata": {},
   "source": [
    "# Modeling\n",
    "\n",
    "In this notebook I take the processed wildfire data and train/test a series of ML algorithms with the goal of a model that is able to correctly identify the most large wildfires without incorrectly classifying too many small wildfires as large. In this case while both recall and precision are important, recall is more important. Therefore, we will use the F2 score as our evaluation metric but also consider recall, as well as confusion matrices.\n",
    "\n",
    "In previous notebooks I a) generated many environmental and weather features leveraging Google Earth Engine b) performed EDA and c) feature engineering - including transformation of features to move them closer to normal distributions.\n",
    "\n",
    "The dataset/problem is challenging for two reasons: 1) large wildfires are very rare compared to small wildfires, resulting is a severe class imbalance and 2) wildfire behavior is very complex and location specific so not all factors are accounted for by the features available.\n",
    "\n",
    "In this notebook I try a series of ensemble algorithms:\n",
    "* Random Forest\n",
    "* XGBoost\n",
    "* LightGBM.\n",
    "\n",
    "Model performance is evaluated via 10-fold cross-validation using the F2 score. To address the severe class imbalance in the data, two approaches were tried for each algorithm:\n",
    "* Class weighting \n",
    "* SMOTE oversampling/Random undersampling. This approach is explained in more detail below.\n",
    "\n",
    "Hyperparameters are initially tuned using RandomSearchCV. LightGBM without over/undersampling was identified as the best performing model. This algorithm was then tuned using Optuna, state of the art hyperparameter optimization framework. This model outperforms the other models by 10-20% with an F2 score of 0.300. The tuned model is then trained on the full training set and performance is evaluated on the the hold-out test set resulting in a test F2 score of 0.254."
   ]
  },
  {
   "cell_type": "code",
   "execution_count": 63,
   "id": "6e31f292",
   "metadata": {},
   "outputs": [],
   "source": [
    "# load packages\n",
    "import numpy as np\n",
    "import pandas as pd\n",
    "import seaborn as sns\n",
    "import matplotlib.pyplot as plt\n",
    "from sklearn.model_selection import train_test_split\n",
    "from sklearn.metrics import plot_confusion_matrix\n",
    "from sklearn.metrics import precision_recall_fscore_support\n",
    "from sklearn.metrics import precision_score\n",
    "from sklearn.metrics import recall_score\n",
    "from sklearn.metrics import f1_score\n",
    "from sklearn.metrics import roc_auc_score\n",
    "from sklearn.metrics import average_precision_score\n",
    "from sklearn.metrics import fbeta_score\n",
    "from sklearn.metrics import accuracy_score\n",
    "from sklearn.model_selection import RandomizedSearchCV\n",
    "from sklearn.model_selection import GridSearchCV\n",
    "from sklearn.model_selection import RepeatedStratifiedKFold\n",
    "from sklearn.metrics import fbeta_score, make_scorer\n",
    "from sklearn.preprocessing import OneHotEncoder\n",
    "from sklearn.preprocessing import MinMaxScaler\n",
    "from sklearn.compose import ColumnTransformer\n",
    "from sklearn.pipeline import Pipeline"
   ]
  },
  {
   "cell_type": "code",
   "execution_count": 157,
   "id": "a9567cb5",
   "metadata": {},
   "outputs": [],
   "source": [
    "import warnings\n",
    "warnings.filterwarnings('ignore')"
   ]
  },
  {
   "cell_type": "code",
   "execution_count": 3,
   "id": "975bbbd8",
   "metadata": {},
   "outputs": [],
   "source": [
    "#load data\n",
    "wfs = pd.read_csv('wfs_preprocessed.csv', index_col=0)\n",
    "wfs_y =  pd.read_csv('wfs_preprocessed_y.csv', index_col=0)"
   ]
  },
  {
   "cell_type": "markdown",
   "id": "11bedde1",
   "metadata": {},
   "source": [
    "Convert the `FIRE_SIZE_CLASS` feature into a binary categorical variable. While it would be nice to be able to predict fire size with more nuance (or predict only the vary largest wildfires) due to the severe class imbalance this is this will be very difficult. Since our ultimate goal is to identify wildfires that are likely to become large as they start, a binary classification of small vs large fires is sufficient.\n",
    "\n",
    "Per this journal article from <i>Nature</i>, \"large\" wildfires are those of class E or higher (>300 acres)\n",
    "https://www.nature.com/articles/s41598-021-88131-9"
   ]
  },
  {
   "cell_type": "code",
   "execution_count": 4,
   "id": "abd13c1d",
   "metadata": {},
   "outputs": [],
   "source": [
    "# convert target feature to a binary variable (small vs large wildfires)\n",
    "large_fire_classes = ['E','F','G']\n",
    "wfs_y = wfs_y['FIRE_SIZE_CLASS'].apply(lambda t: 1 if t in large_fire_classes else 0)"
   ]
  },
  {
   "cell_type": "code",
   "execution_count": 6,
   "id": "9e554337",
   "metadata": {},
   "outputs": [],
   "source": [
    "# drop correlated/redundant columns\n",
    "# these were IDed during pre-processing but we are only now removing them to maintain flexibility\n",
    "drop_cols = ['LATITUDE', 'erc', 'fm1000', 'aspect','aspect_cat', 'DISCOVERY_MONTH', 'DISCOVERY_DOY']\n",
    "wfs_subset = wfs.drop(columns=drop_cols)"
   ]
  },
  {
   "cell_type": "code",
   "execution_count": 7,
   "id": "fe426e51",
   "metadata": {},
   "outputs": [],
   "source": [
    "#simplify categorical column names\n",
    "wfs_subset = wfs_subset.rename(columns={'WHR10NAME':'WHR10', 'NA_L2NAME':'L2', 'US_L3NAME':'L3'})"
   ]
  },
  {
   "cell_type": "markdown",
   "id": "4f3e4b22",
   "metadata": {},
   "source": [
    "### Evaluation Function\n",
    "This function simplifies the process of fitting a model and then producing evaluation metrics/confusion matrix. We will use it to evaluate various models we try below."
   ]
  },
  {
   "cell_type": "code",
   "execution_count": 426,
   "id": "699cc969",
   "metadata": {},
   "outputs": [],
   "source": [
    "def evaluate_model(model, X_t, y_t, X_v, y_v):\n",
    "        \n",
    "    # fit model to training data\n",
    "    model.fit(X_t,y_t)\n",
    "\n",
    "    # predict on validation set\n",
    "    y_pred = model.predict(X_v)\n",
    "\n",
    "    # calculate other evaluation metrics\n",
    "    precision = round(precision_score(y_v, y_pred),4)\n",
    "    recall = round(recall_score(y_v, y_pred),4)\n",
    "    f2 = round(fbeta_score(y_v, y_pred, beta=2),4)\n",
    "    \n",
    "    #plot confusion matrix (on validation data)\n",
    "    plot_confusion_matrix(model, X_v, y_v, labels=None, sample_weight=None, normalize=None);\n",
    "    \n",
    "    #plot confusion matrix (on validation data)\n",
    "    plot_confusion_matrix(model, X_v, y_v, labels=None, sample_weight=None, normalize='true');\n",
    "\n",
    "    # print evaluation metrics\n",
    "    print('----- EVAL METRICS -----')\n",
    "    print(f'Precision: {precision}')\n",
    "    print(f'Recall: {recall}')\n",
    "    print(f'F2: {f2}')"
   ]
  },
  {
   "cell_type": "markdown",
   "id": "6ff64f4e",
   "metadata": {},
   "source": [
    "### Grid Search Plot Function"
   ]
  },
  {
   "cell_type": "code",
   "execution_count": 313,
   "id": "fb982b9c",
   "metadata": {},
   "outputs": [],
   "source": [
    "def plot_grid_search(cv_results, grid_param_1, grid_param_2, name_param_1, name_param_2):\n",
    "    # Get Test Scores Mean and std for each grid search\n",
    "    scores_mean = cv_results['mean_test_score']\n",
    "    scores_mean = np.array(scores_mean).reshape(len(grid_param_2),len(grid_param_1))\n",
    "\n",
    "    scores_sd = cv_results['std_test_score']\n",
    "    scores_sd = np.array(scores_sd).reshape(len(grid_param_2),len(grid_param_1))\n",
    "\n",
    "    # Plot Grid search scores\n",
    "    _, ax = plt.subplots(1,1)\n",
    "    \n",
    "    # Param1 is the X-axis, Param 2 is represented as a different curve (color line)\n",
    "    for idx, val in enumerate(grid_param_2):\n",
    "        ax.plot(grid_param_1, scores_mean[idx,:], '-o', label= name_param_2 + ': ' + str(val))\n",
    "\n",
    "    ax.set_title(\"Grid Search Scores\", fontsize=12, fontweight='bold')\n",
    "    ax.set_xlabel(name_param_1, fontsize=12)\n",
    "    ax.set_ylabel('CV Average Score', fontsize=12)\n",
    "    ax.legend(loc='lower right', bbox_to_anchor= (1.5, 0), ncol=2,\n",
    "            borderaxespad=0, frameon=False)\n",
    "    ax.figure.set_size_inches(10, 10)\n",
    "    ax.grid('on')"
   ]
  },
  {
   "cell_type": "code",
   "execution_count": 268,
   "id": "0185ddf3",
   "metadata": {},
   "outputs": [
    {
     "data": {
      "text/html": [
       "<div>\n",
       "<style scoped>\n",
       "    .dataframe tbody tr th:only-of-type {\n",
       "        vertical-align: middle;\n",
       "    }\n",
       "\n",
       "    .dataframe tbody tr th {\n",
       "        vertical-align: top;\n",
       "    }\n",
       "\n",
       "    .dataframe thead th {\n",
       "        text-align: right;\n",
       "    }\n",
       "</style>\n",
       "<table border=\"1\" class=\"dataframe\">\n",
       "  <thead>\n",
       "    <tr style=\"text-align: right;\">\n",
       "      <th></th>\n",
       "      <th>mean_fit_time</th>\n",
       "      <th>std_fit_time</th>\n",
       "      <th>mean_score_time</th>\n",
       "      <th>std_score_time</th>\n",
       "      <th>param_model__max_depth</th>\n",
       "      <th>param_model__n_estimators</th>\n",
       "      <th>params</th>\n",
       "      <th>split0_test_score</th>\n",
       "      <th>split1_test_score</th>\n",
       "      <th>split2_test_score</th>\n",
       "      <th>split3_test_score</th>\n",
       "      <th>split4_test_score</th>\n",
       "      <th>split5_test_score</th>\n",
       "      <th>split6_test_score</th>\n",
       "      <th>split7_test_score</th>\n",
       "      <th>split8_test_score</th>\n",
       "      <th>split9_test_score</th>\n",
       "      <th>mean_test_score</th>\n",
       "      <th>std_test_score</th>\n",
       "      <th>rank_test_score</th>\n",
       "    </tr>\n",
       "  </thead>\n",
       "  <tbody>\n",
       "    <tr>\n",
       "      <th>0</th>\n",
       "      <td>0.419634</td>\n",
       "      <td>0.016607</td>\n",
       "      <td>0.011654</td>\n",
       "      <td>0.003022</td>\n",
       "      <td>1</td>\n",
       "      <td>25</td>\n",
       "      <td>{'model__max_depth': 1, 'model__n_estimators':...</td>\n",
       "      <td>0.209724</td>\n",
       "      <td>0.206801</td>\n",
       "      <td>0.207565</td>\n",
       "      <td>0.225806</td>\n",
       "      <td>0.184466</td>\n",
       "      <td>0.208748</td>\n",
       "      <td>0.222525</td>\n",
       "      <td>0.189114</td>\n",
       "      <td>0.210728</td>\n",
       "      <td>0.172257</td>\n",
       "      <td>0.203773</td>\n",
       "      <td>0.015969</td>\n",
       "      <td>44</td>\n",
       "    </tr>\n",
       "    <tr>\n",
       "      <th>1</th>\n",
       "      <td>0.657047</td>\n",
       "      <td>0.026971</td>\n",
       "      <td>0.016014</td>\n",
       "      <td>0.002912</td>\n",
       "      <td>1</td>\n",
       "      <td>44</td>\n",
       "      <td>{'model__max_depth': 1, 'model__n_estimators':...</td>\n",
       "      <td>0.221154</td>\n",
       "      <td>0.210573</td>\n",
       "      <td>0.215724</td>\n",
       "      <td>0.228672</td>\n",
       "      <td>0.177758</td>\n",
       "      <td>0.226131</td>\n",
       "      <td>0.232890</td>\n",
       "      <td>0.187140</td>\n",
       "      <td>0.203791</td>\n",
       "      <td>0.183486</td>\n",
       "      <td>0.208732</td>\n",
       "      <td>0.018915</td>\n",
       "      <td>42</td>\n",
       "    </tr>\n",
       "    <tr>\n",
       "      <th>2</th>\n",
       "      <td>1.392180</td>\n",
       "      <td>0.022522</td>\n",
       "      <td>0.024766</td>\n",
       "      <td>0.002725</td>\n",
       "      <td>1</td>\n",
       "      <td>100</td>\n",
       "      <td>{'model__max_depth': 1, 'model__n_estimators':...</td>\n",
       "      <td>0.201500</td>\n",
       "      <td>0.216554</td>\n",
       "      <td>0.208535</td>\n",
       "      <td>0.221719</td>\n",
       "      <td>0.183221</td>\n",
       "      <td>0.227503</td>\n",
       "      <td>0.228119</td>\n",
       "      <td>0.186824</td>\n",
       "      <td>0.223301</td>\n",
       "      <td>0.206767</td>\n",
       "      <td>0.210404</td>\n",
       "      <td>0.015262</td>\n",
       "      <td>39</td>\n",
       "    </tr>\n",
       "    <tr>\n",
       "      <th>3</th>\n",
       "      <td>2.855649</td>\n",
       "      <td>0.061372</td>\n",
       "      <td>0.042393</td>\n",
       "      <td>0.009156</td>\n",
       "      <td>1</td>\n",
       "      <td>200</td>\n",
       "      <td>{'model__max_depth': 1, 'model__n_estimators':...</td>\n",
       "      <td>0.206930</td>\n",
       "      <td>0.216165</td>\n",
       "      <td>0.207156</td>\n",
       "      <td>0.224977</td>\n",
       "      <td>0.180952</td>\n",
       "      <td>0.226815</td>\n",
       "      <td>0.233863</td>\n",
       "      <td>0.199029</td>\n",
       "      <td>0.209125</td>\n",
       "      <td>0.186567</td>\n",
       "      <td>0.209158</td>\n",
       "      <td>0.016245</td>\n",
       "      <td>41</td>\n",
       "    </tr>\n",
       "    <tr>\n",
       "      <th>4</th>\n",
       "      <td>0.518362</td>\n",
       "      <td>0.033292</td>\n",
       "      <td>0.010806</td>\n",
       "      <td>0.004315</td>\n",
       "      <td>2</td>\n",
       "      <td>25</td>\n",
       "      <td>{'model__max_depth': 2, 'model__n_estimators':...</td>\n",
       "      <td>0.216323</td>\n",
       "      <td>0.192308</td>\n",
       "      <td>0.218688</td>\n",
       "      <td>0.220244</td>\n",
       "      <td>0.183752</td>\n",
       "      <td>0.227027</td>\n",
       "      <td>0.240196</td>\n",
       "      <td>0.195000</td>\n",
       "      <td>0.214143</td>\n",
       "      <td>0.199259</td>\n",
       "      <td>0.210694</td>\n",
       "      <td>0.016664</td>\n",
       "      <td>38</td>\n",
       "    </tr>\n",
       "    <tr>\n",
       "      <th>...</th>\n",
       "      <td>...</td>\n",
       "      <td>...</td>\n",
       "      <td>...</td>\n",
       "      <td>...</td>\n",
       "      <td>...</td>\n",
       "      <td>...</td>\n",
       "      <td>...</td>\n",
       "      <td>...</td>\n",
       "      <td>...</td>\n",
       "      <td>...</td>\n",
       "      <td>...</td>\n",
       "      <td>...</td>\n",
       "      <td>...</td>\n",
       "      <td>...</td>\n",
       "      <td>...</td>\n",
       "      <td>...</td>\n",
       "      <td>...</td>\n",
       "      <td>...</td>\n",
       "      <td>...</td>\n",
       "      <td>...</td>\n",
       "    </tr>\n",
       "    <tr>\n",
       "      <th>71</th>\n",
       "      <td>10.886241</td>\n",
       "      <td>0.094755</td>\n",
       "      <td>0.091612</td>\n",
       "      <td>0.009588</td>\n",
       "      <td>18</td>\n",
       "      <td>200</td>\n",
       "      <td>{'model__max_depth': 18, 'model__n_estimators'...</td>\n",
       "      <td>0.075188</td>\n",
       "      <td>0.111524</td>\n",
       "      <td>0.075188</td>\n",
       "      <td>0.037736</td>\n",
       "      <td>0.091575</td>\n",
       "      <td>0.038610</td>\n",
       "      <td>0.057252</td>\n",
       "      <td>0.038314</td>\n",
       "      <td>0.037594</td>\n",
       "      <td>0.075472</td>\n",
       "      <td>0.063845</td>\n",
       "      <td>0.024774</td>\n",
       "      <td>71</td>\n",
       "    </tr>\n",
       "    <tr>\n",
       "      <th>72</th>\n",
       "      <td>1.507583</td>\n",
       "      <td>0.066329</td>\n",
       "      <td>0.018539</td>\n",
       "      <td>0.005106</td>\n",
       "      <td>19</td>\n",
       "      <td>25</td>\n",
       "      <td>{'model__max_depth': 19, 'model__n_estimators'...</td>\n",
       "      <td>0.019084</td>\n",
       "      <td>0.075188</td>\n",
       "      <td>0.092937</td>\n",
       "      <td>0.018868</td>\n",
       "      <td>0.055970</td>\n",
       "      <td>0.038760</td>\n",
       "      <td>0.056180</td>\n",
       "      <td>0.038314</td>\n",
       "      <td>0.018657</td>\n",
       "      <td>0.094697</td>\n",
       "      <td>0.050865</td>\n",
       "      <td>0.027771</td>\n",
       "      <td>73</td>\n",
       "    </tr>\n",
       "    <tr>\n",
       "      <th>73</th>\n",
       "      <td>2.313433</td>\n",
       "      <td>0.051901</td>\n",
       "      <td>0.025792</td>\n",
       "      <td>0.002366</td>\n",
       "      <td>19</td>\n",
       "      <td>44</td>\n",
       "      <td>{'model__max_depth': 19, 'model__n_estimators'...</td>\n",
       "      <td>0.056391</td>\n",
       "      <td>0.110294</td>\n",
       "      <td>0.075472</td>\n",
       "      <td>0.019084</td>\n",
       "      <td>0.056604</td>\n",
       "      <td>0.019685</td>\n",
       "      <td>0.038023</td>\n",
       "      <td>0.056180</td>\n",
       "      <td>0.038023</td>\n",
       "      <td>0.038168</td>\n",
       "      <td>0.050792</td>\n",
       "      <td>0.025889</td>\n",
       "      <td>74</td>\n",
       "    </tr>\n",
       "    <tr>\n",
       "      <th>74</th>\n",
       "      <td>4.949474</td>\n",
       "      <td>0.061229</td>\n",
       "      <td>0.047923</td>\n",
       "      <td>0.004410</td>\n",
       "      <td>19</td>\n",
       "      <td>100</td>\n",
       "      <td>{'model__max_depth': 19, 'model__n_estimators'...</td>\n",
       "      <td>0.038168</td>\n",
       "      <td>0.093633</td>\n",
       "      <td>0.075758</td>\n",
       "      <td>0.019231</td>\n",
       "      <td>0.056818</td>\n",
       "      <td>0.019531</td>\n",
       "      <td>0.038023</td>\n",
       "      <td>0.019305</td>\n",
       "      <td>0.056604</td>\n",
       "      <td>0.075188</td>\n",
       "      <td>0.049226</td>\n",
       "      <td>0.025272</td>\n",
       "      <td>76</td>\n",
       "    </tr>\n",
       "    <tr>\n",
       "      <th>75</th>\n",
       "      <td>9.592095</td>\n",
       "      <td>1.030728</td>\n",
       "      <td>0.082673</td>\n",
       "      <td>0.026376</td>\n",
       "      <td>19</td>\n",
       "      <td>200</td>\n",
       "      <td>{'model__max_depth': 19, 'model__n_estimators'...</td>\n",
       "      <td>0.000000</td>\n",
       "      <td>0.094697</td>\n",
       "      <td>0.056818</td>\n",
       "      <td>0.038168</td>\n",
       "      <td>0.056604</td>\n",
       "      <td>0.038911</td>\n",
       "      <td>0.057252</td>\n",
       "      <td>0.038760</td>\n",
       "      <td>0.038023</td>\n",
       "      <td>0.075472</td>\n",
       "      <td>0.049470</td>\n",
       "      <td>0.024123</td>\n",
       "      <td>75</td>\n",
       "    </tr>\n",
       "  </tbody>\n",
       "</table>\n",
       "<p>76 rows × 20 columns</p>\n",
       "</div>"
      ],
      "text/plain": [
       "    mean_fit_time  std_fit_time  mean_score_time  std_score_time  \\\n",
       "0        0.419634      0.016607         0.011654        0.003022   \n",
       "1        0.657047      0.026971         0.016014        0.002912   \n",
       "2        1.392180      0.022522         0.024766        0.002725   \n",
       "3        2.855649      0.061372         0.042393        0.009156   \n",
       "4        0.518362      0.033292         0.010806        0.004315   \n",
       "..            ...           ...              ...             ...   \n",
       "71      10.886241      0.094755         0.091612        0.009588   \n",
       "72       1.507583      0.066329         0.018539        0.005106   \n",
       "73       2.313433      0.051901         0.025792        0.002366   \n",
       "74       4.949474      0.061229         0.047923        0.004410   \n",
       "75       9.592095      1.030728         0.082673        0.026376   \n",
       "\n",
       "   param_model__max_depth param_model__n_estimators  \\\n",
       "0                       1                        25   \n",
       "1                       1                        44   \n",
       "2                       1                       100   \n",
       "3                       1                       200   \n",
       "4                       2                        25   \n",
       "..                    ...                       ...   \n",
       "71                     18                       200   \n",
       "72                     19                        25   \n",
       "73                     19                        44   \n",
       "74                     19                       100   \n",
       "75                     19                       200   \n",
       "\n",
       "                                               params  split0_test_score  \\\n",
       "0   {'model__max_depth': 1, 'model__n_estimators':...           0.209724   \n",
       "1   {'model__max_depth': 1, 'model__n_estimators':...           0.221154   \n",
       "2   {'model__max_depth': 1, 'model__n_estimators':...           0.201500   \n",
       "3   {'model__max_depth': 1, 'model__n_estimators':...           0.206930   \n",
       "4   {'model__max_depth': 2, 'model__n_estimators':...           0.216323   \n",
       "..                                                ...                ...   \n",
       "71  {'model__max_depth': 18, 'model__n_estimators'...           0.075188   \n",
       "72  {'model__max_depth': 19, 'model__n_estimators'...           0.019084   \n",
       "73  {'model__max_depth': 19, 'model__n_estimators'...           0.056391   \n",
       "74  {'model__max_depth': 19, 'model__n_estimators'...           0.038168   \n",
       "75  {'model__max_depth': 19, 'model__n_estimators'...           0.000000   \n",
       "\n",
       "    split1_test_score  split2_test_score  split3_test_score  \\\n",
       "0            0.206801           0.207565           0.225806   \n",
       "1            0.210573           0.215724           0.228672   \n",
       "2            0.216554           0.208535           0.221719   \n",
       "3            0.216165           0.207156           0.224977   \n",
       "4            0.192308           0.218688           0.220244   \n",
       "..                ...                ...                ...   \n",
       "71           0.111524           0.075188           0.037736   \n",
       "72           0.075188           0.092937           0.018868   \n",
       "73           0.110294           0.075472           0.019084   \n",
       "74           0.093633           0.075758           0.019231   \n",
       "75           0.094697           0.056818           0.038168   \n",
       "\n",
       "    split4_test_score  split5_test_score  split6_test_score  \\\n",
       "0            0.184466           0.208748           0.222525   \n",
       "1            0.177758           0.226131           0.232890   \n",
       "2            0.183221           0.227503           0.228119   \n",
       "3            0.180952           0.226815           0.233863   \n",
       "4            0.183752           0.227027           0.240196   \n",
       "..                ...                ...                ...   \n",
       "71           0.091575           0.038610           0.057252   \n",
       "72           0.055970           0.038760           0.056180   \n",
       "73           0.056604           0.019685           0.038023   \n",
       "74           0.056818           0.019531           0.038023   \n",
       "75           0.056604           0.038911           0.057252   \n",
       "\n",
       "    split7_test_score  split8_test_score  split9_test_score  mean_test_score  \\\n",
       "0            0.189114           0.210728           0.172257         0.203773   \n",
       "1            0.187140           0.203791           0.183486         0.208732   \n",
       "2            0.186824           0.223301           0.206767         0.210404   \n",
       "3            0.199029           0.209125           0.186567         0.209158   \n",
       "4            0.195000           0.214143           0.199259         0.210694   \n",
       "..                ...                ...                ...              ...   \n",
       "71           0.038314           0.037594           0.075472         0.063845   \n",
       "72           0.038314           0.018657           0.094697         0.050865   \n",
       "73           0.056180           0.038023           0.038168         0.050792   \n",
       "74           0.019305           0.056604           0.075188         0.049226   \n",
       "75           0.038760           0.038023           0.075472         0.049470   \n",
       "\n",
       "    std_test_score  rank_test_score  \n",
       "0         0.015969               44  \n",
       "1         0.018915               42  \n",
       "2         0.015262               39  \n",
       "3         0.016245               41  \n",
       "4         0.016664               38  \n",
       "..             ...              ...  \n",
       "71        0.024774               71  \n",
       "72        0.027771               73  \n",
       "73        0.025889               74  \n",
       "74        0.025272               76  \n",
       "75        0.024123               75  \n",
       "\n",
       "[76 rows x 20 columns]"
      ]
     },
     "execution_count": 268,
     "metadata": {},
     "output_type": "execute_result"
    }
   ],
   "source": [
    "pd.DataFrame(RF_primary_parameters_GS.cv_results_)"
   ]
  },
  {
   "cell_type": "code",
   "execution_count": null,
   "id": "b7cf9e37",
   "metadata": {},
   "outputs": [],
   "source": [
    "# Calling Method \n",
    "plot_grid_search(pipe_grid.cv_results_, n_estimators, max_features, 'N Estimators', 'Max Features')"
   ]
  },
  {
   "cell_type": "markdown",
   "id": "55734584",
   "metadata": {},
   "source": [
    "### Train/Test Split\n",
    "\n",
    "Here we split the dataset into training, validation, and a test set. Training will be used to fit different models via cross validation. Validation will be used to iteratively test the performance of various models. The test set represents completely unseen data and to prevent leakage will only be used to test model performance of the selected model at the very end."
   ]
  },
  {
   "cell_type": "code",
   "execution_count": 80,
   "id": "26353f06",
   "metadata": {},
   "outputs": [],
   "source": [
    "# Create feature and target arrays\n",
    "X = wfs_subset\n",
    "y = wfs_y\n",
    "\n",
    "# Split into training and test set\n",
    "X_train, X_test, y_train, y_test = train_test_split(X, y, test_size = 0.2, random_state=42, stratify=y)\n",
    "\n",
    "# Split training into training_sub and validation\n",
    "X_train_sub, X_val, y_train_sub, y_val = train_test_split(X_train, y_train, test_size = 0.2, random_state=42, stratify=y_train)"
   ]
  },
  {
   "cell_type": "code",
   "execution_count": 9,
   "id": "e9ea70bf",
   "metadata": {},
   "outputs": [
    {
     "name": "stdout",
     "output_type": "stream",
     "text": [
      "<class 'pandas.core.frame.DataFrame'>\n",
      "Int64Index: 25985 entries, 54379 to 7798\n",
      "Data columns (total 22 columns):\n",
      " #   Column             Non-Null Count  Dtype  \n",
      "---  ------             --------------  -----  \n",
      " 0   LONGITUDE          25985 non-null  float64\n",
      " 1   elevation          25985 non-null  float64\n",
      " 2   slope              25985 non-null  float64\n",
      " 3   mean_monthly_ppt   25985 non-null  float64\n",
      " 4   dew_point          25985 non-null  float64\n",
      " 5   max_temp           25985 non-null  float64\n",
      " 6   wind_speed         25985 non-null  float64\n",
      " 7   bi                 25985 non-null  float64\n",
      " 8   fm100              25985 non-null  float64\n",
      " 9   usda_bp            25985 non-null  float64\n",
      " 10  usda_fi1           25985 non-null  float64\n",
      " 11  usda_fi2           25985 non-null  float64\n",
      " 12  usda_fi3           25985 non-null  float64\n",
      " 13  usda_fi4           25985 non-null  float64\n",
      " 14  monthly_large_wf   25985 non-null  float64\n",
      " 15  WHR10              25985 non-null  object \n",
      " 16  L2                 25985 non-null  object \n",
      " 17  L3                 25985 non-null  object \n",
      " 18  aspect_cos         25985 non-null  float64\n",
      " 19  aspect_sin         25985 non-null  float64\n",
      " 20  DISCOVERY_DOY_cos  25985 non-null  float64\n",
      " 21  DISCOVERY_DOY_sin  25985 non-null  float64\n",
      "dtypes: float64(19), object(3)\n",
      "memory usage: 4.6+ MB\n"
     ]
    }
   ],
   "source": [
    "X_train_sub.info()"
   ]
  },
  {
   "cell_type": "markdown",
   "id": "ec8b9c6d",
   "metadata": {},
   "source": [
    "### Logistic Regression"
   ]
  },
  {
   "cell_type": "markdown",
   "id": "348a3f68",
   "metadata": {},
   "source": [
    "As a start we try a class weighted logistic regression, which is expected to perform poorly. It does not indentify any large wildfires and is essentially the same as a dummy model that guesses all wildfires are small."
   ]
  },
  {
   "cell_type": "code",
   "execution_count": 342,
   "id": "196de4b0",
   "metadata": {},
   "outputs": [
    {
     "name": "stdout",
     "output_type": "stream",
     "text": [
      "Accuracy Score: 0.9755271663844851\n",
      "Area Under Curve: 0.5\n",
      "Recall score: 0.0\n",
      "Recall score: 0.0\n"
     ]
    },
    {
     "data": {
      "image/png": "[encoded data removed]",
      "text/plain": [
       "<Figure size 432x288 with 2 Axes>"
      ]
     },
     "metadata": {
      "needs_background": "light"
     },
     "output_type": "display_data"
    }
   ],
   "source": [
    "from sklearn.utils.class_weight import compute_class_weight\n",
    "from sklearn.linear_model import LogisticRegression\n",
    "class_weights = compute_class_weight('balanced', np.unique(y_train_sub), y_train_sub)\n",
    "\n",
    "# one hot encode (columns 15, 16, 17 only)\n",
    "encode = ColumnTransformer(transformers=[('cat', OneHotEncoder(), [15,16,17])], remainder='passthrough' )\n",
    "\n",
    "# define model\n",
    "lg1 = LogisticRegression(random_state=13, class_weight=class_weights)\n",
    "\n",
    "steps = [('encode', encode), ('model', lg1)]\n",
    "pipeline = Pipeline(steps=steps)\n",
    "\n",
    "# fit it\n",
    "pipeline.fit(X_train_sub,y_train_sub)\n",
    "# test\n",
    "y_pred = pipeline.predict(X_val)\n",
    "# performance\n",
    "print(f'Accuracy Score: {accuracy_score(y_val,y_pred)}')\n",
    "print(f'Area Under Curve: {roc_auc_score(y_val, y_pred)}')\n",
    "print(f'Recall score: {recall_score(y_val,y_pred)}')\n",
    "print(f'Recall score: {fbeta_score(y_val, y_pred, beta=2)}')\n",
    "    \n",
    "plot_confusion_matrix(pipeline, X_val, y_val, labels=None, sample_weight=None, normalize=None);"
   ]
  },
  {
   "cell_type": "markdown",
   "id": "bea145d9",
   "metadata": {},
   "source": [
    "### Determine Optimal Tree Depth\n",
    "\n",
    "Here we estimate optimal tree depth for a decision tree classifier. We will use this as the upper range for the tree depth hyperparameter in our grid search for the random forest classifier."
   ]
  },
  {
   "cell_type": "code",
   "execution_count": 83,
   "id": "1c321447",
   "metadata": {},
   "outputs": [],
   "source": [
    "from sklearn.tree import DecisionTreeClassifier \n",
    "\n",
    "fb_scores = []\n",
    "accuracy_scores = []\n",
    "depth_range = list(range(1,50))\n",
    "\n",
    "for i in depth_range:\n",
    "\n",
    "    # one hot encode (columns 15, 16, 17 only)\n",
    "    cat_col_indeces = []\n",
    "    for i,col in enumerate(X_train.columns):\n",
    "        if X_train[col].dtype = 'O':\n",
    "            cat_col_indeces.append(i)\n",
    "    \n",
    "    encode = ColumnTransformer(transformers=[('cat', OneHotEncoder(), cat_col_indeces)], remainder='passthrough' )\n",
    "\n",
    "    # instantiate model\n",
    "    dt_model = DecisionTreeClassifier(max_depth=i, criterion='gini')\n",
    "\n",
    "    # define pipeline\n",
    "    steps = [('encode', encode), ('model', dt_model)]\n",
    "    dt_pipeline = Pipeline(steps=steps)\n",
    "\n",
    "    dt_pipeline.fit(X_train_sub, y_train_sub)\n",
    "    \n",
    "    y_pred = dt_pipeline.predict(X_val)\n",
    "    \n",
    "    f2 = fbeta_score(y_val, y_pred, beta=2)\n",
    "    accuracy = accuracy_score(y_val, y_pred)\n",
    "    \n",
    "    fb_scores.append(f2)\n",
    "    \n",
    "    accuracy_scores.append(accuracy)"
   ]
  },
  {
   "cell_type": "code",
   "execution_count": 84,
   "id": "ef43c5ea",
   "metadata": {},
   "outputs": [
    {
     "data": {
      "image/png": "[encoded data removed]",
      "text/plain": [
       "<Figure size 432x288 with 1 Axes>"
      ]
     },
     "metadata": {
      "needs_background": "light"
     },
     "output_type": "display_data"
    }
   ],
   "source": [
    "sns.lineplot(x=depth_range, y=fb_scores);"
   ]
  },
  {
   "cell_type": "markdown",
   "id": "1192a913",
   "metadata": {},
   "source": [
    "After 20, the f2 score oscillates but does not improve substantially"
   ]
  },
  {
   "cell_type": "code",
   "execution_count": 85,
   "id": "11edfa3e",
   "metadata": {},
   "outputs": [
    {
     "data": {
      "image/png": "[encoded data removed]",
      "text/plain": [
       "<Figure size 432x288 with 1 Axes>"
      ]
     },
     "metadata": {
      "needs_background": "light"
     },
     "output_type": "display_data"
    }
   ],
   "source": [
    "sns.lineplot(x=depth_range, y=accuracy_scores);"
   ]
  },
  {
   "cell_type": "markdown",
   "id": "e1c6584f",
   "metadata": {},
   "source": [
    "Accuracy goes down quickly with increased tree depth - suggesting that higher depths are resulting on overfitting"
   ]
  },
  {
   "cell_type": "code",
   "execution_count": 90,
   "id": "61f2fc53",
   "metadata": {},
   "outputs": [
    {
     "data": {
      "text/plain": [
       "44"
      ]
     },
     "execution_count": 90,
     "metadata": {},
     "output_type": "execute_result"
    }
   ],
   "source": [
    "#outside pipeline, we calculate number of features (post dummy-encoding)\n",
    "# which we use to estimate optimal value for n_estimators\n",
    "\n",
    "# categoricals > dummies\n",
    "cat_cols = ['WHR10', 'L2','L3']\n",
    "\n",
    "X_train_sub_dummies = X_train_sub\n",
    "\n",
    "for col in cat_cols:\n",
    "    X_train_sub_dummies = pd.get_dummies(X_train_sub_dummies, columns=[col], drop_first=True, prefix=col)\n",
    "    \n",
    "X_train_sub_dummies.shape[1]"
   ]
  },
  {
   "cell_type": "markdown",
   "id": "77345e94",
   "metadata": {},
   "source": [
    "### Random Forest - No Oversampling\n",
    "We are first trying a random forest model because a) the data is severely imbalanced and b) the classes are very mixed. Random forest models should perform well compared to models that cannot handle class imbalance well (such as KNN) or models that have trouble with very mixed classes (SVM). \n",
    "\n",
    "First we will try with no upsampling or downsampling, but we will weight the classes (class_weight='balanced subsample') so that the model pays extra attention to the minority class."
   ]
  },
  {
   "cell_type": "code",
   "execution_count": 102,
   "id": "114d48b4",
   "metadata": {},
   "outputs": [],
   "source": [
    "from sklearn.ensemble import RandomForestClassifier\n",
    "\n",
    "# define grid search/random forest function that takes a param grid as input\n",
    "def GridSearch_RandomForest(param_grid):\n",
    "    \n",
    "    #make f2 scorer\n",
    "    f2_scorer = make_scorer(fbeta_score, beta=2)\n",
    "\n",
    "    # one hot encode (columns 15, 16, 17 only)\n",
    "    encode = ColumnTransformer(transformers=[('cat', OneHotEncoder(), [15,16,17])], remainder='passthrough')\n",
    "\n",
    "    # instantiate model\n",
    "    model = RandomForestClassifier(class_weight = 'balanced_subsample')\n",
    "\n",
    "    # define pipeline\n",
    "    steps = [('encode', encode), ('model', model)]\n",
    "    pipeline = Pipeline(steps=steps)\n",
    "\n",
    "    # define cross-validation\n",
    "    cv = RepeatedStratifiedKFold(n_splits=10, n_repeats=1, random_state=1)\n",
    "\n",
    "    # define grid search\n",
    "    grid = GridSearchCV(estimator=pipeline, param_grid=param_grid, n_jobs=-1, cv=cv, scoring=f2_scorer)\n",
    "\n",
    "    # execute the grid search\n",
    "    grid_result = grid.fit(X_train_sub, y_train_sub)\n",
    "\n",
    "    # report the best configuration\n",
    "    print(\"Best: %f using %s\" % (grid_result.best_score_, grid_result.best_params_))\n",
    "    \n",
    "    return grid_result"
   ]
  },
  {
   "cell_type": "markdown",
   "id": "b4bfdaf0",
   "metadata": {},
   "source": [
    "`n_estimators` and `max_depth` are likely to influence model performance most because they control complexity. We will tune them first.\n",
    "<br/> For `n_estimators` we have estimated 44 as the optimal number and select a few higher/lower values to test.\n",
    "<br/> For `max_depth` we have estimated that 20 is the max (see decision tree above) and will test all values below that."
   ]
  },
  {
   "cell_type": "code",
   "execution_count": 103,
   "id": "80085973",
   "metadata": {},
   "outputs": [
    {
     "name": "stdout",
     "output_type": "stream",
     "text": [
      "Best: 0.265421 using {'model__max_depth': 7, 'model__n_estimators': 44}\n"
     ]
    }
   ],
   "source": [
    "#grid search of most important hyperparameters\n",
    "param_grid = {'model__n_estimators': [25, 44, 100, 200], # 44 is estimated optimal\n",
    "        'model__max_depth' : list(range(1,20)), # 20 is estimated max for decision tree \n",
    "        }\n",
    "        #'model__class_weight': [None, 'balanced', 'balanced_subsample']\n",
    "        #'model__criterion' :['gini', 'entropy'],\n",
    "        #'model__max_features': ['auto', 'sqrt', 'log2'],\n",
    "\n",
    "RF_primary_parameters_GS = GridSearch_RandomForest(param_grid)"
   ]
  },
  {
   "cell_type": "code",
   "execution_count": 105,
   "id": "923e7904",
   "metadata": {},
   "outputs": [
    {
     "name": "stdout",
     "output_type": "stream",
     "text": [
      "----- EVAL METRICS -----\n",
      "Precision: 0.0872\n",
      "Recall: 0.5723\n",
      "F2: 0.2708\n"
     ]
    },
    {
     "data": {
      "image/png": "[encoded data removed]",
      "text/plain": [
       "<Figure size 432x288 with 2 Axes>"
      ]
     },
     "metadata": {
      "needs_background": "light"
     },
     "output_type": "display_data"
    },
    {
     "data": {
      "image/png": "[encoded data removed]",
      "text/plain": [
       "<Figure size 432x288 with 2 Axes>"
      ]
     },
     "metadata": {
      "needs_background": "light"
     },
     "output_type": "display_data"
    }
   ],
   "source": [
    "evaluate_model(RF_primary_parameters_GS.best_estimator_, X_train_sub, y_train_sub, X_val, y_val)"
   ]
  },
  {
   "cell_type": "markdown",
   "id": "7b4dd28b",
   "metadata": {},
   "source": [
    "Model performance is a good start. As expected, 44 is optimal for N_estimators. "
   ]
  },
  {
   "cell_type": "code",
   "execution_count": 314,
   "id": "0ed194f0",
   "metadata": {},
   "outputs": [
    {
     "data": {
      "image/png": "[encoded data removed]",
      "text/plain": [
       "<Figure size 720x720 with 1 Axes>"
      ]
     },
     "metadata": {
      "needs_background": "light"
     },
     "output_type": "display_data"
    }
   ],
   "source": [
    "# plor grid search results\n",
    "plot_grid_search(RF_primary_parameters_GS.cv_results_,[25, 44, 100, 200],list(range(1,20)),'n_estimators','max_depth')"
   ]
  },
  {
   "cell_type": "markdown",
   "id": "2234407c",
   "metadata": {},
   "source": [
    "Now we grid search the less critical parameters to see if performance can be improved."
   ]
  },
  {
   "cell_type": "code",
   "execution_count": 344,
   "id": "0f82741c",
   "metadata": {},
   "outputs": [
    {
     "name": "stdout",
     "output_type": "stream",
     "text": [
      "Best: 0.262029 using {'model__class_weight': 'balanced_subsample', 'model__criterion': 'gini', 'model__max_depth': 7, 'model__max_features': 'log2', 'model__n_estimators': 50}\n"
     ]
    }
   ],
   "source": [
    "#now we grid search the less critical parameters and critical parameters closer to optimal zone\n",
    "param_grid = {'model__n_estimators': [40,44,50], # 44 is estimated optimal\n",
    "        'model__max_depth' : list(range(1,8)), #7 and 8 were best results previously\n",
    "        'model__class_weight': ['balanced', 'balanced_subsample'],\n",
    "        'model__criterion' :['gini', 'entropy'],\n",
    "        'model__max_features': ['auto', 'sqrt', 'log2']}\n",
    "\n",
    "RF_secondary_parameters_GS = GridSearch_RandomForest(param_grid)"
   ]
  },
  {
   "cell_type": "code",
   "execution_count": 345,
   "id": "2caca108",
   "metadata": {},
   "outputs": [
    {
     "name": "stdout",
     "output_type": "stream",
     "text": [
      "----- EVAL METRICS -----\n",
      "Precision: 0.0866\n",
      "Recall: 0.5597\n",
      "F2: 0.2674\n"
     ]
    },
    {
     "data": {
      "image/png": "[encoded data removed]",
      "text/plain": [
       "<Figure size 432x288 with 2 Axes>"
      ]
     },
     "metadata": {
      "needs_background": "light"
     },
     "output_type": "display_data"
    },
    {
     "data": {
      "image/png": "[encoded data removed]",
      "text/plain": [
       "<Figure size 432x288 with 2 Axes>"
      ]
     },
     "metadata": {
      "needs_background": "light"
     },
     "output_type": "display_data"
    }
   ],
   "source": [
    "evaluate_model(RF_secondary_parameters_GS.best_estimator_, X_train_sub, y_train_sub, X_val, y_val)"
   ]
  },
  {
   "cell_type": "markdown",
   "id": "0c200b9b",
   "metadata": {},
   "source": [
    "Performance is better on validation set, but we must be careful not to overfit this particular validation set. The mean f2 score from cross validation is also slightly higher which gives us more confidence in our result."
   ]
  },
  {
   "cell_type": "markdown",
   "id": "32f2ecfd",
   "metadata": {},
   "source": [
    "### Random Forest - with under/oversampling"
   ]
  },
  {
   "cell_type": "markdown",
   "id": "dfcf1e52",
   "metadata": {},
   "source": [
    "Now we will see if oversampling/undersampling can improve performance. Recall is currently only ~0.5 and this may be because the model doesn't have enough of the minority class to work with. We use a pipeline with SMOTE oversampling and random undersampling via Imbalanced Learn.\n",
    "\n",
    "SMOTE works by selecting examples that are close in the feature space, drawing a line between the examples in the feature space and drawing a new sample at a point along that line.\n",
    "https://machinelearningmastery.com/smote-oversampling-for-imbalanced-classification/\n",
    "\n",
    "We try a few different hyperparameter values for the sampling: ratios of over/under sampling as well as k for the SMOTE oversampling. This determines how many real members of the minority class are used to generate each synthesized record."
   ]
  },
  {
   "cell_type": "code",
   "execution_count": 109,
   "id": "1e1bd0b0",
   "metadata": {},
   "outputs": [],
   "source": [
    "from imblearn.pipeline import Pipeline as Pipeline_imb\n",
    "from imblearn.over_sampling import SMOTENC\n",
    "from imblearn.under_sampling import RandomUnderSampler\n",
    "from sklearn.preprocessing import LabelBinarizer\n",
    "from sklearn.compose import ColumnTransformer\n",
    "from sklearn.model_selection import cross_val_score\n",
    "from sklearn.metrics import recall_score"
   ]
  },
  {
   "cell_type": "code",
   "execution_count": 114,
   "id": "5bd90f55",
   "metadata": {},
   "outputs": [
    {
     "name": "stdout",
     "output_type": "stream",
     "text": [
      "Best: 0.242814 using {'model__class_weight': 'balanced_subsample', 'model__criterion': 'gini', 'model__max_depth': 9, 'model__max_features': 'auto', 'model__n_estimators': 44, 'over__k_neighbors': 2, 'over__sampling_strategy': 0.1, 'under__sampling_strategy': 0.5}\n"
     ]
    }
   ],
   "source": [
    "# Random Search CV: random forest pipeline with SMOTE oversampling, undersampling\n",
    "\n",
    "# parameter grid\n",
    "param_grid = {'model__n_estimators': [40, 44, 50],\n",
    "        'model__max_features': ['auto'],\n",
    "        'model__max_depth' : list(range(6,10)),\n",
    "        'model__criterion' :['gini'],\n",
    "        'model__class_weight': ['balanced', 'balanced_subsample'],\n",
    "       'under__sampling_strategy': [0.5, 0.8],\n",
    "       'over__sampling_strategy': [0.1, 0.2],\n",
    "       'over__k_neighbors': [2,5,10]}\n",
    "\n",
    "# over sample minority class\n",
    "cat_cols_mask = [True if col in cat_cols else False for col in X_train.columns]\n",
    "over = SMOTENC(categorical_features=cat_cols_mask)\n",
    "\n",
    "# under sample majority class\n",
    "under = RandomUnderSampler()\n",
    "\n",
    "# one hot encode (columns 15, 16, 17 only)\n",
    "encode = ColumnTransformer(transformers=[('cat', OneHotEncoder(), [15,16,17])], remainder='passthrough' )\n",
    "\n",
    "# instantiate model\n",
    "model = RandomForestClassifier()\n",
    "\n",
    "# define pipeline\n",
    "steps = [('over', over), ('under', under), ('encode', encode), ('model', model)]\n",
    "pipeline = Pipeline_imb(steps=steps)\n",
    "\n",
    "# define cross-validation\n",
    "cv = RepeatedStratifiedKFold(n_splits=10, n_repeats=1, random_state=1)\n",
    "\n",
    "# define grid search multi-metric scoring\n",
    "scoring = {'Recall': make_scorer(recall_score), 'fbeta': make_scorer(fbeta_score, beta=2)}\n",
    "\n",
    "# define grid search\n",
    "grid = GridSearchCV(estimator=pipeline, param_grid=param_grid,\n",
    "                          n_jobs=-1, cv=cv, scoring=scoring, refit='fbeta', return_train_score=False)\n",
    "\n",
    "# execute the grid search\n",
    "grid_result = grid.fit(X_train_sub, y_train_sub)\n",
    "\n",
    "# report the best configuration\n",
    "print(\"Best: %f using %s\" % (grid_result.best_score_, grid_result.best_params_))"
   ]
  },
  {
   "cell_type": "code",
   "execution_count": 115,
   "id": "4dda8fc2",
   "metadata": {},
   "outputs": [
    {
     "name": "stdout",
     "output_type": "stream",
     "text": [
      "----- EVAL METRICS -----\n",
      "Precision: 0.0796\n",
      "Recall: 0.5786\n",
      "F2: 0.2567\n"
     ]
    },
    {
     "data": {
      "image/png": "[encoded data removed]",
      "text/plain": [
       "<Figure size 432x288 with 2 Axes>"
      ]
     },
     "metadata": {
      "needs_background": "light"
     },
     "output_type": "display_data"
    },
    {
     "data": {
      "image/png": "[encoded data removed]",
      "text/plain": [
       "<Figure size 432x288 with 2 Axes>"
      ]
     },
     "metadata": {
      "needs_background": "light"
     },
     "output_type": "display_data"
    }
   ],
   "source": [
    "evaluate_model(grid_result.best_estimator_, X_train_sub, y_train_sub, X_val, y_val)"
   ]
  },
  {
   "cell_type": "code",
   "execution_count": 120,
   "id": "3f96d70e",
   "metadata": {},
   "outputs": [],
   "source": [
    "random_forest_SMOTE_results = pd.DataFrame(grid_result.cv_results_)"
   ]
  },
  {
   "cell_type": "code",
   "execution_count": 125,
   "id": "5ca243a5",
   "metadata": {},
   "outputs": [
    {
     "data": {
      "text/html": [
       "<div>\n",
       "<style scoped>\n",
       "    .dataframe tbody tr th:only-of-type {\n",
       "        vertical-align: middle;\n",
       "    }\n",
       "\n",
       "    .dataframe tbody tr th {\n",
       "        vertical-align: top;\n",
       "    }\n",
       "\n",
       "    .dataframe thead th {\n",
       "        text-align: right;\n",
       "    }\n",
       "</style>\n",
       "<table border=\"1\" class=\"dataframe\">\n",
       "  <thead>\n",
       "    <tr style=\"text-align: right;\">\n",
       "      <th></th>\n",
       "      <th>mean_test_fbeta</th>\n",
       "      <th>mean_test_Recall</th>\n",
       "      <th>param_model__max_depth</th>\n",
       "      <th>param_model__n_estimators</th>\n",
       "      <th>param_over__k_neighbors</th>\n",
       "    </tr>\n",
       "  </thead>\n",
       "  <tbody>\n",
       "    <tr>\n",
       "      <th>264</th>\n",
       "      <td>0.242814</td>\n",
       "      <td>0.516443</td>\n",
       "      <td>9</td>\n",
       "      <td>44</td>\n",
       "      <td>2</td>\n",
       "    </tr>\n",
       "    <tr>\n",
       "      <th>108</th>\n",
       "      <td>0.242055</td>\n",
       "      <td>0.508457</td>\n",
       "      <td>9</td>\n",
       "      <td>40</td>\n",
       "      <td>2</td>\n",
       "    </tr>\n",
       "    <tr>\n",
       "      <th>132</th>\n",
       "      <td>0.241887</td>\n",
       "      <td>0.513269</td>\n",
       "      <td>9</td>\n",
       "      <td>50</td>\n",
       "      <td>2</td>\n",
       "    </tr>\n",
       "    <tr>\n",
       "      <th>88</th>\n",
       "      <td>0.240817</td>\n",
       "      <td>0.554291</td>\n",
       "      <td>8</td>\n",
       "      <td>44</td>\n",
       "      <td>5</td>\n",
       "    </tr>\n",
       "    <tr>\n",
       "      <th>133</th>\n",
       "      <td>0.240459</td>\n",
       "      <td>0.547966</td>\n",
       "      <td>9</td>\n",
       "      <td>50</td>\n",
       "      <td>2</td>\n",
       "    </tr>\n",
       "    <tr>\n",
       "      <th>277</th>\n",
       "      <td>0.239792</td>\n",
       "      <td>0.552703</td>\n",
       "      <td>9</td>\n",
       "      <td>50</td>\n",
       "      <td>2</td>\n",
       "    </tr>\n",
       "    <tr>\n",
       "      <th>120</th>\n",
       "      <td>0.239020</td>\n",
       "      <td>0.499231</td>\n",
       "      <td>9</td>\n",
       "      <td>44</td>\n",
       "      <td>2</td>\n",
       "    </tr>\n",
       "    <tr>\n",
       "      <th>260</th>\n",
       "      <td>0.237887</td>\n",
       "      <td>0.495908</td>\n",
       "      <td>9</td>\n",
       "      <td>40</td>\n",
       "      <td>10</td>\n",
       "    </tr>\n",
       "    <tr>\n",
       "      <th>92</th>\n",
       "      <td>0.237749</td>\n",
       "      <td>0.535293</td>\n",
       "      <td>8</td>\n",
       "      <td>44</td>\n",
       "      <td>10</td>\n",
       "    </tr>\n",
       "    <tr>\n",
       "      <th>257</th>\n",
       "      <td>0.237317</td>\n",
       "      <td>0.544841</td>\n",
       "      <td>9</td>\n",
       "      <td>40</td>\n",
       "      <td>5</td>\n",
       "    </tr>\n",
       "    <tr>\n",
       "      <th>128</th>\n",
       "      <td>0.237258</td>\n",
       "      <td>0.495957</td>\n",
       "      <td>9</td>\n",
       "      <td>44</td>\n",
       "      <td>10</td>\n",
       "    </tr>\n",
       "    <tr>\n",
       "      <th>96</th>\n",
       "      <td>0.237168</td>\n",
       "      <td>0.535392</td>\n",
       "      <td>8</td>\n",
       "      <td>50</td>\n",
       "      <td>2</td>\n",
       "    </tr>\n",
       "    <tr>\n",
       "      <th>124</th>\n",
       "      <td>0.237001</td>\n",
       "      <td>0.497545</td>\n",
       "      <td>9</td>\n",
       "      <td>44</td>\n",
       "      <td>5</td>\n",
       "    </tr>\n",
       "    <tr>\n",
       "      <th>116</th>\n",
       "      <td>0.236985</td>\n",
       "      <td>0.500694</td>\n",
       "      <td>9</td>\n",
       "      <td>40</td>\n",
       "      <td>10</td>\n",
       "    </tr>\n",
       "    <tr>\n",
       "      <th>261</th>\n",
       "      <td>0.236868</td>\n",
       "      <td>0.546429</td>\n",
       "      <td>9</td>\n",
       "      <td>40</td>\n",
       "      <td>10</td>\n",
       "    </tr>\n",
       "    <tr>\n",
       "      <th>229</th>\n",
       "      <td>0.236663</td>\n",
       "      <td>0.579464</td>\n",
       "      <td>8</td>\n",
       "      <td>44</td>\n",
       "      <td>2</td>\n",
       "    </tr>\n",
       "    <tr>\n",
       "      <th>268</th>\n",
       "      <td>0.236618</td>\n",
       "      <td>0.489782</td>\n",
       "      <td>9</td>\n",
       "      <td>44</td>\n",
       "      <td>5</td>\n",
       "    </tr>\n",
       "    <tr>\n",
       "      <th>216</th>\n",
       "      <td>0.236507</td>\n",
       "      <td>0.543304</td>\n",
       "      <td>8</td>\n",
       "      <td>40</td>\n",
       "      <td>2</td>\n",
       "    </tr>\n",
       "    <tr>\n",
       "      <th>285</th>\n",
       "      <td>0.236431</td>\n",
       "      <td>0.546453</td>\n",
       "      <td>9</td>\n",
       "      <td>50</td>\n",
       "      <td>10</td>\n",
       "    </tr>\n",
       "    <tr>\n",
       "      <th>122</th>\n",
       "      <td>0.236409</td>\n",
       "      <td>0.469320</td>\n",
       "      <td>9</td>\n",
       "      <td>44</td>\n",
       "      <td>2</td>\n",
       "    </tr>\n",
       "  </tbody>\n",
       "</table>\n",
       "</div>"
      ],
      "text/plain": [
       "     mean_test_fbeta  mean_test_Recall param_model__max_depth  \\\n",
       "264         0.242814          0.516443                      9   \n",
       "108         0.242055          0.508457                      9   \n",
       "132         0.241887          0.513269                      9   \n",
       "88          0.240817          0.554291                      8   \n",
       "133         0.240459          0.547966                      9   \n",
       "277         0.239792          0.552703                      9   \n",
       "120         0.239020          0.499231                      9   \n",
       "260         0.237887          0.495908                      9   \n",
       "92          0.237749          0.535293                      8   \n",
       "257         0.237317          0.544841                      9   \n",
       "128         0.237258          0.495957                      9   \n",
       "96          0.237168          0.535392                      8   \n",
       "124         0.237001          0.497545                      9   \n",
       "116         0.236985          0.500694                      9   \n",
       "261         0.236868          0.546429                      9   \n",
       "229         0.236663          0.579464                      8   \n",
       "268         0.236618          0.489782                      9   \n",
       "216         0.236507          0.543304                      8   \n",
       "285         0.236431          0.546453                      9   \n",
       "122         0.236409          0.469320                      9   \n",
       "\n",
       "    param_model__n_estimators param_over__k_neighbors  \n",
       "264                        44                       2  \n",
       "108                        40                       2  \n",
       "132                        50                       2  \n",
       "88                         44                       5  \n",
       "133                        50                       2  \n",
       "277                        50                       2  \n",
       "120                        44                       2  \n",
       "260                        40                      10  \n",
       "92                         44                      10  \n",
       "257                        40                       5  \n",
       "128                        44                      10  \n",
       "96                         50                       2  \n",
       "124                        44                       5  \n",
       "116                        40                      10  \n",
       "261                        40                      10  \n",
       "229                        44                       2  \n",
       "268                        44                       5  \n",
       "216                        40                       2  \n",
       "285                        50                      10  \n",
       "122                        44                       2  "
      ]
     },
     "execution_count": 125,
     "metadata": {},
     "output_type": "execute_result"
    }
   ],
   "source": [
    "#compare results of different hyperparameter combinations\n",
    "random_forest_SMOTE_results[['mean_test_fbeta','mean_test_Recall', 'param_model__max_depth',\n",
    "                            'param_model__n_estimators','param_over__k_neighbors']].sort_values('mean_test_fbeta', ascending=False).head(20)"
   ]
  },
  {
   "cell_type": "markdown",
   "id": "64845e68",
   "metadata": {},
   "source": [
    "Over/under sampling results in increased recall but at the expense of precision/F2. This means that while more large wildfires are being correctly identified, more small wildfires are also being misclassified.\n",
    "\n",
    "If this model is to provide value to wildland fire efforts we don't want it to incorrectly classify too many small fires as large. "
   ]
  },
  {
   "cell_type": "markdown",
   "id": "d3540577",
   "metadata": {},
   "source": [
    "### XGBoost - No Sampling\n",
    "\n",
    "Now we will try using the Extreme Gradient Boosting algorithm to see if it offers better performance than the standard random forest model. First we'll try with no over/undersampling.\n",
    "\n",
    "Learning rate, subsample and min child weight = most important hyperparameters\n",
    "https://blog.dataiku.com/narrowing-the-search-which-hyperparameters-really-matter"
   ]
  },
  {
   "cell_type": "code",
   "execution_count": 187,
   "id": "bc1069d9",
   "metadata": {},
   "outputs": [
    {
     "name": "stdout",
     "output_type": "stream",
     "text": [
      "Estimate: 39.909\n"
     ]
    }
   ],
   "source": [
    "# determine ratio of positive to negeative classes in order to estimate optimal value for scale positive weight\n",
    "from collections import Counter\n",
    "counter = Counter(y_train)\n",
    "# estimate scale_pos_weight value\n",
    "estimate = counter[0] / counter[1]\n",
    "print('Estimate: %.3f' % estimate)"
   ]
  },
  {
   "cell_type": "code",
   "execution_count": 316,
   "id": "92096a93",
   "metadata": {},
   "outputs": [
    {
     "name": "stdout",
     "output_type": "stream",
     "text": [
      "Best: 0.248066 using {'under__sampling_strategy': 0.8, 'over__sampling_strategy': 0.1, 'over__k_neighbors': 10, 'model__subsample': 0.7, 'model__scale_pos_weight': 2, 'model__min_child_weight': 0.9, 'model__max_depth': 4, 'model__learning_rate': 0.3, 'model__colsample_bytree': 0.8999999999999999}\n"
     ]
    }
   ],
   "source": [
    "from xgboost import XGBClassifier\n",
    "\n",
    "# parameter grid - these ranges were refined throgh a few iterations that are not shown here\n",
    "param_grid = {'model__max_depth':[2,3,4,5,6,7],\n",
    "              'model__learning_rate':np.arange(0.2, 1.0, 0.1),\n",
    "              'model__colsample_bytree': np.arange(0.5, 1.0, 0.1),\n",
    "              'model__subsample':np.arange(0.5, 1.0, 0.1),\n",
    "              'model__min_child_weight':np.arange(0.1, 2, 0.1),\n",
    "              'model__scale_pos_weight': np.arange(30,60,5)}\n",
    "\n",
    "# one hot encode (columns 15, 16, 17 only)\n",
    "encode = ColumnTransformer(transformers=[('cat', OneHotEncoder(), [15,16,17])], remainder='passthrough' )\n",
    "\n",
    "# instantiate model\n",
    "model = XGBClassifier(verbosity = 0)\n",
    "\n",
    "# define pipeline\n",
    "steps = [('encode', encode), ('model', model)]\n",
    "pipeline = Pipeline_imb(steps=steps)\n",
    "\n",
    "# define cross-validation\n",
    "cv = RepeatedStratifiedKFold(n_splits=10, n_repeats=1, random_state=1)\n",
    "\n",
    "# define grid search multi-metric scoring\n",
    "scoring = {'Recall': make_scorer(recall_score), 'fbeta': make_scorer(fbeta_score, beta=2)}\n",
    "\n",
    "# define grid search\n",
    "grid = RandomizedSearchCV(estimator=pipeline, n_iter = 100, param_distributions=param_grid,\n",
    "                          n_jobs=-1, cv=cv, scoring=scoring, refit='fbeta', return_train_score=False)\n",
    "\n",
    "# execute the grid search\n",
    "grid_result_xgb = grid.fit(X_train_sub, y_train_sub)\n",
    "\n",
    "# report the best configuration\n",
    "print(\"Best: %f using %s\" % (grid_result.best_score_, grid_result.best_params_))"
   ]
  },
  {
   "cell_type": "code",
   "execution_count": 348,
   "id": "79118af0",
   "metadata": {},
   "outputs": [
    {
     "name": "stdout",
     "output_type": "stream",
     "text": [
      "Best: 0.265818 using {'model__subsample': 0.7999999999999999, 'model__scale_pos_weight': 30, 'model__min_child_weight': 1.7000000000000002, 'model__max_depth': 4, 'model__learning_rate': 0.2, 'model__colsample_bytree': 0.5}\n"
     ]
    }
   ],
   "source": [
    "print(\"Best: %f using %s\" % (grid_result_xgb.best_score_, grid_result_xgb.best_params_))"
   ]
  },
  {
   "cell_type": "code",
   "execution_count": 359,
   "id": "d7ab79c3",
   "metadata": {},
   "outputs": [],
   "source": [
    "def get_cv_scores(model):\n",
    "\n",
    "    fbeta = round(model.cv_results_['mean_test_fbeta'][model.best_index_],4)\n",
    "    recall = round(model.cv_results_['mean_test_Recall'][model.best_index_],4)\n",
    "    \n",
    "    print(f'F2: {fbeta}')\n",
    "    print(f'Recall: {recall}')"
   ]
  },
  {
   "cell_type": "code",
   "execution_count": 360,
   "id": "11afb6eb",
   "metadata": {},
   "outputs": [
    {
     "name": "stdout",
     "output_type": "stream",
     "text": [
      "F2: 0.2658\n",
      "Recall: 0.4266\n"
     ]
    }
   ],
   "source": [
    "get_cv_scores(grid_result_xgb)"
   ]
  },
  {
   "cell_type": "code",
   "execution_count": 319,
   "id": "2c82ec47",
   "metadata": {},
   "outputs": [
    {
     "name": "stdout",
     "output_type": "stream",
     "text": [
      "----- EVAL METRICS -----\n",
      "Precision: 0.1108\n",
      "Recall: 0.522\n",
      "F2: 0.2996\n"
     ]
    },
    {
     "data": {
      "image/png": "[encoded data removed]",
      "text/plain": [
       "<Figure size 432x288 with 2 Axes>"
      ]
     },
     "metadata": {
      "needs_background": "light"
     },
     "output_type": "display_data"
    },
    {
     "data": {
      "image/png": "[encoded data removed]",
      "text/plain": [
       "<Figure size 432x288 with 2 Axes>"
      ]
     },
     "metadata": {
      "needs_background": "light"
     },
     "output_type": "display_data"
    }
   ],
   "source": [
    "evaluate_model(grid_result_xgb.best_estimator_, X_train_sub, y_train_sub, X_val, y_val)"
   ]
  },
  {
   "cell_type": "code",
   "execution_count": 162,
   "id": "74394549",
   "metadata": {},
   "outputs": [],
   "source": [
    "xgboost_results = pd.DataFrame(grid_result.cv_results_)"
   ]
  },
  {
   "cell_type": "code",
   "execution_count": 165,
   "id": "a8b09422",
   "metadata": {},
   "outputs": [
    {
     "data": {
      "text/html": [
       "<div>\n",
       "<style scoped>\n",
       "    .dataframe tbody tr th:only-of-type {\n",
       "        vertical-align: middle;\n",
       "    }\n",
       "\n",
       "    .dataframe tbody tr th {\n",
       "        vertical-align: top;\n",
       "    }\n",
       "\n",
       "    .dataframe thead th {\n",
       "        text-align: right;\n",
       "    }\n",
       "</style>\n",
       "<table border=\"1\" class=\"dataframe\">\n",
       "  <thead>\n",
       "    <tr style=\"text-align: right;\">\n",
       "      <th></th>\n",
       "      <th>mean_test_fbeta</th>\n",
       "      <th>mean_test_Recall</th>\n",
       "      <th>param_model__subsample</th>\n",
       "      <th>param_model__scale_pos_weight</th>\n",
       "      <th>param_model__max_depth</th>\n",
       "      <th>param_model__learning_rate</th>\n",
       "      <th>param_model__colsample_bytree</th>\n",
       "      <th>param_model__subsample</th>\n",
       "      <th>param_model__min_child_weight</th>\n",
       "    </tr>\n",
       "  </thead>\n",
       "  <tbody>\n",
       "    <tr>\n",
       "      <th>29</th>\n",
       "      <td>0.264906</td>\n",
       "      <td>0.456523</td>\n",
       "      <td>0.6</td>\n",
       "      <td>40</td>\n",
       "      <td>4</td>\n",
       "      <td>0.2</td>\n",
       "      <td>0.9</td>\n",
       "      <td>0.6</td>\n",
       "      <td>0.5</td>\n",
       "    </tr>\n",
       "    <tr>\n",
       "      <th>17</th>\n",
       "      <td>0.264668</td>\n",
       "      <td>0.414261</td>\n",
       "      <td>0.5</td>\n",
       "      <td>30</td>\n",
       "      <td>4</td>\n",
       "      <td>0.2</td>\n",
       "      <td>0.8</td>\n",
       "      <td>0.5</td>\n",
       "      <td>1.9</td>\n",
       "    </tr>\n",
       "    <tr>\n",
       "      <th>65</th>\n",
       "      <td>0.260379</td>\n",
       "      <td>0.585615</td>\n",
       "      <td>0.7</td>\n",
       "      <td>40</td>\n",
       "      <td>3</td>\n",
       "      <td>0.2</td>\n",
       "      <td>0.9</td>\n",
       "      <td>0.7</td>\n",
       "      <td>0.9</td>\n",
       "    </tr>\n",
       "    <tr>\n",
       "      <th>43</th>\n",
       "      <td>0.258205</td>\n",
       "      <td>0.456572</td>\n",
       "      <td>0.9</td>\n",
       "      <td>40</td>\n",
       "      <td>4</td>\n",
       "      <td>0.2</td>\n",
       "      <td>0.8</td>\n",
       "      <td>0.9</td>\n",
       "      <td>0.1</td>\n",
       "    </tr>\n",
       "    <tr>\n",
       "      <th>79</th>\n",
       "      <td>0.256943</td>\n",
       "      <td>0.547941</td>\n",
       "      <td>0.7</td>\n",
       "      <td>30</td>\n",
       "      <td>2</td>\n",
       "      <td>0.4</td>\n",
       "      <td>0.8</td>\n",
       "      <td>0.7</td>\n",
       "      <td>0.6</td>\n",
       "    </tr>\n",
       "    <tr>\n",
       "      <th>26</th>\n",
       "      <td>0.254530</td>\n",
       "      <td>0.396974</td>\n",
       "      <td>0.8</td>\n",
       "      <td>30</td>\n",
       "      <td>4</td>\n",
       "      <td>0.2</td>\n",
       "      <td>0.7</td>\n",
       "      <td>0.8</td>\n",
       "      <td>1.4</td>\n",
       "    </tr>\n",
       "    <tr>\n",
       "      <th>97</th>\n",
       "      <td>0.254056</td>\n",
       "      <td>0.525942</td>\n",
       "      <td>0.6</td>\n",
       "      <td>60</td>\n",
       "      <td>4</td>\n",
       "      <td>0.2</td>\n",
       "      <td>0.7</td>\n",
       "      <td>0.6</td>\n",
       "      <td>0.7</td>\n",
       "    </tr>\n",
       "    <tr>\n",
       "      <th>67</th>\n",
       "      <td>0.252169</td>\n",
       "      <td>0.511806</td>\n",
       "      <td>0.6</td>\n",
       "      <td>40</td>\n",
       "      <td>3</td>\n",
       "      <td>0.3</td>\n",
       "      <td>0.9</td>\n",
       "      <td>0.6</td>\n",
       "      <td>1.1</td>\n",
       "    </tr>\n",
       "    <tr>\n",
       "      <th>86</th>\n",
       "      <td>0.251968</td>\n",
       "      <td>0.494469</td>\n",
       "      <td>0.8</td>\n",
       "      <td>50</td>\n",
       "      <td>4</td>\n",
       "      <td>0.2</td>\n",
       "      <td>0.6</td>\n",
       "      <td>0.8</td>\n",
       "      <td>1.4</td>\n",
       "    </tr>\n",
       "    <tr>\n",
       "      <th>10</th>\n",
       "      <td>0.250601</td>\n",
       "      <td>0.525843</td>\n",
       "      <td>0.7</td>\n",
       "      <td>40</td>\n",
       "      <td>3</td>\n",
       "      <td>0.3</td>\n",
       "      <td>0.5</td>\n",
       "      <td>0.7</td>\n",
       "      <td>1.2</td>\n",
       "    </tr>\n",
       "    <tr>\n",
       "      <th>75</th>\n",
       "      <td>0.248211</td>\n",
       "      <td>0.639211</td>\n",
       "      <td>0.9</td>\n",
       "      <td>40</td>\n",
       "      <td>2</td>\n",
       "      <td>0.3</td>\n",
       "      <td>0.5</td>\n",
       "      <td>0.9</td>\n",
       "      <td>1.4</td>\n",
       "    </tr>\n",
       "    <tr>\n",
       "      <th>0</th>\n",
       "      <td>0.248105</td>\n",
       "      <td>0.623537</td>\n",
       "      <td>0.9</td>\n",
       "      <td>50</td>\n",
       "      <td>3</td>\n",
       "      <td>0.2</td>\n",
       "      <td>0.9</td>\n",
       "      <td>0.9</td>\n",
       "      <td>0.1</td>\n",
       "    </tr>\n",
       "    <tr>\n",
       "      <th>54</th>\n",
       "      <td>0.247817</td>\n",
       "      <td>0.571429</td>\n",
       "      <td>0.9</td>\n",
       "      <td>50</td>\n",
       "      <td>3</td>\n",
       "      <td>0.3</td>\n",
       "      <td>0.5</td>\n",
       "      <td>0.9</td>\n",
       "      <td>1.7</td>\n",
       "    </tr>\n",
       "    <tr>\n",
       "      <th>7</th>\n",
       "      <td>0.246797</td>\n",
       "      <td>0.661235</td>\n",
       "      <td>0.7</td>\n",
       "      <td>40</td>\n",
       "      <td>2</td>\n",
       "      <td>0.2</td>\n",
       "      <td>0.7</td>\n",
       "      <td>0.7</td>\n",
       "      <td>0.3</td>\n",
       "    </tr>\n",
       "    <tr>\n",
       "      <th>31</th>\n",
       "      <td>0.246661</td>\n",
       "      <td>0.410838</td>\n",
       "      <td>0.9</td>\n",
       "      <td>30</td>\n",
       "      <td>3</td>\n",
       "      <td>0.4</td>\n",
       "      <td>0.6</td>\n",
       "      <td>0.9</td>\n",
       "      <td>1.6</td>\n",
       "    </tr>\n",
       "    <tr>\n",
       "      <th>50</th>\n",
       "      <td>0.246415</td>\n",
       "      <td>0.382589</td>\n",
       "      <td>0.9</td>\n",
       "      <td>40</td>\n",
       "      <td>4</td>\n",
       "      <td>0.3</td>\n",
       "      <td>0.6</td>\n",
       "      <td>0.9</td>\n",
       "      <td>1.0</td>\n",
       "    </tr>\n",
       "    <tr>\n",
       "      <th>62</th>\n",
       "      <td>0.246204</td>\n",
       "      <td>0.384226</td>\n",
       "      <td>0.9</td>\n",
       "      <td>30</td>\n",
       "      <td>3</td>\n",
       "      <td>0.5</td>\n",
       "      <td>0.7</td>\n",
       "      <td>0.9</td>\n",
       "      <td>0.2</td>\n",
       "    </tr>\n",
       "    <tr>\n",
       "      <th>58</th>\n",
       "      <td>0.246046</td>\n",
       "      <td>0.673909</td>\n",
       "      <td>0.8</td>\n",
       "      <td>50</td>\n",
       "      <td>2</td>\n",
       "      <td>0.4</td>\n",
       "      <td>0.7</td>\n",
       "      <td>0.8</td>\n",
       "      <td>0.6</td>\n",
       "    </tr>\n",
       "    <tr>\n",
       "      <th>61</th>\n",
       "      <td>0.245946</td>\n",
       "      <td>0.562178</td>\n",
       "      <td>0.6</td>\n",
       "      <td>50</td>\n",
       "      <td>3</td>\n",
       "      <td>0.3</td>\n",
       "      <td>0.5</td>\n",
       "      <td>0.6</td>\n",
       "      <td>0.2</td>\n",
       "    </tr>\n",
       "    <tr>\n",
       "      <th>56</th>\n",
       "      <td>0.245063</td>\n",
       "      <td>0.628274</td>\n",
       "      <td>0.6</td>\n",
       "      <td>40</td>\n",
       "      <td>2</td>\n",
       "      <td>0.3</td>\n",
       "      <td>0.7</td>\n",
       "      <td>0.6</td>\n",
       "      <td>0.8</td>\n",
       "    </tr>\n",
       "  </tbody>\n",
       "</table>\n",
       "</div>"
      ],
      "text/plain": [
       "    mean_test_fbeta  mean_test_Recall param_model__subsample  \\\n",
       "29         0.264906          0.456523                    0.6   \n",
       "17         0.264668          0.414261                    0.5   \n",
       "65         0.260379          0.585615                    0.7   \n",
       "43         0.258205          0.456572                    0.9   \n",
       "79         0.256943          0.547941                    0.7   \n",
       "26         0.254530          0.396974                    0.8   \n",
       "97         0.254056          0.525942                    0.6   \n",
       "67         0.252169          0.511806                    0.6   \n",
       "86         0.251968          0.494469                    0.8   \n",
       "10         0.250601          0.525843                    0.7   \n",
       "75         0.248211          0.639211                    0.9   \n",
       "0          0.248105          0.623537                    0.9   \n",
       "54         0.247817          0.571429                    0.9   \n",
       "7          0.246797          0.661235                    0.7   \n",
       "31         0.246661          0.410838                    0.9   \n",
       "50         0.246415          0.382589                    0.9   \n",
       "62         0.246204          0.384226                    0.9   \n",
       "58         0.246046          0.673909                    0.8   \n",
       "61         0.245946          0.562178                    0.6   \n",
       "56         0.245063          0.628274                    0.6   \n",
       "\n",
       "   param_model__scale_pos_weight param_model__max_depth  \\\n",
       "29                            40                      4   \n",
       "17                            30                      4   \n",
       "65                            40                      3   \n",
       "43                            40                      4   \n",
       "79                            30                      2   \n",
       "26                            30                      4   \n",
       "97                            60                      4   \n",
       "67                            40                      3   \n",
       "86                            50                      4   \n",
       "10                            40                      3   \n",
       "75                            40                      2   \n",
       "0                             50                      3   \n",
       "54                            50                      3   \n",
       "7                             40                      2   \n",
       "31                            30                      3   \n",
       "50                            40                      4   \n",
       "62                            30                      3   \n",
       "58                            50                      2   \n",
       "61                            50                      3   \n",
       "56                            40                      2   \n",
       "\n",
       "   param_model__learning_rate param_model__colsample_bytree  \\\n",
       "29                        0.2                           0.9   \n",
       "17                        0.2                           0.8   \n",
       "65                        0.2                           0.9   \n",
       "43                        0.2                           0.8   \n",
       "79                        0.4                           0.8   \n",
       "26                        0.2                           0.7   \n",
       "97                        0.2                           0.7   \n",
       "67                        0.3                           0.9   \n",
       "86                        0.2                           0.6   \n",
       "10                        0.3                           0.5   \n",
       "75                        0.3                           0.5   \n",
       "0                         0.2                           0.9   \n",
       "54                        0.3                           0.5   \n",
       "7                         0.2                           0.7   \n",
       "31                        0.4                           0.6   \n",
       "50                        0.3                           0.6   \n",
       "62                        0.5                           0.7   \n",
       "58                        0.4                           0.7   \n",
       "61                        0.3                           0.5   \n",
       "56                        0.3                           0.7   \n",
       "\n",
       "   param_model__subsample param_model__min_child_weight  \n",
       "29                    0.6                           0.5  \n",
       "17                    0.5                           1.9  \n",
       "65                    0.7                           0.9  \n",
       "43                    0.9                           0.1  \n",
       "79                    0.7                           0.6  \n",
       "26                    0.8                           1.4  \n",
       "97                    0.6                           0.7  \n",
       "67                    0.6                           1.1  \n",
       "86                    0.8                           1.4  \n",
       "10                    0.7                           1.2  \n",
       "75                    0.9                           1.4  \n",
       "0                     0.9                           0.1  \n",
       "54                    0.9                           1.7  \n",
       "7                     0.7                           0.3  \n",
       "31                    0.9                           1.6  \n",
       "50                    0.9                           1.0  \n",
       "62                    0.9                           0.2  \n",
       "58                    0.8                           0.6  \n",
       "61                    0.6                           0.2  \n",
       "56                    0.6                           0.8  "
      ]
     },
     "execution_count": 165,
     "metadata": {},
     "output_type": "execute_result"
    }
   ],
   "source": [
    "xgboost_results[['mean_test_fbeta',\n",
    "                 'mean_test_Recall',\n",
    "                 'param_model__subsample',\n",
    "                 'param_model__scale_pos_weight',\n",
    "                 'param_model__max_depth',\n",
    "                 'param_model__learning_rate',\n",
    "                 'param_model__colsample_bytree',\n",
    "                 'param_model__subsample',\n",
    "                 'param_model__min_child_weight'\n",
    "                ]].sort_values('mean_test_fbeta', ascending=False).head(20)"
   ]
  },
  {
   "cell_type": "markdown",
   "id": "c0efdce1",
   "metadata": {},
   "source": [
    "XGBoost is performing close, but slightly worse than the random forest classifier."
   ]
  },
  {
   "cell_type": "markdown",
   "id": "8d4bb088",
   "metadata": {},
   "source": [
    "### XGBoost - SMOTE Oversampling"
   ]
  },
  {
   "cell_type": "markdown",
   "id": "1e797dd8",
   "metadata": {},
   "source": [
    "Now we try XGBoost with under/oversampling. Perhaps the poor performance is due to class imbalance. First we need to think about how changing the class balance will influence the upper/lower bounds of our scale_pos_weight hyperparameter. Because the class imbalance will be less, the scale_pos_weight should be greatly reduced and the range in the grid search should be adjusted accordingly. "
   ]
  },
  {
   "cell_type": "code",
   "execution_count": 148,
   "id": "30712e55",
   "metadata": {},
   "outputs": [
    {
     "name": "stdout",
     "output_type": "stream",
     "text": [
      "Estimate: 5.000\n"
     ]
    }
   ],
   "source": [
    "# determine ratio of positive to negative classes in order to estimate scale positive weight\n",
    "over = SMOTENC(categorical_features=cat_cols_mask, sampling_strategy=0.1)\n",
    "oversampled_x, oversampled_y = over.fit_resample(X_train_sub, y_train_sub)\n",
    "under = RandomUnderSampler(sampling_strategy=0.2)\n",
    "\n",
    "undersampled_x, undersampled_y = under.fit_resample(oversampled_x, oversampled_y)\n",
    "\n",
    "from collections import Counter\n",
    "counter = Counter(undersampled_y)\n",
    "# estimate scale_pos_weight value\n",
    "estimate = counter[0] / counter[1]\n",
    "print('Estimate: %.3f' % estimate)"
   ]
  },
  {
   "cell_type": "code",
   "execution_count": 351,
   "id": "af223a25",
   "metadata": {},
   "outputs": [
    {
     "name": "stdout",
     "output_type": "stream",
     "text": [
      "Best: 0.243141 using {'under__sampling_strategy': 0.5, 'over__sampling_strategy': 0.2, 'over__k_neighbors': 5, 'model__subsample': 0.6, 'model__scale_pos_weight': 5, 'model__min_child_weight': 0.6, 'model__max_depth': 4, 'model__learning_rate': 0.2, 'model__colsample_bytree': 0.7}\n"
     ]
    }
   ],
   "source": [
    "from xgboost import XGBClassifier\n",
    "\n",
    "param_grid = {'model__max_depth':[2,3,4],\n",
    "              'model__learning_rate':[0.2, 0.3, 0.4],\n",
    "              'model__colsample_bytree': np.arange(0.5, 1.0, 0.1),\n",
    "              'model__subsample':np.arange(0.5, 1.0, 0.1),\n",
    "              'model__min_child_weight':np.arange(0.1, 2, 0.1),\n",
    "              'model__scale_pos_weight': [1, 2, 3, 5, 7],\n",
    "             'under__sampling_strategy': [0.2, 0.5, 0.8],\n",
    "              'over__sampling_strategy': [0.1, 0.2, 0.3],\n",
    "              'over__k_neighbors': [2,5,10]}\n",
    "\n",
    "# over sample minority class\n",
    "cat_cols_mask = [True if col in cat_cols else False for col in X_train.columns]\n",
    "over = SMOTENC(categorical_features=cat_cols_mask)\n",
    "\n",
    "# under sample majority class\n",
    "under = RandomUnderSampler()\n",
    "\n",
    "# one hot encode (columns 15, 16, 17 only)\n",
    "encode = ColumnTransformer(transformers=[('cat', OneHotEncoder(), [15,16,17])], remainder='passthrough' )\n",
    "\n",
    "# instantiate model\n",
    "model = XGBClassifier()\n",
    "\n",
    "# define pipeline\n",
    "steps = [('over',over), ('under', under), ('encode', encode), ('model', model)]\n",
    "pipeline = Pipeline_imb(steps=steps)\n",
    "\n",
    "# define cross-validation\n",
    "cv = RepeatedStratifiedKFold(n_splits=10, n_repeats=1, random_state=1)\n",
    "\n",
    "# define grid search multi-metric scoring\n",
    "scoring = {'Recall': make_scorer(recall_score), 'fbeta': make_scorer(fbeta_score, beta=2)}\n",
    "\n",
    "# define grid search\n",
    "grid = RandomizedSearchCV(estimator=pipeline, n_iter = 100, param_distributions=param_grid,\n",
    "                          n_jobs=-1, cv=cv, scoring=scoring, refit='fbeta', return_train_score=False)\n",
    "\n",
    "# execute the grid search\n",
    "grid_result = grid.fit(X_train_sub, y_train_sub)\n",
    "\n",
    "# report the best configuration\n",
    "print(\"Best: %f using %s\" % (grid_result.best_score_, grid_result.best_params_))"
   ]
  },
  {
   "cell_type": "code",
   "execution_count": 167,
   "id": "64ae6dbb",
   "metadata": {},
   "outputs": [
    {
     "name": "stdout",
     "output_type": "stream",
     "text": [
      "[19:19:23] WARNING: /Users/runner/miniforge3/conda-bld/xgboost-split_1631904775127/work/src/learner.cc:1095: Starting in XGBoost 1.3.0, the default evaluation metric used with the objective 'binary:logistic' was changed from 'error' to 'logloss'. Explicitly set eval_metric if you'd like to restore the old behavior.\n",
      "----- EVAL METRICS -----\n",
      "Precision: 0.0911\n",
      "Recall: 0.5094\n",
      "F2: 0.2656\n"
     ]
    },
    {
     "data": {
      "image/png": "[encoded data removed]",
      "text/plain": [
       "<Figure size 432x288 with 2 Axes>"
      ]
     },
     "metadata": {
      "needs_background": "light"
     },
     "output_type": "display_data"
    },
    {
     "data": {
      "image/png": "[encoded data removed]",
      "text/plain": [
       "<Figure size 432x288 with 2 Axes>"
      ]
     },
     "metadata": {
      "needs_background": "light"
     },
     "output_type": "display_data"
    }
   ],
   "source": [
    "evaluate_model(grid_result.best_estimator_, X_train_sub, y_train_sub, X_val, y_val)"
   ]
  },
  {
   "cell_type": "markdown",
   "id": "13c6bed4",
   "metadata": {},
   "source": [
    "Performing okay - looks like its catching a decent amount of large without too many small"
   ]
  },
  {
   "cell_type": "markdown",
   "id": "f8f2ac18",
   "metadata": {},
   "source": [
    "XGBoost allows us to see \"Feature Importance\", the relative degree to which each feature is contributing to the model's decision."
   ]
  },
  {
   "cell_type": "code",
   "execution_count": 179,
   "id": "9abf92f8",
   "metadata": {},
   "outputs": [
    {
     "data": {
      "text/html": [
       "<div>\n",
       "<style scoped>\n",
       "    .dataframe tbody tr th:only-of-type {\n",
       "        vertical-align: middle;\n",
       "    }\n",
       "\n",
       "    .dataframe tbody tr th {\n",
       "        vertical-align: top;\n",
       "    }\n",
       "\n",
       "    .dataframe thead th {\n",
       "        text-align: right;\n",
       "    }\n",
       "</style>\n",
       "<table border=\"1\" class=\"dataframe\">\n",
       "  <thead>\n",
       "    <tr style=\"text-align: right;\">\n",
       "      <th></th>\n",
       "      <th>col_name</th>\n",
       "      <th>Importance</th>\n",
       "    </tr>\n",
       "  </thead>\n",
       "  <tbody>\n",
       "    <tr>\n",
       "      <th>0</th>\n",
       "      <td>cat__x0_Agriculture</td>\n",
       "      <td>0.206017</td>\n",
       "    </tr>\n",
       "    <tr>\n",
       "      <th>7</th>\n",
       "      <td>cat__x0_Urban</td>\n",
       "      <td>0.087940</td>\n",
       "    </tr>\n",
       "    <tr>\n",
       "      <th>4</th>\n",
       "      <td>cat__x0_Hardwood</td>\n",
       "      <td>0.045388</td>\n",
       "    </tr>\n",
       "    <tr>\n",
       "      <th>39</th>\n",
       "      <td>usda_fi2</td>\n",
       "      <td>0.042286</td>\n",
       "    </tr>\n",
       "    <tr>\n",
       "      <th>41</th>\n",
       "      <td>usda_fi4</td>\n",
       "      <td>0.037265</td>\n",
       "    </tr>\n",
       "    <tr>\n",
       "      <th>36</th>\n",
       "      <td>fm100</td>\n",
       "      <td>0.032803</td>\n",
       "    </tr>\n",
       "    <tr>\n",
       "      <th>18</th>\n",
       "      <td>cat__x2_Central_CA_Valley</td>\n",
       "      <td>0.030652</td>\n",
       "    </tr>\n",
       "    <tr>\n",
       "      <th>26</th>\n",
       "      <td>cat__x2_Sierra_Nevada</td>\n",
       "      <td>0.029675</td>\n",
       "    </tr>\n",
       "    <tr>\n",
       "      <th>16</th>\n",
       "      <td>cat__x2_Central_Basin_and_Range</td>\n",
       "      <td>0.027487</td>\n",
       "    </tr>\n",
       "    <tr>\n",
       "      <th>5</th>\n",
       "      <td>cat__x0_Herbaceous</td>\n",
       "      <td>0.026633</td>\n",
       "    </tr>\n",
       "    <tr>\n",
       "      <th>40</th>\n",
       "      <td>usda_fi3</td>\n",
       "      <td>0.025947</td>\n",
       "    </tr>\n",
       "    <tr>\n",
       "      <th>6</th>\n",
       "      <td>cat__x0_Shrub</td>\n",
       "      <td>0.025584</td>\n",
       "    </tr>\n",
       "    <tr>\n",
       "      <th>38</th>\n",
       "      <td>usda_fi1</td>\n",
       "      <td>0.024208</td>\n",
       "    </tr>\n",
       "    <tr>\n",
       "      <th>29</th>\n",
       "      <td>elevation</td>\n",
       "      <td>0.022927</td>\n",
       "    </tr>\n",
       "    <tr>\n",
       "      <th>30</th>\n",
       "      <td>slope</td>\n",
       "      <td>0.021573</td>\n",
       "    </tr>\n",
       "    <tr>\n",
       "      <th>2</th>\n",
       "      <td>cat__x0_Conifer</td>\n",
       "      <td>0.021391</td>\n",
       "    </tr>\n",
       "    <tr>\n",
       "      <th>15</th>\n",
       "      <td>cat__x2_Cascades</td>\n",
       "      <td>0.021258</td>\n",
       "    </tr>\n",
       "    <tr>\n",
       "      <th>21</th>\n",
       "      <td>cat__x2_Klamath_Mountains_CA_High_N_Coast_Range</td>\n",
       "      <td>0.019238</td>\n",
       "    </tr>\n",
       "    <tr>\n",
       "      <th>46</th>\n",
       "      <td>DISCOVERY_DOY_sin</td>\n",
       "      <td>0.017572</td>\n",
       "    </tr>\n",
       "    <tr>\n",
       "      <th>14</th>\n",
       "      <td>cat__x1_W_CORDILLERA</td>\n",
       "      <td>0.017482</td>\n",
       "    </tr>\n",
       "    <tr>\n",
       "      <th>11</th>\n",
       "      <td>cat__x1_MARINE_W_COAST_FOREST</td>\n",
       "      <td>0.016512</td>\n",
       "    </tr>\n",
       "    <tr>\n",
       "      <th>44</th>\n",
       "      <td>aspect_sin</td>\n",
       "      <td>0.015495</td>\n",
       "    </tr>\n",
       "    <tr>\n",
       "      <th>45</th>\n",
       "      <td>DISCOVERY_DOY_cos</td>\n",
       "      <td>0.014398</td>\n",
       "    </tr>\n",
       "    <tr>\n",
       "      <th>43</th>\n",
       "      <td>aspect_cos</td>\n",
       "      <td>0.014080</td>\n",
       "    </tr>\n",
       "    <tr>\n",
       "      <th>42</th>\n",
       "      <td>monthly_large_wf</td>\n",
       "      <td>0.012189</td>\n",
       "    </tr>\n",
       "    <tr>\n",
       "      <th>28</th>\n",
       "      <td>LONGITUDE</td>\n",
       "      <td>0.012132</td>\n",
       "    </tr>\n",
       "    <tr>\n",
       "      <th>1</th>\n",
       "      <td>cat__x0_Barren_Other</td>\n",
       "      <td>0.011989</td>\n",
       "    </tr>\n",
       "    <tr>\n",
       "      <th>31</th>\n",
       "      <td>mean_monthly_ppt</td>\n",
       "      <td>0.011415</td>\n",
       "    </tr>\n",
       "    <tr>\n",
       "      <th>3</th>\n",
       "      <td>cat__x0_Desert</td>\n",
       "      <td>0.010631</td>\n",
       "    </tr>\n",
       "    <tr>\n",
       "      <th>17</th>\n",
       "      <td>cat__x2_Central_CA_Foothills_and_Coastal_Mount...</td>\n",
       "      <td>0.010318</td>\n",
       "    </tr>\n",
       "    <tr>\n",
       "      <th>35</th>\n",
       "      <td>bi</td>\n",
       "      <td>0.010126</td>\n",
       "    </tr>\n",
       "    <tr>\n",
       "      <th>34</th>\n",
       "      <td>wind_speed</td>\n",
       "      <td>0.010114</td>\n",
       "    </tr>\n",
       "    <tr>\n",
       "      <th>32</th>\n",
       "      <td>dew_point</td>\n",
       "      <td>0.010043</td>\n",
       "    </tr>\n",
       "    <tr>\n",
       "      <th>33</th>\n",
       "      <td>max_temp</td>\n",
       "      <td>0.008557</td>\n",
       "    </tr>\n",
       "    <tr>\n",
       "      <th>37</th>\n",
       "      <td>usda_bp</td>\n",
       "      <td>0.008409</td>\n",
       "    </tr>\n",
       "    <tr>\n",
       "      <th>20</th>\n",
       "      <td>cat__x2_E_Cascades_Slopes_and_Foothills</td>\n",
       "      <td>0.008037</td>\n",
       "    </tr>\n",
       "    <tr>\n",
       "      <th>12</th>\n",
       "      <td>cat__x1_MEDITERRANEAN_CA</td>\n",
       "      <td>0.007945</td>\n",
       "    </tr>\n",
       "    <tr>\n",
       "      <th>24</th>\n",
       "      <td>cat__x2_S_CA_Mountains</td>\n",
       "      <td>0.007400</td>\n",
       "    </tr>\n",
       "    <tr>\n",
       "      <th>13</th>\n",
       "      <td>cat__x1_WARM_DESERTS</td>\n",
       "      <td>0.006975</td>\n",
       "    </tr>\n",
       "    <tr>\n",
       "      <th>25</th>\n",
       "      <td>cat__x2_S_CA_N_Baja_Coast</td>\n",
       "      <td>0.005161</td>\n",
       "    </tr>\n",
       "    <tr>\n",
       "      <th>10</th>\n",
       "      <td>cat__x1_COLD_DESERTS</td>\n",
       "      <td>0.004750</td>\n",
       "    </tr>\n",
       "    <tr>\n",
       "      <th>19</th>\n",
       "      <td>cat__x2_Coast_Range</td>\n",
       "      <td>0.000000</td>\n",
       "    </tr>\n",
       "    <tr>\n",
       "      <th>8</th>\n",
       "      <td>cat__x0_Water</td>\n",
       "      <td>0.000000</td>\n",
       "    </tr>\n",
       "    <tr>\n",
       "      <th>9</th>\n",
       "      <td>cat__x0_Wetland</td>\n",
       "      <td>0.000000</td>\n",
       "    </tr>\n",
       "    <tr>\n",
       "      <th>27</th>\n",
       "      <td>cat__x2_Sonoran_Basin_and_Range</td>\n",
       "      <td>0.000000</td>\n",
       "    </tr>\n",
       "    <tr>\n",
       "      <th>22</th>\n",
       "      <td>cat__x2_Mojave_Basin_and_Range</td>\n",
       "      <td>0.000000</td>\n",
       "    </tr>\n",
       "    <tr>\n",
       "      <th>23</th>\n",
       "      <td>cat__x2_N_Basin_and_Range</td>\n",
       "      <td>0.000000</td>\n",
       "    </tr>\n",
       "  </tbody>\n",
       "</table>\n",
       "</div>"
      ],
      "text/plain": [
       "                                             col_name  Importance\n",
       "0                                 cat__x0_Agriculture    0.206017\n",
       "7                                       cat__x0_Urban    0.087940\n",
       "4                                    cat__x0_Hardwood    0.045388\n",
       "39                                           usda_fi2    0.042286\n",
       "41                                           usda_fi4    0.037265\n",
       "36                                              fm100    0.032803\n",
       "18                          cat__x2_Central_CA_Valley    0.030652\n",
       "26                              cat__x2_Sierra_Nevada    0.029675\n",
       "16                    cat__x2_Central_Basin_and_Range    0.027487\n",
       "5                                  cat__x0_Herbaceous    0.026633\n",
       "40                                           usda_fi3    0.025947\n",
       "6                                       cat__x0_Shrub    0.025584\n",
       "38                                           usda_fi1    0.024208\n",
       "29                                          elevation    0.022927\n",
       "30                                              slope    0.021573\n",
       "2                                     cat__x0_Conifer    0.021391\n",
       "15                                   cat__x2_Cascades    0.021258\n",
       "21    cat__x2_Klamath_Mountains_CA_High_N_Coast_Range    0.019238\n",
       "46                                  DISCOVERY_DOY_sin    0.017572\n",
       "14                               cat__x1_W_CORDILLERA    0.017482\n",
       "11                      cat__x1_MARINE_W_COAST_FOREST    0.016512\n",
       "44                                         aspect_sin    0.015495\n",
       "45                                  DISCOVERY_DOY_cos    0.014398\n",
       "43                                         aspect_cos    0.014080\n",
       "42                                   monthly_large_wf    0.012189\n",
       "28                                          LONGITUDE    0.012132\n",
       "1                                cat__x0_Barren_Other    0.011989\n",
       "31                                   mean_monthly_ppt    0.011415\n",
       "3                                      cat__x0_Desert    0.010631\n",
       "17  cat__x2_Central_CA_Foothills_and_Coastal_Mount...    0.010318\n",
       "35                                                 bi    0.010126\n",
       "34                                         wind_speed    0.010114\n",
       "32                                          dew_point    0.010043\n",
       "33                                           max_temp    0.008557\n",
       "37                                            usda_bp    0.008409\n",
       "20            cat__x2_E_Cascades_Slopes_and_Foothills    0.008037\n",
       "12                           cat__x1_MEDITERRANEAN_CA    0.007945\n",
       "24                             cat__x2_S_CA_Mountains    0.007400\n",
       "13                               cat__x1_WARM_DESERTS    0.006975\n",
       "25                          cat__x2_S_CA_N_Baja_Coast    0.005161\n",
       "10                               cat__x1_COLD_DESERTS    0.004750\n",
       "19                                cat__x2_Coast_Range    0.000000\n",
       "8                                       cat__x0_Water    0.000000\n",
       "9                                     cat__x0_Wetland    0.000000\n",
       "27                    cat__x2_Sonoran_Basin_and_Range    0.000000\n",
       "22                     cat__x2_Mojave_Basin_and_Range    0.000000\n",
       "23                          cat__x2_N_Basin_and_Range    0.000000"
      ]
     },
     "execution_count": 179,
     "metadata": {},
     "output_type": "execute_result"
    }
   ],
   "source": [
    "#create sorted dataframe of feature importance\n",
    "from xgboost import plot_importance\n",
    "best_model = grid_result.best_estimator_.fit(X_train, y_train)\n",
    "feat_importance = best_model.named_steps['model'].feature_importances_\n",
    "col_names = best_model.named_steps['encode'].get_feature_names()\n",
    "pd.DataFrame({'col_name':col_names, 'Importance':feat_importance}).sort_values('Importance', ascending=False)"
   ]
  },
  {
   "cell_type": "code",
   "execution_count": null,
   "id": "2bb70566",
   "metadata": {},
   "outputs": [],
   "source": [
    "#plot feature importance\n",
    "fig, ax = plt.subplots(figsize=(5,10))\n",
    "sns.barplot(ax=ax, data=lgb_importances, x='Importance', y=\"col_name\")\n",
    "ax.set_title('Feature Importance for LightGBM Model')\n",
    "ax.set_ylabel('Feature Name')\n",
    "ax.set_xlabel('Importance');"
   ]
  },
  {
   "cell_type": "markdown",
   "id": "3d6c2c87",
   "metadata": {},
   "source": [
    "Interestingly, the categorical environment fields are contributing the most to the model. Perhaps this is because wildfires located in urban/agricultural areas tend to be closer to roads and are therefore more easily put out before they grow to be too large. Let's compare vs cross tabulation:"
   ]
  },
  {
   "cell_type": "code",
   "execution_count": 260,
   "id": "b44d7626",
   "metadata": {},
   "outputs": [],
   "source": [
    "# plot bar chot of cross tabulation between fire size and another category\n",
    "wfs_train = pd.concat([X_train,y_train], axis=1)\n",
    "def plot_firesize_comparison(df,column,category):\n",
    "    flag = df.apply(lambda r: 1 if r[column] == category else 0, axis=1)\n",
    "    pd.crosstab(df['FIRE_SIZE_CLASS'],flag,normalize='index').plot.bar(stacked=True)\n",
    "    plt.ylabel('Proportion of Fires')\n",
    "    plt.xlabel('Fire Size Class')\n",
    "    plt.legend([f'Non-{category}', category],loc='right')\n",
    "    plt.title(f'Fire Size vs. {category}')\n",
    "\n",
    "    plt.show()"
   ]
  },
  {
   "cell_type": "code",
   "execution_count": 261,
   "id": "3554ed47",
   "metadata": {},
   "outputs": [
    {
     "data": {
      "image/png": "[encoded data removed]",
      "text/plain": [
       "<Figure size 432x288 with 1 Axes>"
      ]
     },
     "metadata": {
      "needs_background": "light"
     },
     "output_type": "display_data"
    }
   ],
   "source": [
    "plot_firesize_comparison(wfs_train,'WHR10','Urban')"
   ]
  },
  {
   "cell_type": "code",
   "execution_count": 262,
   "id": "bf741c81",
   "metadata": {},
   "outputs": [
    {
     "data": {
      "image/png": "[encoded data removed]",
      "text/plain": [
       "<Figure size 432x288 with 1 Axes>"
      ]
     },
     "metadata": {
      "needs_background": "light"
     },
     "output_type": "display_data"
    }
   ],
   "source": [
    "plot_firesize_comparison(wfs_train,'WHR10','Agriculture')"
   ]
  },
  {
   "cell_type": "markdown",
   "id": "efc2f0c3",
   "metadata": {},
   "source": [
    "As expected, the charts show that wildfires are less likley to be large if they are in Urban or Agricultural areas. "
   ]
  },
  {
   "cell_type": "markdown",
   "id": "c8b755c0",
   "metadata": {},
   "source": [
    "### Light GBM\n",
    "XGBoost is not working as well as anticipated, so we try another popular gradient boosting algorithm.\n",
    "\n",
    "First, with class weighting but no over/undersampling."
   ]
  },
  {
   "cell_type": "code",
   "execution_count": 356,
   "id": "befb0162",
   "metadata": {},
   "outputs": [
    {
     "name": "stdout",
     "output_type": "stream",
     "text": [
      "[LightGBM] [Warning] bagging_fraction is set=0.6000000000000001, subsample=1.0 will be ignored. Current value: bagging_fraction=0.6000000000000001\n",
      "[LightGBM] [Warning] min_gain_to_split is set=0, min_split_gain=0.0 will be ignored. Current value: min_gain_to_split=0\n",
      "[LightGBM] [Warning] lambda_l1 is set=81, reg_alpha=0.0 will be ignored. Current value: lambda_l1=81\n",
      "Best: 0.279710 using {'model__num_leaves': 220, 'model__n_estimators': 950, 'model__min_gain_to_split': 0, 'model__max_depth': 7, 'model__learning_rate': 0.01, 'model__lambda_l1': 81, 'model__bagging_fraction': 0.6000000000000001}\n",
      "CPU times: user 27.7 s, sys: 3.06 s, total: 30.8 s\n",
      "Wall time: 3min 18s\n"
     ]
    }
   ],
   "source": [
    "%%time\n",
    "from lightgbm import LGBMClassifier\n",
    "\n",
    "# parameter grid - these ranges were refined throgh a few iterations that are not shown here\n",
    "param_grid = {'model__max_depth':range(3,12),\n",
    "              'model__num_leaves': np.arange(20, 3000,20),\n",
    "             'model__n_estimators': np.arange(50,1000,50),\n",
    "             'model__learning_rate': np.arange(0.01,0.3,0.2),\n",
    "             'model__lambda_l1':np.arange(1,100,10),\n",
    "             'model__min_gain_to_split':np.arange(0,15),\n",
    "             'model__bagging_fraction': np.arange(0.2,0.95, 0.1)}\n",
    "\n",
    "# one hot encode (columns 15, 16, 17 only)\n",
    "encode = ColumnTransformer(transformers=[('cat', OneHotEncoder(), [15,16,17])], remainder='passthrough' )\n",
    "\n",
    "# instantiate model\n",
    "model = LGBMClassifier(is_unbalance=True)\n",
    "\n",
    "# define pipeline\n",
    "steps = [('encode', encode), ('model', model)]\n",
    "pipeline = Pipeline_imb(steps=steps)\n",
    "\n",
    "# define cross-validation\n",
    "cv = RepeatedStratifiedKFold(n_splits=10, n_repeats=1, random_state=1)\n",
    "\n",
    "# define grid search multi-metric scoring\n",
    "scoring = {'Recall': make_scorer(recall_score), 'fbeta': make_scorer(fbeta_score, beta=2)}\n",
    "\n",
    "# define grid search\n",
    "grid = RandomizedSearchCV(estimator=pipeline, n_iter = 100, param_distributions=param_grid,\n",
    "                          n_jobs=-1, cv=cv, scoring=scoring, refit='fbeta', return_train_score=False)\n",
    "\n",
    "# execute the grid search\n",
    "grid_result_lgb = grid.fit(X_train_sub, y_train_sub)\n",
    "\n",
    "# report the best configuration\n",
    "print(\"Best: %f using %s\" % (grid_result_lgb.best_score_, grid_result_lgb.best_params_))"
   ]
  },
  {
   "cell_type": "code",
   "execution_count": 361,
   "id": "33cf8f1e",
   "metadata": {},
   "outputs": [
    {
     "name": "stdout",
     "output_type": "stream",
     "text": [
      "F2: 0.2797\n",
      "Recall: 0.5087\n"
     ]
    }
   ],
   "source": [
    "get_cv_scores(grid_result_lgb)"
   ]
  },
  {
   "cell_type": "code",
   "execution_count": 357,
   "id": "7f079d1b",
   "metadata": {},
   "outputs": [
    {
     "name": "stdout",
     "output_type": "stream",
     "text": [
      "----- EVAL METRICS -----\n",
      "Precision: 0.1122\n",
      "Recall: 0.5975\n",
      "F2: 0.3203\n"
     ]
    },
    {
     "data": {
      "image/png": "[encoded data removed]",
      "text/plain": [
       "<Figure size 432x288 with 2 Axes>"
      ]
     },
     "metadata": {
      "needs_background": "light"
     },
     "output_type": "display_data"
    },
    {
     "data": {
      "image/png": "[encoded data removed]",
      "text/plain": [
       "<Figure size 432x288 with 2 Axes>"
      ]
     },
     "metadata": {
      "needs_background": "light"
     },
     "output_type": "display_data"
    }
   ],
   "source": [
    "evaluate_model(grid_result_lgb.best_estimator_, X_train_sub, y_train_sub, X_val, y_val)"
   ]
  },
  {
   "cell_type": "markdown",
   "id": "d41f49be",
   "metadata": {},
   "source": [
    "We see significant improvement over both random forest and XGBoost!"
   ]
  },
  {
   "cell_type": "code",
   "execution_count": 375,
   "id": "d0d6a078",
   "metadata": {},
   "outputs": [],
   "source": [
    "#create sorted dataframe of feature importance\n",
    "from lightgbm import plot_importance\n",
    "best_model = grid_result_lgb.best_estimator_.fit(X_train, y_train)\n",
    "feat_importance = best_model.named_steps['model'].feature_importances_\n",
    "col_names = best_model.named_steps['encode'].get_feature_names()\n",
    "lgb_importances = pd.DataFrame({'col_name':col_names, 'Importance':feat_importance}).sort_values('Importance', ascending=False)"
   ]
  },
  {
   "cell_type": "code",
   "execution_count": 384,
   "id": "4493da2e",
   "metadata": {},
   "outputs": [
    {
     "data": {
      "image/png": "[encoded data removed]",
      "text/plain": [
       "<Figure size 360x720 with 1 Axes>"
      ]
     },
     "metadata": {
      "needs_background": "light"
     },
     "output_type": "display_data"
    }
   ],
   "source": [
    "#plot feature importance\n",
    "fig, ax = plt.subplots(figsize=(5,10))\n",
    "sns.barplot(ax=ax, data=lgb_importances, x='Importance', y=\"col_name\")\n",
    "ax.set_title('Feature Importance for LightGBM Model')\n",
    "ax.set_ylabel('Feature Name')\n",
    "ax.set_xlabel('Importance');"
   ]
  },
  {
   "cell_type": "markdown",
   "id": "2f9dd3fe",
   "metadata": {},
   "source": [
    "The feature importance chart above looks very different than the  feature importance table for the XGBoost model. While for XGBoost dummy/categorical columns for Agriculture and Urban were most important, here we see that the numeric weather variables from Google Earth Engine are much more prominent.\n",
    "\n",
    "Perhaps this is why performance has been greatly improved."
   ]
  },
  {
   "cell_type": "markdown",
   "id": "744087c0",
   "metadata": {},
   "source": [
    "### LightGBM with Over/UnderSampling\n",
    "\n",
    "Now we try LightGBM with SMOTE oversampling/random undersampling"
   ]
  },
  {
   "cell_type": "code",
   "execution_count": 362,
   "id": "d26aaccb",
   "metadata": {},
   "outputs": [
    {
     "name": "stdout",
     "output_type": "stream",
     "text": [
      "[LightGBM] [Warning] bagging_fraction is set=0.30000000000000004, subsample=1.0 will be ignored. Current value: bagging_fraction=0.30000000000000004\n",
      "[LightGBM] [Warning] min_gain_to_split is set=12, min_split_gain=0.0 will be ignored. Current value: min_gain_to_split=12\n",
      "[LightGBM] [Warning] lambda_l1 is set=11, reg_alpha=0.0 will be ignored. Current value: lambda_l1=11\n",
      "Best: 0.239136 using {'model__num_leaves': 220, 'model__n_estimators': 950, 'model__min_gain_to_split': 0, 'model__max_depth': 7, 'model__learning_rate': 0.01, 'model__lambda_l1': 81, 'model__bagging_fraction': 0.6000000000000001}\n",
      "CPU times: user 9.86 s, sys: 1.26 s, total: 11.1 s\n",
      "Wall time: 4min 16s\n"
     ]
    }
   ],
   "source": [
    "%%time\n",
    "from lightgbm import LGBMClassifier\n",
    "\n",
    "# parameter grid - these ranges were refined throgh a few iterations that are not shown here\n",
    "param_grid = {'model__max_depth':range(3,12),\n",
    "              'model__num_leaves': np.arange(20, 3000,20),\n",
    "             'model__n_estimators': np.arange(50,1000,50),\n",
    "             'model__learning_rate': np.arange(0.01,0.3,0.2),\n",
    "             'model__lambda_l1':np.arange(1,100,10),\n",
    "             'model__min_gain_to_split':np.arange(0,15),\n",
    "             'model__bagging_fraction': np.arange(0.2,0.95, 0.1),\n",
    "             'under__sampling_strategy': np.arange(0.2,0.98, 0.2),\n",
    "             'over__sampling_strategy': [0.1, 0.2, 0.3],\n",
    "             'over__k_neighbors': [2,5,10]}\n",
    "\n",
    "# over sample minority class\n",
    "cat_cols_mask = [True if col in cat_cols else False for col in X_train.columns]\n",
    "over = SMOTENC(categorical_features=cat_cols_mask)\n",
    "\n",
    "# under sample majority class\n",
    "under = RandomUnderSampler()\n",
    "\n",
    "# one hot encode (columns 15, 16, 17 only)\n",
    "encode = ColumnTransformer(transformers=[('cat', OneHotEncoder(), [15,16,17])], remainder='passthrough' )\n",
    "\n",
    "# instantiate model\n",
    "model = LGBMClassifier(is_unbalance=True)\n",
    "\n",
    "# define pipeline\n",
    "steps = [('over',over), ('under', under), ('encode', encode), ('model', model)]\n",
    "pipeline = Pipeline_imb(steps=steps)\n",
    "\n",
    "# define cross-validation\n",
    "cv = RepeatedStratifiedKFold(n_splits=10, n_repeats=1, random_state=1)\n",
    "\n",
    "# define grid search multi-metric scoring\n",
    "scoring = {'Recall': make_scorer(recall_score), 'fbeta': make_scorer(fbeta_score, beta=2)}\n",
    "\n",
    "# define grid search\n",
    "grid = RandomizedSearchCV(estimator=pipeline, n_iter = 100, param_distributions=param_grid,\n",
    "                          n_jobs=-1, cv=cv, scoring=scoring, refit='fbeta', return_train_score=False)\n",
    "\n",
    "# execute the grid search\n",
    "grid_result_lgb_sampling = grid.fit(X_train_sub, y_train_sub)\n",
    "\n",
    "# report the best configuration\n",
    "print(\"Best: %f using %s\" % (grid_result_lgb_sampling.best_score_, grid_result_lgb.best_params_))"
   ]
  },
  {
   "cell_type": "code",
   "execution_count": 363,
   "id": "ba110f62",
   "metadata": {},
   "outputs": [
    {
     "name": "stdout",
     "output_type": "stream",
     "text": [
      "F2: 0.2391\n",
      "Recall: 0.414\n"
     ]
    }
   ],
   "source": [
    "get_cv_scores(grid_result_lgb_sampling)"
   ]
  },
  {
   "cell_type": "code",
   "execution_count": 365,
   "id": "2d4feaa9",
   "metadata": {},
   "outputs": [
    {
     "name": "stdout",
     "output_type": "stream",
     "text": [
      "[LightGBM] [Warning] bagging_fraction is set=0.30000000000000004, subsample=1.0 will be ignored. Current value: bagging_fraction=0.30000000000000004\n",
      "[LightGBM] [Warning] min_gain_to_split is set=12, min_split_gain=0.0 will be ignored. Current value: min_gain_to_split=12\n",
      "[LightGBM] [Warning] lambda_l1 is set=11, reg_alpha=0.0 will be ignored. Current value: lambda_l1=11\n",
      "----- EVAL METRICS -----\n",
      "Precision: 0.0984\n",
      "Recall: 0.4906\n",
      "F2: 0.2729\n"
     ]
    },
    {
     "data": {
      "image/png": "[encoded data removed]",
      "text/plain": [
       "<Figure size 432x288 with 2 Axes>"
      ]
     },
     "metadata": {
      "needs_background": "light"
     },
     "output_type": "display_data"
    },
    {
     "data": {
      "image/png": "[encoded data removed]",
      "text/plain": [
       "<Figure size 432x288 with 2 Axes>"
      ]
     },
     "metadata": {
      "needs_background": "light"
     },
     "output_type": "display_data"
    }
   ],
   "source": [
    "evaluate_model(grid_result_lgb_sampling.best_estimator_, X_train_sub, y_train_sub, X_val, y_val)"
   ]
  },
  {
   "cell_type": "markdown",
   "id": "8aa5a2df",
   "metadata": {},
   "source": [
    "Performance is not as good as the LightGBM model without overundersampling.\n",
    "\n",
    "For all three algorithms, the addition of under/oversampling has negatively impacted performance (although for some the recall was improved). This is counter to most information available online which suggests that oversampling improves model performance for imbalanced classification. Perhaps in this instance the SMOTE method is creating records that wouldn't actually exist in reality and therefore a model trained on these is forming worse when encountering unseen data."
   ]
  },
  {
   "cell_type": "markdown",
   "id": "cefd5e40",
   "metadata": {},
   "source": [
    "### Hyperparameter Tuning of LightGBM with Optuna\n",
    "\n",
    "Of all the algorithms/pipelines we have tried, LightGBM (class weighted, no over/undersampling) is performing the best. Now we'll try to optimize the hyperparameters as much as possible using Optuna (rather than RandomSearchCV).\n",
    "\n",
    "Credit: https://towardsdatascience.com/kagglers-guide-to-lightgbm-hyperparameter-tuning-with-optuna-in-2021-ed048d9838b5"
   ]
  },
  {
   "cell_type": "code",
   "execution_count": 469,
   "id": "6a75577a",
   "metadata": {},
   "outputs": [],
   "source": [
    "#dummy encode categorical variables for train and validation set (since we will not use an Sklearn pipeline here)\n",
    "# train (subset) and validation sets\n",
    "X_train_sub_dummies = pd.get_dummies(X_train_sub, columns=['WHR10','L2','L3'], drop_first=True)\n",
    "X_val_dummies = pd.get_dummies(X_val, columns=['WHR10','L2','L3'], drop_first=True)\n",
    "\n",
    "# full train and test sets (for final model)\n",
    "X_train_dummies = pd.get_dummies(X_train, columns=['WHR10','L2','L3'], drop_first=True)\n",
    "X_test_dummies = pd.get_dummies(X_test, columns=['WHR10','L2','L3'], drop_first=True)"
   ]
  },
  {
   "cell_type": "code",
   "execution_count": 470,
   "id": "6119957a",
   "metadata": {},
   "outputs": [],
   "source": [
    "# modified evaluate model function to handle optuna outputs\n",
    "def evaluate_model_lgb(best_params, X_t, y_t, X_v, y_v):\n",
    "        \n",
    "    # fit model to training data\n",
    "    lgb = LGBMClassifier(is_unbalance=True, **best_params)\n",
    "    lgb.fit(X_t,y_t)\n",
    "\n",
    "    # predict on validation set\n",
    "    y_pred = lgb.predict(X_v)\n",
    "\n",
    "    # calculate other evaluation metrics\n",
    "    precision = round(precision_score(y_v, y_pred),4)\n",
    "    recall = round(recall_score(y_v, y_pred),4)\n",
    "    f2 = round(fbeta_score(y_v, y_pred, beta=2),4)\n",
    "    \n",
    "    #plot confusion matrix (on validation data)\n",
    "    plot_confusion_matrix(lgb, X_v, y_v, labels=None, sample_weight=None, normalize=None);\n",
    "    \n",
    "    #plot confusion matrix (on validation data)\n",
    "    plot_confusion_matrix(lgb, X_v, y_v, labels=None, sample_weight=None, normalize='true');\n",
    "\n",
    "    # print evaluation metrics\n",
    "    print('----- EVAL METRICS -----')\n",
    "    print(f'Precision: {precision}')\n",
    "    print(f'Recall: {recall}')\n",
    "    print(f'F2: {f2}')"
   ]
  },
  {
   "cell_type": "code",
   "execution_count": 407,
   "id": "0dea4c27",
   "metadata": {},
   "outputs": [],
   "source": [
    "import optuna\n",
    "\n",
    "# define scoring\n",
    "f2_scorer = make_scorer(fbeta_score, beta=2)\n",
    "\n",
    "# define objective for optuna study\n",
    "def objective(trial):\n",
    "    \n",
    "    # parameter grid with ranges\n",
    "    param_grid = {\n",
    "        \"n_estimators\": trial.suggest_int(\"n_estimators\", 50, 1000, step=50),\n",
    "        \"learning_rate\": trial.suggest_float(\"learning_rate\", 0.01, 0.3),\n",
    "        \"num_leaves\": trial.suggest_int(\"num_leaves\", 20, 3000, step=20),\n",
    "        \"max_depth\": trial.suggest_int(\"max_depth\", 3, 12),\n",
    "        \"min_data_in_leaf\": trial.suggest_int(\"min_data_in_leaf\", 200, 10000, step=100),\n",
    "        \"lambda_l1\": trial.suggest_int(\"lambda_l1\", 0, 100, step=5),\n",
    "        \"lambda_l2\": trial.suggest_int(\"lambda_l2\", 0, 100, step=5),\n",
    "        \"min_gain_to_split\": trial.suggest_float(\"min_gain_to_split\", 0, 15),\n",
    "        \"bagging_fraction\": trial.suggest_float(\"bagging_fraction\", 0.2, 0.95, step=0.1),\n",
    "        \"bagging_freq\": trial.suggest_categorical(\"bagging_freq\", [1]),\n",
    "        \"feature_fraction\": trial.suggest_float(\"feature_fraction\", 0.2, 0.95, step=0.1),}\n",
    "    \n",
    "    #instantiate model\n",
    "    lgb = LGBMClassifier(is_unbalance=True, **param_grid)\n",
    "    \n",
    "    #cross validation with 10 folds\n",
    "    return cross_val_score(lgb, X_train_sub_dummies, y_train_sub, n_jobs=-1, cv=10,scoring=f2_scorer).mean()"
   ]
  },
  {
   "cell_type": "code",
   "execution_count": 408,
   "id": "71902b62",
   "metadata": {},
   "outputs": [
    {
     "name": "stderr",
     "output_type": "stream",
     "text": [
      "\u001b[32m[I 2021-10-03 22:22:29,642]\u001b[0m A new study created in memory with name: LGBM Classifier 1\u001b[0m\n",
      "\u001b[32m[I 2021-10-03 22:22:31,775]\u001b[0m Trial 0 finished with value: 0.0 and parameters: {'n_estimators': 150, 'learning_rate': 0.12179793316905364, 'num_leaves': 480, 'max_depth': 4, 'min_data_in_leaf': 8700, 'lambda_l1': 35, 'lambda_l2': 85, 'min_gain_to_split': 12.131173105344008, 'bagging_fraction': 0.4, 'bagging_freq': 1, 'feature_fraction': 0.5}. Best is trial 0 with value: 0.0.\u001b[0m\n",
      "\u001b[32m[I 2021-10-03 22:22:34,812]\u001b[0m Trial 1 finished with value: 0.26314679432742116 and parameters: {'n_estimators': 800, 'learning_rate': 0.03286346671989637, 'num_leaves': 2080, 'max_depth': 6, 'min_data_in_leaf': 1500, 'lambda_l1': 65, 'lambda_l2': 55, 'min_gain_to_split': 8.75098044779839, 'bagging_fraction': 0.9, 'bagging_freq': 1, 'feature_fraction': 0.8}. Best is trial 1 with value: 0.26314679432742116.\u001b[0m\n",
      "\u001b[32m[I 2021-10-03 22:22:35,799]\u001b[0m Trial 2 finished with value: 0.24090261229946588 and parameters: {'n_estimators': 150, 'learning_rate': 0.05264983721920473, 'num_leaves': 1000, 'max_depth': 5, 'min_data_in_leaf': 600, 'lambda_l1': 50, 'lambda_l2': 45, 'min_gain_to_split': 3.090617151191422, 'bagging_fraction': 0.30000000000000004, 'bagging_freq': 1, 'feature_fraction': 0.30000000000000004}. Best is trial 1 with value: 0.26314679432742116.\u001b[0m\n",
      "\u001b[32m[I 2021-10-03 22:22:37,982]\u001b[0m Trial 3 finished with value: 0.044709385340370264 and parameters: {'n_estimators': 850, 'learning_rate': 0.18537505935494936, 'num_leaves': 1800, 'max_depth': 7, 'min_data_in_leaf': 3700, 'lambda_l1': 55, 'lambda_l2': 95, 'min_gain_to_split': 9.137984358412382, 'bagging_fraction': 0.5, 'bagging_freq': 1, 'feature_fraction': 0.6000000000000001}. Best is trial 1 with value: 0.26314679432742116.\u001b[0m\n",
      "\u001b[32m[I 2021-10-03 22:22:39,402]\u001b[0m Trial 4 finished with value: 0.0 and parameters: {'n_estimators': 800, 'learning_rate': 0.19190684325979432, 'num_leaves': 1220, 'max_depth': 6, 'min_data_in_leaf': 8600, 'lambda_l1': 45, 'lambda_l2': 80, 'min_gain_to_split': 9.725620813423129, 'bagging_fraction': 0.2, 'bagging_freq': 1, 'feature_fraction': 0.7}. Best is trial 1 with value: 0.26314679432742116.\u001b[0m\n",
      "\u001b[32m[I 2021-10-03 22:22:40,359]\u001b[0m Trial 5 finished with value: 0.0 and parameters: {'n_estimators': 450, 'learning_rate': 0.2343539995543233, 'num_leaves': 320, 'max_depth': 9, 'min_data_in_leaf': 9700, 'lambda_l1': 80, 'lambda_l2': 85, 'min_gain_to_split': 0.7312802208895669, 'bagging_fraction': 0.2, 'bagging_freq': 1, 'feature_fraction': 0.9}. Best is trial 1 with value: 0.26314679432742116.\u001b[0m\n",
      "\u001b[32m[I 2021-10-03 22:22:41,129]\u001b[0m Trial 6 finished with value: 0.0 and parameters: {'n_estimators': 350, 'learning_rate': 0.2755004181783633, 'num_leaves': 2120, 'max_depth': 7, 'min_data_in_leaf': 8700, 'lambda_l1': 5, 'lambda_l2': 90, 'min_gain_to_split': 12.437857357115403, 'bagging_fraction': 0.30000000000000004, 'bagging_freq': 1, 'feature_fraction': 0.6000000000000001}. Best is trial 1 with value: 0.26314679432742116.\u001b[0m\n",
      "\u001b[32m[I 2021-10-03 22:22:42,475]\u001b[0m Trial 7 finished with value: 0.0 and parameters: {'n_estimators': 700, 'learning_rate': 0.0655680368968048, 'num_leaves': 3000, 'max_depth': 4, 'min_data_in_leaf': 7800, 'lambda_l1': 55, 'lambda_l2': 30, 'min_gain_to_split': 9.677573419542775, 'bagging_fraction': 0.6000000000000001, 'bagging_freq': 1, 'feature_fraction': 0.4}. Best is trial 1 with value: 0.26314679432742116.\u001b[0m\n",
      "\u001b[32m[I 2021-10-03 22:22:44,146]\u001b[0m Trial 8 finished with value: 0.0 and parameters: {'n_estimators': 900, 'learning_rate': 0.2616744783763653, 'num_leaves': 1160, 'max_depth': 7, 'min_data_in_leaf': 4800, 'lambda_l1': 30, 'lambda_l2': 10, 'min_gain_to_split': 3.8656727043007426, 'bagging_fraction': 0.30000000000000004, 'bagging_freq': 1, 'feature_fraction': 0.9}. Best is trial 1 with value: 0.26314679432742116.\u001b[0m\n",
      "\u001b[32m[I 2021-10-03 22:22:45,251]\u001b[0m Trial 9 finished with value: 0.0 and parameters: {'n_estimators': 500, 'learning_rate': 0.04360103868560997, 'num_leaves': 2600, 'max_depth': 10, 'min_data_in_leaf': 9800, 'lambda_l1': 60, 'lambda_l2': 65, 'min_gain_to_split': 7.821418224035576, 'bagging_fraction': 0.30000000000000004, 'bagging_freq': 1, 'feature_fraction': 0.8}. Best is trial 1 with value: 0.26314679432742116.\u001b[0m\n",
      "\u001b[32m[I 2021-10-03 22:22:48,334]\u001b[0m Trial 10 finished with value: 0.2509901714171956 and parameters: {'n_estimators': 650, 'learning_rate': 0.011595562466289788, 'num_leaves': 2220, 'max_depth': 12, 'min_data_in_leaf': 700, 'lambda_l1': 95, 'lambda_l2': 50, 'min_gain_to_split': 4.417230020507334, 'bagging_fraction': 0.9, 'bagging_freq': 1, 'feature_fraction': 0.2}. Best is trial 1 with value: 0.26314679432742116.\u001b[0m\n",
      "\u001b[32m[I 2021-10-03 22:22:51,361]\u001b[0m Trial 11 finished with value: 0.24181410352876492 and parameters: {'n_estimators': 650, 'learning_rate': 0.010489860138364818, 'num_leaves': 2220, 'max_depth': 12, 'min_data_in_leaf': 200, 'lambda_l1': 100, 'lambda_l2': 50, 'min_gain_to_split': 5.365859228124055, 'bagging_fraction': 0.9, 'bagging_freq': 1, 'feature_fraction': 0.2}. Best is trial 1 with value: 0.26314679432742116.\u001b[0m\n",
      "\u001b[32m[I 2021-10-03 22:22:53,376]\u001b[0m Trial 12 finished with value: 0.24969528043498693 and parameters: {'n_estimators': 650, 'learning_rate': 0.09220815928947566, 'num_leaves': 1880, 'max_depth': 12, 'min_data_in_leaf': 2600, 'lambda_l1': 100, 'lambda_l2': 35, 'min_gain_to_split': 5.737341697869665, 'bagging_fraction': 0.9, 'bagging_freq': 1, 'feature_fraction': 0.2}. Best is trial 1 with value: 0.26314679432742116.\u001b[0m\n",
      "\u001b[32m[I 2021-10-03 22:22:57,136]\u001b[0m Trial 13 finished with value: 0.25026369778667884 and parameters: {'n_estimators': 950, 'learning_rate': 0.012118547535487433, 'num_leaves': 2540, 'max_depth': 9, 'min_data_in_leaf': 1900, 'lambda_l1': 80, 'lambda_l2': 65, 'min_gain_to_split': 0.7093926798235808, 'bagging_fraction': 0.7, 'bagging_freq': 1, 'feature_fraction': 0.4}. Best is trial 1 with value: 0.26314679432742116.\u001b[0m\n",
      "\u001b[32m[I 2021-10-03 22:22:59,968]\u001b[0m Trial 14 finished with value: 0.2522727246751332 and parameters: {'n_estimators': 1000, 'learning_rate': 0.11715010325558253, 'num_leaves': 1620, 'max_depth': 10, 'min_data_in_leaf': 1600, 'lambda_l1': 75, 'lambda_l2': 65, 'min_gain_to_split': 14.712103052853552, 'bagging_fraction': 0.8, 'bagging_freq': 1, 'feature_fraction': 0.7}. Best is trial 1 with value: 0.26314679432742116.\u001b[0m\n",
      "\u001b[32m[I 2021-10-03 22:23:02,371]\u001b[0m Trial 15 finished with value: 0.22417548491712416 and parameters: {'n_estimators': 1000, 'learning_rate': 0.13325862852175324, 'num_leaves': 1460, 'max_depth': 10, 'min_data_in_leaf': 6100, 'lambda_l1': 70, 'lambda_l2': 65, 'min_gain_to_split': 14.732632661375945, 'bagging_fraction': 0.7, 'bagging_freq': 1, 'feature_fraction': 0.7}. Best is trial 1 with value: 0.26314679432742116.\u001b[0m\n",
      "\u001b[32m[I 2021-10-03 22:23:04,872]\u001b[0m Trial 16 finished with value: 0.2523200241626749 and parameters: {'n_estimators': 800, 'learning_rate': 0.09656290820700263, 'num_leaves': 1660, 'max_depth': 3, 'min_data_in_leaf': 2100, 'lambda_l1': 80, 'lambda_l2': 15, 'min_gain_to_split': 14.971628059973668, 'bagging_fraction': 0.8, 'bagging_freq': 1, 'feature_fraction': 0.8}. Best is trial 1 with value: 0.26314679432742116.\u001b[0m\n",
      "\u001b[32m[I 2021-10-03 22:23:07,252]\u001b[0m Trial 17 finished with value: 0.24375946018444367 and parameters: {'n_estimators': 750, 'learning_rate': 0.07328810990690908, 'num_leaves': 680, 'max_depth': 5, 'min_data_in_leaf': 3300, 'lambda_l1': 85, 'lambda_l2': 5, 'min_gain_to_split': 12.070447577879612, 'bagging_fraction': 0.8, 'bagging_freq': 1, 'feature_fraction': 0.8}. Best is trial 1 with value: 0.26314679432742116.\u001b[0m\n",
      "\u001b[32m[I 2021-10-03 22:23:08,672]\u001b[0m Trial 18 finished with value: 0.23818931608822752 and parameters: {'n_estimators': 400, 'learning_rate': 0.1564195653279151, 'num_leaves': 2580, 'max_depth': 3, 'min_data_in_leaf': 4800, 'lambda_l1': 65, 'lambda_l2': 15, 'min_gain_to_split': 7.133266327543778, 'bagging_fraction': 0.8, 'bagging_freq': 1, 'feature_fraction': 0.8}. Best is trial 1 with value: 0.26314679432742116.\u001b[0m\n",
      "\u001b[32m[I 2021-10-03 22:23:10,148]\u001b[0m Trial 19 finished with value: 0.22650623471476275 and parameters: {'n_estimators': 550, 'learning_rate': 0.08876030299981834, 'num_leaves': 80, 'max_depth': 3, 'min_data_in_leaf': 6000, 'lambda_l1': 15, 'lambda_l2': 25, 'min_gain_to_split': 13.0424058898531, 'bagging_fraction': 0.7, 'bagging_freq': 1, 'feature_fraction': 0.9}. Best is trial 1 with value: 0.26314679432742116.\u001b[0m\n"
     ]
    },
    {
     "name": "stderr",
     "output_type": "stream",
     "text": [
      "\u001b[32m[I 2021-10-03 22:23:13,399]\u001b[0m Trial 20 finished with value: 0.2706957560349543 and parameters: {'n_estimators': 800, 'learning_rate': 0.04085200150923672, 'num_leaves': 880, 'max_depth': 5, 'min_data_in_leaf': 1600, 'lambda_l1': 40, 'lambda_l2': 40, 'min_gain_to_split': 2.311268623451527, 'bagging_fraction': 0.6000000000000001, 'bagging_freq': 1, 'feature_fraction': 0.8}. Best is trial 20 with value: 0.2706957560349543.\u001b[0m\n",
      "\u001b[32m[I 2021-10-03 22:23:16,769]\u001b[0m Trial 21 finished with value: 0.2619489122888032 and parameters: {'n_estimators': 850, 'learning_rate': 0.04325488004379828, 'num_leaves': 760, 'max_depth': 5, 'min_data_in_leaf': 1700, 'lambda_l1': 40, 'lambda_l2': 20, 'min_gain_to_split': 2.1343977993097103, 'bagging_fraction': 0.6000000000000001, 'bagging_freq': 1, 'feature_fraction': 0.8}. Best is trial 20 with value: 0.2706957560349543.\u001b[0m\n",
      "\u001b[32m[I 2021-10-03 22:23:19,929]\u001b[0m Trial 22 finished with value: 0.2313341182509426 and parameters: {'n_estimators': 900, 'learning_rate': 0.03310061402821731, 'num_leaves': 800, 'max_depth': 6, 'min_data_in_leaf': 3500, 'lambda_l1': 35, 'lambda_l2': 40, 'min_gain_to_split': 2.2784309967459606, 'bagging_fraction': 0.5, 'bagging_freq': 1, 'feature_fraction': 0.7}. Best is trial 20 with value: 0.2706957560349543.\u001b[0m\n",
      "\u001b[32m[I 2021-10-03 22:23:23,386]\u001b[0m Trial 23 finished with value: 0.2760215677819393 and parameters: {'n_estimators': 750, 'learning_rate': 0.03778139148011645, 'num_leaves': 1360, 'max_depth': 5, 'min_data_in_leaf': 1100, 'lambda_l1': 20, 'lambda_l2': 25, 'min_gain_to_split': 1.8417152821240272, 'bagging_fraction': 0.6000000000000001, 'bagging_freq': 1, 'feature_fraction': 0.9}. Best is trial 23 with value: 0.2760215677819393.\u001b[0m\n",
      "\u001b[32m[I 2021-10-03 22:23:26,374]\u001b[0m Trial 24 finished with value: 0.26988776654651103 and parameters: {'n_estimators': 600, 'learning_rate': 0.034680837631803026, 'num_leaves': 1280, 'max_depth': 6, 'min_data_in_leaf': 1100, 'lambda_l1': 20, 'lambda_l2': 55, 'min_gain_to_split': 0.24582029879922285, 'bagging_fraction': 0.6000000000000001, 'bagging_freq': 1, 'feature_fraction': 0.9}. Best is trial 23 with value: 0.2760215677819393.\u001b[0m\n",
      "\u001b[32m[I 2021-10-03 22:23:28,321]\u001b[0m Trial 25 finished with value: 0.24893396029062917 and parameters: {'n_estimators': 550, 'learning_rate': 0.06461360419656667, 'num_leaves': 1340, 'max_depth': 4, 'min_data_in_leaf': 2700, 'lambda_l1': 20, 'lambda_l2': 0, 'min_gain_to_split': 0.3928380699487153, 'bagging_fraction': 0.6000000000000001, 'bagging_freq': 1, 'feature_fraction': 0.9}. Best is trial 23 with value: 0.2760215677819393.\u001b[0m\n",
      "\u001b[32m[I 2021-10-03 22:23:30,177]\u001b[0m Trial 26 finished with value: 0.2583743187850639 and parameters: {'n_estimators': 250, 'learning_rate': 0.07995059657246303, 'num_leaves': 980, 'max_depth': 5, 'min_data_in_leaf': 900, 'lambda_l1': 25, 'lambda_l2': 35, 'min_gain_to_split': 2.085683774602897, 'bagging_fraction': 0.5, 'bagging_freq': 1, 'feature_fraction': 0.9}. Best is trial 23 with value: 0.2760215677819393.\u001b[0m\n",
      "\u001b[32m[I 2021-10-03 22:23:32,022]\u001b[0m Trial 27 finished with value: 0.21689783555882639 and parameters: {'n_estimators': 600, 'learning_rate': 0.162890067638087, 'num_leaves': 1000, 'max_depth': 6, 'min_data_in_leaf': 4200, 'lambda_l1': 0, 'lambda_l2': 25, 'min_gain_to_split': 0.11066554726587441, 'bagging_fraction': 0.4, 'bagging_freq': 1, 'feature_fraction': 0.9}. Best is trial 23 with value: 0.2760215677819393.\u001b[0m\n",
      "\u001b[32m[I 2021-10-03 22:23:34,467]\u001b[0m Trial 28 finished with value: 0.2547627529630343 and parameters: {'n_estimators': 700, 'learning_rate': 0.10492460012807085, 'num_leaves': 1440, 'max_depth': 8, 'min_data_in_leaf': 2600, 'lambda_l1': 10, 'lambda_l2': 55, 'min_gain_to_split': 1.9768753465166815, 'bagging_fraction': 0.6000000000000001, 'bagging_freq': 1, 'feature_fraction': 0.6000000000000001}. Best is trial 23 with value: 0.2760215677819393.\u001b[0m\n",
      "\u001b[32m[I 2021-10-03 22:23:37,929]\u001b[0m Trial 29 finished with value: 0.2675747091998192 and parameters: {'n_estimators': 750, 'learning_rate': 0.1395692351461816, 'num_leaves': 480, 'max_depth': 4, 'min_data_in_leaf': 1100, 'lambda_l1': 25, 'lambda_l2': 75, 'min_gain_to_split': 3.5049434959919705, 'bagging_fraction': 0.4, 'bagging_freq': 1, 'feature_fraction': 0.5}. Best is trial 23 with value: 0.2760215677819393.\u001b[0m\n",
      "\u001b[32m[I 2021-10-03 22:23:38,905]\u001b[0m Trial 30 finished with value: 0.21721239941536824 and parameters: {'n_estimators': 300, 'learning_rate': 0.0293619648263942, 'num_leaves': 500, 'max_depth': 8, 'min_data_in_leaf': 6700, 'lambda_l1': 35, 'lambda_l2': 40, 'min_gain_to_split': 1.4017773616811127, 'bagging_fraction': 0.7, 'bagging_freq': 1, 'feature_fraction': 0.9}. Best is trial 23 with value: 0.2760215677819393.\u001b[0m\n",
      "\u001b[32m[I 2021-10-03 22:23:42,249]\u001b[0m Trial 31 finished with value: 0.2370679084430339 and parameters: {'n_estimators': 750, 'learning_rate': 0.2216682338101891, 'num_leaves': 360, 'max_depth': 4, 'min_data_in_leaf': 1200, 'lambda_l1': 25, 'lambda_l2': 75, 'min_gain_to_split': 3.2275481926680083, 'bagging_fraction': 0.4, 'bagging_freq': 1, 'feature_fraction': 0.5}. Best is trial 23 with value: 0.2760215677819393.\u001b[0m\n",
      "\u001b[32m[I 2021-10-03 22:23:46,761]\u001b[0m Trial 32 finished with value: 0.2901348417320281 and parameters: {'n_estimators': 750, 'learning_rate': 0.05848465639231125, 'num_leaves': 540, 'max_depth': 5, 'min_data_in_leaf': 300, 'lambda_l1': 20, 'lambda_l2': 75, 'min_gain_to_split': 5.013852955870622, 'bagging_fraction': 0.5, 'bagging_freq': 1, 'feature_fraction': 0.4}. Best is trial 32 with value: 0.2901348417320281.\u001b[0m\n",
      "\u001b[32m[I 2021-10-03 22:23:47,439]\u001b[0m Trial 33 finished with value: 0.25360030838986314 and parameters: {'n_estimators': 50, 'learning_rate': 0.051167855678688194, 'num_leaves': 1200, 'max_depth': 6, 'min_data_in_leaf': 300, 'lambda_l1': 15, 'lambda_l2': 55, 'min_gain_to_split': 4.909488912393884, 'bagging_fraction': 0.5, 'bagging_freq': 1, 'feature_fraction': 0.4}. Best is trial 32 with value: 0.2901348417320281.\u001b[0m\n",
      "\u001b[32m[I 2021-10-03 22:23:49,546]\u001b[0m Trial 34 finished with value: 0.24547266645474575 and parameters: {'n_estimators': 600, 'learning_rate': 0.029416868037936836, 'num_leaves': 20, 'max_depth': 5, 'min_data_in_leaf': 2300, 'lambda_l1': 15, 'lambda_l2': 100, 'min_gain_to_split': 6.544732876362424, 'bagging_fraction': 0.6000000000000001, 'bagging_freq': 1, 'feature_fraction': 0.30000000000000004}. Best is trial 32 with value: 0.2901348417320281.\u001b[0m\n",
      "\u001b[32m[I 2021-10-03 22:23:53,491]\u001b[0m Trial 35 finished with value: 0.2641263380337673 and parameters: {'n_estimators': 850, 'learning_rate': 0.06408622979399112, 'num_leaves': 860, 'max_depth': 5, 'min_data_in_leaf': 1300, 'lambda_l1': 45, 'lambda_l2': 45, 'min_gain_to_split': 2.6740275201238655, 'bagging_fraction': 0.5, 'bagging_freq': 1, 'feature_fraction': 0.30000000000000004}. Best is trial 32 with value: 0.2901348417320281.\u001b[0m\n",
      "\u001b[32m[I 2021-10-03 22:23:59,437]\u001b[0m Trial 36 finished with value: 0.2843335024042738 and parameters: {'n_estimators': 700, 'learning_rate': 0.030118162813529963, 'num_leaves': 600, 'max_depth': 6, 'min_data_in_leaf': 200, 'lambda_l1': 5, 'lambda_l2': 60, 'min_gain_to_split': 1.3186811869721238, 'bagging_fraction': 0.5, 'bagging_freq': 1, 'feature_fraction': 0.8}. Best is trial 32 with value: 0.2901348417320281.\u001b[0m\n",
      "\u001b[32m[I 2021-10-03 22:24:05,269]\u001b[0m Trial 37 finished with value: 0.27581942593165004 and parameters: {'n_estimators': 700, 'learning_rate': 0.05194516239241693, 'num_leaves': 660, 'max_depth': 7, 'min_data_in_leaf': 300, 'lambda_l1': 0, 'lambda_l2': 75, 'min_gain_to_split': 1.3551635757381848, 'bagging_fraction': 0.5, 'bagging_freq': 1, 'feature_fraction': 0.6000000000000001}. Best is trial 32 with value: 0.2901348417320281.\u001b[0m\n",
      "\u001b[32m[I 2021-10-03 22:24:10,692]\u001b[0m Trial 38 finished with value: 0.2140015884061642 and parameters: {'n_estimators': 700, 'learning_rate': 0.11269360291162356, 'num_leaves': 200, 'max_depth': 7, 'min_data_in_leaf': 200, 'lambda_l1': 0, 'lambda_l2': 75, 'min_gain_to_split': 1.1415106933164147, 'bagging_fraction': 0.5, 'bagging_freq': 1, 'feature_fraction': 0.4}. Best is trial 32 with value: 0.2901348417320281.\u001b[0m\n",
      "\u001b[32m[I 2021-10-03 22:24:13,723]\u001b[0m Trial 39 finished with value: 0.2716974433273074 and parameters: {'n_estimators': 500, 'learning_rate': 0.058172317591715636, 'num_leaves': 640, 'max_depth': 7, 'min_data_in_leaf': 800, 'lambda_l1': 5, 'lambda_l2': 85, 'min_gain_to_split': 4.346238718814658, 'bagging_fraction': 0.4, 'bagging_freq': 1, 'feature_fraction': 0.6000000000000001}. Best is trial 32 with value: 0.2901348417320281.\u001b[0m\n"
     ]
    },
    {
     "name": "stderr",
     "output_type": "stream",
     "text": [
      "\u001b[32m[I 2021-10-03 22:24:18,291]\u001b[0m Trial 40 finished with value: 0.20135411759332927 and parameters: {'n_estimators': 800, 'learning_rate': 0.296645506396885, 'num_leaves': 600, 'max_depth': 8, 'min_data_in_leaf': 600, 'lambda_l1': 5, 'lambda_l2': 70, 'min_gain_to_split': 3.011055130693684, 'bagging_fraction': 0.4, 'bagging_freq': 1, 'feature_fraction': 0.7}. Best is trial 32 with value: 0.2901348417320281.\u001b[0m\n",
      "\u001b[32m[I 2021-10-03 22:24:21,285]\u001b[0m Trial 41 finished with value: 0.271344204071844 and parameters: {'n_estimators': 450, 'learning_rate': 0.055773975420561644, 'num_leaves': 300, 'max_depth': 7, 'min_data_in_leaf': 600, 'lambda_l1': 5, 'lambda_l2': 85, 'min_gain_to_split': 3.952146241996046, 'bagging_fraction': 0.4, 'bagging_freq': 1, 'feature_fraction': 0.6000000000000001}. Best is trial 32 with value: 0.2901348417320281.\u001b[0m\n",
      "\u001b[32m[I 2021-10-03 22:24:25,454]\u001b[0m Trial 42 finished with value: 0.27554933157216055 and parameters: {'n_estimators': 500, 'learning_rate': 0.07565706806120781, 'num_leaves': 600, 'max_depth': 6, 'min_data_in_leaf': 200, 'lambda_l1': 10, 'lambda_l2': 90, 'min_gain_to_split': 1.343838612645578, 'bagging_fraction': 0.5, 'bagging_freq': 1, 'feature_fraction': 0.6000000000000001}. Best is trial 32 with value: 0.2901348417320281.\u001b[0m\n",
      "\u001b[32m[I 2021-10-03 22:24:30,799]\u001b[0m Trial 43 finished with value: 0.27736541732191955 and parameters: {'n_estimators': 700, 'learning_rate': 0.07477087753718599, 'num_leaves': 480, 'max_depth': 6, 'min_data_in_leaf': 200, 'lambda_l1': 10, 'lambda_l2': 95, 'min_gain_to_split': 1.5069561474512634, 'bagging_fraction': 0.5, 'bagging_freq': 1, 'feature_fraction': 0.5}. Best is trial 32 with value: 0.2901348417320281.\u001b[0m\n",
      "\u001b[32m[I 2021-10-03 22:24:35,338]\u001b[0m Trial 44 finished with value: 0.26861333844391483 and parameters: {'n_estimators': 700, 'learning_rate': 0.02050895355950398, 'num_leaves': 1080, 'max_depth': 6, 'min_data_in_leaf': 700, 'lambda_l1': 10, 'lambda_l2': 100, 'min_gain_to_split': 1.2003986263721977, 'bagging_fraction': 0.5, 'bagging_freq': 1, 'feature_fraction': 0.5}. Best is trial 32 with value: 0.2901348417320281.\u001b[0m\n",
      "\u001b[32m[I 2021-10-03 22:24:38,565]\u001b[0m Trial 45 finished with value: 0.27185697974113554 and parameters: {'n_estimators': 650, 'learning_rate': 0.08202846723974644, 'num_leaves': 360, 'max_depth': 6, 'min_data_in_leaf': 1400, 'lambda_l1': 0, 'lambda_l2': 80, 'min_gain_to_split': 6.0359467676241465, 'bagging_fraction': 0.5, 'bagging_freq': 1, 'feature_fraction': 0.4}. Best is trial 32 with value: 0.2901348417320281.\u001b[0m\n",
      "\u001b[32m[I 2021-10-03 22:24:40,360]\u001b[0m Trial 46 finished with value: 0.0 and parameters: {'n_estimators': 900, 'learning_rate': 0.05216759177280197, 'num_leaves': 480, 'max_depth': 7, 'min_data_in_leaf': 3100, 'lambda_l1': 20, 'lambda_l2': 70, 'min_gain_to_split': 8.335587810515438, 'bagging_fraction': 0.30000000000000004, 'bagging_freq': 1, 'feature_fraction': 0.5}. Best is trial 32 with value: 0.2901348417320281.\u001b[0m\n",
      "\u001b[32m[I 2021-10-03 22:24:43,009]\u001b[0m Trial 47 finished with value: 0.2230200102598729 and parameters: {'n_estimators': 750, 'learning_rate': 0.023411059003075108, 'num_leaves': 160, 'max_depth': 8, 'min_data_in_leaf': 2100, 'lambda_l1': 30, 'lambda_l2': 60, 'min_gain_to_split': 1.613267423739843, 'bagging_fraction': 0.6000000000000001, 'bagging_freq': 1, 'feature_fraction': 0.30000000000000004}. Best is trial 32 with value: 0.2901348417320281.\u001b[0m\n",
      "\u001b[32m[I 2021-10-03 22:24:46,873]\u001b[0m Trial 48 finished with value: 0.2609281404506753 and parameters: {'n_estimators': 700, 'learning_rate': 0.18163425445056064, 'num_leaves': 240, 'max_depth': 9, 'min_data_in_leaf': 200, 'lambda_l1': 10, 'lambda_l2': 95, 'min_gain_to_split': 4.815320416077617, 'bagging_fraction': 0.30000000000000004, 'bagging_freq': 1, 'feature_fraction': 0.5}. Best is trial 32 with value: 0.2901348417320281.\u001b[0m\n",
      "\u001b[32m[I 2021-10-03 22:24:48,413]\u001b[0m Trial 49 finished with value: 0.0 and parameters: {'n_estimators': 850, 'learning_rate': 0.0999454108406538, 'num_leaves': 1840, 'max_depth': 5, 'min_data_in_leaf': 9100, 'lambda_l1': 0, 'lambda_l2': 90, 'min_gain_to_split': 3.6291236020810738, 'bagging_fraction': 0.4, 'bagging_freq': 1, 'feature_fraction': 0.4}. Best is trial 32 with value: 0.2901348417320281.\u001b[0m\n",
      "\u001b[32m[I 2021-10-03 22:24:51,342]\u001b[0m Trial 50 finished with value: 0.23256642079182996 and parameters: {'n_estimators': 950, 'learning_rate': 0.12959193211430733, 'num_leaves': 1000, 'max_depth': 4, 'min_data_in_leaf': 4000, 'lambda_l1': 15, 'lambda_l2': 80, 'min_gain_to_split': 0.8552298549730319, 'bagging_fraction': 0.5, 'bagging_freq': 1, 'feature_fraction': 0.7}. Best is trial 32 with value: 0.2901348417320281.\u001b[0m\n",
      "\u001b[32m[I 2021-10-03 22:24:54,661]\u001b[0m Trial 51 finished with value: 0.2901435886596625 and parameters: {'n_estimators': 450, 'learning_rate': 0.07423208010879363, 'num_leaves': 580, 'max_depth': 6, 'min_data_in_leaf': 500, 'lambda_l1': 10, 'lambda_l2': 90, 'min_gain_to_split': 2.9071656784293687, 'bagging_fraction': 0.5, 'bagging_freq': 1, 'feature_fraction': 0.6000000000000001}. Best is trial 51 with value: 0.2901435886596625.\u001b[0m\n",
      "\u001b[32m[I 2021-10-03 22:24:58,817]\u001b[0m Trial 52 finished with value: 0.274214610348316 and parameters: {'n_estimators': 650, 'learning_rate': 0.04538084402948327, 'num_leaves': 680, 'max_depth': 6, 'min_data_in_leaf': 900, 'lambda_l1': 5, 'lambda_l2': 90, 'min_gain_to_split': 2.593343815460907, 'bagging_fraction': 0.5, 'bagging_freq': 1, 'feature_fraction': 0.6000000000000001}. Best is trial 51 with value: 0.2901435886596625.\u001b[0m\n",
      "\u001b[32m[I 2021-10-03 22:25:01,340]\u001b[0m Trial 53 finished with value: 0.28902740827541185 and parameters: {'n_estimators': 400, 'learning_rate': 0.07078225917730027, 'num_leaves': 380, 'max_depth': 7, 'min_data_in_leaf': 500, 'lambda_l1': 10, 'lambda_l2': 95, 'min_gain_to_split': 3.1364412506615578, 'bagging_fraction': 0.6000000000000001, 'bagging_freq': 1, 'feature_fraction': 0.6000000000000001}. Best is trial 51 with value: 0.2901435886596625.\u001b[0m\n",
      "\u001b[32m[I 2021-10-03 22:25:03,156]\u001b[0m Trial 54 finished with value: 0.2573195208125586 and parameters: {'n_estimators': 400, 'learning_rate': 0.07075979139896821, 'num_leaves': 460, 'max_depth': 5, 'min_data_in_leaf': 1700, 'lambda_l1': 20, 'lambda_l2': 95, 'min_gain_to_split': 2.894776480828759, 'bagging_fraction': 0.6000000000000001, 'bagging_freq': 1, 'feature_fraction': 0.7}. Best is trial 51 with value: 0.2901435886596625.\u001b[0m\n",
      "\u001b[32m[I 2021-10-03 22:25:05,269]\u001b[0m Trial 55 finished with value: 0.2606030298070009 and parameters: {'n_estimators': 350, 'learning_rate': 0.016509844720193984, 'num_leaves': 380, 'max_depth': 6, 'min_data_in_leaf': 500, 'lambda_l1': 10, 'lambda_l2': 100, 'min_gain_to_split': 4.140652910376038, 'bagging_fraction': 0.7, 'bagging_freq': 1, 'feature_fraction': 0.5}. Best is trial 51 with value: 0.2901435886596625.\u001b[0m\n",
      "\u001b[32m[I 2021-10-03 22:25:07,409]\u001b[0m Trial 56 finished with value: 0.2671431914331611 and parameters: {'n_estimators': 450, 'learning_rate': 0.08346326091730304, 'num_leaves': 800, 'max_depth': 7, 'min_data_in_leaf': 1300, 'lambda_l1': 30, 'lambda_l2': 95, 'min_gain_to_split': 3.296910710038377, 'bagging_fraction': 0.6000000000000001, 'bagging_freq': 1, 'feature_fraction': 0.8}. Best is trial 51 with value: 0.2901435886596625.\u001b[0m\n",
      "\u001b[32m[I 2021-10-03 22:25:08,895]\u001b[0m Trial 57 finished with value: 0.27473643930042185 and parameters: {'n_estimators': 250, 'learning_rate': 0.09441319409717636, 'num_leaves': 140, 'max_depth': 6, 'min_data_in_leaf': 1000, 'lambda_l1': 15, 'lambda_l2': 85, 'min_gain_to_split': 5.266399845600495, 'bagging_fraction': 0.7, 'bagging_freq': 1, 'feature_fraction': 0.4}. Best is trial 51 with value: 0.2901435886596625.\u001b[0m\n",
      "\u001b[32m[I 2021-10-03 22:25:10,046]\u001b[0m Trial 58 finished with value: 0.0 and parameters: {'n_estimators': 550, 'learning_rate': 0.03986262320782444, 'num_leaves': 540, 'max_depth': 5, 'min_data_in_leaf': 2000, 'lambda_l1': 25, 'lambda_l2': 90, 'min_gain_to_split': 1.9367549358004728, 'bagging_fraction': 0.2, 'bagging_freq': 1, 'feature_fraction': 0.5}. Best is trial 51 with value: 0.2901435886596625.\u001b[0m\n",
      "\u001b[32m[I 2021-10-03 22:25:13,088]\u001b[0m Trial 59 finished with value: 0.2626596199419222 and parameters: {'n_estimators': 400, 'learning_rate': 0.10978242600059032, 'num_leaves': 2800, 'max_depth': 11, 'min_data_in_leaf': 600, 'lambda_l1': 5, 'lambda_l2': 80, 'min_gain_to_split': 11.070728854209323, 'bagging_fraction': 0.5, 'bagging_freq': 1, 'feature_fraction': 0.8}. Best is trial 51 with value: 0.2901435886596625.\u001b[0m\n"
     ]
    },
    {
     "name": "stderr",
     "output_type": "stream",
     "text": [
      "\u001b[32m[I 2021-10-03 22:25:15,568]\u001b[0m Trial 60 finished with value: 0.2656284582542738 and parameters: {'n_estimators': 600, 'learning_rate': 0.0651600384255167, 'num_leaves': 2360, 'max_depth': 4, 'min_data_in_leaf': 1500, 'lambda_l1': 20, 'lambda_l2': 70, 'min_gain_to_split': 0.7911384950633685, 'bagging_fraction': 0.6000000000000001, 'bagging_freq': 1, 'feature_fraction': 0.7}. Best is trial 51 with value: 0.2901435886596625.\u001b[0m\n",
      "\u001b[32m[I 2021-10-03 22:25:21,903]\u001b[0m Trial 61 finished with value: 0.28393816948973916 and parameters: {'n_estimators': 800, 'learning_rate': 0.04438233261723153, 'num_leaves': 740, 'max_depth': 7, 'min_data_in_leaf': 400, 'lambda_l1': 0, 'lambda_l2': 60, 'min_gain_to_split': 1.641298363334778, 'bagging_fraction': 0.5, 'bagging_freq': 1, 'feature_fraction': 0.6000000000000001}. Best is trial 51 with value: 0.2901435886596625.\u001b[0m\n",
      "\u001b[32m[I 2021-10-03 22:25:26,932]\u001b[0m Trial 62 finished with value: 0.26983078206530314 and parameters: {'n_estimators': 800, 'learning_rate': 0.027137363459382585, 'num_leaves': 740, 'max_depth': 6, 'min_data_in_leaf': 900, 'lambda_l1': 10, 'lambda_l2': 60, 'min_gain_to_split': 1.752191881541617, 'bagging_fraction': 0.5, 'bagging_freq': 1, 'feature_fraction': 0.6000000000000001}. Best is trial 51 with value: 0.2901435886596625.\u001b[0m\n",
      "\u001b[32m[I 2021-10-03 22:25:31,995]\u001b[0m Trial 63 finished with value: 0.28694490803164224 and parameters: {'n_estimators': 850, 'learning_rate': 0.03989328677434009, 'num_leaves': 1960, 'max_depth': 8, 'min_data_in_leaf': 500, 'lambda_l1': 15, 'lambda_l2': 60, 'min_gain_to_split': 2.7566438390727104, 'bagging_fraction': 0.6000000000000001, 'bagging_freq': 1, 'feature_fraction': 0.6000000000000001}. Best is trial 51 with value: 0.2901435886596625.\u001b[0m\n",
      "\u001b[32m[I 2021-10-03 22:25:38,818]\u001b[0m Trial 64 finished with value: 0.2486665260718266 and parameters: {'n_estimators': 950, 'learning_rate': 0.08849473147304628, 'num_leaves': 920, 'max_depth': 9, 'min_data_in_leaf': 500, 'lambda_l1': 5, 'lambda_l2': 60, 'min_gain_to_split': 2.6463679413068606, 'bagging_fraction': 0.5, 'bagging_freq': 1, 'feature_fraction': 0.6000000000000001}. Best is trial 51 with value: 0.2901435886596625.\u001b[0m\n",
      "\u001b[32m[I 2021-10-03 22:25:40,519]\u001b[0m Trial 65 finished with value: 0.0 and parameters: {'n_estimators': 850, 'learning_rate': 0.07041572357121265, 'num_leaves': 1760, 'max_depth': 8, 'min_data_in_leaf': 7800, 'lambda_l1': 15, 'lambda_l2': 50, 'min_gain_to_split': 0.5424674503910505, 'bagging_fraction': 0.6000000000000001, 'bagging_freq': 1, 'feature_fraction': 0.6000000000000001}. Best is trial 51 with value: 0.2901435886596625.\u001b[0m\n",
      "\u001b[32m[I 2021-10-03 22:25:43,805]\u001b[0m Trial 66 finished with value: 0.2668240600513966 and parameters: {'n_estimators': 800, 'learning_rate': 0.044886108783955034, 'num_leaves': 1960, 'max_depth': 7, 'min_data_in_leaf': 1700, 'lambda_l1': 0, 'lambda_l2': 60, 'min_gain_to_split': 2.3551551052411437, 'bagging_fraction': 0.6000000000000001, 'bagging_freq': 1, 'feature_fraction': 0.5}. Best is trial 51 with value: 0.2901435886596625.\u001b[0m\n",
      "\u001b[32m[I 2021-10-03 22:25:49,791]\u001b[0m Trial 67 finished with value: 0.2759048268189411 and parameters: {'n_estimators': 900, 'learning_rate': 0.05901213277137497, 'num_leaves': 260, 'max_depth': 9, 'min_data_in_leaf': 500, 'lambda_l1': 10, 'lambda_l2': 65, 'min_gain_to_split': 3.519575960719278, 'bagging_fraction': 0.4, 'bagging_freq': 1, 'feature_fraction': 0.7}. Best is trial 51 with value: 0.2901435886596625.\u001b[0m\n",
      "\u001b[32m[I 2021-10-03 22:25:51,813]\u001b[0m Trial 68 finished with value: 0.2514845227180036 and parameters: {'n_estimators': 350, 'learning_rate': 0.010842801119705307, 'num_leaves': 420, 'max_depth': 8, 'min_data_in_leaf': 900, 'lambda_l1': 5, 'lambda_l2': 55, 'min_gain_to_split': 4.553139857379656, 'bagging_fraction': 0.7, 'bagging_freq': 1, 'feature_fraction': 0.5}. Best is trial 51 with value: 0.2901435886596625.\u001b[0m\n",
      "\u001b[32m[I 2021-10-03 22:25:53,905]\u001b[0m Trial 69 finished with value: 0.25071409181353854 and parameters: {'n_estimators': 450, 'learning_rate': 0.21569660216716596, 'num_leaves': 1580, 'max_depth': 7, 'min_data_in_leaf': 2400, 'lambda_l1': 15, 'lambda_l2': 95, 'min_gain_to_split': 2.98759015732335, 'bagging_fraction': 0.5, 'bagging_freq': 1, 'feature_fraction': 0.6000000000000001}. Best is trial 51 with value: 0.2901435886596625.\u001b[0m\n",
      "\u001b[32m[I 2021-10-03 22:25:55,582]\u001b[0m Trial 70 finished with value: 0.0 and parameters: {'n_estimators': 750, 'learning_rate': 0.03619765232341898, 'num_leaves': 2000, 'max_depth': 7, 'min_data_in_leaf': 5300, 'lambda_l1': 50, 'lambda_l2': 45, 'min_gain_to_split': 3.885338050635668, 'bagging_fraction': 0.4, 'bagging_freq': 1, 'feature_fraction': 0.6000000000000001}. Best is trial 51 with value: 0.2901435886596625.\u001b[0m\n",
      "\u001b[32m[I 2021-10-03 22:25:58,991]\u001b[0m Trial 71 finished with value: 0.2745626530895128 and parameters: {'n_estimators': 750, 'learning_rate': 0.049201261124856885, 'num_leaves': 2180, 'max_depth': 6, 'min_data_in_leaf': 1200, 'lambda_l1': 20, 'lambda_l2': 65, 'min_gain_to_split': 1.760634839132395, 'bagging_fraction': 0.6000000000000001, 'bagging_freq': 1, 'feature_fraction': 0.7}. Best is trial 51 with value: 0.2901435886596625.\u001b[0m\n",
      "\u001b[32m[I 2021-10-03 22:26:03,859]\u001b[0m Trial 72 finished with value: 0.28411244698745197 and parameters: {'n_estimators': 850, 'learning_rate': 0.03721363851626522, 'num_leaves': 560, 'max_depth': 5, 'min_data_in_leaf': 200, 'lambda_l1': 25, 'lambda_l2': 45, 'min_gain_to_split': 0.9418411333970267, 'bagging_fraction': 0.6000000000000001, 'bagging_freq': 1, 'feature_fraction': 0.9}. Best is trial 51 with value: 0.2901435886596625.\u001b[0m\n",
      "\u001b[32m[I 2021-10-03 22:26:08,932]\u001b[0m Trial 73 finished with value: 0.2754209196750227 and parameters: {'n_estimators': 850, 'learning_rate': 0.020473376116961192, 'num_leaves': 560, 'max_depth': 5, 'min_data_in_leaf': 200, 'lambda_l1': 25, 'lambda_l2': 50, 'min_gain_to_split': 0.8353364138120241, 'bagging_fraction': 0.5, 'bagging_freq': 1, 'feature_fraction': 0.30000000000000004}. Best is trial 51 with value: 0.2901435886596625.\u001b[0m\n",
      "\u001b[32m[I 2021-10-03 22:26:14,282]\u001b[0m Trial 74 finished with value: 0.26854831925876255 and parameters: {'n_estimators': 900, 'learning_rate': 0.06146193677443553, 'num_leaves': 820, 'max_depth': 8, 'min_data_in_leaf': 500, 'lambda_l1': 30, 'lambda_l2': 45, 'min_gain_to_split': 0.15933853732543368, 'bagging_fraction': 0.6000000000000001, 'bagging_freq': 1, 'feature_fraction': 0.8}. Best is trial 51 with value: 0.2901435886596625.\u001b[0m\n",
      "\u001b[32m[I 2021-10-03 22:26:18,267]\u001b[0m Trial 75 finished with value: 0.27169910043556417 and parameters: {'n_estimators': 800, 'learning_rate': 0.07610451021516842, 'num_leaves': 340, 'max_depth': 6, 'min_data_in_leaf': 800, 'lambda_l1': 15, 'lambda_l2': 35, 'min_gain_to_split': 2.1748855313736044, 'bagging_fraction': 0.6000000000000001, 'bagging_freq': 1, 'feature_fraction': 0.4}. Best is trial 51 with value: 0.2901435886596625.\u001b[0m\n",
      "\u001b[32m[I 2021-10-03 22:26:25,073]\u001b[0m Trial 76 finished with value: 0.2834448435298719 and parameters: {'n_estimators': 950, 'learning_rate': 0.03276558536224433, 'num_leaves': 720, 'max_depth': 6, 'min_data_in_leaf': 500, 'lambda_l1': 10, 'lambda_l2': 70, 'min_gain_to_split': 7.138939584748751, 'bagging_fraction': 0.5, 'bagging_freq': 1, 'feature_fraction': 0.9}. Best is trial 51 with value: 0.2901435886596625.\u001b[0m\n",
      "\u001b[32m[I 2021-10-03 22:26:29,383]\u001b[0m Trial 77 finished with value: 0.27555644768181314 and parameters: {'n_estimators': 950, 'learning_rate': 0.03468563392682057, 'num_leaves': 720, 'max_depth': 7, 'min_data_in_leaf': 1400, 'lambda_l1': 5, 'lambda_l2': 70, 'min_gain_to_split': 7.211674934225564, 'bagging_fraction': 0.7, 'bagging_freq': 1, 'feature_fraction': 0.9}. Best is trial 51 with value: 0.2901435886596625.\u001b[0m\n",
      "\u001b[32m[I 2021-10-03 22:26:35,043]\u001b[0m Trial 78 finished with value: 0.27832488386784127 and parameters: {'n_estimators': 1000, 'learning_rate': 0.030087611710139364, 'num_leaves': 1100, 'max_depth': 4, 'min_data_in_leaf': 500, 'lambda_l1': 40, 'lambda_l2': 50, 'min_gain_to_split': 8.727162210728373, 'bagging_fraction': 0.5, 'bagging_freq': 1, 'feature_fraction': 0.9}. Best is trial 51 with value: 0.2901435886596625.\u001b[0m\n"
     ]
    },
    {
     "name": "stderr",
     "output_type": "stream",
     "text": [
      "\u001b[32m[I 2021-10-03 22:26:38,555]\u001b[0m Trial 79 finished with value: 0.2708176854695276 and parameters: {'n_estimators': 950, 'learning_rate': 0.04332499118459215, 'num_leaves': 900, 'max_depth': 5, 'min_data_in_leaf': 1900, 'lambda_l1': 0, 'lambda_l2': 65, 'min_gain_to_split': 6.20665753232719, 'bagging_fraction': 0.6000000000000001, 'bagging_freq': 1, 'feature_fraction': 0.9}. Best is trial 51 with value: 0.2901435886596625.\u001b[0m\n",
      "\u001b[32m[I 2021-10-03 22:26:42,847]\u001b[0m Trial 80 finished with value: 0.25672937528671 and parameters: {'n_estimators': 850, 'learning_rate': 0.01901171848782729, 'num_leaves': 2340, 'max_depth': 7, 'min_data_in_leaf': 1000, 'lambda_l1': 10, 'lambda_l2': 55, 'min_gain_to_split': 7.740294090016608, 'bagging_fraction': 0.5, 'bagging_freq': 1, 'feature_fraction': 0.2}. Best is trial 51 with value: 0.2901435886596625.\u001b[0m\n",
      "\u001b[32m[I 2021-10-03 22:26:48,540]\u001b[0m Trial 81 finished with value: 0.2791996358640925 and parameters: {'n_estimators': 1000, 'learning_rate': 0.03242574510249314, 'num_leaves': 600, 'max_depth': 4, 'min_data_in_leaf': 500, 'lambda_l1': 45, 'lambda_l2': 50, 'min_gain_to_split': 5.541577157075144, 'bagging_fraction': 0.5, 'bagging_freq': 1, 'feature_fraction': 0.9}. Best is trial 51 with value: 0.2901435886596625.\u001b[0m\n",
      "\u001b[32m[I 2021-10-03 22:26:53,208]\u001b[0m Trial 82 finished with value: 0.2776251358527966 and parameters: {'n_estimators': 1000, 'learning_rate': 0.05539715691739588, 'num_leaves': 600, 'max_depth': 3, 'min_data_in_leaf': 700, 'lambda_l1': 45, 'lambda_l2': 60, 'min_gain_to_split': 5.509753201961877, 'bagging_fraction': 0.5, 'bagging_freq': 1, 'feature_fraction': 0.9}. Best is trial 51 with value: 0.2901435886596625.\u001b[0m\n",
      "\u001b[32m[I 2021-10-03 22:26:58,290]\u001b[0m Trial 83 finished with value: 0.26765664761658914 and parameters: {'n_estimators': 900, 'learning_rate': 0.026892236582266103, 'num_leaves': 720, 'max_depth': 4, 'min_data_in_leaf': 400, 'lambda_l1': 55, 'lambda_l2': 50, 'min_gain_to_split': 6.855679127962881, 'bagging_fraction': 0.5, 'bagging_freq': 1, 'feature_fraction': 0.9}. Best is trial 51 with value: 0.2901435886596625.\u001b[0m\n",
      "\u001b[32m[I 2021-10-03 22:27:02,900]\u001b[0m Trial 84 finished with value: 0.2576845567218237 and parameters: {'n_estimators': 1000, 'learning_rate': 0.03317737223246621, 'num_leaves': 540, 'max_depth': 5, 'min_data_in_leaf': 1200, 'lambda_l1': 65, 'lambda_l2': 40, 'min_gain_to_split': 5.1076635048915895, 'bagging_fraction': 0.4, 'bagging_freq': 1, 'feature_fraction': 0.8}. Best is trial 51 with value: 0.2901435886596625.\u001b[0m\n",
      "\u001b[32m[I 2021-10-03 22:27:06,184]\u001b[0m Trial 85 finished with value: 0.2597999337380781 and parameters: {'n_estimators': 900, 'learning_rate': 0.04802785322447695, 'num_leaves': 640, 'max_depth': 5, 'min_data_in_leaf': 800, 'lambda_l1': 90, 'lambda_l2': 55, 'min_gain_to_split': 10.111153946703864, 'bagging_fraction': 0.6000000000000001, 'bagging_freq': 1, 'feature_fraction': 0.8}. Best is trial 51 with value: 0.2901435886596625.\u001b[0m\n",
      "\u001b[32m[I 2021-10-03 22:27:11,830]\u001b[0m Trial 86 finished with value: 0.2855048312195111 and parameters: {'n_estimators': 950, 'learning_rate': 0.04012963968503103, 'num_leaves': 800, 'max_depth': 4, 'min_data_in_leaf': 200, 'lambda_l1': 10, 'lambda_l2': 75, 'min_gain_to_split': 5.7628275376961495, 'bagging_fraction': 0.5, 'bagging_freq': 1, 'feature_fraction': 0.9}. Best is trial 51 with value: 0.2901435886596625.\u001b[0m\n",
      "\u001b[32m[I 2021-10-03 22:27:16,473]\u001b[0m Trial 87 finished with value: 0.29086902013828364 and parameters: {'n_estimators': 800, 'learning_rate': 0.039845597483318305, 'num_leaves': 420, 'max_depth': 6, 'min_data_in_leaf': 200, 'lambda_l1': 10, 'lambda_l2': 75, 'min_gain_to_split': 6.478828537360638, 'bagging_fraction': 0.6000000000000001, 'bagging_freq': 1, 'feature_fraction': 0.8}. Best is trial 87 with value: 0.29086902013828364.\u001b[0m\n",
      "\u001b[32m[I 2021-10-03 22:27:21,205]\u001b[0m Trial 88 finished with value: 0.2943968036922397 and parameters: {'n_estimators': 800, 'learning_rate': 0.04043795487644784, 'num_leaves': 100, 'max_depth': 8, 'min_data_in_leaf': 200, 'lambda_l1': 20, 'lambda_l2': 75, 'min_gain_to_split': 6.030899583260144, 'bagging_fraction': 0.6000000000000001, 'bagging_freq': 1, 'feature_fraction': 0.7}. Best is trial 88 with value: 0.2943968036922397.\u001b[0m\n",
      "\u001b[32m[I 2021-10-03 22:27:23,744]\u001b[0m Trial 89 finished with value: 0.29006945946967383 and parameters: {'n_estimators': 400, 'learning_rate': 0.06635435492443437, 'num_leaves': 60, 'max_depth': 8, 'min_data_in_leaf': 200, 'lambda_l1': 20, 'lambda_l2': 75, 'min_gain_to_split': 5.897698878457211, 'bagging_fraction': 0.7, 'bagging_freq': 1, 'feature_fraction': 0.7}. Best is trial 88 with value: 0.2943968036922397.\u001b[0m\n",
      "\u001b[32m[I 2021-10-03 22:27:25,696]\u001b[0m Trial 90 finished with value: 0.27285567824367396 and parameters: {'n_estimators': 350, 'learning_rate': 0.06508049258460967, 'num_leaves': 20, 'max_depth': 8, 'min_data_in_leaf': 1100, 'lambda_l1': 15, 'lambda_l2': 80, 'min_gain_to_split': 5.899108523888371, 'bagging_fraction': 0.7, 'bagging_freq': 1, 'feature_fraction': 0.7}. Best is trial 88 with value: 0.2943968036922397.\u001b[0m\n",
      "\u001b[32m[I 2021-10-03 22:27:28,281]\u001b[0m Trial 91 finished with value: 0.2868629000179487 and parameters: {'n_estimators': 400, 'learning_rate': 0.05604326692318032, 'num_leaves': 120, 'max_depth': 9, 'min_data_in_leaf': 200, 'lambda_l1': 25, 'lambda_l2': 75, 'min_gain_to_split': 6.2163460959808505, 'bagging_fraction': 0.7, 'bagging_freq': 1, 'feature_fraction': 0.8}. Best is trial 88 with value: 0.2943968036922397.\u001b[0m\n",
      "\u001b[32m[I 2021-10-03 22:27:30,513]\u001b[0m Trial 92 finished with value: 0.2836020828470273 and parameters: {'n_estimators': 300, 'learning_rate': 0.05588621491624153, 'num_leaves': 100, 'max_depth': 9, 'min_data_in_leaf': 200, 'lambda_l1': 20, 'lambda_l2': 75, 'min_gain_to_split': 6.58296396706483, 'bagging_fraction': 0.8, 'bagging_freq': 1, 'feature_fraction': 0.8}. Best is trial 88 with value: 0.2943968036922397.\u001b[0m\n",
      "\u001b[32m[I 2021-10-03 22:27:32,995]\u001b[0m Trial 93 finished with value: 0.28413748137279204 and parameters: {'n_estimators': 400, 'learning_rate': 0.06680581187763705, 'num_leaves': 220, 'max_depth': 10, 'min_data_in_leaf': 700, 'lambda_l1': 20, 'lambda_l2': 75, 'min_gain_to_split': 6.438005385163978, 'bagging_fraction': 0.7, 'bagging_freq': 1, 'feature_fraction': 0.7}. Best is trial 88 with value: 0.2943968036922397.\u001b[0m\n",
      "\u001b[32m[I 2021-10-03 22:27:35,517]\u001b[0m Trial 94 finished with value: 0.28388711772473196 and parameters: {'n_estimators': 450, 'learning_rate': 0.08575767321171687, 'num_leaves': 300, 'max_depth': 8, 'min_data_in_leaf': 800, 'lambda_l1': 25, 'lambda_l2': 85, 'min_gain_to_split': 4.802047808079245, 'bagging_fraction': 0.8, 'bagging_freq': 1, 'feature_fraction': 0.8}. Best is trial 88 with value: 0.2943968036922397.\u001b[0m\n",
      "\u001b[32m[I 2021-10-03 22:27:37,973]\u001b[0m Trial 95 finished with value: 0.2840623143712627 and parameters: {'n_estimators': 400, 'learning_rate': 0.07990063930885963, 'num_leaves': 80, 'max_depth': 8, 'min_data_in_leaf': 400, 'lambda_l1': 15, 'lambda_l2': 75, 'min_gain_to_split': 5.676041723371645, 'bagging_fraction': 0.7, 'bagging_freq': 1, 'feature_fraction': 0.7}. Best is trial 88 with value: 0.2943968036922397.\u001b[0m\n",
      "\u001b[32m[I 2021-10-03 22:27:39,810]\u001b[0m Trial 96 finished with value: 0.2668870119477913 and parameters: {'n_estimators': 300, 'learning_rate': 0.05045220569466125, 'num_leaves': 140, 'max_depth': 9, 'min_data_in_leaf': 1000, 'lambda_l1': 20, 'lambda_l2': 80, 'min_gain_to_split': 6.260447505452618, 'bagging_fraction': 0.7, 'bagging_freq': 1, 'feature_fraction': 0.8}. Best is trial 88 with value: 0.2943968036922397.\u001b[0m\n",
      "\u001b[32m[I 2021-10-03 22:27:42,640]\u001b[0m Trial 97 finished with value: 0.27667747602061377 and parameters: {'n_estimators': 500, 'learning_rate': 0.09924825923239457, 'num_leaves': 440, 'max_depth': 9, 'min_data_in_leaf': 200, 'lambda_l1': 15, 'lambda_l2': 70, 'min_gain_to_split': 6.744370510428969, 'bagging_fraction': 0.6000000000000001, 'bagging_freq': 1, 'feature_fraction': 0.7}. Best is trial 88 with value: 0.2943968036922397.\u001b[0m\n",
      "\u001b[32m[I 2021-10-03 22:27:45,059]\u001b[0m Trial 98 finished with value: 0.26656737877440667 and parameters: {'n_estimators': 500, 'learning_rate': 0.05793743885815548, 'num_leaves': 200, 'max_depth': 8, 'min_data_in_leaf': 1400, 'lambda_l1': 30, 'lambda_l2': 85, 'min_gain_to_split': 8.165179970677563, 'bagging_fraction': 0.8, 'bagging_freq': 1, 'feature_fraction': 0.7}. Best is trial 88 with value: 0.2943968036922397.\u001b[0m\n"
     ]
    },
    {
     "name": "stderr",
     "output_type": "stream",
     "text": [
      "\u001b[32m[I 2021-10-03 22:27:45,875]\u001b[0m Trial 99 finished with value: 0.0 and parameters: {'n_estimators': 400, 'learning_rate': 0.07212268544617281, 'num_leaves': 280, 'max_depth': 10, 'min_data_in_leaf': 7300, 'lambda_l1': 5, 'lambda_l2': 80, 'min_gain_to_split': 4.307353020632053, 'bagging_fraction': 0.6000000000000001, 'bagging_freq': 1, 'feature_fraction': 0.8}. Best is trial 88 with value: 0.2943968036922397.\u001b[0m\n",
      "\u001b[32m[I 2021-10-03 22:27:48,544]\u001b[0m Trial 100 finished with value: 0.26683591488450425 and parameters: {'n_estimators': 450, 'learning_rate': 0.01605424257344798, 'num_leaves': 400, 'max_depth': 8, 'min_data_in_leaf': 700, 'lambda_l1': 10, 'lambda_l2': 65, 'min_gain_to_split': 7.540216632452266, 'bagging_fraction': 0.7, 'bagging_freq': 1, 'feature_fraction': 0.6000000000000001}. Best is trial 88 with value: 0.2943968036922397.\u001b[0m\n",
      "\u001b[32m[I 2021-10-03 22:27:50,692]\u001b[0m Trial 101 finished with value: 0.2863975069840506 and parameters: {'n_estimators': 350, 'learning_rate': 0.0697384605031282, 'num_leaves': 200, 'max_depth': 11, 'min_data_in_leaf': 700, 'lambda_l1': 20, 'lambda_l2': 75, 'min_gain_to_split': 6.468207310839815, 'bagging_fraction': 0.7, 'bagging_freq': 1, 'feature_fraction': 0.7}. Best is trial 88 with value: 0.2943968036922397.\u001b[0m\n",
      "\u001b[32m[I 2021-10-03 22:27:53,060]\u001b[0m Trial 102 finished with value: 0.28979253840523517 and parameters: {'n_estimators': 350, 'learning_rate': 0.04167123807840006, 'num_leaves': 20, 'max_depth': 10, 'min_data_in_leaf': 400, 'lambda_l1': 20, 'lambda_l2': 75, 'min_gain_to_split': 5.999403268541426, 'bagging_fraction': 0.7, 'bagging_freq': 1, 'feature_fraction': 0.7}. Best is trial 88 with value: 0.2943968036922397.\u001b[0m\n",
      "\u001b[32m[I 2021-10-03 22:27:55,404]\u001b[0m Trial 103 finished with value: 0.29279209828077873 and parameters: {'n_estimators': 350, 'learning_rate': 0.0621071812197042, 'num_leaves': 40, 'max_depth': 11, 'min_data_in_leaf': 400, 'lambda_l1': 25, 'lambda_l2': 75, 'min_gain_to_split': 5.178307780371448, 'bagging_fraction': 0.7, 'bagging_freq': 1, 'feature_fraction': 0.7}. Best is trial 88 with value: 0.2943968036922397.\u001b[0m\n",
      "\u001b[32m[I 2021-10-03 22:27:57,091]\u001b[0m Trial 104 finished with value: 0.2850217583598594 and parameters: {'n_estimators': 250, 'learning_rate': 0.06822551520478483, 'num_leaves': 40, 'max_depth': 12, 'min_data_in_leaf': 700, 'lambda_l1': 25, 'lambda_l2': 75, 'min_gain_to_split': 5.257073103238346, 'bagging_fraction': 0.7, 'bagging_freq': 1, 'feature_fraction': 0.7}. Best is trial 88 with value: 0.2943968036922397.\u001b[0m\n",
      "\u001b[32m[I 2021-10-03 22:27:59,277]\u001b[0m Trial 105 finished with value: 0.28330779359790087 and parameters: {'n_estimators': 350, 'learning_rate': 0.06168518312339239, 'num_leaves': 160, 'max_depth': 11, 'min_data_in_leaf': 400, 'lambda_l1': 30, 'lambda_l2': 80, 'min_gain_to_split': 6.078678687179576, 'bagging_fraction': 0.8, 'bagging_freq': 1, 'feature_fraction': 0.7}. Best is trial 88 with value: 0.2943968036922397.\u001b[0m\n",
      "\u001b[32m[I 2021-10-03 22:28:01,264]\u001b[0m Trial 106 finished with value: 0.28216971939431945 and parameters: {'n_estimators': 350, 'learning_rate': 0.0902545177913035, 'num_leaves': 80, 'max_depth': 11, 'min_data_in_leaf': 1000, 'lambda_l1': 20, 'lambda_l2': 70, 'min_gain_to_split': 4.633140521956666, 'bagging_fraction': 0.7, 'bagging_freq': 1, 'feature_fraction': 0.6000000000000001}. Best is trial 88 with value: 0.2943968036922397.\u001b[0m\n",
      "\u001b[32m[I 2021-10-03 22:28:02,880]\u001b[0m Trial 107 finished with value: 0.26819166893815477 and parameters: {'n_estimators': 300, 'learning_rate': 0.252658047824582, 'num_leaves': 180, 'max_depth': 11, 'min_data_in_leaf': 1600, 'lambda_l1': 25, 'lambda_l2': 85, 'min_gain_to_split': 6.898423963157301, 'bagging_fraction': 0.7, 'bagging_freq': 1, 'feature_fraction': 0.7}. Best is trial 88 with value: 0.2943968036922397.\u001b[0m\n",
      "\u001b[32m[I 2021-10-03 22:28:04,898]\u001b[0m Trial 108 finished with value: 0.26476486761569695 and parameters: {'n_estimators': 400, 'learning_rate': 0.07517817078139141, 'num_leaves': 100, 'max_depth': 10, 'min_data_in_leaf': 1300, 'lambda_l1': 35, 'lambda_l2': 90, 'min_gain_to_split': 7.30866681692741, 'bagging_fraction': 0.7, 'bagging_freq': 1, 'feature_fraction': 0.7}. Best is trial 88 with value: 0.2943968036922397.\u001b[0m\n",
      "\u001b[32m[I 2021-10-03 22:28:06,224]\u001b[0m Trial 109 finished with value: 0.2414131751520686 and parameters: {'n_estimators': 300, 'learning_rate': 0.05095987286348988, 'num_leaves': 240, 'max_depth': 10, 'min_data_in_leaf': 2900, 'lambda_l1': 25, 'lambda_l2': 80, 'min_gain_to_split': 6.289475398677448, 'bagging_fraction': 0.7, 'bagging_freq': 1, 'feature_fraction': 0.6000000000000001}. Best is trial 88 with value: 0.2943968036922397.\u001b[0m\n",
      "\u001b[32m[I 2021-10-03 22:28:08,410]\u001b[0m Trial 110 finished with value: 0.2844807154304697 and parameters: {'n_estimators': 350, 'learning_rate': 0.0787178180593646, 'num_leaves': 20, 'max_depth': 11, 'min_data_in_leaf': 400, 'lambda_l1': 35, 'lambda_l2': 70, 'min_gain_to_split': 5.015654037903779, 'bagging_fraction': 0.8, 'bagging_freq': 1, 'feature_fraction': 0.7}. Best is trial 88 with value: 0.2943968036922397.\u001b[0m\n",
      "\u001b[32m[I 2021-10-03 22:28:09,882]\u001b[0m Trial 111 finished with value: 0.26947947025063085 and parameters: {'n_estimators': 200, 'learning_rate': 0.04691440141567548, 'num_leaves': 320, 'max_depth': 12, 'min_data_in_leaf': 700, 'lambda_l1': 15, 'lambda_l2': 75, 'min_gain_to_split': 5.844377146622958, 'bagging_fraction': 0.7, 'bagging_freq': 1, 'feature_fraction': 0.6000000000000001}. Best is trial 88 with value: 0.2943968036922397.\u001b[0m\n",
      "\u001b[32m[I 2021-10-03 22:28:12,536]\u001b[0m Trial 112 finished with value: 0.28601065611775567 and parameters: {'n_estimators': 400, 'learning_rate': 0.0402466005101023, 'num_leaves': 360, 'max_depth': 11, 'min_data_in_leaf': 400, 'lambda_l1': 20, 'lambda_l2': 75, 'min_gain_to_split': 5.718650654856316, 'bagging_fraction': 0.6000000000000001, 'bagging_freq': 1, 'feature_fraction': 0.7}. Best is trial 88 with value: 0.2943968036922397.\u001b[0m\n",
      "\u001b[32m[I 2021-10-03 22:28:14,710]\u001b[0m Trial 113 finished with value: 0.26932735227805443 and parameters: {'n_estimators': 400, 'learning_rate': 0.059081401431891126, 'num_leaves': 120, 'max_depth': 11, 'min_data_in_leaf': 900, 'lambda_l1': 20, 'lambda_l2': 75, 'min_gain_to_split': 6.6042996481277685, 'bagging_fraction': 0.6000000000000001, 'bagging_freq': 1, 'feature_fraction': 0.7}. Best is trial 88 with value: 0.2943968036922397.\u001b[0m\n",
      "\u001b[32m[I 2021-10-03 22:28:17,422]\u001b[0m Trial 114 finished with value: 0.27856680895806646 and parameters: {'n_estimators': 450, 'learning_rate': 0.04248468986629874, 'num_leaves': 360, 'max_depth': 11, 'min_data_in_leaf': 600, 'lambda_l1': 20, 'lambda_l2': 70, 'min_gain_to_split': 5.452112930403717, 'bagging_fraction': 0.6000000000000001, 'bagging_freq': 1, 'feature_fraction': 0.7}. Best is trial 88 with value: 0.2943968036922397.\u001b[0m\n",
      "\u001b[32m[I 2021-10-03 22:28:19,842]\u001b[0m Trial 115 finished with value: 0.2693695096172001 and parameters: {'n_estimators': 350, 'learning_rate': 0.023486187013709112, 'num_leaves': 260, 'max_depth': 10, 'min_data_in_leaf': 400, 'lambda_l1': 25, 'lambda_l2': 80, 'min_gain_to_split': 5.970853203737732, 'bagging_fraction': 0.7, 'bagging_freq': 1, 'feature_fraction': 0.7}. Best is trial 88 with value: 0.2943968036922397.\u001b[0m\n",
      "\u001b[32m[I 2021-10-03 22:28:21,912]\u001b[0m Trial 116 finished with value: 0.26005222076665413 and parameters: {'n_estimators': 400, 'learning_rate': 0.05393385935133964, 'num_leaves': 180, 'max_depth': 11, 'min_data_in_leaf': 1100, 'lambda_l1': 20, 'lambda_l2': 100, 'min_gain_to_split': 3.9714648478836336, 'bagging_fraction': 0.6000000000000001, 'bagging_freq': 1, 'feature_fraction': 0.6000000000000001}. Best is trial 88 with value: 0.2943968036922397.\u001b[0m\n",
      "\u001b[32m[I 2021-10-03 22:28:25,088]\u001b[0m Trial 117 finished with value: 0.28970292427330135 and parameters: {'n_estimators': 450, 'learning_rate': 0.062317211497582126, 'num_leaves': 420, 'max_depth': 10, 'min_data_in_leaf': 300, 'lambda_l1': 15, 'lambda_l2': 85, 'min_gain_to_split': 3.3114380368881458, 'bagging_fraction': 0.6000000000000001, 'bagging_freq': 1, 'feature_fraction': 0.7}. Best is trial 88 with value: 0.2943968036922397.\u001b[0m\n",
      "\u001b[32m[I 2021-10-03 22:28:28,175]\u001b[0m Trial 118 finished with value: 0.28890110706413774 and parameters: {'n_estimators': 500, 'learning_rate': 0.06411369185542373, 'num_leaves': 420, 'max_depth': 9, 'min_data_in_leaf': 600, 'lambda_l1': 15, 'lambda_l2': 90, 'min_gain_to_split': 3.3611844035685365, 'bagging_fraction': 0.7, 'bagging_freq': 1, 'feature_fraction': 0.8}. Best is trial 88 with value: 0.2943968036922397.\u001b[0m\n"
     ]
    },
    {
     "name": "stderr",
     "output_type": "stream",
     "text": [
      "\u001b[32m[I 2021-10-03 22:28:31,224]\u001b[0m Trial 119 finished with value: 0.2846976626880664 and parameters: {'n_estimators': 500, 'learning_rate': 0.06350132908562425, 'num_leaves': 500, 'max_depth': 9, 'min_data_in_leaf': 200, 'lambda_l1': 15, 'lambda_l2': 85, 'min_gain_to_split': 3.4997158231872425, 'bagging_fraction': 0.9, 'bagging_freq': 1, 'feature_fraction': 0.8}. Best is trial 88 with value: 0.2943968036922397.\u001b[0m\n",
      "\u001b[32m[I 2021-10-03 22:28:34,506]\u001b[0m Trial 120 finished with value: 0.28171438302669116 and parameters: {'n_estimators': 550, 'learning_rate': 0.05347080667401532, 'num_leaves': 420, 'max_depth': 9, 'min_data_in_leaf': 900, 'lambda_l1': 15, 'lambda_l2': 90, 'min_gain_to_split': 3.1376732462073034, 'bagging_fraction': 0.7, 'bagging_freq': 1, 'feature_fraction': 0.8}. Best is trial 88 with value: 0.2943968036922397.\u001b[0m\n",
      "\u001b[32m[I 2021-10-03 22:28:37,562]\u001b[0m Trial 121 finished with value: 0.29259880930829785 and parameters: {'n_estimators': 450, 'learning_rate': 0.07171440358009466, 'num_leaves': 80, 'max_depth': 10, 'min_data_in_leaf': 600, 'lambda_l1': 10, 'lambda_l2': 95, 'min_gain_to_split': 2.8649342448937825, 'bagging_fraction': 0.7, 'bagging_freq': 1, 'feature_fraction': 0.8}. Best is trial 88 with value: 0.2943968036922397.\u001b[0m\n",
      "\u001b[32m[I 2021-10-03 22:28:40,450]\u001b[0m Trial 122 finished with value: 0.28444438708312625 and parameters: {'n_estimators': 450, 'learning_rate': 0.08283758463645072, 'num_leaves': 60, 'max_depth': 10, 'min_data_in_leaf': 600, 'lambda_l1': 10, 'lambda_l2': 95, 'min_gain_to_split': 2.746931233435856, 'bagging_fraction': 0.7, 'bagging_freq': 1, 'feature_fraction': 0.8}. Best is trial 88 with value: 0.2943968036922397.\u001b[0m\n",
      "\u001b[32m[I 2021-10-03 22:28:43,399]\u001b[0m Trial 123 finished with value: 0.2901262542492226 and parameters: {'n_estimators': 450, 'learning_rate': 0.06119621074500621, 'num_leaves': 320, 'max_depth': 10, 'min_data_in_leaf': 400, 'lambda_l1': 15, 'lambda_l2': 90, 'min_gain_to_split': 3.7499320605759343, 'bagging_fraction': 0.6000000000000001, 'bagging_freq': 1, 'feature_fraction': 0.8}. Best is trial 88 with value: 0.2943968036922397.\u001b[0m\n",
      "\u001b[32m[I 2021-10-03 22:28:45,966]\u001b[0m Trial 124 finished with value: 0.2780015934764076 and parameters: {'n_estimators': 450, 'learning_rate': 0.06256012217717176, 'num_leaves': 260, 'max_depth': 10, 'min_data_in_leaf': 400, 'lambda_l1': 60, 'lambda_l2': 90, 'min_gain_to_split': 3.7722953206092678, 'bagging_fraction': 0.6000000000000001, 'bagging_freq': 1, 'feature_fraction': 0.8}. Best is trial 88 with value: 0.2943968036922397.\u001b[0m\n",
      "\u001b[32m[I 2021-10-03 22:28:47,155]\u001b[0m Trial 125 finished with value: 0.06341001115426696 and parameters: {'n_estimators': 500, 'learning_rate': 0.07252827108167705, 'num_leaves': 20, 'max_depth': 10, 'min_data_in_leaf': 5900, 'lambda_l1': 10, 'lambda_l2': 95, 'min_gain_to_split': 2.5120319882602615, 'bagging_fraction': 0.6000000000000001, 'bagging_freq': 1, 'feature_fraction': 0.6000000000000001}. Best is trial 88 with value: 0.2943968036922397.\u001b[0m\n",
      "\u001b[32m[I 2021-10-03 22:28:47,984]\u001b[0m Trial 126 finished with value: 0.0 and parameters: {'n_estimators': 450, 'learning_rate': 0.09377303423243892, 'num_leaves': 320, 'max_depth': 10, 'min_data_in_leaf': 9400, 'lambda_l1': 15, 'lambda_l2': 90, 'min_gain_to_split': 3.3461174978341703, 'bagging_fraction': 0.6000000000000001, 'bagging_freq': 1, 'feature_fraction': 0.8}. Best is trial 88 with value: 0.2943968036922397.\u001b[0m\n",
      "\u001b[32m[I 2021-10-03 22:28:50,660]\u001b[0m Trial 127 finished with value: 0.2611978522530002 and parameters: {'n_estimators': 550, 'learning_rate': 0.04751396479908891, 'num_leaves': 500, 'max_depth': 10, 'min_data_in_leaf': 1200, 'lambda_l1': 15, 'lambda_l2': 100, 'min_gain_to_split': 4.263901423856084, 'bagging_fraction': 0.6000000000000001, 'bagging_freq': 1, 'feature_fraction': 0.8}. Best is trial 88 with value: 0.2943968036922397.\u001b[0m\n",
      "\u001b[32m[I 2021-10-03 22:28:52,132]\u001b[0m Trial 128 finished with value: 0.22953766274580611 and parameters: {'n_estimators': 500, 'learning_rate': 0.06748861524021997, 'num_leaves': 400, 'max_depth': 9, 'min_data_in_leaf': 4600, 'lambda_l1': 10, 'lambda_l2': 85, 'min_gain_to_split': 2.877942987205659, 'bagging_fraction': 0.6000000000000001, 'bagging_freq': 1, 'feature_fraction': 0.6000000000000001}. Best is trial 88 with value: 0.2943968036922397.\u001b[0m\n",
      "\u001b[32m[I 2021-10-03 22:28:54,903]\u001b[0m Trial 129 finished with value: 0.27167135191771596 and parameters: {'n_estimators': 450, 'learning_rate': 0.1424481801893496, 'num_leaves': 1720, 'max_depth': 8, 'min_data_in_leaf': 600, 'lambda_l1': 5, 'lambda_l2': 95, 'min_gain_to_split': 3.2055798268408884, 'bagging_fraction': 0.6000000000000001, 'bagging_freq': 1, 'feature_fraction': 0.8}. Best is trial 88 with value: 0.2943968036922397.\u001b[0m\n",
      "\u001b[32m[I 2021-10-03 22:28:57,966]\u001b[0m Trial 130 finished with value: 0.27901387064423133 and parameters: {'n_estimators': 550, 'learning_rate': 0.07766973240825804, 'num_leaves': 460, 'max_depth': 9, 'min_data_in_leaf': 900, 'lambda_l1': 10, 'lambda_l2': 90, 'min_gain_to_split': 3.658542834170314, 'bagging_fraction': 0.6000000000000001, 'bagging_freq': 1, 'feature_fraction': 0.7}. Best is trial 88 with value: 0.2943968036922397.\u001b[0m\n",
      "\u001b[32m[I 2021-10-03 22:29:00,166]\u001b[0m Trial 131 finished with value: 0.2883348148961429 and parameters: {'n_estimators': 400, 'learning_rate': 0.05675055692556105, 'num_leaves': 140, 'max_depth': 10, 'min_data_in_leaf': 200, 'lambda_l1': 15, 'lambda_l2': 85, 'min_gain_to_split': 14.107616871554214, 'bagging_fraction': 0.7, 'bagging_freq': 1, 'feature_fraction': 0.8}. Best is trial 88 with value: 0.2943968036922397.\u001b[0m\n",
      "\u001b[32m[I 2021-10-03 22:29:03,710]\u001b[0m Trial 132 finished with value: 0.2838556545250117 and parameters: {'n_estimators': 500, 'learning_rate': 0.06311438444295799, 'num_leaves': 160, 'max_depth': 10, 'min_data_in_leaf': 400, 'lambda_l1': 15, 'lambda_l2': 85, 'min_gain_to_split': 2.526572711805876, 'bagging_fraction': 0.7, 'bagging_freq': 1, 'feature_fraction': 0.8}. Best is trial 88 with value: 0.2943968036922397.\u001b[0m\n",
      "\u001b[32m[I 2021-10-03 22:29:06,450]\u001b[0m Trial 133 finished with value: 0.2781431672367981 and parameters: {'n_estimators': 450, 'learning_rate': 0.03747534979361798, 'num_leaves': 300, 'max_depth': 10, 'min_data_in_leaf': 200, 'lambda_l1': 15, 'lambda_l2': 95, 'min_gain_to_split': 12.141710317815974, 'bagging_fraction': 0.7, 'bagging_freq': 1, 'feature_fraction': 0.8}. Best is trial 88 with value: 0.2943968036922397.\u001b[0m\n",
      "\u001b[32m[I 2021-10-03 22:29:09,039]\u001b[0m Trial 134 finished with value: 0.2923113463761754 and parameters: {'n_estimators': 400, 'learning_rate': 0.05719864519975179, 'num_leaves': 220, 'max_depth': 10, 'min_data_in_leaf': 600, 'lambda_l1': 15, 'lambda_l2': 90, 'min_gain_to_split': 4.547732297866977, 'bagging_fraction': 0.7, 'bagging_freq': 1, 'feature_fraction': 0.8}. Best is trial 88 with value: 0.2943968036922397.\u001b[0m\n",
      "\u001b[32m[I 2021-10-03 22:29:11,049]\u001b[0m Trial 135 finished with value: 0.279395732934972 and parameters: {'n_estimators': 400, 'learning_rate': 0.08401533171273767, 'num_leaves': 100, 'max_depth': 10, 'min_data_in_leaf': 800, 'lambda_l1': 10, 'lambda_l2': 90, 'min_gain_to_split': 13.12398904790372, 'bagging_fraction': 0.8, 'bagging_freq': 1, 'feature_fraction': 0.8}. Best is trial 88 with value: 0.2943968036922397.\u001b[0m\n",
      "\u001b[32m[I 2021-10-03 22:29:13,749]\u001b[0m Trial 136 finished with value: 0.29196089232886013 and parameters: {'n_estimators': 400, 'learning_rate': 0.05808592972621386, 'num_leaves': 260, 'max_depth': 10, 'min_data_in_leaf': 400, 'lambda_l1': 20, 'lambda_l2': 100, 'min_gain_to_split': 4.566149527481614, 'bagging_fraction': 0.7, 'bagging_freq': 1, 'feature_fraction': 0.8}. Best is trial 88 with value: 0.2943968036922397.\u001b[0m\n",
      "\u001b[32m[I 2021-10-03 22:29:16,305]\u001b[0m Trial 137 finished with value: 0.27489168944196446 and parameters: {'n_estimators': 450, 'learning_rate': 0.06908321529565771, 'num_leaves': 220, 'max_depth': 10, 'min_data_in_leaf': 1100, 'lambda_l1': 20, 'lambda_l2': 100, 'min_gain_to_split': 4.3599577624377055, 'bagging_fraction': 0.7, 'bagging_freq': 1, 'feature_fraction': 0.8}. Best is trial 88 with value: 0.2943968036922397.\u001b[0m\n",
      "\u001b[32m[I 2021-10-03 22:29:18,726]\u001b[0m Trial 138 finished with value: 0.2943444219849318 and parameters: {'n_estimators': 350, 'learning_rate': 0.049714225754217994, 'num_leaves': 360, 'max_depth': 10, 'min_data_in_leaf': 600, 'lambda_l1': 5, 'lambda_l2': 95, 'min_gain_to_split': 4.886027024011881, 'bagging_fraction': 0.7, 'bagging_freq': 1, 'feature_fraction': 0.7}. Best is trial 88 with value: 0.2943968036922397.\u001b[0m\n"
     ]
    },
    {
     "name": "stderr",
     "output_type": "stream",
     "text": [
      "\u001b[32m[I 2021-10-03 22:29:21,391]\u001b[0m Trial 139 finished with value: 0.3001387515424596 and parameters: {'n_estimators': 350, 'learning_rate': 0.04936331715803258, 'num_leaves': 260, 'max_depth': 10, 'min_data_in_leaf': 400, 'lambda_l1': 5, 'lambda_l2': 100, 'min_gain_to_split': 4.650339765275678, 'bagging_fraction': 0.8, 'bagging_freq': 1, 'feature_fraction': 0.7}. Best is trial 139 with value: 0.3001387515424596.\u001b[0m\n",
      "\u001b[32m[I 2021-10-03 22:29:23,220]\u001b[0m Trial 140 finished with value: 0.275733516590115 and parameters: {'n_estimators': 300, 'learning_rate': 0.17827592292174982, 'num_leaves': 260, 'max_depth': 10, 'min_data_in_leaf': 800, 'lambda_l1': 5, 'lambda_l2': 100, 'min_gain_to_split': 4.799075008815973, 'bagging_fraction': 0.8, 'bagging_freq': 1, 'feature_fraction': 0.7}. Best is trial 139 with value: 0.3001387515424596.\u001b[0m\n",
      "\u001b[32m[I 2021-10-03 22:29:25,750]\u001b[0m Trial 141 finished with value: 0.2938559192273543 and parameters: {'n_estimators': 350, 'learning_rate': 0.04845464155561616, 'num_leaves': 360, 'max_depth': 10, 'min_data_in_leaf': 400, 'lambda_l1': 0, 'lambda_l2': 100, 'min_gain_to_split': 5.158552604882892, 'bagging_fraction': 0.7, 'bagging_freq': 1, 'feature_fraction': 0.7}. Best is trial 139 with value: 0.3001387515424596.\u001b[0m\n",
      "\u001b[32m[I 2021-10-03 22:29:28,376]\u001b[0m Trial 142 finished with value: 0.28799434425090353 and parameters: {'n_estimators': 350, 'learning_rate': 0.049308962372276194, 'num_leaves': 220, 'max_depth': 10, 'min_data_in_leaf': 400, 'lambda_l1': 0, 'lambda_l2': 100, 'min_gain_to_split': 5.193156526218412, 'bagging_fraction': 0.8, 'bagging_freq': 1, 'feature_fraction': 0.7}. Best is trial 139 with value: 0.3001387515424596.\u001b[0m\n",
      "\u001b[32m[I 2021-10-03 22:29:30,898]\u001b[0m Trial 143 finished with value: 0.29666801257734854 and parameters: {'n_estimators': 350, 'learning_rate': 0.051690041920623986, 'num_leaves': 320, 'max_depth': 10, 'min_data_in_leaf': 600, 'lambda_l1': 5, 'lambda_l2': 95, 'min_gain_to_split': 4.085056090560995, 'bagging_fraction': 0.9, 'bagging_freq': 1, 'feature_fraction': 0.7}. Best is trial 139 with value: 0.3001387515424596.\u001b[0m\n",
      "\u001b[32m[I 2021-10-03 22:29:33,299]\u001b[0m Trial 144 finished with value: 0.2855525878736114 and parameters: {'n_estimators': 350, 'learning_rate': 0.04528457713420717, 'num_leaves': 340, 'max_depth': 10, 'min_data_in_leaf': 600, 'lambda_l1': 0, 'lambda_l2': 100, 'min_gain_to_split': 4.576225016665307, 'bagging_fraction': 0.9, 'bagging_freq': 1, 'feature_fraction': 0.7}. Best is trial 139 with value: 0.3001387515424596.\u001b[0m\n",
      "\u001b[32m[I 2021-10-03 22:29:35,260]\u001b[0m Trial 145 finished with value: 0.2781577914998395 and parameters: {'n_estimators': 300, 'learning_rate': 0.05041599462533906, 'num_leaves': 60, 'max_depth': 10, 'min_data_in_leaf': 1000, 'lambda_l1': 5, 'lambda_l2': 95, 'min_gain_to_split': 4.115893156388798, 'bagging_fraction': 0.8, 'bagging_freq': 1, 'feature_fraction': 0.7}. Best is trial 139 with value: 0.3001387515424596.\u001b[0m\n",
      "\u001b[32m[I 2021-10-03 22:29:37,702]\u001b[0m Trial 146 finished with value: 0.2822768603887713 and parameters: {'n_estimators': 350, 'learning_rate': 0.041685700941707045, 'num_leaves': 280, 'max_depth': 10, 'min_data_in_leaf': 700, 'lambda_l1': 5, 'lambda_l2': 95, 'min_gain_to_split': 5.09003631403384, 'bagging_fraction': 0.8, 'bagging_freq': 1, 'feature_fraction': 0.7}. Best is trial 139 with value: 0.3001387515424596.\u001b[0m\n",
      "\u001b[32m[I 2021-10-03 22:29:40,506]\u001b[0m Trial 147 finished with value: 0.29086324870313524 and parameters: {'n_estimators': 350, 'learning_rate': 0.027085283436438463, 'num_leaves': 180, 'max_depth': 12, 'min_data_in_leaf': 400, 'lambda_l1': 0, 'lambda_l2': 100, 'min_gain_to_split': 4.606402686897805, 'bagging_fraction': 0.9, 'bagging_freq': 1, 'feature_fraction': 0.7}. Best is trial 139 with value: 0.3001387515424596.\u001b[0m\n",
      "\u001b[32m[I 2021-10-03 22:29:42,239]\u001b[0m Trial 148 finished with value: 0.2635295499725628 and parameters: {'n_estimators': 300, 'learning_rate': 0.029075010072114132, 'num_leaves': 200, 'max_depth': 12, 'min_data_in_leaf': 1400, 'lambda_l1': 0, 'lambda_l2': 100, 'min_gain_to_split': 4.669523150742461, 'bagging_fraction': 0.9, 'bagging_freq': 1, 'feature_fraction': 0.7}. Best is trial 139 with value: 0.3001387515424596.\u001b[0m\n",
      "\u001b[32m[I 2021-10-03 22:29:42,932]\u001b[0m Trial 149 finished with value: 0.24864425587132205 and parameters: {'n_estimators': 50, 'learning_rate': 0.024697538663512146, 'num_leaves': 320, 'max_depth': 12, 'min_data_in_leaf': 200, 'lambda_l1': 5, 'lambda_l2': 95, 'min_gain_to_split': 5.40867054741873, 'bagging_fraction': 0.9, 'bagging_freq': 1, 'feature_fraction': 0.7}. Best is trial 139 with value: 0.3001387515424596.\u001b[0m\n",
      "\u001b[32m[I 2021-10-03 22:29:44,681]\u001b[0m Trial 150 finished with value: 0.27894672699198203 and parameters: {'n_estimators': 250, 'learning_rate': 0.05757904727954173, 'num_leaves': 140, 'max_depth': 11, 'min_data_in_leaf': 800, 'lambda_l1': 0, 'lambda_l2': 100, 'min_gain_to_split': 5.007833134254482, 'bagging_fraction': 0.9, 'bagging_freq': 1, 'feature_fraction': 0.7}. Best is trial 139 with value: 0.3001387515424596.\u001b[0m\n",
      "\u001b[32m[I 2021-10-03 22:29:47,161]\u001b[0m Trial 151 finished with value: 0.2868881664114446 and parameters: {'n_estimators': 350, 'learning_rate': 0.0374786640170129, 'num_leaves': 20, 'max_depth': 10, 'min_data_in_leaf': 400, 'lambda_l1': 5, 'lambda_l2': 100, 'min_gain_to_split': 4.414014178843641, 'bagging_fraction': 0.9, 'bagging_freq': 1, 'feature_fraction': 0.7}. Best is trial 139 with value: 0.3001387515424596.\u001b[0m\n",
      "\u001b[32m[I 2021-10-03 22:29:49,482]\u001b[0m Trial 152 finished with value: 0.2840061967074865 and parameters: {'n_estimators': 350, 'learning_rate': 0.04585323860180243, 'num_leaves': 100, 'max_depth': 11, 'min_data_in_leaf': 600, 'lambda_l1': 0, 'lambda_l2': 95, 'min_gain_to_split': 3.8921291779826768, 'bagging_fraction': 0.7, 'bagging_freq': 1, 'feature_fraction': 0.7}. Best is trial 139 with value: 0.3001387515424596.\u001b[0m\n",
      "\u001b[32m[I 2021-10-03 22:29:52,437]\u001b[0m Trial 153 finished with value: 0.2852605266904093 and parameters: {'n_estimators': 400, 'learning_rate': 0.032028405833411745, 'num_leaves': 200, 'max_depth': 10, 'min_data_in_leaf': 400, 'lambda_l1': 10, 'lambda_l2': 100, 'min_gain_to_split': 5.359424575981841, 'bagging_fraction': 0.7, 'bagging_freq': 1, 'feature_fraction': 0.7}. Best is trial 139 with value: 0.3001387515424596.\u001b[0m\n",
      "\u001b[32m[I 2021-10-03 22:29:54,929]\u001b[0m Trial 154 finished with value: 0.2895625485506917 and parameters: {'n_estimators': 350, 'learning_rate': 0.051993635511280445, 'num_leaves': 360, 'max_depth': 12, 'min_data_in_leaf': 600, 'lambda_l1': 5, 'lambda_l2': 95, 'min_gain_to_split': 4.943344783863726, 'bagging_fraction': 0.9, 'bagging_freq': 1, 'feature_fraction': 0.7}. Best is trial 139 with value: 0.3001387515424596.\u001b[0m\n",
      "\u001b[32m[I 2021-10-03 22:29:56,706]\u001b[0m Trial 155 finished with value: 0.266094744342577 and parameters: {'n_estimators': 300, 'learning_rate': 0.04134951990385795, 'num_leaves': 280, 'max_depth': 10, 'min_data_in_leaf': 1000, 'lambda_l1': 0, 'lambda_l2': 95, 'min_gain_to_split': 4.61633959248069, 'bagging_fraction': 0.7, 'bagging_freq': 1, 'feature_fraction': 0.7}. Best is trial 139 with value: 0.3001387515424596.\u001b[0m\n",
      "\u001b[32m[I 2021-10-03 22:30:00,015]\u001b[0m Trial 156 finished with value: 0.2859897816726283 and parameters: {'n_estimators': 400, 'learning_rate': 0.05540646850222727, 'num_leaves': 520, 'max_depth': 11, 'min_data_in_leaf': 200, 'lambda_l1': 5, 'lambda_l2': 90, 'min_gain_to_split': 4.125162645237729, 'bagging_fraction': 0.7, 'bagging_freq': 1, 'feature_fraction': 0.8}. Best is trial 139 with value: 0.3001387515424596.\u001b[0m\n",
      "\u001b[32m[I 2021-10-03 22:30:03,974]\u001b[0m Trial 157 finished with value: 0.29321137019389043 and parameters: {'n_estimators': 800, 'learning_rate': 0.04740004655964729, 'num_leaves': 100, 'max_depth': 10, 'min_data_in_leaf': 400, 'lambda_l1': 10, 'lambda_l2': 100, 'min_gain_to_split': 5.734009649932688, 'bagging_fraction': 0.9, 'bagging_freq': 1, 'feature_fraction': 0.7}. Best is trial 139 with value: 0.3001387515424596.\u001b[0m\n",
      "\u001b[32m[I 2021-10-03 22:30:06,596]\u001b[0m Trial 158 finished with value: 0.2509521739364039 and parameters: {'n_estimators': 750, 'learning_rate': 0.059640925780579404, 'num_leaves': 160, 'max_depth': 9, 'min_data_in_leaf': 3500, 'lambda_l1': 10, 'lambda_l2': 100, 'min_gain_to_split': 5.675654991502142, 'bagging_fraction': 0.9, 'bagging_freq': 1, 'feature_fraction': 0.30000000000000004}. Best is trial 139 with value: 0.3001387515424596.\u001b[0m\n"
     ]
    },
    {
     "name": "stderr",
     "output_type": "stream",
     "text": [
      "\u001b[32m[I 2021-10-03 22:30:10,768]\u001b[0m Trial 159 finished with value: 0.2888610863280195 and parameters: {'n_estimators': 800, 'learning_rate': 0.05145174143799119, 'num_leaves': 220, 'max_depth': 11, 'min_data_in_leaf': 800, 'lambda_l1': 10, 'lambda_l2': 100, 'min_gain_to_split': 4.899776581416473, 'bagging_fraction': 0.9, 'bagging_freq': 1, 'feature_fraction': 0.8}. Best is trial 139 with value: 0.3001387515424596.\u001b[0m\n",
      "\u001b[32m[I 2021-10-03 22:30:13,655]\u001b[0m Trial 160 finished with value: 0.2710509970564977 and parameters: {'n_estimators': 800, 'learning_rate': 0.07405941924288723, 'num_leaves': 460, 'max_depth': 10, 'min_data_in_leaf': 500, 'lambda_l1': 75, 'lambda_l2': 100, 'min_gain_to_split': 5.288263263192869, 'bagging_fraction': 0.9, 'bagging_freq': 1, 'feature_fraction': 0.7}. Best is trial 139 with value: 0.3001387515424596.\u001b[0m\n",
      "\u001b[32m[I 2021-10-03 22:30:16,240]\u001b[0m Trial 161 finished with value: 0.2878640131357197 and parameters: {'n_estimators': 350, 'learning_rate': 0.044845439144732144, 'num_leaves': 100, 'max_depth': 10, 'min_data_in_leaf': 400, 'lambda_l1': 5, 'lambda_l2': 95, 'min_gain_to_split': 5.979026054807591, 'bagging_fraction': 0.9, 'bagging_freq': 1, 'feature_fraction': 0.7}. Best is trial 139 with value: 0.3001387515424596.\u001b[0m\n",
      "\u001b[32m[I 2021-10-03 22:30:18,884]\u001b[0m Trial 162 finished with value: 0.28501728452809727 and parameters: {'n_estimators': 400, 'learning_rate': 0.03647166769048204, 'num_leaves': 20, 'max_depth': 10, 'min_data_in_leaf': 400, 'lambda_l1': 20, 'lambda_l2': 100, 'min_gain_to_split': 5.631492893130659, 'bagging_fraction': 0.8, 'bagging_freq': 1, 'feature_fraction': 0.7}. Best is trial 139 with value: 0.3001387515424596.\u001b[0m\n",
      "\u001b[32m[I 2021-10-03 22:30:21,228]\u001b[0m Trial 163 finished with value: 0.2929421829656661 and parameters: {'n_estimators': 350, 'learning_rate': 0.05815989660721685, 'num_leaves': 80, 'max_depth': 10, 'min_data_in_leaf': 600, 'lambda_l1': 10, 'lambda_l2': 95, 'min_gain_to_split': 4.34038017388884, 'bagging_fraction': 0.7, 'bagging_freq': 1, 'feature_fraction': 0.7}. Best is trial 139 with value: 0.3001387515424596.\u001b[0m\n",
      "\u001b[32m[I 2021-10-03 22:30:23,279]\u001b[0m Trial 164 finished with value: 0.28308769759000285 and parameters: {'n_estimators': 300, 'learning_rate': 0.059709949568343246, 'num_leaves': 80, 'max_depth': 10, 'min_data_in_leaf': 700, 'lambda_l1': 10, 'lambda_l2': 95, 'min_gain_to_split': 4.400449717975731, 'bagging_fraction': 0.7, 'bagging_freq': 1, 'feature_fraction': 0.7}. Best is trial 139 with value: 0.3001387515424596.\u001b[0m\n",
      "\u001b[32m[I 2021-10-03 22:30:27,107]\u001b[0m Trial 165 finished with value: 0.2700797221346115 and parameters: {'n_estimators': 750, 'learning_rate': 0.06932829679922617, 'num_leaves': 260, 'max_depth': 9, 'min_data_in_leaf': 200, 'lambda_l1': 0, 'lambda_l2': 95, 'min_gain_to_split': 3.814662435215457, 'bagging_fraction': 0.9, 'bagging_freq': 1, 'feature_fraction': 0.8}. Best is trial 139 with value: 0.3001387515424596.\u001b[0m\n",
      "\u001b[32m[I 2021-10-03 22:30:29,475]\u001b[0m Trial 166 finished with value: 0.28101845682263055 and parameters: {'n_estimators': 400, 'learning_rate': 0.05336222798437818, 'num_leaves': 160, 'max_depth': 10, 'min_data_in_leaf': 900, 'lambda_l1': 5, 'lambda_l2': 95, 'min_gain_to_split': 4.771101654586431, 'bagging_fraction': 0.7, 'bagging_freq': 1, 'feature_fraction': 0.7}. Best is trial 139 with value: 0.3001387515424596.\u001b[0m\n",
      "\u001b[32m[I 2021-10-03 22:30:30,678]\u001b[0m Trial 167 finished with value: 0.0 and parameters: {'n_estimators': 800, 'learning_rate': 0.06692718542352112, 'num_leaves': 360, 'max_depth': 11, 'min_data_in_leaf': 10000, 'lambda_l1': 10, 'lambda_l2': 90, 'min_gain_to_split': 4.1099320130532995, 'bagging_fraction': 0.7, 'bagging_freq': 1, 'feature_fraction': 0.7}. Best is trial 139 with value: 0.3001387515424596.\u001b[0m\n",
      "\u001b[32m[I 2021-10-03 22:30:33,117]\u001b[0m Trial 168 finished with value: 0.27599868816919654 and parameters: {'n_estimators': 350, 'learning_rate': 0.12054360660064939, 'num_leaves': 300, 'max_depth': 10, 'min_data_in_leaf': 600, 'lambda_l1': 5, 'lambda_l2': 90, 'min_gain_to_split': 4.448781936079918, 'bagging_fraction': 0.7, 'bagging_freq': 1, 'feature_fraction': 0.8}. Best is trial 139 with value: 0.3001387515424596.\u001b[0m\n",
      "\u001b[32m[I 2021-10-03 22:30:35,514]\u001b[0m Trial 169 finished with value: 0.27351531839772153 and parameters: {'n_estimators': 400, 'learning_rate': 0.050160986249384795, 'num_leaves': 140, 'max_depth': 12, 'min_data_in_leaf': 1100, 'lambda_l1': 10, 'lambda_l2': 100, 'min_gain_to_split': 5.106480786660511, 'bagging_fraction': 0.9, 'bagging_freq': 1, 'feature_fraction': 0.7}. Best is trial 139 with value: 0.3001387515424596.\u001b[0m\n",
      "\u001b[32m[I 2021-10-03 22:30:38,175]\u001b[0m Trial 170 finished with value: 0.2773780266191438 and parameters: {'n_estimators': 300, 'learning_rate': 0.05867829914629347, 'num_leaves': 240, 'max_depth': 10, 'min_data_in_leaf': 200, 'lambda_l1': 10, 'lambda_l2': 95, 'min_gain_to_split': 3.6564763168426477, 'bagging_fraction': 0.8, 'bagging_freq': 1, 'feature_fraction': 0.8}. Best is trial 139 with value: 0.3001387515424596.\u001b[0m\n",
      "\u001b[32m[I 2021-10-03 22:30:40,611]\u001b[0m Trial 171 finished with value: 0.2914609895636106 and parameters: {'n_estimators': 350, 'learning_rate': 0.044890782044229305, 'num_leaves': 60, 'max_depth': 10, 'min_data_in_leaf': 400, 'lambda_l1': 20, 'lambda_l2': 80, 'min_gain_to_split': 5.469341714409985, 'bagging_fraction': 0.7, 'bagging_freq': 1, 'feature_fraction': 0.7}. Best is trial 139 with value: 0.3001387515424596.\u001b[0m\n",
      "\u001b[32m[I 2021-10-03 22:30:42,916]\u001b[0m Trial 172 finished with value: 0.28301836446566797 and parameters: {'n_estimators': 350, 'learning_rate': 0.04743711589437992, 'num_leaves': 80, 'max_depth': 10, 'min_data_in_leaf': 600, 'lambda_l1': 15, 'lambda_l2': 80, 'min_gain_to_split': 5.486381910306896, 'bagging_fraction': 0.7, 'bagging_freq': 1, 'feature_fraction': 0.7}. Best is trial 139 with value: 0.3001387515424596.\u001b[0m\n",
      "\u001b[32m[I 2021-10-03 22:30:45,378]\u001b[0m Trial 173 finished with value: 0.28005801451434 and parameters: {'n_estimators': 350, 'learning_rate': 0.035850853566512034, 'num_leaves': 180, 'max_depth': 10, 'min_data_in_leaf': 400, 'lambda_l1': 20, 'lambda_l2': 100, 'min_gain_to_split': 4.7249724205617545, 'bagging_fraction': 0.7, 'bagging_freq': 1, 'feature_fraction': 0.7}. Best is trial 139 with value: 0.3001387515424596.\u001b[0m\n",
      "\u001b[32m[I 2021-10-03 22:30:47,723]\u001b[0m Trial 174 finished with value: 0.26483719176561826 and parameters: {'n_estimators': 400, 'learning_rate': 0.027494118652302644, 'num_leaves': 80, 'max_depth': 9, 'min_data_in_leaf': 800, 'lambda_l1': 25, 'lambda_l2': 80, 'min_gain_to_split': 5.139758429912965, 'bagging_fraction': 0.7, 'bagging_freq': 1, 'feature_fraction': 0.7}. Best is trial 139 with value: 0.3001387515424596.\u001b[0m\n",
      "\u001b[32m[I 2021-10-03 22:30:50,420]\u001b[0m Trial 175 finished with value: 0.2857069028541923 and parameters: {'n_estimators': 400, 'learning_rate': 0.05489685433367206, 'num_leaves': 400, 'max_depth': 10, 'min_data_in_leaf': 500, 'lambda_l1': 0, 'lambda_l2': 90, 'min_gain_to_split': 4.1647532260857485, 'bagging_fraction': 0.7, 'bagging_freq': 1, 'feature_fraction': 0.7}. Best is trial 139 with value: 0.3001387515424596.\u001b[0m\n",
      "\u001b[32m[I 2021-10-03 22:30:52,967]\u001b[0m Trial 176 finished with value: 0.2793756993684354 and parameters: {'n_estimators': 350, 'learning_rate': 0.06441313726130951, 'num_leaves': 120, 'max_depth': 11, 'min_data_in_leaf': 300, 'lambda_l1': 15, 'lambda_l2': 95, 'min_gain_to_split': 4.53407467265792, 'bagging_fraction': 0.7, 'bagging_freq': 1, 'feature_fraction': 0.8}. Best is trial 139 with value: 0.3001387515424596.\u001b[0m\n",
      "\u001b[32m[I 2021-10-03 22:30:55,053]\u001b[0m Trial 177 finished with value: 0.2724008840857667 and parameters: {'n_estimators': 450, 'learning_rate': 0.20516927328671825, 'num_leaves': 220, 'max_depth': 10, 'min_data_in_leaf': 200, 'lambda_l1': 5, 'lambda_l2': 100, 'min_gain_to_split': 5.459042861666213, 'bagging_fraction': 0.8, 'bagging_freq': 1, 'feature_fraction': 0.7}. Best is trial 139 with value: 0.3001387515424596.\u001b[0m\n",
      "\u001b[32m[I 2021-10-03 22:30:59,592]\u001b[0m Trial 178 finished with value: 0.2961204716689948 and parameters: {'n_estimators': 850, 'learning_rate': 0.04473398828580357, 'num_leaves': 320, 'max_depth': 10, 'min_data_in_leaf': 700, 'lambda_l1': 20, 'lambda_l2': 90, 'min_gain_to_split': 4.923812006579826, 'bagging_fraction': 0.7, 'bagging_freq': 1, 'feature_fraction': 0.7}. Best is trial 139 with value: 0.3001387515424596.\u001b[0m\n"
     ]
    },
    {
     "name": "stderr",
     "output_type": "stream",
     "text": [
      "\u001b[32m[I 2021-10-03 22:31:04,164]\u001b[0m Trial 179 finished with value: 0.2885563352295402 and parameters: {'n_estimators': 850, 'learning_rate': 0.04439051264550981, 'num_leaves': 300, 'max_depth': 10, 'min_data_in_leaf': 900, 'lambda_l1': 15, 'lambda_l2': 90, 'min_gain_to_split': 4.902819338092058, 'bagging_fraction': 0.7, 'bagging_freq': 1, 'feature_fraction': 0.7}. Best is trial 139 with value: 0.3001387515424596.\u001b[0m\n",
      "\u001b[32m[I 2021-10-03 22:31:08,210]\u001b[0m Trial 180 finished with value: 0.27450757652769037 and parameters: {'n_estimators': 850, 'learning_rate': 0.03458522135250294, 'num_leaves': 460, 'max_depth': 10, 'min_data_in_leaf': 1300, 'lambda_l1': 10, 'lambda_l2': 90, 'min_gain_to_split': 3.912014663895727, 'bagging_fraction': 0.7, 'bagging_freq': 1, 'feature_fraction': 0.8}. Best is trial 139 with value: 0.3001387515424596.\u001b[0m\n",
      "\u001b[32m[I 2021-10-03 22:31:12,486]\u001b[0m Trial 181 finished with value: 0.2952440895634127 and parameters: {'n_estimators': 800, 'learning_rate': 0.048535923098850846, 'num_leaves': 360, 'max_depth': 10, 'min_data_in_leaf': 600, 'lambda_l1': 20, 'lambda_l2': 70, 'min_gain_to_split': 5.669492022280085, 'bagging_fraction': 0.7, 'bagging_freq': 1, 'feature_fraction': 0.7}. Best is trial 139 with value: 0.3001387515424596.\u001b[0m\n",
      "\u001b[32m[I 2021-10-03 22:31:16,814]\u001b[0m Trial 182 finished with value: 0.2893183052987912 and parameters: {'n_estimators': 800, 'learning_rate': 0.04830068910063367, 'num_leaves': 360, 'max_depth': 10, 'min_data_in_leaf': 600, 'lambda_l1': 20, 'lambda_l2': 95, 'min_gain_to_split': 5.242188601716233, 'bagging_fraction': 0.7, 'bagging_freq': 1, 'feature_fraction': 0.7}. Best is trial 139 with value: 0.3001387515424596.\u001b[0m\n",
      "\u001b[32m[I 2021-10-03 22:31:21,015]\u001b[0m Trial 183 finished with value: 0.2922966412169258 and parameters: {'n_estimators': 750, 'learning_rate': 0.04055755842339416, 'num_leaves': 340, 'max_depth': 10, 'min_data_in_leaf': 700, 'lambda_l1': 20, 'lambda_l2': 70, 'min_gain_to_split': 4.84623435385834, 'bagging_fraction': 0.7, 'bagging_freq': 1, 'feature_fraction': 0.7}. Best is trial 139 with value: 0.3001387515424596.\u001b[0m\n",
      "\u001b[32m[I 2021-10-03 22:31:25,293]\u001b[0m Trial 184 finished with value: 0.28155919199614254 and parameters: {'n_estimators': 750, 'learning_rate': 0.040587892895748476, 'num_leaves': 560, 'max_depth': 10, 'min_data_in_leaf': 800, 'lambda_l1': 20, 'lambda_l2': 70, 'min_gain_to_split': 5.716982843887805, 'bagging_fraction': 0.7, 'bagging_freq': 1, 'feature_fraction': 0.7}. Best is trial 139 with value: 0.3001387515424596.\u001b[0m\n",
      "\u001b[32m[I 2021-10-03 22:31:29,458]\u001b[0m Trial 185 finished with value: 0.273804272330376 and parameters: {'n_estimators': 800, 'learning_rate': 0.03191598292391167, 'num_leaves': 260, 'max_depth': 10, 'min_data_in_leaf': 1000, 'lambda_l1': 25, 'lambda_l2': 65, 'min_gain_to_split': 4.859744318235249, 'bagging_fraction': 0.7, 'bagging_freq': 1, 'feature_fraction': 0.7}. Best is trial 139 with value: 0.3001387515424596.\u001b[0m\n",
      "\u001b[32m[I 2021-10-03 22:31:33,838]\u001b[0m Trial 186 finished with value: 0.2758633211133954 and parameters: {'n_estimators': 750, 'learning_rate': 0.018989040921349752, 'num_leaves': 400, 'max_depth': 10, 'min_data_in_leaf': 700, 'lambda_l1': 25, 'lambda_l2': 70, 'min_gain_to_split': 5.155800819888549, 'bagging_fraction': 0.7, 'bagging_freq': 1, 'feature_fraction': 0.7}. Best is trial 139 with value: 0.3001387515424596.\u001b[0m\n",
      "\u001b[32m[I 2021-10-03 22:31:35,163]\u001b[0m Trial 187 finished with value: 0.0 and parameters: {'n_estimators': 800, 'learning_rate': 0.04295358044815335, 'num_leaves': 2900, 'max_depth': 11, 'min_data_in_leaf': 8500, 'lambda_l1': 20, 'lambda_l2': 70, 'min_gain_to_split': 4.5254453074188135, 'bagging_fraction': 0.7, 'bagging_freq': 1, 'feature_fraction': 0.7}. Best is trial 139 with value: 0.3001387515424596.\u001b[0m\n",
      "\u001b[32m[I 2021-10-03 22:31:38,677]\u001b[0m Trial 188 finished with value: 0.28414295106139004 and parameters: {'n_estimators': 700, 'learning_rate': 0.05085255865563825, 'num_leaves': 180, 'max_depth': 10, 'min_data_in_leaf': 1200, 'lambda_l1': 5, 'lambda_l2': 75, 'min_gain_to_split': 5.423045177714285, 'bagging_fraction': 0.7, 'bagging_freq': 1, 'feature_fraction': 0.7}. Best is trial 139 with value: 0.3001387515424596.\u001b[0m\n",
      "\u001b[32m[I 2021-10-03 22:31:43,370]\u001b[0m Trial 189 finished with value: 0.2916933569012899 and parameters: {'n_estimators': 800, 'learning_rate': 0.037776057639093266, 'num_leaves': 500, 'max_depth': 9, 'min_data_in_leaf': 600, 'lambda_l1': 0, 'lambda_l2': 100, 'min_gain_to_split': 6.179441716717036, 'bagging_fraction': 0.7, 'bagging_freq': 1, 'feature_fraction': 0.7}. Best is trial 139 with value: 0.3001387515424596.\u001b[0m\n",
      "\u001b[32m[I 2021-10-03 22:31:48,405]\u001b[0m Trial 190 finished with value: 0.28950563641445537 and parameters: {'n_estimators': 850, 'learning_rate': 0.02439125609868182, 'num_leaves': 460, 'max_depth': 9, 'min_data_in_leaf': 600, 'lambda_l1': 0, 'lambda_l2': 100, 'min_gain_to_split': 6.350980514719752, 'bagging_fraction': 0.7, 'bagging_freq': 1, 'feature_fraction': 0.7}. Best is trial 139 with value: 0.3001387515424596.\u001b[0m\n",
      "\u001b[32m[I 2021-10-03 22:31:53,168]\u001b[0m Trial 191 finished with value: 0.2953671058791346 and parameters: {'n_estimators': 800, 'learning_rate': 0.038073930222912625, 'num_leaves': 540, 'max_depth': 10, 'min_data_in_leaf': 500, 'lambda_l1': 0, 'lambda_l2': 100, 'min_gain_to_split': 6.089197723738972, 'bagging_fraction': 0.7, 'bagging_freq': 1, 'feature_fraction': 0.7}. Best is trial 139 with value: 0.3001387515424596.\u001b[0m\n",
      "\u001b[32m[I 2021-10-03 22:31:58,049]\u001b[0m Trial 192 finished with value: 0.2951008285241139 and parameters: {'n_estimators': 800, 'learning_rate': 0.036371138152737494, 'num_leaves': 540, 'max_depth': 10, 'min_data_in_leaf': 500, 'lambda_l1': 5, 'lambda_l2': 100, 'min_gain_to_split': 6.889879658024537, 'bagging_fraction': 0.7, 'bagging_freq': 1, 'feature_fraction': 0.7}. Best is trial 139 with value: 0.3001387515424596.\u001b[0m\n",
      "\u001b[32m[I 2021-10-03 22:32:02,323]\u001b[0m Trial 193 finished with value: 0.2905076049070454 and parameters: {'n_estimators': 800, 'learning_rate': 0.03836021246897275, 'num_leaves': 380, 'max_depth': 10, 'min_data_in_leaf': 800, 'lambda_l1': 0, 'lambda_l2': 100, 'min_gain_to_split': 6.965835412512086, 'bagging_fraction': 0.7, 'bagging_freq': 1, 'feature_fraction': 0.7}. Best is trial 139 with value: 0.3001387515424596.\u001b[0m\n",
      "\u001b[32m[I 2021-10-03 22:32:07,259]\u001b[0m Trial 194 finished with value: 0.2913744145787988 and parameters: {'n_estimators': 800, 'learning_rate': 0.029235128580112218, 'num_leaves': 520, 'max_depth': 10, 'min_data_in_leaf': 500, 'lambda_l1': 0, 'lambda_l2': 100, 'min_gain_to_split': 6.114262272530741, 'bagging_fraction': 0.7, 'bagging_freq': 1, 'feature_fraction': 0.7}. Best is trial 139 with value: 0.3001387515424596.\u001b[0m\n",
      "\u001b[32m[I 2021-10-03 22:32:12,290]\u001b[0m Trial 195 finished with value: 0.2916993144591799 and parameters: {'n_estimators': 850, 'learning_rate': 0.03271749031330869, 'num_leaves': 520, 'max_depth': 10, 'min_data_in_leaf': 600, 'lambda_l1': 0, 'lambda_l2': 100, 'min_gain_to_split': 6.697001017310166, 'bagging_fraction': 0.7, 'bagging_freq': 1, 'feature_fraction': 0.7}. Best is trial 139 with value: 0.3001387515424596.\u001b[0m\n",
      "\u001b[32m[I 2021-10-03 22:32:16,688]\u001b[0m Trial 196 finished with value: 0.28240150656910556 and parameters: {'n_estimators': 850, 'learning_rate': 0.031233075030139692, 'num_leaves': 640, 'max_depth': 10, 'min_data_in_leaf': 1000, 'lambda_l1': 0, 'lambda_l2': 100, 'min_gain_to_split': 6.70965721576877, 'bagging_fraction': 0.7, 'bagging_freq': 1, 'feature_fraction': 0.7}. Best is trial 139 with value: 0.3001387515424596.\u001b[0m\n",
      "\u001b[32m[I 2021-10-03 22:32:21,789]\u001b[0m Trial 197 finished with value: 0.2705439636612148 and parameters: {'n_estimators': 900, 'learning_rate': 0.014073066362051686, 'num_leaves': 520, 'max_depth': 10, 'min_data_in_leaf': 700, 'lambda_l1': 0, 'lambda_l2': 100, 'min_gain_to_split': 6.340868435509074, 'bagging_fraction': 0.7, 'bagging_freq': 1, 'feature_fraction': 0.7}. Best is trial 139 with value: 0.3001387515424596.\u001b[0m\n",
      "\u001b[32m[I 2021-10-03 22:32:26,962]\u001b[0m Trial 198 finished with value: 0.2963929928239374 and parameters: {'n_estimators': 850, 'learning_rate': 0.034990675651251434, 'num_leaves': 660, 'max_depth': 10, 'min_data_in_leaf': 500, 'lambda_l1': 0, 'lambda_l2': 95, 'min_gain_to_split': 5.997269839036866, 'bagging_fraction': 0.7, 'bagging_freq': 1, 'feature_fraction': 0.7}. Best is trial 139 with value: 0.3001387515424596.\u001b[0m\n"
     ]
    },
    {
     "name": "stderr",
     "output_type": "stream",
     "text": [
      "\u001b[32m[I 2021-10-03 22:32:31,572]\u001b[0m Trial 199 finished with value: 0.2900464698313259 and parameters: {'n_estimators': 850, 'learning_rate': 0.03618093812221628, 'num_leaves': 580, 'max_depth': 10, 'min_data_in_leaf': 900, 'lambda_l1': 5, 'lambda_l2': 95, 'min_gain_to_split': 5.902969118860383, 'bagging_fraction': 0.7, 'bagging_freq': 1, 'feature_fraction': 0.7}. Best is trial 139 with value: 0.3001387515424596.\u001b[0m\n"
     ]
    },
    {
     "name": "stdout",
     "output_type": "stream",
     "text": [
      "CPU times: user 10.7 s, sys: 1.82 s, total: 12.5 s\n",
      "Wall time: 10min 1s\n"
     ]
    }
   ],
   "source": [
    "%%time\n",
    "# optuna hyperparemter optimization study with 200 trials\n",
    "study = optuna.create_study(direction='maximize', study_name=\"LGBM Classifier 1\")\n",
    "study.optimize(objective, n_trials=200)"
   ]
  },
  {
   "cell_type": "code",
   "execution_count": 431,
   "id": "8b241bd3",
   "metadata": {},
   "outputs": [
    {
     "name": "stdout",
     "output_type": "stream",
     "text": [
      "F2: 0.3001387515424596\n",
      "Best hyperparameters: {'n_estimators': 350, 'learning_rate': 0.04936331715803258, 'num_leaves': 260, 'max_depth': 10, 'min_data_in_leaf': 400, 'lambda_l1': 5, 'lambda_l2': 100, 'min_gain_to_split': 4.650339765275678, 'bagging_fraction': 0.8, 'bagging_freq': 1, 'feature_fraction': 0.7}\n"
     ]
    }
   ],
   "source": [
    "# get results/settings from best trial\n",
    "trial_1_best = study.best_trial\n",
    "print('F2: {}'.format(trial_1_best.value))\n",
    "print(\"Best hyperparameters: {}\".format(trial_1_best.params))\n",
    "trial_1_best_params = study.best_params"
   ]
  },
  {
   "cell_type": "code",
   "execution_count": 432,
   "id": "72fc17c3",
   "metadata": {},
   "outputs": [
    {
     "name": "stdout",
     "output_type": "stream",
     "text": [
      "[LightGBM] [Warning] bagging_freq is set=1, subsample_freq=0 will be ignored. Current value: bagging_freq=1\n",
      "[LightGBM] [Warning] lambda_l1 is set=5, reg_alpha=0.0 will be ignored. Current value: lambda_l1=5\n",
      "[LightGBM] [Warning] min_data_in_leaf is set=400, min_child_samples=20 will be ignored. Current value: min_data_in_leaf=400\n",
      "[LightGBM] [Warning] min_gain_to_split is set=4.650339765275678, min_split_gain=0.0 will be ignored. Current value: min_gain_to_split=4.650339765275678\n",
      "[LightGBM] [Warning] feature_fraction is set=0.7, colsample_bytree=1.0 will be ignored. Current value: feature_fraction=0.7\n",
      "[LightGBM] [Warning] bagging_fraction is set=0.8, subsample=1.0 will be ignored. Current value: bagging_fraction=0.8\n",
      "[LightGBM] [Warning] lambda_l2 is set=100, reg_lambda=0.0 will be ignored. Current value: lambda_l2=100\n",
      "----- EVAL METRICS -----\n",
      "Precision: 0.1252\n",
      "Recall: 0.5597\n",
      "F2: 0.3304\n"
     ]
    },
    {
     "data": {
      "image/png": "[encoded data removed]",
      "text/plain": [
       "<Figure size 432x288 with 2 Axes>"
      ]
     },
     "metadata": {
      "needs_background": "light"
     },
     "output_type": "display_data"
    },
    {
     "data": {
      "image/png": "[encoded data removed]",
      "text/plain": [
       "<Figure size 432x288 with 2 Axes>"
      ]
     },
     "metadata": {
      "needs_background": "light"
     },
     "output_type": "display_data"
    }
   ],
   "source": [
    "#evaulate model trained on best settings\n",
    "evaluate_model_lgb(trial_1_best_params, X_train_sub_dummies, y_train_sub, X_val_dummies, y_val)"
   ]
  },
  {
   "cell_type": "markdown",
   "id": "75e56e92",
   "metadata": {},
   "source": [
    "After hyperparameter tuning with optuna, the LightGBM model performs even better than before. This is the best performing model by far, so we will move forward with it. First, let's see the feature importances in the model:"
   ]
  },
  {
   "cell_type": "code",
   "execution_count": 476,
   "id": "2c6c29f6",
   "metadata": {},
   "outputs": [],
   "source": [
    "lgbm = LGBMClassifier(is_unbalance=True, **trial_1_best_params)\n",
    "grid_result_lgbm = lgbm.fit(X_train_dummies,y_train)\n",
    "\n",
    "feat_importance = grid_result_lgbm.feature_importances_\n",
    "col_names = X_train_dummies.columns\n",
    "lgbm_importances = pd.DataFrame({'col_name':col_names, 'Importance':feat_importance}).sort_values('Importance', ascending=False)"
   ]
  },
  {
   "cell_type": "code",
   "execution_count": 477,
   "id": "2364572e",
   "metadata": {},
   "outputs": [
    {
     "data": {
      "image/png": "[encoded data removed]",
      "text/plain": [
       "<Figure size 360x720 with 1 Axes>"
      ]
     },
     "metadata": {
      "needs_background": "light"
     },
     "output_type": "display_data"
    }
   ],
   "source": [
    "#plot feature importance\n",
    "fig, ax = plt.subplots(figsize=(5,10))\n",
    "sns.barplot(ax=ax, data=lgb_importances, x='Importance', y=\"col_name\")\n",
    "ax.set_title('Feature Importance for LightGBM Model')\n",
    "ax.set_ylabel('Feature Name')\n",
    "ax.set_xlabel('Importance');"
   ]
  },
  {
   "cell_type": "markdown",
   "id": "4961ca82",
   "metadata": {},
   "source": [
    "Feature importances are similar to the first LightGBM model"
   ]
  },
  {
   "cell_type": "markdown",
   "id": "51dc8683",
   "metadata": {},
   "source": [
    "# Final Model Training and Evaluation"
   ]
  },
  {
   "cell_type": "markdown",
   "id": "d8c0217e",
   "metadata": {},
   "source": [
    "Now that we have selected our best performing model (based on f2 scores from 10-fold cross validation) we will train it on our full training set and evaluate performance on the hold-out test set that has not previously been used."
   ]
  },
  {
   "cell_type": "code",
   "execution_count": 483,
   "id": "eef5c669",
   "metadata": {},
   "outputs": [
    {
     "name": "stdout",
     "output_type": "stream",
     "text": [
      "[LightGBM] [Warning] bagging_freq is set=1, subsample_freq=0 will be ignored. Current value: bagging_freq=1\n",
      "[LightGBM] [Warning] lambda_l1 is set=5, reg_alpha=0.0 will be ignored. Current value: lambda_l1=5\n",
      "[LightGBM] [Warning] min_data_in_leaf is set=400, min_child_samples=20 will be ignored. Current value: min_data_in_leaf=400\n",
      "[LightGBM] [Warning] min_gain_to_split is set=4.650339765275678, min_split_gain=0.0 will be ignored. Current value: min_gain_to_split=4.650339765275678\n",
      "[LightGBM] [Warning] feature_fraction is set=0.7, colsample_bytree=1.0 will be ignored. Current value: feature_fraction=0.7\n",
      "[LightGBM] [Warning] bagging_fraction is set=0.8, subsample=1.0 will be ignored. Current value: bagging_fraction=0.8\n",
      "[LightGBM] [Warning] lambda_l2 is set=100, reg_lambda=0.0 will be ignored. Current value: lambda_l2=100\n",
      "----- EVAL METRICS -----\n",
      "Precision: 0.0978\n",
      "Recall: 0.4221\n",
      "F2: 0.2538\n"
     ]
    },
    {
     "data": {
      "image/png": "[encoded data removed]",
      "text/plain": [
       "<Figure size 432x288 with 2 Axes>"
      ]
     },
     "metadata": {
      "needs_background": "light"
     },
     "output_type": "display_data"
    },
    {
     "data": {
      "image/png": "[encoded data removed]",
      "text/plain": [
       "<Figure size 432x288 with 2 Axes>"
      ]
     },
     "metadata": {
      "needs_background": "light"
     },
     "output_type": "display_data"
    }
   ],
   "source": [
    "#evaulate model trained on best settings\n",
    "evaluate_model_lgb(trial_1_best_params, X_train_dummies, y_train, X_test_dummies, y_test)"
   ]
  },
  {
   "cell_type": "markdown",
   "id": "836f2482",
   "metadata": {},
   "source": [
    "As is to be expected, the performance is worse on the test data, but still good enough to be valuable."
   ]
  }
 ],
 "metadata": {
  "kernelspec": {
   "display_name": "boost",
   "language": "python",
   "name": "boost"
  },
  "language_info": {
   "codemirror_mode": {
    "name": "ipython",
    "version": 3
   },
   "file_extension": ".py",
   "mimetype": "text/x-python",
   "name": "python",
   "nbconvert_exporter": "python",
   "pygments_lexer": "ipython3",
   "version": "3.8.8"
  }
 },
 "nbformat": 4,
 "nbformat_minor": 5
}
