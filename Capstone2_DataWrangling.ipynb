{
 "cells": [
  {
   "cell_type": "code",
   "execution_count": 1,
   "metadata": {},
   "outputs": [
    {
     "name": "stderr",
     "output_type": "stream",
     "text": [
      "/Users/allankapoor/Documents/Springboard/wildfire_project/lib/python3.8/site-packages/geopandas/_compat.py:106: UserWarning: The Shapely GEOS version (3.8.0-CAPI-1.13.1 ) is incompatible with the GEOS version PyGEOS was compiled with (3.9.1-CAPI-1.14.2). Conversions between both will be slow.\n",
      "  warnings.warn(\n"
     ]
    }
   ],
   "source": [
    "#package imports\n",
    "import pandas as pd\n",
    "import numpy as np\n",
    "import matplotlib.pyplot as plt\n",
    "import geopandas as gpd\n",
    "import seaborn as sns\n",
    "from sqlalchemy import create_engine\n",
    "import ee\n",
    "import geemap\n",
    "from ipyleaflet import Map, basemaps, basemap_to_tiles\n",
    "import rasterio"
   ]
  },
  {
   "cell_type": "code",
   "execution_count": 2,
   "metadata": {},
   "outputs": [],
   "source": [
    "#%reload_ext autoreload"
   ]
  },
  {
   "cell_type": "markdown",
   "metadata": {},
   "source": [
    "# Loading and processing wildfire data\n",
    "\n",
    "Source: https://www.kaggle.com/rtatman/188-million-us-wildfires\n",
    "\n",
    "From the original SQLite database, extract records for California, 2005 and later. Convert date a standard YYY-MM-DD format which can be read by GEE."
   ]
  },
  {
   "cell_type": "code",
   "execution_count": 3,
   "metadata": {},
   "outputs": [],
   "source": [
    "#initializing SQL engine\n",
    "engine = create_engine('sqlite:////Users/allankapoor/Documents/Springboard/wildfire_project/Datasets/FPA_FOD_20170508.sqlite')\n",
    "#engine.table_names()\n",
    "#extracting subset of dataset (California, 2005 and on) to pandas dataframe\n",
    "wildfires = pd.read_sql_query(\"SELECT * FROM Fires WHERE FIRE_YEAR >= 2005 AND STATE ='CA' \", engine)"
   ]
  },
  {
   "cell_type": "code",
   "execution_count": 4,
   "metadata": {},
   "outputs": [
    {
     "data": {
      "text/html": [
       "<div>\n",
       "<style scoped>\n",
       "    .dataframe tbody tr th:only-of-type {\n",
       "        vertical-align: middle;\n",
       "    }\n",
       "\n",
       "    .dataframe tbody tr th {\n",
       "        vertical-align: top;\n",
       "    }\n",
       "\n",
       "    .dataframe thead th {\n",
       "        text-align: right;\n",
       "    }\n",
       "</style>\n",
       "<table border=\"1\" class=\"dataframe\">\n",
       "  <thead>\n",
       "    <tr style=\"text-align: right;\">\n",
       "      <th></th>\n",
       "      <th>OBJECTID</th>\n",
       "      <th>FOD_ID</th>\n",
       "      <th>FPA_ID</th>\n",
       "      <th>SOURCE_SYSTEM_TYPE</th>\n",
       "      <th>SOURCE_SYSTEM</th>\n",
       "      <th>NWCG_REPORTING_AGENCY</th>\n",
       "      <th>NWCG_REPORTING_UNIT_ID</th>\n",
       "      <th>NWCG_REPORTING_UNIT_NAME</th>\n",
       "      <th>SOURCE_REPORTING_UNIT</th>\n",
       "      <th>SOURCE_REPORTING_UNIT_NAME</th>\n",
       "      <th>...</th>\n",
       "      <th>FIRE_SIZE_CLASS</th>\n",
       "      <th>LATITUDE</th>\n",
       "      <th>LONGITUDE</th>\n",
       "      <th>OWNER_CODE</th>\n",
       "      <th>OWNER_DESCR</th>\n",
       "      <th>STATE</th>\n",
       "      <th>COUNTY</th>\n",
       "      <th>FIPS_CODE</th>\n",
       "      <th>FIPS_NAME</th>\n",
       "      <th>Shape</th>\n",
       "    </tr>\n",
       "  </thead>\n",
       "  <tbody>\n",
       "    <tr>\n",
       "      <th>0</th>\n",
       "      <td>1</td>\n",
       "      <td>1</td>\n",
       "      <td>FS-1418826</td>\n",
       "      <td>FED</td>\n",
       "      <td>FS-FIRESTAT</td>\n",
       "      <td>FS</td>\n",
       "      <td>USCAPNF</td>\n",
       "      <td>Plumas National Forest</td>\n",
       "      <td>0511</td>\n",
       "      <td>Plumas National Forest</td>\n",
       "      <td>...</td>\n",
       "      <td>A</td>\n",
       "      <td>40.036944</td>\n",
       "      <td>-121.005833</td>\n",
       "      <td>5.0</td>\n",
       "      <td>USFS</td>\n",
       "      <td>CA</td>\n",
       "      <td>63</td>\n",
       "      <td>063</td>\n",
       "      <td>Plumas</td>\n",
       "      <td>b'\\x00\\x01\\xad\\x10\\x00\\x00\\xe8d\\xc2\\x92_@^\\xc0...</td>\n",
       "    </tr>\n",
       "    <tr>\n",
       "      <th>1</th>\n",
       "      <td>8</td>\n",
       "      <td>8</td>\n",
       "      <td>FS-1418854</td>\n",
       "      <td>FED</td>\n",
       "      <td>FS-FIRESTAT</td>\n",
       "      <td>FS</td>\n",
       "      <td>USCASHF</td>\n",
       "      <td>Shasta-Trinity National Forest</td>\n",
       "      <td>0514</td>\n",
       "      <td>Shasta-Trinity National Forest</td>\n",
       "      <td>...</td>\n",
       "      <td>B</td>\n",
       "      <td>40.968056</td>\n",
       "      <td>-122.433889</td>\n",
       "      <td>13.0</td>\n",
       "      <td>STATE OR PRIVATE</td>\n",
       "      <td>CA</td>\n",
       "      <td>None</td>\n",
       "      <td>None</td>\n",
       "      <td>None</td>\n",
       "      <td>b'\\x00\\x01\\xad\\x10\\x00\\x00t)\\xe8\\xd5\\xc4\\x9b^\\...</td>\n",
       "    </tr>\n",
       "    <tr>\n",
       "      <th>2</th>\n",
       "      <td>9</td>\n",
       "      <td>9</td>\n",
       "      <td>FS-1418856</td>\n",
       "      <td>FED</td>\n",
       "      <td>FS-FIRESTAT</td>\n",
       "      <td>FS</td>\n",
       "      <td>USCASHF</td>\n",
       "      <td>Shasta-Trinity National Forest</td>\n",
       "      <td>0514</td>\n",
       "      <td>Shasta-Trinity National Forest</td>\n",
       "      <td>...</td>\n",
       "      <td>B</td>\n",
       "      <td>41.233611</td>\n",
       "      <td>-122.283333</td>\n",
       "      <td>13.0</td>\n",
       "      <td>STATE OR PRIVATE</td>\n",
       "      <td>CA</td>\n",
       "      <td>None</td>\n",
       "      <td>None</td>\n",
       "      <td>None</td>\n",
       "      <td>b'\\x00\\x01\\xad\\x10\\x00\\x00\\xdc\\x8d\\x1e\"\"\\x92^\\...</td>\n",
       "    </tr>\n",
       "    <tr>\n",
       "      <th>3</th>\n",
       "      <td>77</td>\n",
       "      <td>78</td>\n",
       "      <td>FS-1419054</td>\n",
       "      <td>FED</td>\n",
       "      <td>FS-FIRESTAT</td>\n",
       "      <td>FS</td>\n",
       "      <td>USCASRF</td>\n",
       "      <td>Six Rivers National Forest</td>\n",
       "      <td>0510</td>\n",
       "      <td>Six Rivers National Forest</td>\n",
       "      <td>...</td>\n",
       "      <td>A</td>\n",
       "      <td>41.037222</td>\n",
       "      <td>-123.533056</td>\n",
       "      <td>5.0</td>\n",
       "      <td>USFS</td>\n",
       "      <td>CA</td>\n",
       "      <td>None</td>\n",
       "      <td>None</td>\n",
       "      <td>None</td>\n",
       "      <td>b'\\x00\\x01\\xad\\x10\\x00\\x00\\xa8I\\x11\\x95\\x1d\\xe...</td>\n",
       "    </tr>\n",
       "    <tr>\n",
       "      <th>4</th>\n",
       "      <td>88</td>\n",
       "      <td>89</td>\n",
       "      <td>FS-1419071</td>\n",
       "      <td>FED</td>\n",
       "      <td>FS-FIRESTAT</td>\n",
       "      <td>FS</td>\n",
       "      <td>USCAANF</td>\n",
       "      <td>Angeles National Forest</td>\n",
       "      <td>0501</td>\n",
       "      <td>Angeles National Forest</td>\n",
       "      <td>...</td>\n",
       "      <td>A</td>\n",
       "      <td>34.174444</td>\n",
       "      <td>-117.765000</td>\n",
       "      <td>5.0</td>\n",
       "      <td>USFS</td>\n",
       "      <td>CA</td>\n",
       "      <td>None</td>\n",
       "      <td>None</td>\n",
       "      <td>None</td>\n",
       "      <td>b'\\x00\\x01\\xad\\x10\\x00\\x00(\\\\\\x8f\\xc2\\xf5p]\\xc...</td>\n",
       "    </tr>\n",
       "  </tbody>\n",
       "</table>\n",
       "<p>5 rows × 39 columns</p>\n",
       "</div>"
      ],
      "text/plain": [
       "   OBJECTID  FOD_ID      FPA_ID SOURCE_SYSTEM_TYPE SOURCE_SYSTEM  \\\n",
       "0         1       1  FS-1418826                FED   FS-FIRESTAT   \n",
       "1         8       8  FS-1418854                FED   FS-FIRESTAT   \n",
       "2         9       9  FS-1418856                FED   FS-FIRESTAT   \n",
       "3        77      78  FS-1419054                FED   FS-FIRESTAT   \n",
       "4        88      89  FS-1419071                FED   FS-FIRESTAT   \n",
       "\n",
       "  NWCG_REPORTING_AGENCY NWCG_REPORTING_UNIT_ID  \\\n",
       "0                    FS                USCAPNF   \n",
       "1                    FS                USCASHF   \n",
       "2                    FS                USCASHF   \n",
       "3                    FS                USCASRF   \n",
       "4                    FS                USCAANF   \n",
       "\n",
       "         NWCG_REPORTING_UNIT_NAME SOURCE_REPORTING_UNIT  \\\n",
       "0          Plumas National Forest                  0511   \n",
       "1  Shasta-Trinity National Forest                  0514   \n",
       "2  Shasta-Trinity National Forest                  0514   \n",
       "3      Six Rivers National Forest                  0510   \n",
       "4         Angeles National Forest                  0501   \n",
       "\n",
       "       SOURCE_REPORTING_UNIT_NAME  ... FIRE_SIZE_CLASS   LATITUDE   LONGITUDE  \\\n",
       "0          Plumas National Forest  ...               A  40.036944 -121.005833   \n",
       "1  Shasta-Trinity National Forest  ...               B  40.968056 -122.433889   \n",
       "2  Shasta-Trinity National Forest  ...               B  41.233611 -122.283333   \n",
       "3      Six Rivers National Forest  ...               A  41.037222 -123.533056   \n",
       "4         Angeles National Forest  ...               A  34.174444 -117.765000   \n",
       "\n",
       "  OWNER_CODE       OWNER_DESCR STATE COUNTY FIPS_CODE FIPS_NAME  \\\n",
       "0        5.0              USFS    CA     63       063    Plumas   \n",
       "1       13.0  STATE OR PRIVATE    CA   None      None      None   \n",
       "2       13.0  STATE OR PRIVATE    CA   None      None      None   \n",
       "3        5.0              USFS    CA   None      None      None   \n",
       "4        5.0              USFS    CA   None      None      None   \n",
       "\n",
       "                                               Shape  \n",
       "0  b'\\x00\\x01\\xad\\x10\\x00\\x00\\xe8d\\xc2\\x92_@^\\xc0...  \n",
       "1  b'\\x00\\x01\\xad\\x10\\x00\\x00t)\\xe8\\xd5\\xc4\\x9b^\\...  \n",
       "2  b'\\x00\\x01\\xad\\x10\\x00\\x00\\xdc\\x8d\\x1e\"\"\\x92^\\...  \n",
       "3  b'\\x00\\x01\\xad\\x10\\x00\\x00\\xa8I\\x11\\x95\\x1d\\xe...  \n",
       "4  b'\\x00\\x01\\xad\\x10\\x00\\x00(\\\\\\x8f\\xc2\\xf5p]\\xc...  \n",
       "\n",
       "[5 rows x 39 columns]"
      ]
     },
     "execution_count": 4,
     "metadata": {},
     "output_type": "execute_result"
    }
   ],
   "source": [
    "#inspect table\n",
    "wildfires.head()"
   ]
  },
  {
   "cell_type": "code",
   "execution_count": 5,
   "metadata": {},
   "outputs": [
    {
     "name": "stdout",
     "output_type": "stream",
     "text": [
      "(83912, 39)\n",
      "Index(['OBJECTID', 'FOD_ID', 'FPA_ID', 'SOURCE_SYSTEM_TYPE', 'SOURCE_SYSTEM',\n",
      "       'NWCG_REPORTING_AGENCY', 'NWCG_REPORTING_UNIT_ID',\n",
      "       'NWCG_REPORTING_UNIT_NAME', 'SOURCE_REPORTING_UNIT',\n",
      "       'SOURCE_REPORTING_UNIT_NAME', 'LOCAL_FIRE_REPORT_ID',\n",
      "       'LOCAL_INCIDENT_ID', 'FIRE_CODE', 'FIRE_NAME',\n",
      "       'ICS_209_INCIDENT_NUMBER', 'ICS_209_NAME', 'MTBS_ID', 'MTBS_FIRE_NAME',\n",
      "       'COMPLEX_NAME', 'FIRE_YEAR', 'DISCOVERY_DATE', 'DISCOVERY_DOY',\n",
      "       'DISCOVERY_TIME', 'STAT_CAUSE_CODE', 'STAT_CAUSE_DESCR', 'CONT_DATE',\n",
      "       'CONT_DOY', 'CONT_TIME', 'FIRE_SIZE', 'FIRE_SIZE_CLASS', 'LATITUDE',\n",
      "       'LONGITUDE', 'OWNER_CODE', 'OWNER_DESCR', 'STATE', 'COUNTY',\n",
      "       'FIPS_CODE', 'FIPS_NAME', 'Shape'],\n",
      "      dtype='object')\n"
     ]
    }
   ],
   "source": [
    "print(wildfires.shape)\n",
    "print(wildfires.columns)"
   ]
  },
  {
   "cell_type": "code",
   "execution_count": 6,
   "metadata": {},
   "outputs": [
    {
     "data": {
      "text/html": [
       "<div>\n",
       "<style scoped>\n",
       "    .dataframe tbody tr th:only-of-type {\n",
       "        vertical-align: middle;\n",
       "    }\n",
       "\n",
       "    .dataframe tbody tr th {\n",
       "        vertical-align: top;\n",
       "    }\n",
       "\n",
       "    .dataframe thead th {\n",
       "        text-align: right;\n",
       "    }\n",
       "</style>\n",
       "<table border=\"1\" class=\"dataframe\">\n",
       "  <thead>\n",
       "    <tr style=\"text-align: right;\">\n",
       "      <th></th>\n",
       "      <th>FIRE_YEAR</th>\n",
       "      <th>DISCOVERY_DOY</th>\n",
       "      <th>DISCOVERY_DATE</th>\n",
       "    </tr>\n",
       "  </thead>\n",
       "  <tbody>\n",
       "    <tr>\n",
       "      <th>0</th>\n",
       "      <td>2005</td>\n",
       "      <td>33</td>\n",
       "      <td>2453403.5</td>\n",
       "    </tr>\n",
       "    <tr>\n",
       "      <th>1</th>\n",
       "      <td>2005</td>\n",
       "      <td>67</td>\n",
       "      <td>2453437.5</td>\n",
       "    </tr>\n",
       "    <tr>\n",
       "      <th>2</th>\n",
       "      <td>2005</td>\n",
       "      <td>74</td>\n",
       "      <td>2453444.5</td>\n",
       "    </tr>\n",
       "    <tr>\n",
       "      <th>3</th>\n",
       "      <td>2005</td>\n",
       "      <td>178</td>\n",
       "      <td>2453548.5</td>\n",
       "    </tr>\n",
       "    <tr>\n",
       "      <th>4</th>\n",
       "      <td>2005</td>\n",
       "      <td>114</td>\n",
       "      <td>2453484.5</td>\n",
       "    </tr>\n",
       "    <tr>\n",
       "      <th>...</th>\n",
       "      <td>...</td>\n",
       "      <td>...</td>\n",
       "      <td>...</td>\n",
       "    </tr>\n",
       "    <tr>\n",
       "      <th>83907</th>\n",
       "      <td>2015</td>\n",
       "      <td>269</td>\n",
       "      <td>2457291.5</td>\n",
       "    </tr>\n",
       "    <tr>\n",
       "      <th>83908</th>\n",
       "      <td>2015</td>\n",
       "      <td>278</td>\n",
       "      <td>2457300.5</td>\n",
       "    </tr>\n",
       "    <tr>\n",
       "      <th>83909</th>\n",
       "      <td>2015</td>\n",
       "      <td>122</td>\n",
       "      <td>2457144.5</td>\n",
       "    </tr>\n",
       "    <tr>\n",
       "      <th>83910</th>\n",
       "      <td>2015</td>\n",
       "      <td>287</td>\n",
       "      <td>2457309.5</td>\n",
       "    </tr>\n",
       "    <tr>\n",
       "      <th>83911</th>\n",
       "      <td>2015</td>\n",
       "      <td>73</td>\n",
       "      <td>2457095.5</td>\n",
       "    </tr>\n",
       "  </tbody>\n",
       "</table>\n",
       "<p>83912 rows × 3 columns</p>\n",
       "</div>"
      ],
      "text/plain": [
       "       FIRE_YEAR  DISCOVERY_DOY  DISCOVERY_DATE\n",
       "0           2005             33       2453403.5\n",
       "1           2005             67       2453437.5\n",
       "2           2005             74       2453444.5\n",
       "3           2005            178       2453548.5\n",
       "4           2005            114       2453484.5\n",
       "...          ...            ...             ...\n",
       "83907       2015            269       2457291.5\n",
       "83908       2015            278       2457300.5\n",
       "83909       2015            122       2457144.5\n",
       "83910       2015            287       2457309.5\n",
       "83911       2015             73       2457095.5\n",
       "\n",
       "[83912 rows x 3 columns]"
      ]
     },
     "execution_count": 6,
     "metadata": {},
     "output_type": "execute_result"
    }
   ],
   "source": [
    "#inspecting different date related columns\n",
    "wildfires[['FIRE_YEAR','DISCOVERY_DOY','DISCOVERY_DATE']]"
   ]
  },
  {
   "cell_type": "code",
   "execution_count": 7,
   "metadata": {},
   "outputs": [],
   "source": [
    "#calculate epoch for Julian dates\n",
    "epoch = pd.to_datetime(0, unit='s').to_julian_date()\n",
    "\n",
    "#convert Julian dates to timestamps\n",
    "wildfires['DISCOVERY_DT'] = pd.to_datetime(wildfires['DISCOVERY_DATE'] - epoch, unit='D')\n",
    "\n",
    "#drop shape field which is unnecessary\n",
    "wildfires = wildfires.drop(['Shape'], axis='columns')\n",
    "\n",
    "#create column with dates as strings (Google Earth Engine cannot ingest timestamps)\n",
    "wildfires['DISCOVERY_DT_STR'] = wildfires['DISCOVERY_DT'].dt.strftime('%Y-%m-%d')"
   ]
  },
  {
   "cell_type": "code",
   "execution_count": 8,
   "metadata": {},
   "outputs": [
    {
     "data": {
      "text/plain": [
       "0        2005-02-02\n",
       "1        2005-03-08\n",
       "2        2005-03-15\n",
       "3        2005-06-27\n",
       "4        2005-04-24\n",
       "            ...    \n",
       "83907    2015-09-26\n",
       "83908    2015-10-05\n",
       "83909    2015-05-02\n",
       "83910    2015-10-14\n",
       "83911    2015-03-14\n",
       "Name: DISCOVERY_DT_STR, Length: 83912, dtype: object"
      ]
     },
     "execution_count": 8,
     "metadata": {},
     "output_type": "execute_result"
    }
   ],
   "source": [
    "#checking dates are formatted correctly\n",
    "wildfires['DISCOVERY_DT_STR']"
   ]
  },
  {
   "cell_type": "code",
   "execution_count": 9,
   "metadata": {},
   "outputs": [],
   "source": [
    "wildfires = wildfires.drop(['DISCOVERY_DT_STR'], axis='columns')"
   ]
  },
  {
   "cell_type": "code",
   "execution_count": 93,
   "metadata": {},
   "outputs": [],
   "source": [
    "#convert dataframe to geodataframe via lat.long columns. Per documentation, coordinate system is NAD83 (EPSG:4269)\n",
    "wildfires_gdf = gpd.GeoDataFrame(wildfires, geometry=gpd.points_from_xy(wildfires.LONGITUDE, wildfires.LATITUDE), crs='EPSG:4269')\n",
    "wildfires_gdf.index.name = 'index'"
   ]
  },
  {
   "cell_type": "code",
   "execution_count": 94,
   "metadata": {},
   "outputs": [
    {
     "data": {
      "text/plain": [
       "<AxesSubplot:>"
      ]
     },
     "execution_count": 94,
     "metadata": {},
     "output_type": "execute_result"
    },
    {
     "data": {
      "image/png": "[encoded data removed]",
      "text/plain": [
       "<Figure size 432x288 with 1 Axes>"
      ]
     },
     "metadata": {
      "needs_background": "light"
     },
     "output_type": "display_data"
    }
   ],
   "source": [
    "#confirm gpd plots correctly\n",
    "wildfires_gdf[wildfires_gdf['FIRE_YEAR']==2005].plot()"
   ]
  },
  {
   "cell_type": "markdown",
   "metadata": {},
   "source": [
    "# Google Earth Engine Setup\n",
    "\n",
    "Export wildfires table to csv for upload to GEE and then load it as a Feature Collection. This will allow for sampling of various variables based on wildfire dat/location via Google Earth Engine"
   ]
  },
  {
   "cell_type": "code",
   "execution_count": 14,
   "metadata": {},
   "outputs": [],
   "source": [
    "#geemap.update_package()\n",
    "#ee.Authenticate()\n",
    "ee.Initialize()"
   ]
  },
  {
   "cell_type": "code",
   "execution_count": 15,
   "metadata": {},
   "outputs": [],
   "source": [
    "#export wildfires_gdf as CSV for upload to Google Earth Engine\n",
    "wildfires_gdf.to_csv(r\"Datasets/wildfires.csv\")"
   ]
  },
  {
   "cell_type": "code",
   "execution_count": 25,
   "metadata": {},
   "outputs": [],
   "source": [
    "#load wildfire points feature collection from Google Earth Engine\n",
    "WF_pts = ee.FeatureCollection('users/allanbkapoor/wildfires3')"
   ]
  },
  {
   "cell_type": "markdown",
   "metadata": {},
   "source": [
    "# TOPOGRAPHY VARIABLES\n",
    "\n",
    "Topography variables from the National Elevataion Dataset developed by USGS, available on Google Earth Engine. Here I use GEE to calculate elevation, slope, and aspect (the direction a slope faces) for the location of each wildfire. The functions are designed to run on GEE servers and the outputs are exported as CSVs to Google Drive. I then download these files and load then as pandas dataframes to be joined to the main wildfire dataframe.\n",
    "\n",
    "Source: https://developers.google.com/earth-engine/datasets/catalog/USGS_NED"
   ]
  },
  {
   "cell_type": "code",
   "execution_count": 26,
   "metadata": {},
   "outputs": [],
   "source": [
    "#load DEM image\n",
    "DEM_img = ee.Image('USGS/NED')\n",
    "\n",
    "#extract individual band 'elevation' (units are meters)\n",
    "DEM = DEM_img.select('elevation')\n",
    "\n",
    "#calculate slope from DEM (units are degrees)\n",
    "slope = ee.Terrain.slope(DEM)\n",
    "slope = slope.rename('slope')\n",
    "\n",
    "#calculate aspect from DEM (units are degrees)\n",
    "aspect = ee.Terrain.aspect(DEM)\n",
    "aspect = aspect.rename('aspect')\n",
    "\n",
    "#sample points from DEM, slope, aspect\n",
    "WFpts_elevation = DEM.sampleRegions(collection=WF_pts, scale=30, geometries=True)\n",
    "WFpts_slope = slope.sampleRegions(collection=WF_pts, scale=30, geometries=True)\n",
    "WFpts_aspect = aspect.sampleRegions(collection=WF_pts, scale=30, geometries=True)"
   ]
  },
  {
   "cell_type": "code",
   "execution_count": 27,
   "metadata": {},
   "outputs": [],
   "source": [
    "#export output tables to Google Drive\n",
    "task_elev = ee.batch.Export.table.toDrive(collection=WFpts_elevation, description='NED_elevation', fileFormat='CSV', folder='GEE Outputs')\n",
    "task_elev.start()\n",
    "\n",
    "task_slope = ee.batch.Export.table.toDrive(collection=WFpts_slope, description='NED_slope', fileFormat='CSV', folder='GEE Outputs')\n",
    "task_slope.start()\n",
    "\n",
    "task_aspect = ee.batch.Export.table.toDrive(collection=WFpts_aspect, description='NED_aspect', fileFormat='CSV', folder='GEE Outputs')\n",
    "task_aspect.start()\n",
    "\n",
    "#run to check status of export\n",
    "#task.status()"
   ]
  },
  {
   "cell_type": "markdown",
   "metadata": {},
   "source": [
    "Define function that joins a table outputted from GEE to the wildfires dataframe"
   ]
  },
  {
   "cell_type": "code",
   "execution_count": 95,
   "metadata": {},
   "outputs": [],
   "source": [
    "#function for joining tables from GEE to main wildfires table\n",
    "def join_gee_data(orig_df,gee_df,fieldname):\n",
    "    '''\n",
    "    takes as input a csv file (from GEE) and joins the new field from it to the existing pandas dataframe\n",
    "    '''\n",
    "    \n",
    "    #isolate OBJECTID and field to be joined\n",
    "    join_df = gee_df[['OBJECTID',fieldname]]\n",
    "    \n",
    "    #join to origi_df\n",
    "    joined_df = pd.merge(orig_df,join_df,on='OBJECTID')\n",
    "    \n",
    "    #return the joined dataframe\n",
    "    return joined_df"
   ]
  },
  {
   "cell_type": "markdown",
   "metadata": {},
   "source": [
    "After export tasks are complete, manually download output tables from Google Drive and save to project folder\n",
    "\n",
    "<b>To finalize: Update the code below so it is replacing the main wildfires table</b>"
   ]
  },
  {
   "cell_type": "code",
   "execution_count": 96,
   "metadata": {},
   "outputs": [],
   "source": [
    "#load DEM tables from GEE into dataframes\n",
    "gee_elev = pd.read_csv('/Users/allankapoor/Documents/Springboard/wildfire_project/Datasets/NED_elevation.csv', low_memory=False)\n",
    "gee_slope = pd.read_csv('/Users/allankapoor/Documents/Springboard/wildfire_project/Datasets/NED_slope.csv', low_memory=False)\n",
    "gee_aspect = pd.read_csv('/Users/allankapoor/Documents/Springboard/wildfire_project/Datasets/NED_aspect.csv', low_memory=False)\n",
    "\n",
    "#join df to main wildfire df\n",
    "wildfires_gdf = join_gee_data(wildfires_gdf,gee_elev,'elevation')\n",
    "wildfires_gdf = join_gee_data(wildfires_gdf,gee_slope,'slope')\n",
    "wildfires_gdf = join_gee_data(wildfires_gdf,gee_aspect,'aspect')"
   ]
  },
  {
   "cell_type": "code",
   "execution_count": 97,
   "metadata": {},
   "outputs": [
    {
     "data": {
      "text/plain": [
       "Index(['OBJECTID', 'FOD_ID', 'FPA_ID', 'SOURCE_SYSTEM_TYPE', 'SOURCE_SYSTEM',\n",
       "       'NWCG_REPORTING_AGENCY', 'NWCG_REPORTING_UNIT_ID',\n",
       "       'NWCG_REPORTING_UNIT_NAME', 'SOURCE_REPORTING_UNIT',\n",
       "       'SOURCE_REPORTING_UNIT_NAME', 'LOCAL_FIRE_REPORT_ID',\n",
       "       'LOCAL_INCIDENT_ID', 'FIRE_CODE', 'FIRE_NAME',\n",
       "       'ICS_209_INCIDENT_NUMBER', 'ICS_209_NAME', 'MTBS_ID', 'MTBS_FIRE_NAME',\n",
       "       'COMPLEX_NAME', 'FIRE_YEAR', 'DISCOVERY_DATE', 'DISCOVERY_DOY',\n",
       "       'DISCOVERY_TIME', 'STAT_CAUSE_CODE', 'STAT_CAUSE_DESCR', 'CONT_DATE',\n",
       "       'CONT_DOY', 'CONT_TIME', 'FIRE_SIZE', 'FIRE_SIZE_CLASS', 'LATITUDE',\n",
       "       'LONGITUDE', 'OWNER_CODE', 'OWNER_DESCR', 'STATE', 'COUNTY',\n",
       "       'FIPS_CODE', 'FIPS_NAME', 'DISCOVERY_DT', 'geometry', 'elevation',\n",
       "       'slope', 'aspect'],\n",
       "      dtype='object')"
      ]
     },
     "execution_count": 97,
     "metadata": {},
     "output_type": "execute_result"
    }
   ],
   "source": [
    "#confirm GEE columns have joined\n",
    "wildfires_gdf.columns"
   ]
  },
  {
   "cell_type": "code",
   "execution_count": 31,
   "metadata": {},
   "outputs": [
    {
     "data": {
      "text/plain": [
       "count    83912.000000\n",
       "mean       607.364248\n",
       "std        641.395737\n",
       "min        -83.107810\n",
       "25%         99.182772\n",
       "50%        387.417215\n",
       "75%        912.970300\n",
       "max       3795.679200\n",
       "Name: elevation, dtype: float64"
      ]
     },
     "execution_count": 31,
     "metadata": {},
     "output_type": "execute_result"
    }
   ],
   "source": [
    "#sense checking elevation results\n",
    "wildfires_gdf['elevation'].describe()"
   ]
  },
  {
   "cell_type": "code",
   "execution_count": 32,
   "metadata": {},
   "outputs": [
    {
     "data": {
      "text/html": [
       "<div>\n",
       "<style scoped>\n",
       "    .dataframe tbody tr th:only-of-type {\n",
       "        vertical-align: middle;\n",
       "    }\n",
       "\n",
       "    .dataframe tbody tr th {\n",
       "        vertical-align: top;\n",
       "    }\n",
       "\n",
       "    .dataframe thead th {\n",
       "        text-align: right;\n",
       "    }\n",
       "</style>\n",
       "<table border=\"1\" class=\"dataframe\">\n",
       "  <thead>\n",
       "    <tr style=\"text-align: right;\">\n",
       "      <th></th>\n",
       "      <th>OBJECTID</th>\n",
       "      <th>FOD_ID</th>\n",
       "      <th>FPA_ID</th>\n",
       "      <th>SOURCE_SYSTEM_TYPE</th>\n",
       "      <th>SOURCE_SYSTEM</th>\n",
       "      <th>NWCG_REPORTING_AGENCY</th>\n",
       "      <th>NWCG_REPORTING_UNIT_ID</th>\n",
       "      <th>NWCG_REPORTING_UNIT_NAME</th>\n",
       "      <th>SOURCE_REPORTING_UNIT</th>\n",
       "      <th>SOURCE_REPORTING_UNIT_NAME</th>\n",
       "      <th>...</th>\n",
       "      <th>WHRTYPE</th>\n",
       "      <th>WHRSIZE</th>\n",
       "      <th>WHRDENSITY</th>\n",
       "      <th>WHR10NUM</th>\n",
       "      <th>WHR10NAME</th>\n",
       "      <th>WHR13NUM</th>\n",
       "      <th>WHR13NAME</th>\n",
       "      <th>elevation</th>\n",
       "      <th>slope</th>\n",
       "      <th>aspect</th>\n",
       "    </tr>\n",
       "  </thead>\n",
       "  <tbody>\n",
       "    <tr>\n",
       "      <th>1350</th>\n",
       "      <td>9597</td>\n",
       "      <td>9642</td>\n",
       "      <td>FS-1436805</td>\n",
       "      <td>FED</td>\n",
       "      <td>FS-FIRESTAT</td>\n",
       "      <td>FS</td>\n",
       "      <td>USCACNF</td>\n",
       "      <td>Cleveland National Forest</td>\n",
       "      <td>0502</td>\n",
       "      <td>Cleveland National Forest</td>\n",
       "      <td>...</td>\n",
       "      <td>BAR</td>\n",
       "      <td>X</td>\n",
       "      <td>X</td>\n",
       "      <td>20.0</td>\n",
       "      <td>Barren/Other</td>\n",
       "      <td>20.0</td>\n",
       "      <td>Barren/Other</td>\n",
       "      <td>-83.107810</td>\n",
       "      <td>0.048313</td>\n",
       "      <td>107.266320</td>\n",
       "    </tr>\n",
       "    <tr>\n",
       "      <th>8794</th>\n",
       "      <td>283824</td>\n",
       "      <td>289253</td>\n",
       "      <td>W-514611</td>\n",
       "      <td>FED</td>\n",
       "      <td>DOI-WFMI</td>\n",
       "      <td>BIA</td>\n",
       "      <td>USCASCA</td>\n",
       "      <td>Southern California Agency</td>\n",
       "      <td>CASCA</td>\n",
       "      <td>Southern California Agency</td>\n",
       "      <td>...</td>\n",
       "      <td>URB</td>\n",
       "      <td>X</td>\n",
       "      <td>X</td>\n",
       "      <td>80.0</td>\n",
       "      <td>Urban</td>\n",
       "      <td>80.0</td>\n",
       "      <td>Urban</td>\n",
       "      <td>-46.131970</td>\n",
       "      <td>1.944300</td>\n",
       "      <td>41.795036</td>\n",
       "    </tr>\n",
       "    <tr>\n",
       "      <th>8797</th>\n",
       "      <td>283827</td>\n",
       "      <td>289256</td>\n",
       "      <td>W-514783</td>\n",
       "      <td>FED</td>\n",
       "      <td>DOI-WFMI</td>\n",
       "      <td>BIA</td>\n",
       "      <td>USCASCA</td>\n",
       "      <td>Southern California Agency</td>\n",
       "      <td>CASCA</td>\n",
       "      <td>Southern California Agency</td>\n",
       "      <td>...</td>\n",
       "      <td>DSC</td>\n",
       "      <td>X</td>\n",
       "      <td>X</td>\n",
       "      <td>40.0</td>\n",
       "      <td>Desert</td>\n",
       "      <td>41.0</td>\n",
       "      <td>Desert Shrub</td>\n",
       "      <td>-51.172462</td>\n",
       "      <td>0.255867</td>\n",
       "      <td>66.258170</td>\n",
       "    </tr>\n",
       "    <tr>\n",
       "      <th>11368</th>\n",
       "      <td>315769</td>\n",
       "      <td>322263</td>\n",
       "      <td>W-568571</td>\n",
       "      <td>FED</td>\n",
       "      <td>DOI-WFMI</td>\n",
       "      <td>BLM</td>\n",
       "      <td>USCACDD</td>\n",
       "      <td>California Desert District</td>\n",
       "      <td>CACDD</td>\n",
       "      <td>California Desert District</td>\n",
       "      <td>...</td>\n",
       "      <td>DSC</td>\n",
       "      <td>X</td>\n",
       "      <td>X</td>\n",
       "      <td>40.0</td>\n",
       "      <td>Desert</td>\n",
       "      <td>41.0</td>\n",
       "      <td>Desert Shrub</td>\n",
       "      <td>-7.147705</td>\n",
       "      <td>0.409029</td>\n",
       "      <td>51.927708</td>\n",
       "    </tr>\n",
       "    <tr>\n",
       "      <th>11371</th>\n",
       "      <td>315772</td>\n",
       "      <td>322266</td>\n",
       "      <td>W-568573</td>\n",
       "      <td>FED</td>\n",
       "      <td>DOI-WFMI</td>\n",
       "      <td>BLM</td>\n",
       "      <td>USCACDD</td>\n",
       "      <td>California Desert District</td>\n",
       "      <td>CACDD</td>\n",
       "      <td>California Desert District</td>\n",
       "      <td>...</td>\n",
       "      <td>URB</td>\n",
       "      <td>X</td>\n",
       "      <td>X</td>\n",
       "      <td>80.0</td>\n",
       "      <td>Urban</td>\n",
       "      <td>80.0</td>\n",
       "      <td>Urban</td>\n",
       "      <td>-10.858791</td>\n",
       "      <td>1.075268</td>\n",
       "      <td>354.632720</td>\n",
       "    </tr>\n",
       "  </tbody>\n",
       "</table>\n",
       "<p>5 rows × 55 columns</p>\n",
       "</div>"
      ],
      "text/plain": [
       "       OBJECTID  FOD_ID      FPA_ID SOURCE_SYSTEM_TYPE SOURCE_SYSTEM  \\\n",
       "1350       9597    9642  FS-1436805                FED   FS-FIRESTAT   \n",
       "8794     283824  289253    W-514611                FED      DOI-WFMI   \n",
       "8797     283827  289256    W-514783                FED      DOI-WFMI   \n",
       "11368    315769  322263    W-568571                FED      DOI-WFMI   \n",
       "11371    315772  322266    W-568573                FED      DOI-WFMI   \n",
       "\n",
       "      NWCG_REPORTING_AGENCY NWCG_REPORTING_UNIT_ID  \\\n",
       "1350                     FS                USCACNF   \n",
       "8794                    BIA                USCASCA   \n",
       "8797                    BIA                USCASCA   \n",
       "11368                   BLM                USCACDD   \n",
       "11371                   BLM                USCACDD   \n",
       "\n",
       "         NWCG_REPORTING_UNIT_NAME SOURCE_REPORTING_UNIT  \\\n",
       "1350    Cleveland National Forest                  0502   \n",
       "8794   Southern California Agency                 CASCA   \n",
       "8797   Southern California Agency                 CASCA   \n",
       "11368  California Desert District                 CACDD   \n",
       "11371  California Desert District                 CACDD   \n",
       "\n",
       "       SOURCE_REPORTING_UNIT_NAME  ... WHRTYPE WHRSIZE WHRDENSITY WHR10NUM  \\\n",
       "1350    Cleveland National Forest  ...     BAR       X          X     20.0   \n",
       "8794   Southern California Agency  ...     URB       X          X     80.0   \n",
       "8797   Southern California Agency  ...     DSC       X          X     40.0   \n",
       "11368  California Desert District  ...     DSC       X          X     40.0   \n",
       "11371  California Desert District  ...     URB       X          X     80.0   \n",
       "\n",
       "          WHR10NAME WHR13NUM     WHR13NAME  elevation     slope      aspect  \n",
       "1350   Barren/Other     20.0  Barren/Other -83.107810  0.048313  107.266320  \n",
       "8794          Urban     80.0         Urban -46.131970  1.944300   41.795036  \n",
       "8797         Desert     41.0  Desert Shrub -51.172462  0.255867   66.258170  \n",
       "11368        Desert     41.0  Desert Shrub  -7.147705  0.409029   51.927708  \n",
       "11371         Urban     80.0         Urban -10.858791  1.075268  354.632720  \n",
       "\n",
       "[5 rows x 55 columns]"
      ]
     },
     "execution_count": 32,
     "metadata": {},
     "output_type": "execute_result"
    }
   ],
   "source": [
    "#filtering for fires that are below sea level\n",
    "below_SL = wildfires_gdf[wildfires_gdf['elevation']<0]\n",
    "below_SL.head()"
   ]
  },
  {
   "cell_type": "code",
   "execution_count": 33,
   "metadata": {},
   "outputs": [
    {
     "data": {
      "text/html": [
       "<div>\n",
       "<style scoped>\n",
       "    .dataframe tbody tr th:only-of-type {\n",
       "        vertical-align: middle;\n",
       "    }\n",
       "\n",
       "    .dataframe tbody tr th {\n",
       "        vertical-align: top;\n",
       "    }\n",
       "\n",
       "    .dataframe thead th {\n",
       "        text-align: right;\n",
       "    }\n",
       "</style>\n",
       "<table border=\"1\" class=\"dataframe\">\n",
       "  <thead>\n",
       "    <tr style=\"text-align: right;\">\n",
       "      <th></th>\n",
       "      <th>LATITUDE</th>\n",
       "      <th>LONGITUDE</th>\n",
       "      <th>elevation</th>\n",
       "    </tr>\n",
       "  </thead>\n",
       "  <tbody>\n",
       "    <tr>\n",
       "      <th>1350</th>\n",
       "      <td>36.278056</td>\n",
       "      <td>-116.869444</td>\n",
       "      <td>-83.107810</td>\n",
       "    </tr>\n",
       "    <tr>\n",
       "      <th>8794</th>\n",
       "      <td>33.568900</td>\n",
       "      <td>-116.155600</td>\n",
       "      <td>-46.131970</td>\n",
       "    </tr>\n",
       "    <tr>\n",
       "      <th>8797</th>\n",
       "      <td>33.563400</td>\n",
       "      <td>-116.140000</td>\n",
       "      <td>-51.172462</td>\n",
       "    </tr>\n",
       "    <tr>\n",
       "      <th>11368</th>\n",
       "      <td>33.620089</td>\n",
       "      <td>-116.259400</td>\n",
       "      <td>-7.147705</td>\n",
       "    </tr>\n",
       "    <tr>\n",
       "      <th>11371</th>\n",
       "      <td>33.561839</td>\n",
       "      <td>-116.190089</td>\n",
       "      <td>-10.858791</td>\n",
       "    </tr>\n",
       "    <tr>\n",
       "      <th>...</th>\n",
       "      <td>...</td>\n",
       "      <td>...</td>\n",
       "      <td>...</td>\n",
       "    </tr>\n",
       "    <tr>\n",
       "      <th>75659</th>\n",
       "      <td>33.631865</td>\n",
       "      <td>-116.181193</td>\n",
       "      <td>-32.115670</td>\n",
       "    </tr>\n",
       "    <tr>\n",
       "      <th>75685</th>\n",
       "      <td>33.598583</td>\n",
       "      <td>-116.095069</td>\n",
       "      <td>-49.206730</td>\n",
       "    </tr>\n",
       "    <tr>\n",
       "      <th>75745</th>\n",
       "      <td>33.709175</td>\n",
       "      <td>-116.179773</td>\n",
       "      <td>-11.408268</td>\n",
       "    </tr>\n",
       "    <tr>\n",
       "      <th>76350</th>\n",
       "      <td>33.598299</td>\n",
       "      <td>-116.198516</td>\n",
       "      <td>-35.072914</td>\n",
       "    </tr>\n",
       "    <tr>\n",
       "      <th>76534</th>\n",
       "      <td>37.870791</td>\n",
       "      <td>-121.590870</td>\n",
       "      <td>-0.801155</td>\n",
       "    </tr>\n",
       "  </tbody>\n",
       "</table>\n",
       "<p>880 rows × 3 columns</p>\n",
       "</div>"
      ],
      "text/plain": [
       "        LATITUDE   LONGITUDE  elevation\n",
       "1350   36.278056 -116.869444 -83.107810\n",
       "8794   33.568900 -116.155600 -46.131970\n",
       "8797   33.563400 -116.140000 -51.172462\n",
       "11368  33.620089 -116.259400  -7.147705\n",
       "11371  33.561839 -116.190089 -10.858791\n",
       "...          ...         ...        ...\n",
       "75659  33.631865 -116.181193 -32.115670\n",
       "75685  33.598583 -116.095069 -49.206730\n",
       "75745  33.709175 -116.179773 -11.408268\n",
       "76350  33.598299 -116.198516 -35.072914\n",
       "76534  37.870791 -121.590870  -0.801155\n",
       "\n",
       "[880 rows x 3 columns]"
      ]
     },
     "execution_count": 33,
     "metadata": {},
     "output_type": "execute_result"
    }
   ],
   "source": [
    "#confirming by spot checking a few coordinates in Google Earth that they are really below sea level\n",
    "below_SL.loc[:,['LATITUDE','LONGITUDE','elevation']]"
   ]
  },
  {
   "cell_type": "code",
   "execution_count": 34,
   "metadata": {},
   "outputs": [
    {
     "data": {
      "text/plain": [
       "count    83912.000000\n",
       "mean         7.236422\n",
       "std          8.670195\n",
       "min          0.000000\n",
       "25%          0.976436\n",
       "50%          3.637877\n",
       "75%         10.506136\n",
       "max         73.758484\n",
       "Name: slope, dtype: float64"
      ]
     },
     "execution_count": 34,
     "metadata": {},
     "output_type": "execute_result"
    }
   ],
   "source": [
    "#confirming slope values seem reasonable (cannot be >90)\n",
    "wildfires_gdf['slope'].describe()"
   ]
  },
  {
   "cell_type": "code",
   "execution_count": 35,
   "metadata": {},
   "outputs": [
    {
     "data": {
      "text/plain": [
       "count    83912.000000\n",
       "mean       179.687199\n",
       "std        100.257313\n",
       "min         -0.000000\n",
       "25%         93.731689\n",
       "50%        186.687270\n",
       "75%        261.237900\n",
       "max        359.999150\n",
       "Name: aspect, dtype: float64"
      ]
     },
     "execution_count": 35,
     "metadata": {},
     "output_type": "execute_result"
    }
   ],
   "source": [
    "#confirming aspect values seem reasonable (cannot be >360)\n",
    "wildfires_gdf['aspect'].describe()"
   ]
  },
  {
   "cell_type": "markdown",
   "metadata": {},
   "source": [
    "# WEATHER VARIABLES\n",
    "\n",
    "Weather variables are available as multiband timeseries raster grids from Google Earth Engine. Here I extract various weather variables based on the location and date of each wildfire. The data source and time period is different for each variable. First I define functions that extract pixel values based on an input dataset, band, and time delta. The functions are designed to run on GEE servers and the outputs are exported as CSVs to Google Drive. I then download these files and load then as pandas dataframes to be joined to the main wildfire dataframe."
   ]
  },
  {
   "cell_type": "markdown",
   "metadata": {},
   "source": [
    "## Define GEE functions\n",
    "Two versions of the function, one that averages over past days and one that averages over future days. They cannot be combined because GEE server-side functions cannot include Python (client-side) conditional logic."
   ]
  },
  {
   "cell_type": "code",
   "execution_count": 76,
   "metadata": {},
   "outputs": [],
   "source": [
    "#This version is for getting a mean across a negative time delta\n",
    "def get_pixel_date_values_neg(image_set, band_name, day_delta, output_column):\n",
    "    '''\n",
    "    For the specified band (band_name) of a specificed dataset (image_set) calculates the MEAN over specified time period\n",
    "    (day_delta) and extracts pixel values at point locations in wildfires feature class to output_column \n",
    "    '''\n",
    "    # load wildfire points/dates feature collection from Google Earth Engine assets\n",
    "    WF_pts = ee.FeatureCollection('users/allanbkapoor/wildfires3')\n",
    "\n",
    "    # get image collection\n",
    "    IC = ee.ImageCollection(image_set)\n",
    "\n",
    "    # select desired band\n",
    "    single_band = IC.select(band_name)\n",
    "\n",
    "    def get_single_date_value(feat):\n",
    "        '''\n",
    "        gets pixels value for a single feature based on long/lat and date\n",
    "        '''\n",
    "\n",
    "        #get data for that feature from date column\n",
    "        date1 = ee.Date(feat.get('DISCOVERY_DT'))\n",
    "        date2 = date1.advance(day_delta, 'day')\n",
    "        \n",
    "        projection_obj = ee.Projection('EPSG:4326')\n",
    "        point = feat.get('geometry')\n",
    "        scale = 4000\n",
    "\n",
    "        #mean of images based on date range\n",
    "        single_image = single_band.filterBounds(point).filterDate(date2,date1).mean()\n",
    "\n",
    "        point_value_fc = single_image.sample(point, scale, projection=projection_obj, dropNulls=False)\n",
    "        point_value = point_value_fc.first().get(band_name)\n",
    "\n",
    "        return feat.set({output_column: point_value})\n",
    "\n",
    "    #map the function over the feature collection\n",
    "    WF_pts_values = WF_pts.map(get_single_date_value)\n",
    "    \n",
    "    #return the output fc\n",
    "    return WF_pts_values"
   ]
  },
  {
   "cell_type": "code",
   "execution_count": 77,
   "metadata": {},
   "outputs": [],
   "source": [
    "#This version is for getting a mean across a positive time delta\n",
    "def get_pixel_date_values_pos(image_set, band_name, day_delta, output_column):\n",
    "    '''\n",
    "    For the specified band (band_name) of a specificed dataset (image_set) calculates the MEAN over specified time period\n",
    "    (day_delta) and extracts pixel values at point locations in wildfires feature class to output_column \n",
    "    '''\n",
    "    # load wildfire points/dates feature collection from Google Earth Engine assets\n",
    "    WF_pts = ee.FeatureCollection('users/allanbkapoor/wildfires3')\n",
    "\n",
    "    # get image collection\n",
    "    IC = ee.ImageCollection(image_set)\n",
    "\n",
    "    # select desired band\n",
    "    single_band = IC.select(band_name)\n",
    "\n",
    "    def get_single_date_value(feat):\n",
    "        '''\n",
    "        gets pixels value for a single feature based on long/lat and date\n",
    "        '''\n",
    "\n",
    "        #get data for that feature from date column\n",
    "        date1 = ee.Date(feat.get('DISCOVERY_DT'))\n",
    "        date2 = date1.advance(day_delta, 'day')\n",
    "        \n",
    "        projection_obj = ee.Projection('EPSG:4326')\n",
    "        point = feat.get('geometry')\n",
    "        scale = 4000\n",
    "\n",
    "        #mean of images based on date range\n",
    "        single_image = single_band.filterBounds(point).filterDate(date1,date2).mean()\n",
    "\n",
    "        point_value_fc = single_image.sample(point, scale, projection=projection_obj, dropNulls=False)\n",
    "        point_value = point_value_fc.first().get(band_name)\n",
    "\n",
    "        return feat.set({output_column: point_value})\n",
    "\n",
    "    #map the function over the feature collection\n",
    "    WF_pts_values = WF_pts.map(get_single_date_value)\n",
    "    \n",
    "    #return the output fc\n",
    "    return WF_pts_values"
   ]
  },
  {
   "cell_type": "markdown",
   "metadata": {},
   "source": [
    "## Temperature"
   ]
  },
  {
   "cell_type": "markdown",
   "metadata": {},
   "source": [
    "Average daily maximum temperature for the week preceding each wildfire.\n",
    "\n",
    "Source: https://developers.google.com/earth-engine/datasets/catalog/OREGONSTATE_PRISM_AN81d?hl=en#citations\n",
    "\n",
    "Daly, C., J.I. Smith, and K.V. Olson. 2015. Mapping atmospheric moisture climatologies across the conterminous United States. PloS ONE 10(10):e0141140. doi:10.1371/journal.pone.0141140."
   ]
  },
  {
   "cell_type": "code",
   "execution_count": 78,
   "metadata": {},
   "outputs": [],
   "source": [
    "# extract pixel values for the mean of the max temperature band, for the preceding 7 days from PRISM daily\n",
    "WF_pts_tmax = get_pixel_date_values_neg('OREGONSTATE/PRISM/AN81d','tmax', -7, 'max_temp')"
   ]
  },
  {
   "cell_type": "code",
   "execution_count": 79,
   "metadata": {},
   "outputs": [],
   "source": [
    "# run task on GEE servers and export to Google Drive\n",
    "task_tmax = ee.batch.Export.table.toDrive(collection=WF_pts_tmax, description='mean tmax, prior 7 days', fileNamePrefix = 'PRISM_tmax_1', fileFormat='CSV', folder='GEE Outputs')\n",
    "task_tmax.start()"
   ]
  },
  {
   "cell_type": "markdown",
   "metadata": {},
   "source": [
    "## Dew Point\n",
    "\n",
    "Average daily dew point for the week preceding each wildfire.\n",
    "\n",
    "Source: https://developers.google.com/earth-engine/datasets/catalog/OREGONSTATE_PRISM_AN81d?hl=en#citations\n",
    "\n",
    "Daly, C., J.I. Smith, and K.V. Olson. 2015. Mapping atmospheric moisture climatologies across the conterminous United States. PloS ONE 10(10):e0141140. doi:10.1371/journal.pone.0141140."
   ]
  },
  {
   "cell_type": "code",
   "execution_count": 80,
   "metadata": {},
   "outputs": [],
   "source": [
    "# extract pixel values for mean of the dew point band, for the preceding 7 days, from PRISM daily\n",
    "WF_pts_tdmean = get_pixel_date_values_neg('OREGONSTATE/PRISM/AN81d','tdmean', -7, 'dew_point')"
   ]
  },
  {
   "cell_type": "code",
   "execution_count": 81,
   "metadata": {},
   "outputs": [],
   "source": [
    "# run task on GEE servers and export to Google Drive\n",
    "task_tdmean = ee.batch.Export.table.toDrive(collection=WF_pts_tdmean, description='mean tdmean, prior 7 days', fileNamePrefix = 'PRISM_tdmean_1', fileFormat='CSV', folder='GEE Outputs')\n",
    "task_tdmean.start()"
   ]
  },
  {
   "cell_type": "markdown",
   "metadata": {},
   "source": [
    "Task runs on GEE servers and will output a CSV file to Google Drive"
   ]
  },
  {
   "cell_type": "markdown",
   "metadata": {},
   "source": [
    "## Precipitation\n",
    "\n",
    "Average monthly precipitation for the year preceding each wildfire. I chose to sample this variable over a much longer time period because the summer months in California are quite dry so the most recent rain may have been months before each wildfire. As the precipitation variable also includes snowfall, this is also getting at how much snow fell in that area during the year prior to the wildfire.\n",
    "\n",
    "Source: https://developers.google.com/earth-engine/datasets/catalog/OREGONSTATE_PRISM_AN81m\n",
    "\n",
    "Daly, C., J.I. Smith, and K.V. Olson. 2015. Mapping atmospheric moisture climatologies across the conterminous United States. PloS ONE 10(10):e0141140. doi:10.1371/journal.pone.0141140."
   ]
  },
  {
   "cell_type": "code",
   "execution_count": 82,
   "metadata": {},
   "outputs": [],
   "source": [
    "# extract pixel values for mean of the precipitation band, for the preceding year (365 days), from PRISM monthly\n",
    "WF_pts_ppt = get_pixel_date_values_neg('OREGONSTATE/PRISM/AN81m','ppt', -365, 'mean_monthly_ppt')"
   ]
  },
  {
   "cell_type": "code",
   "execution_count": 83,
   "metadata": {},
   "outputs": [],
   "source": [
    "# run task on GEE servers and export to Google Drive\n",
    "task_ppt = ee.batch.Export.table.toDrive(collection=WF_pts_ppt, description='mean monthly ppt, prior year', fileNamePrefix = 'PRISM_ppt_1', fileFormat='CSV', folder='GEE Outputs')\n",
    "task_ppt.start()"
   ]
  },
  {
   "cell_type": "markdown",
   "metadata": {},
   "source": [
    "Task runs on GEE servers and will output a CSV file to Google Drive"
   ]
  },
  {
   "cell_type": "markdown",
   "metadata": {},
   "source": [
    "## Wind Speed"
   ]
  },
  {
   "cell_type": "markdown",
   "metadata": {},
   "source": [
    "Average windspeed over the day following the start of the wildfire. Wind speed comes from the GRIDMET daily timeseries dataset. To get wind conditions at the location and time each wildfire started, I take the mean of that day and the following day for each wildfire.\n",
    "\n",
    "Source: https://developers.google.com/earth-engine/datasets/catalog/IDAHO_EPSCOR_GRIDMET?hl=en\n",
    "\n",
    "Abatzoglou J. T., Development of gridded surface meteorological data for ecological applications and modelling, International Journal of Climatology. (2012) doi:10.1002/joc.3413"
   ]
  },
  {
   "cell_type": "code",
   "execution_count": 84,
   "metadata": {},
   "outputs": [],
   "source": [
    "# extract pixel values for wind speed band, for a single day\n",
    "WF_pts_vs = get_pixel_date_values_pos('IDAHO_EPSCOR/GRIDMET','vs', 1, 'wind_speed')"
   ]
  },
  {
   "cell_type": "code",
   "execution_count": 85,
   "metadata": {},
   "outputs": [],
   "source": [
    "# run task on GEE servers and export to Google Drive\n",
    "task_vs = ee.batch.Export.table.toDrive(collection=WF_pts_vs, description='windspeed, mean of day and next', fileNamePrefix = 'GRIDMET_vs_1', fileFormat='CSV', folder='GEE Outputs')\n",
    "task_vs.start()"
   ]
  },
  {
   "cell_type": "markdown",
   "metadata": {},
   "source": [
    "Task runs on GEE servers and will output a CSV file to Google Drive"
   ]
  },
  {
   "cell_type": "markdown",
   "metadata": {},
   "source": [
    "## Spot checking weather variable results\n",
    "Spot checking results for individual points, by hard entering location/date parameters, and by pulling location/date parameters from the wildfire feature class."
   ]
  },
  {
   "cell_type": "code",
   "execution_count": 86,
   "metadata": {},
   "outputs": [],
   "source": [
    "# get image collection\n",
    "IC = ee.ImageCollection('IDAHO_EPSCOR/GRIDMET')\n",
    "\n",
    "# select desired band\n",
    "single_band = IC.select('vs')"
   ]
  },
  {
   "cell_type": "code",
   "execution_count": 87,
   "metadata": {},
   "outputs": [
    {
     "name": "stdout",
     "output_type": "stream",
     "text": [
      "CPU times: user 7.79 ms, sys: 1.52 ms, total: 9.32 ms\n",
      "Wall time: 166 ms\n"
     ]
    },
    {
     "data": {
      "text/plain": [
       "4.09441614151001"
      ]
     },
     "execution_count": 87,
     "metadata": {},
     "output_type": "execute_result"
    }
   ],
   "source": [
    "%%time\n",
    "# Spot check using hard coded parameters\n",
    "date_test = ee.Date('2011-03-04')\n",
    "date_test2 = ee.Date('2011-03-05')\n",
    "coordinates = [-118.55889094609277, 34.56777630000734]\n",
    "projection_obj = ee.Projection('EPSG:4326')\n",
    "point_test = ee.Geometry.Point(coordinates, proj=projection_obj)\n",
    "single_image = single_band.filterBounds(point_test).filterDate(date_test,date_test2).mean()\n",
    "scale_test = 4000\n",
    "#point_value_test = windImage_test.sample(point_test, scale_test, projection=projection_obj) #.first().get('vs').getInfo()\n",
    "point_value_test = single_image.sample(point_test, scale=scale_test, projection=projection_obj)\n",
    "point_value = point_value_test.first().get(\"vs\")\n",
    "\n",
    "point_value.getInfo()"
   ]
  },
  {
   "cell_type": "code",
   "execution_count": 88,
   "metadata": {},
   "outputs": [
    {
     "name": "stdout",
     "output_type": "stream",
     "text": [
      "CPU times: user 8.68 ms, sys: 1.82 ms, total: 10.5 ms\n",
      "Wall time: 465 ms\n"
     ]
    },
    {
     "data": {
      "text/plain": [
       "4.09441614151001"
      ]
     },
     "execution_count": 88,
     "metadata": {},
     "output_type": "execute_result"
    }
   ],
   "source": [
    "%%time\n",
    "# Spot check using parameters from first feature in wildfire feature class\n",
    "date_test = ee.Date(WF_pts.first().get('DISCOVERY_DT'))\n",
    "date_test2 = date_test.advance(1, 'day')\n",
    "projection_obj = ee.Projection('EPSG:4326')\n",
    "point_test = WF_pts.first().get('geometry')\n",
    "single_image = single_band.filterBounds(point_test).filterDate(date_test,date_test2).mean()\n",
    "scale_test = 4000\n",
    "#point_value_test = windImage_test.sample(point_test, scale_test, projection=projection_obj) #.first().get('vs').getInfo()\n",
    "point_value_test = single_image.sample(point_test, scale=scale_test, projection=projection_obj)\n",
    "point_value = point_value_test.first().get(\"vs\")\n",
    "\n",
    "#define point for spot checking\n",
    "point_geometry = ee.Geometry.Point([-118.55889094609277, 34.56777630000734], proj=projection_obj)\n",
    "\n",
    "point_value.getInfo()"
   ]
  },
  {
   "cell_type": "code",
   "execution_count": 90,
   "metadata": {},
   "outputs": [
    {
     "data": {
      "text/plain": [
       "{'type': 'Feature',\n",
       " 'geometry': {'type': 'Point',\n",
       "  'coordinates': [-118.67055575467313, 34.55250387801756]},\n",
       " 'id': '0000000000000001026b',\n",
       " 'properties': {'COMPLEX_NAME': '',\n",
       "  'CONT_DATE': 2456899.5,\n",
       "  'CONT_DOY': 242,\n",
       "  'CONT_TIME': '1235',\n",
       "  'COUNTY': 'Los Angeles',\n",
       "  'DISCOVERY_DATE': 2456899.5,\n",
       "  'DISCOVERY_DOY': 242,\n",
       "  'DISCOVERY_DT': '2014-08-30',\n",
       "  'DISCOVERY_TIME': '1210',\n",
       "  'FIPS_CODE': '037',\n",
       "  'FIPS_NAME': 'Los Angeles',\n",
       "  'FIRE_CODE': 'EK1S',\n",
       "  'FIRE_NAME': 'CAMRY',\n",
       "  'FIRE_SIZE': 0.10000000149011612,\n",
       "  'FIRE_SIZE_CLASS': 'A',\n",
       "  'FIRE_YEAR': 2014,\n",
       "  'FOD_ID': 300000783,\n",
       "  'FPA_ID': 'FS-1524784',\n",
       "  'ICS_209_INCIDENT_NUMBER': '',\n",
       "  'ICS_209_NAME': '',\n",
       "  'LOCAL_FIRE_REPORT_ID': '108',\n",
       "  'LOCAL_INCIDENT_ID': '65',\n",
       "  'MTBS_FIRE_NAME': '',\n",
       "  'MTBS_ID': '',\n",
       "  'NWCG_REPORTING_AGENCY': 'FS',\n",
       "  'NWCG_REPORTING_UNIT_ID': 'USCAANF',\n",
       "  'NWCG_REPORTING_UNIT_NAME': 'Angeles National Forest',\n",
       "  'OBJECTID': 1722704,\n",
       "  'OWNER_CODE': 5,\n",
       "  'OWNER_DESCR': 'USFS',\n",
       "  'SOURCE_REPORTING_UNIT': '0501',\n",
       "  'SOURCE_REPORTING_UNIT_NAME': 'Angeles National Forest',\n",
       "  'SOURCE_SYSTEM': 'FS-FIRESTAT',\n",
       "  'SOURCE_SYSTEM_TYPE': 'FED',\n",
       "  'STATE': 'CA',\n",
       "  'STAT_CAUSE_CODE': 2,\n",
       "  'STAT_CAUSE_DESCR': 'Equipment Use',\n",
       "  'geometry': {'type': 'Point',\n",
       "   'coordinates': [-118.67055555999998, 34.552499999118275]},\n",
       "  'index': 63560}}"
      ]
     },
     "execution_count": 90,
     "metadata": {},
     "output_type": "execute_result"
    }
   ],
   "source": [
    "WF_pts.filter(\"system:index == '0000000000000001026b'\").first().getInfo()"
   ]
  },
  {
   "cell_type": "code",
   "execution_count": 91,
   "metadata": {},
   "outputs": [
    {
     "name": "stdout",
     "output_type": "stream",
     "text": [
      "CPU times: user 10.2 ms, sys: 1.51 ms, total: 11.7 ms\n",
      "Wall time: 1.29 s\n"
     ]
    },
    {
     "data": {
      "text/plain": [
       "{'type': 'Feature',\n",
       " 'geometry': {'type': 'Point',\n",
       "  'coordinates': [-118.55889094609277, 34.567776299125434]},\n",
       " 'id': '00000000000000009ea6',\n",
       " 'properties': {'COMPLEX_NAME': '',\n",
       "  'CONT_DATE': 2455624.5,\n",
       "  'CONT_DOY': 63,\n",
       "  'CONT_TIME': '1500',\n",
       "  'COUNTY': '',\n",
       "  'DISCOVERY_DATE': 2455624.5,\n",
       "  'DISCOVERY_DOY': 63,\n",
       "  'DISCOVERY_DT': '2011-03-04',\n",
       "  'DISCOVERY_TIME': '1034',\n",
       "  'FIPS_CODE': '',\n",
       "  'FIPS_NAME': '',\n",
       "  'FIRE_CODE': 'F01S',\n",
       "  'FIRE_NAME': 'DRY',\n",
       "  'FIRE_SIZE': 0.5,\n",
       "  'FIRE_SIZE_CLASS': 'B',\n",
       "  'FIRE_YEAR': 2011,\n",
       "  'FOD_ID': 20023357,\n",
       "  'FPA_ID': 'FS-1493682',\n",
       "  'ICS_209_INCIDENT_NUMBER': '',\n",
       "  'ICS_209_NAME': '',\n",
       "  'LOCAL_FIRE_REPORT_ID': '12',\n",
       "  'LOCAL_INCIDENT_ID': '9',\n",
       "  'MTBS_FIRE_NAME': '',\n",
       "  'MTBS_ID': '',\n",
       "  'NWCG_REPORTING_AGENCY': 'FS',\n",
       "  'NWCG_REPORTING_UNIT_ID': 'USCAANF',\n",
       "  'NWCG_REPORTING_UNIT_NAME': 'Angeles National Forest',\n",
       "  'OBJECTID': 1457145,\n",
       "  'OWNER_CODE': 5,\n",
       "  'OWNER_DESCR': 'USFS',\n",
       "  'SOURCE_REPORTING_UNIT': '0501',\n",
       "  'SOURCE_REPORTING_UNIT_NAME': 'Angeles National Forest',\n",
       "  'SOURCE_SYSTEM': 'FS-FIRESTAT',\n",
       "  'SOURCE_SYSTEM_TYPE': 'FED',\n",
       "  'STATE': 'CA',\n",
       "  'STAT_CAUSE_CODE': 7,\n",
       "  'STAT_CAUSE_DESCR': 'Arson',\n",
       "  'geometry': {'type': 'Point',\n",
       "   'coordinates': [-118.55888888999999, 34.567777779118096]},\n",
       "  'index': 40614,\n",
       "  'wind_speed': 4.09441614151001}}"
      ]
     },
     "execution_count": 91,
     "metadata": {},
     "output_type": "execute_result"
    }
   ],
   "source": [
    "%%time\n",
    "# Spot check by running full function and then pulling result for first feature\n",
    "WF_pts_wind_test = get_pixel_date_values_pos('IDAHO_EPSCOR/GRIDMET','vs', 1, 'wind_speed')\n",
    "WF_pts_wind_test.first().getInfo()"
   ]
  },
  {
   "cell_type": "code",
   "execution_count": 92,
   "metadata": {},
   "outputs": [
    {
     "data": {
      "application/vnd.jupyter.widget-view+json": {
       "model_id": "652fe463fdbd47479821b003c566e1a4",
       "version_major": 2,
       "version_minor": 0
      },
      "text/plain": [
       "Map(center=[40, -100], controls=(WidgetControl(options=['position', 'transparent_bg'], widget=HBox(children=(T…"
      ]
     },
     "metadata": {},
     "output_type": "display_data"
    }
   ],
   "source": [
    "# create map object for spot checking the above values\n",
    "Map = geemap.Map()\n",
    "\n",
    "# add items to map for spot checking\n",
    "wind_vis = {'min':0, 'max':30, 'palette':['3399FF', 'FF3333']}\n",
    "Map.addLayer(single_image, wind_vis, 'Wind speed for fire date')\n",
    "Map.addLayer(point_geometry, {}, 'Fire Location')\n",
    "\n",
    "# display map widget\n",
    "Map"
   ]
  },
  {
   "cell_type": "markdown",
   "metadata": {},
   "source": [
    "I used the interactive map widget above to spot check the pixel value. The map displays a single point, which is the first wildfire in the dataset. The raster image is the windspeed the day that fire occured. Using the Inspector tool available in the tool panel, we can see that the pixel value (4.09441614151001) matches the output of the tests above."
   ]
  },
  {
   "cell_type": "markdown",
   "metadata": {},
   "source": [
    "## Load and join weather variables"
   ]
  },
  {
   "cell_type": "markdown",
   "metadata": {},
   "source": [
    "After server-side processing tasks are complete, download the results from Google Drive and save them to the project folder. Load the CSVs as dataframes and then run the previously defined join function to join the desired fields to the main wildfires dataframe."
   ]
  },
  {
   "cell_type": "code",
   "execution_count": 98,
   "metadata": {},
   "outputs": [],
   "source": [
    "#load tables from GEE into dataframes\n",
    "gee_temp = pd.read_csv('Datasets/PRISM_tmax_1.csv', low_memory=False)\n",
    "gee_precip = pd.read_csv('Datasets/PRISM_ppt_1.csv', low_memory=False)\n",
    "gee_dewpoint = pd.read_csv('Datasets/PRISM_tdmean_1.csv', low_memory=False)\n",
    "gee_windspeed = pd.read_csv('Datasets/GRIDMET_vs_1.csv', low_memory=False) "
   ]
  },
  {
   "cell_type": "code",
   "execution_count": 99,
   "metadata": {},
   "outputs": [],
   "source": [
    "#join df to main wildfire gdf\n",
    "wildfires_gdf = join_gee_data(wildfires_gdf,gee_precip,'mean_monthly_ppt')\n",
    "wildfires_gdf = join_gee_data(wildfires_gdf,gee_dewpoint,'dew_point')\n",
    "wildfires_gdf = join_gee_data(wildfires_gdf,gee_temp,'max_temp')\n",
    "wildfires_gdf = join_gee_data(wildfires_gdf,gee_windspeed,'wind_speed')"
   ]
  },
  {
   "cell_type": "code",
   "execution_count": 101,
   "metadata": {},
   "outputs": [
    {
     "data": {
      "text/plain": [
       "Index(['OBJECTID', 'FOD_ID', 'FPA_ID', 'SOURCE_SYSTEM_TYPE', 'SOURCE_SYSTEM',\n",
       "       'NWCG_REPORTING_AGENCY', 'NWCG_REPORTING_UNIT_ID',\n",
       "       'NWCG_REPORTING_UNIT_NAME', 'SOURCE_REPORTING_UNIT',\n",
       "       'SOURCE_REPORTING_UNIT_NAME', 'LOCAL_FIRE_REPORT_ID',\n",
       "       'LOCAL_INCIDENT_ID', 'FIRE_CODE', 'FIRE_NAME',\n",
       "       'ICS_209_INCIDENT_NUMBER', 'ICS_209_NAME', 'MTBS_ID', 'MTBS_FIRE_NAME',\n",
       "       'COMPLEX_NAME', 'FIRE_YEAR', 'DISCOVERY_DATE', 'DISCOVERY_DOY',\n",
       "       'DISCOVERY_TIME', 'STAT_CAUSE_CODE', 'STAT_CAUSE_DESCR', 'CONT_DATE',\n",
       "       'CONT_DOY', 'CONT_TIME', 'FIRE_SIZE', 'FIRE_SIZE_CLASS', 'LATITUDE',\n",
       "       'LONGITUDE', 'OWNER_CODE', 'OWNER_DESCR', 'STATE', 'COUNTY',\n",
       "       'FIPS_CODE', 'FIPS_NAME', 'DISCOVERY_DT', 'geometry', 'elevation',\n",
       "       'slope', 'aspect', 'mean_monthly_ppt', 'dew_point', 'max_temp',\n",
       "       'wind_speed'],\n",
       "      dtype='object')"
      ]
     },
     "execution_count": 101,
     "metadata": {},
     "output_type": "execute_result"
    }
   ],
   "source": [
    "wildfires_gdf.columns"
   ]
  },
  {
   "cell_type": "code",
   "execution_count": 103,
   "metadata": {},
   "outputs": [
    {
     "data": {
      "text/html": [
       "<div>\n",
       "<style scoped>\n",
       "    .dataframe tbody tr th:only-of-type {\n",
       "        vertical-align: middle;\n",
       "    }\n",
       "\n",
       "    .dataframe tbody tr th {\n",
       "        vertical-align: top;\n",
       "    }\n",
       "\n",
       "    .dataframe thead th {\n",
       "        text-align: right;\n",
       "    }\n",
       "</style>\n",
       "<table border=\"1\" class=\"dataframe\">\n",
       "  <thead>\n",
       "    <tr style=\"text-align: right;\">\n",
       "      <th></th>\n",
       "      <th>OBJECTID</th>\n",
       "      <th>FOD_ID</th>\n",
       "      <th>FPA_ID</th>\n",
       "      <th>SOURCE_SYSTEM_TYPE</th>\n",
       "      <th>SOURCE_SYSTEM</th>\n",
       "      <th>NWCG_REPORTING_AGENCY</th>\n",
       "      <th>NWCG_REPORTING_UNIT_ID</th>\n",
       "      <th>NWCG_REPORTING_UNIT_NAME</th>\n",
       "      <th>SOURCE_REPORTING_UNIT</th>\n",
       "      <th>SOURCE_REPORTING_UNIT_NAME</th>\n",
       "      <th>...</th>\n",
       "      <th>FIPS_NAME</th>\n",
       "      <th>DISCOVERY_DT</th>\n",
       "      <th>geometry</th>\n",
       "      <th>elevation</th>\n",
       "      <th>slope</th>\n",
       "      <th>aspect</th>\n",
       "      <th>mean_monthly_ppt</th>\n",
       "      <th>dew_point</th>\n",
       "      <th>max_temp</th>\n",
       "      <th>wind_speed</th>\n",
       "    </tr>\n",
       "  </thead>\n",
       "  <tbody>\n",
       "    <tr>\n",
       "      <th>40614</th>\n",
       "      <td>1457145</td>\n",
       "      <td>20023357</td>\n",
       "      <td>FS-1493682</td>\n",
       "      <td>FED</td>\n",
       "      <td>FS-FIRESTAT</td>\n",
       "      <td>FS</td>\n",
       "      <td>USCAANF</td>\n",
       "      <td>Angeles National Forest</td>\n",
       "      <td>0501</td>\n",
       "      <td>Angeles National Forest</td>\n",
       "      <td>...</td>\n",
       "      <td>None</td>\n",
       "      <td>2011-03-04</td>\n",
       "      <td>POINT (-118.55889 34.56778)</td>\n",
       "      <td>575.9564</td>\n",
       "      <td>27.016422</td>\n",
       "      <td>306.96698</td>\n",
       "      <td>65.380585</td>\n",
       "      <td>-0.522429</td>\n",
       "      <td>11.439</td>\n",
       "      <td>4.094416</td>\n",
       "    </tr>\n",
       "  </tbody>\n",
       "</table>\n",
       "<p>1 rows × 47 columns</p>\n",
       "</div>"
      ],
      "text/plain": [
       "       OBJECTID    FOD_ID      FPA_ID SOURCE_SYSTEM_TYPE SOURCE_SYSTEM  \\\n",
       "40614   1457145  20023357  FS-1493682                FED   FS-FIRESTAT   \n",
       "\n",
       "      NWCG_REPORTING_AGENCY NWCG_REPORTING_UNIT_ID NWCG_REPORTING_UNIT_NAME  \\\n",
       "40614                    FS                USCAANF  Angeles National Forest   \n",
       "\n",
       "      SOURCE_REPORTING_UNIT SOURCE_REPORTING_UNIT_NAME  ... FIPS_NAME  \\\n",
       "40614                  0501    Angeles National Forest  ...      None   \n",
       "\n",
       "      DISCOVERY_DT                     geometry elevation      slope  \\\n",
       "40614   2011-03-04  POINT (-118.55889 34.56778)  575.9564  27.016422   \n",
       "\n",
       "          aspect mean_monthly_ppt dew_point max_temp  wind_speed  \n",
       "40614  306.96698        65.380585 -0.522429   11.439    4.094416  \n",
       "\n",
       "[1 rows x 47 columns]"
      ]
     },
     "execution_count": 103,
     "metadata": {},
     "output_type": "execute_result"
    }
   ],
   "source": [
    "# confirm join based on OBJECTID is working properly. The geodataframe row with the same OBJECTID should have the same windspeed value (4.09) and other fields as the fteaur printed above.\n",
    "wildfires_gdf[wildfires_gdf['OBJECTID']==1457145]"
   ]
  },
  {
   "cell_type": "markdown",
   "metadata": {},
   "source": [
    "# VEGETATION TYPE\n",
    "\n",
    "Vegetation type data is available as a pixel grid with values ('VEG_CODE') that correspond to a lookup table. Here I use geopandas and rasterio to sample the pixel value of each wildfire location. Then I load the lookup table and join all fields from the lookup table to the wildfire table based on the VEG_CODE value. The result is a series of fields with information about the type of vegetation at each wildfire location.\n",
    "\n",
    "Source: https://map.dfg.ca.gov/metadata/ds1327.html"
   ]
  },
  {
   "cell_type": "code",
   "execution_count": 104,
   "metadata": {},
   "outputs": [],
   "source": [
    "#set up coordinates for sampling\n",
    "wf_pts = wildfires_gdf.loc[:,['LONGITUDE', 'LATITUDE', 'OBJECTID', 'geometry']]\n",
    "wf_pts.index = range(len(wf_pts))\n",
    "coords = [(x,y) for x, y in zip(wf_pts.LONGITUDE, wf_pts.LATITUDE)]\n",
    "\n",
    "# open vegetation raster dataset (converted to NAD83 in QGIS)\n",
    "veg_raster = rasterio.open(r'/Users/allankapoor/Documents/Springboard/FVEG_proj/FVEG_NAD83.tif')\n",
    "\n",
    "# Sample the vegetation code at every point location and store values in DataFrame\n",
    "wf_pts['VEG_CODE'] = [x for x in veg_raster.sample(coords)]\n",
    "wf_pts['VEG_CODE'] = wf_pts.apply(lambda x: x['VEG_CODE'][0], axis=1)\n",
    "\n",
    "# load lookup table for vegetation codes\n",
    "fveg_table = pd.read_csv(r\"Datasets/fveg15_11_TABLE.csv\")\n",
    "fveg_table = fveg_table.rename(columns = {'Value':'VEG_CODE'})\n",
    "fveg_table.head()\n",
    "\n",
    "# join vegetation table to wf_pts\n",
    "wf_pts_joined = pd.merge(wf_pts, fveg_table, on='VEG_CODE', how='left')"
   ]
  },
  {
   "cell_type": "code",
   "execution_count": 105,
   "metadata": {},
   "outputs": [],
   "source": [
    "#subset of vegetation columns to be joined\n",
    "desired_columns = ['OBJECTID','VEG_CODE', 'WHRALL', 'LIFE_FORM', 'WHRNUM', 'WHRNAME',\n",
    "                   'WHRTYPE', 'WHRSIZE', 'WHRDENSITY', 'WHR10NUM', 'WHR10NAME',\n",
    "                   'WHR13NUM', 'WHR13NAME']\n",
    "\n",
    "#join to main wildfires gdf based on OBJECTID\n",
    "wildfires_gdf = pd.merge(wildfires_gdf, wf_pts_joined[desired_columns], on='OBJECTID', how='left')"
   ]
  },
  {
   "cell_type": "code",
   "execution_count": 106,
   "metadata": {},
   "outputs": [
    {
     "data": {
      "text/plain": [
       "Index(['OBJECTID', 'FOD_ID', 'FPA_ID', 'SOURCE_SYSTEM_TYPE', 'SOURCE_SYSTEM',\n",
       "       'NWCG_REPORTING_AGENCY', 'NWCG_REPORTING_UNIT_ID',\n",
       "       'NWCG_REPORTING_UNIT_NAME', 'SOURCE_REPORTING_UNIT',\n",
       "       'SOURCE_REPORTING_UNIT_NAME', 'LOCAL_FIRE_REPORT_ID',\n",
       "       'LOCAL_INCIDENT_ID', 'FIRE_CODE', 'FIRE_NAME',\n",
       "       'ICS_209_INCIDENT_NUMBER', 'ICS_209_NAME', 'MTBS_ID', 'MTBS_FIRE_NAME',\n",
       "       'COMPLEX_NAME', 'FIRE_YEAR', 'DISCOVERY_DATE', 'DISCOVERY_DOY',\n",
       "       'DISCOVERY_TIME', 'STAT_CAUSE_CODE', 'STAT_CAUSE_DESCR', 'CONT_DATE',\n",
       "       'CONT_DOY', 'CONT_TIME', 'FIRE_SIZE', 'FIRE_SIZE_CLASS', 'LATITUDE',\n",
       "       'LONGITUDE', 'OWNER_CODE', 'OWNER_DESCR', 'STATE', 'COUNTY',\n",
       "       'FIPS_CODE', 'FIPS_NAME', 'DISCOVERY_DT', 'geometry', 'elevation',\n",
       "       'slope', 'aspect', 'mean_monthly_ppt', 'dew_point', 'max_temp',\n",
       "       'wind_speed', 'VEG_CODE', 'WHRALL', 'LIFE_FORM', 'WHRNUM', 'WHRNAME',\n",
       "       'WHRTYPE', 'WHRSIZE', 'WHRDENSITY', 'WHR10NUM', 'WHR10NAME', 'WHR13NUM',\n",
       "       'WHR13NAME'],\n",
       "      dtype='object')"
      ]
     },
     "execution_count": 106,
     "metadata": {},
     "output_type": "execute_result"
    }
   ],
   "source": [
    "wildfires_gdf.columns"
   ]
  },
  {
   "cell_type": "markdown",
   "metadata": {},
   "source": [
    "# EPA ECOREGIONS\n",
    "\n",
    "As the vegetation types are quite granular, it may be useful to also have a more general indicator of what ecological region each fire occured in. For this, I used EPA Level III Ecoregions. Level III was selected because it is granular enough for there to be several different zones in California, but not so granular that the ecoregions might become redudant with vegetation type.\n",
    "\n",
    "Ecoregions are available in shapefile format from the US EPA. I used geopandas to join ecoregion attributes to the wildfire points based on location.\n",
    "\n",
    "Source: https://www.epa.gov/eco-research/level-iii-and-iv-ecoregions-continental-united-states"
   ]
  },
  {
   "cell_type": "code",
   "execution_count": 107,
   "metadata": {},
   "outputs": [
    {
     "name": "stdout",
     "output_type": "stream",
     "text": [
      "CRS of ecoregions: PROJCS[\"USA_Contiguous_Albers_Equal_Area_Conic_USGS_version\",GEOGCS[\"NAD83\",DATUM[\"North_American_Datum_1983\",SPHEROID[\"GRS 1980\",6378137,298.257222101,AUTHORITY[\"EPSG\",\"7019\"]],AUTHORITY[\"EPSG\",\"6269\"]],PRIMEM[\"Greenwich\",0],UNIT[\"Degree\",0.0174532925199433],AUTHORITY[\"EPSG\",\"4269\"]],PROJECTION[\"Albers_Conic_Equal_Area\"],PARAMETER[\"latitude_of_center\",23],PARAMETER[\"longitude_of_center\",-96],PARAMETER[\"standard_parallel_1\",29.5],PARAMETER[\"standard_parallel_2\",45.5],PARAMETER[\"false_easting\",0],PARAMETER[\"false_northing\",0],UNIT[\"metre\",1,AUTHORITY[\"EPSG\",\"9001\"]],AXIS[\"Easting\",EAST],AXIS[\"Northing\",NORTH],AUTHORITY[\"ESRI\",\"102039\"]]\n",
      "CRS of wildfires: EPSG:4269\n"
     ]
    }
   ],
   "source": [
    "#load ecoregions shapefile as geodataframe\n",
    "ecoregions_gdf = gpd.read_file('Datasets/us_eco_l3/us_eco_l3.shp')\n",
    "\n",
    "#check coordinate system of both gdfs (needs to be the same for spatial join to work properly)\n",
    "ecoregions_crs = ecoregions_gdf.crs\n",
    "wildfires_crs = wildfires_gdf.crs\n",
    "\n",
    "print(f'CRS of ecoregions: {ecoregions_crs}')\n",
    "print(f'CRS of wildfires: {wildfires_crs}')"
   ]
  },
  {
   "cell_type": "code",
   "execution_count": 108,
   "metadata": {},
   "outputs": [],
   "source": [
    "# convert CRS of ecoregions to NAD83 \n",
    "ecoregions_gdf = ecoregions_gdf.to_crs(4269)"
   ]
  },
  {
   "cell_type": "code",
   "execution_count": 109,
   "metadata": {},
   "outputs": [
    {
     "data": {
      "text/plain": [
       "True"
      ]
     },
     "execution_count": 109,
     "metadata": {},
     "output_type": "execute_result"
    }
   ],
   "source": [
    "# confirm geodataframes are now in same crs\n",
    "ecoregions_gdf.crs == wildfires_gdf.crs"
   ]
  },
  {
   "cell_type": "code",
   "execution_count": 111,
   "metadata": {},
   "outputs": [
    {
     "data": {
      "text/plain": [
       "<AxesSubplot:>"
      ]
     },
     "execution_count": 111,
     "metadata": {},
     "output_type": "execute_result"
    },
    {
     "data": {
      "image/png": "[encoded data removed]",
      "text/plain": [
       "<Figure size 432x288 with 1 Axes>"
      ]
     },
     "metadata": {
      "needs_background": "light"
     },
     "output_type": "display_data"
    }
   ],
   "source": [
    "# plot wildfires to confirm\n",
    "wildfires_gdf[wildfires_gdf['FIRE_YEAR']==2005].plot()"
   ]
  },
  {
   "cell_type": "code",
   "execution_count": 112,
   "metadata": {},
   "outputs": [
    {
     "data": {
      "text/plain": [
       "<AxesSubplot:>"
      ]
     },
     "execution_count": 112,
     "metadata": {},
     "output_type": "execute_result"
    },
    {
     "data": {
      "image/png": "[encoded data removed]",
      "text/plain": [
       "<Figure size 432x288 with 1 Axes>"
      ]
     },
     "metadata": {
      "needs_background": "light"
     },
     "output_type": "display_data"
    }
   ],
   "source": [
    "# plot ecoregions to confirm\n",
    "ecoregions_gdf.plot()"
   ]
  },
  {
   "cell_type": "code",
   "execution_count": 113,
   "metadata": {},
   "outputs": [
    {
     "data": {
      "text/plain": [
       "Index(['US_L3CODE', 'US_L3NAME', 'NA_L3CODE', 'NA_L3NAME', 'NA_L2CODE',\n",
       "       'NA_L2NAME', 'NA_L1CODE', 'NA_L1NAME', 'L3_KEY', 'L2_KEY', 'L1_KEY',\n",
       "       'Shape_Leng', 'Shape_Area', 'geometry'],\n",
       "      dtype='object')"
      ]
     },
     "execution_count": 113,
     "metadata": {},
     "output_type": "execute_result"
    }
   ],
   "source": [
    "ecoregions_gdf.columns"
   ]
  },
  {
   "cell_type": "code",
   "execution_count": 114,
   "metadata": {},
   "outputs": [
    {
     "name": "stdout",
     "output_type": "stream",
     "text": [
      "CPU times: user 2min 3s, sys: 405 ms, total: 2min 3s\n",
      "Wall time: 2min 4s\n"
     ]
    },
    {
     "data": {
      "text/html": [
       "<div>\n",
       "<style scoped>\n",
       "    .dataframe tbody tr th:only-of-type {\n",
       "        vertical-align: middle;\n",
       "    }\n",
       "\n",
       "    .dataframe tbody tr th {\n",
       "        vertical-align: top;\n",
       "    }\n",
       "\n",
       "    .dataframe thead th {\n",
       "        text-align: right;\n",
       "    }\n",
       "</style>\n",
       "<table border=\"1\" class=\"dataframe\">\n",
       "  <thead>\n",
       "    <tr style=\"text-align: right;\">\n",
       "      <th></th>\n",
       "      <th>OBJECTID</th>\n",
       "      <th>FOD_ID</th>\n",
       "      <th>FPA_ID</th>\n",
       "      <th>SOURCE_SYSTEM_TYPE</th>\n",
       "      <th>SOURCE_SYSTEM</th>\n",
       "      <th>NWCG_REPORTING_AGENCY</th>\n",
       "      <th>NWCG_REPORTING_UNIT_ID</th>\n",
       "      <th>NWCG_REPORTING_UNIT_NAME</th>\n",
       "      <th>SOURCE_REPORTING_UNIT</th>\n",
       "      <th>SOURCE_REPORTING_UNIT_NAME</th>\n",
       "      <th>...</th>\n",
       "      <th>NA_L3NAME</th>\n",
       "      <th>NA_L2CODE</th>\n",
       "      <th>NA_L2NAME</th>\n",
       "      <th>NA_L1CODE</th>\n",
       "      <th>NA_L1NAME</th>\n",
       "      <th>L3_KEY</th>\n",
       "      <th>L2_KEY</th>\n",
       "      <th>L1_KEY</th>\n",
       "      <th>Shape_Leng</th>\n",
       "      <th>Shape_Area</th>\n",
       "    </tr>\n",
       "  </thead>\n",
       "  <tbody>\n",
       "    <tr>\n",
       "      <th>0</th>\n",
       "      <td>1</td>\n",
       "      <td>1</td>\n",
       "      <td>FS-1418826</td>\n",
       "      <td>FED</td>\n",
       "      <td>FS-FIRESTAT</td>\n",
       "      <td>FS</td>\n",
       "      <td>USCAPNF</td>\n",
       "      <td>Plumas National Forest</td>\n",
       "      <td>0511</td>\n",
       "      <td>Plumas National Forest</td>\n",
       "      <td>...</td>\n",
       "      <td>Sierra Nevada</td>\n",
       "      <td>6.2</td>\n",
       "      <td>WESTERN CORDILLERA</td>\n",
       "      <td>6</td>\n",
       "      <td>NORTHWESTERN FORESTED MOUNTAINS</td>\n",
       "      <td>5  Sierra Nevada</td>\n",
       "      <td>6.2  WESTERN CORDILLERA</td>\n",
       "      <td>6  NORTHWESTERN FORESTED MOUNTAINS</td>\n",
       "      <td>2.701704e+06</td>\n",
       "      <td>5.310270e+10</td>\n",
       "    </tr>\n",
       "    <tr>\n",
       "      <th>1</th>\n",
       "      <td>8</td>\n",
       "      <td>8</td>\n",
       "      <td>FS-1418854</td>\n",
       "      <td>FED</td>\n",
       "      <td>FS-FIRESTAT</td>\n",
       "      <td>FS</td>\n",
       "      <td>USCASHF</td>\n",
       "      <td>Shasta-Trinity National Forest</td>\n",
       "      <td>0514</td>\n",
       "      <td>Shasta-Trinity National Forest</td>\n",
       "      <td>...</td>\n",
       "      <td>Klamath Mountains</td>\n",
       "      <td>6.2</td>\n",
       "      <td>WESTERN CORDILLERA</td>\n",
       "      <td>6</td>\n",
       "      <td>NORTHWESTERN FORESTED MOUNTAINS</td>\n",
       "      <td>78  Klamath Mountains/California High North Co...</td>\n",
       "      <td>6.2  WESTERN CORDILLERA</td>\n",
       "      <td>6  NORTHWESTERN FORESTED MOUNTAINS</td>\n",
       "      <td>2.146616e+06</td>\n",
       "      <td>4.835824e+10</td>\n",
       "    </tr>\n",
       "    <tr>\n",
       "      <th>2</th>\n",
       "      <td>9</td>\n",
       "      <td>9</td>\n",
       "      <td>FS-1418856</td>\n",
       "      <td>FED</td>\n",
       "      <td>FS-FIRESTAT</td>\n",
       "      <td>FS</td>\n",
       "      <td>USCASHF</td>\n",
       "      <td>Shasta-Trinity National Forest</td>\n",
       "      <td>0514</td>\n",
       "      <td>Shasta-Trinity National Forest</td>\n",
       "      <td>...</td>\n",
       "      <td>Klamath Mountains</td>\n",
       "      <td>6.2</td>\n",
       "      <td>WESTERN CORDILLERA</td>\n",
       "      <td>6</td>\n",
       "      <td>NORTHWESTERN FORESTED MOUNTAINS</td>\n",
       "      <td>78  Klamath Mountains/California High North Co...</td>\n",
       "      <td>6.2  WESTERN CORDILLERA</td>\n",
       "      <td>6  NORTHWESTERN FORESTED MOUNTAINS</td>\n",
       "      <td>2.146616e+06</td>\n",
       "      <td>4.835824e+10</td>\n",
       "    </tr>\n",
       "    <tr>\n",
       "      <th>3</th>\n",
       "      <td>77</td>\n",
       "      <td>78</td>\n",
       "      <td>FS-1419054</td>\n",
       "      <td>FED</td>\n",
       "      <td>FS-FIRESTAT</td>\n",
       "      <td>FS</td>\n",
       "      <td>USCASRF</td>\n",
       "      <td>Six Rivers National Forest</td>\n",
       "      <td>0510</td>\n",
       "      <td>Six Rivers National Forest</td>\n",
       "      <td>...</td>\n",
       "      <td>Klamath Mountains</td>\n",
       "      <td>6.2</td>\n",
       "      <td>WESTERN CORDILLERA</td>\n",
       "      <td>6</td>\n",
       "      <td>NORTHWESTERN FORESTED MOUNTAINS</td>\n",
       "      <td>78  Klamath Mountains/California High North Co...</td>\n",
       "      <td>6.2  WESTERN CORDILLERA</td>\n",
       "      <td>6  NORTHWESTERN FORESTED MOUNTAINS</td>\n",
       "      <td>2.146616e+06</td>\n",
       "      <td>4.835824e+10</td>\n",
       "    </tr>\n",
       "    <tr>\n",
       "      <th>4</th>\n",
       "      <td>88</td>\n",
       "      <td>89</td>\n",
       "      <td>FS-1419071</td>\n",
       "      <td>FED</td>\n",
       "      <td>FS-FIRESTAT</td>\n",
       "      <td>FS</td>\n",
       "      <td>USCAANF</td>\n",
       "      <td>Angeles National Forest</td>\n",
       "      <td>0501</td>\n",
       "      <td>Angeles National Forest</td>\n",
       "      <td>...</td>\n",
       "      <td>Southern and Baja California Pine-Oak Mountains</td>\n",
       "      <td>11.1</td>\n",
       "      <td>MEDITERRANEAN CALIFORNIA</td>\n",
       "      <td>11</td>\n",
       "      <td>MEDITERRANEAN CALIFORNIA</td>\n",
       "      <td>8  Southern California Mountains</td>\n",
       "      <td>11.1  MEDITERRANEAN CALIFORNIA</td>\n",
       "      <td>11  MEDITERRANEAN CALIFORNIA</td>\n",
       "      <td>1.118023e+06</td>\n",
       "      <td>1.207346e+10</td>\n",
       "    </tr>\n",
       "    <tr>\n",
       "      <th>...</th>\n",
       "      <td>...</td>\n",
       "      <td>...</td>\n",
       "      <td>...</td>\n",
       "      <td>...</td>\n",
       "      <td>...</td>\n",
       "      <td>...</td>\n",
       "      <td>...</td>\n",
       "      <td>...</td>\n",
       "      <td>...</td>\n",
       "      <td>...</td>\n",
       "      <td>...</td>\n",
       "      <td>...</td>\n",
       "      <td>...</td>\n",
       "      <td>...</td>\n",
       "      <td>...</td>\n",
       "      <td>...</td>\n",
       "      <td>...</td>\n",
       "      <td>...</td>\n",
       "      <td>...</td>\n",
       "      <td>...</td>\n",
       "      <td>...</td>\n",
       "    </tr>\n",
       "    <tr>\n",
       "      <th>83907</th>\n",
       "      <td>1880461</td>\n",
       "      <td>300348363</td>\n",
       "      <td>2015CAIRS29019636</td>\n",
       "      <td>NONFED</td>\n",
       "      <td>ST-CACDF</td>\n",
       "      <td>ST/C&amp;L</td>\n",
       "      <td>USCASHU</td>\n",
       "      <td>Shasta-Trinity Unit</td>\n",
       "      <td>CASHU</td>\n",
       "      <td>Shasta-Trinity Unit</td>\n",
       "      <td>...</td>\n",
       "      <td>California Coastal Sage, Chaparral, and Oak Wo...</td>\n",
       "      <td>11.1</td>\n",
       "      <td>MEDITERRANEAN CALIFORNIA</td>\n",
       "      <td>11</td>\n",
       "      <td>MEDITERRANEAN CALIFORNIA</td>\n",
       "      <td>6  Central California Foothills and Coastal Mo...</td>\n",
       "      <td>11.1  MEDITERRANEAN CALIFORNIA</td>\n",
       "      <td>11  MEDITERRANEAN CALIFORNIA</td>\n",
       "      <td>6.969773e+06</td>\n",
       "      <td>7.665207e+10</td>\n",
       "    </tr>\n",
       "    <tr>\n",
       "      <th>83908</th>\n",
       "      <td>1880462</td>\n",
       "      <td>300348373</td>\n",
       "      <td>2015CAIRS29217935</td>\n",
       "      <td>NONFED</td>\n",
       "      <td>ST-CACDF</td>\n",
       "      <td>ST/C&amp;L</td>\n",
       "      <td>USCATCU</td>\n",
       "      <td>Tuolumne-Calaveras Unit</td>\n",
       "      <td>CATCU</td>\n",
       "      <td>Tuolumne-Calaveras Unit</td>\n",
       "      <td>...</td>\n",
       "      <td>Central California Valley</td>\n",
       "      <td>11.1</td>\n",
       "      <td>MEDITERRANEAN CALIFORNIA</td>\n",
       "      <td>11</td>\n",
       "      <td>MEDITERRANEAN CALIFORNIA</td>\n",
       "      <td>7  Central California Valley</td>\n",
       "      <td>11.1  MEDITERRANEAN CALIFORNIA</td>\n",
       "      <td>11  MEDITERRANEAN CALIFORNIA</td>\n",
       "      <td>2.755557e+06</td>\n",
       "      <td>4.649020e+10</td>\n",
       "    </tr>\n",
       "    <tr>\n",
       "      <th>83909</th>\n",
       "      <td>1880463</td>\n",
       "      <td>300348375</td>\n",
       "      <td>2015CAIRS28364460</td>\n",
       "      <td>NONFED</td>\n",
       "      <td>ST-CACDF</td>\n",
       "      <td>ST/C&amp;L</td>\n",
       "      <td>USCATCU</td>\n",
       "      <td>Tuolumne-Calaveras Unit</td>\n",
       "      <td>CATCU</td>\n",
       "      <td>Tuolumne-Calaveras Unit</td>\n",
       "      <td>...</td>\n",
       "      <td>Central California Valley</td>\n",
       "      <td>11.1</td>\n",
       "      <td>MEDITERRANEAN CALIFORNIA</td>\n",
       "      <td>11</td>\n",
       "      <td>MEDITERRANEAN CALIFORNIA</td>\n",
       "      <td>7  Central California Valley</td>\n",
       "      <td>11.1  MEDITERRANEAN CALIFORNIA</td>\n",
       "      <td>11  MEDITERRANEAN CALIFORNIA</td>\n",
       "      <td>2.755557e+06</td>\n",
       "      <td>4.649020e+10</td>\n",
       "    </tr>\n",
       "    <tr>\n",
       "      <th>83910</th>\n",
       "      <td>1880464</td>\n",
       "      <td>300348377</td>\n",
       "      <td>2015CAIRS29218079</td>\n",
       "      <td>NONFED</td>\n",
       "      <td>ST-CACDF</td>\n",
       "      <td>ST/C&amp;L</td>\n",
       "      <td>USCATCU</td>\n",
       "      <td>Tuolumne-Calaveras Unit</td>\n",
       "      <td>CATCU</td>\n",
       "      <td>Tuolumne-Calaveras Unit</td>\n",
       "      <td>...</td>\n",
       "      <td>Central California Valley</td>\n",
       "      <td>11.1</td>\n",
       "      <td>MEDITERRANEAN CALIFORNIA</td>\n",
       "      <td>11</td>\n",
       "      <td>MEDITERRANEAN CALIFORNIA</td>\n",
       "      <td>7  Central California Valley</td>\n",
       "      <td>11.1  MEDITERRANEAN CALIFORNIA</td>\n",
       "      <td>11  MEDITERRANEAN CALIFORNIA</td>\n",
       "      <td>2.755557e+06</td>\n",
       "      <td>4.649020e+10</td>\n",
       "    </tr>\n",
       "    <tr>\n",
       "      <th>83911</th>\n",
       "      <td>1880465</td>\n",
       "      <td>300348399</td>\n",
       "      <td>2015CAIRS26733926</td>\n",
       "      <td>NONFED</td>\n",
       "      <td>ST-CACDF</td>\n",
       "      <td>ST/C&amp;L</td>\n",
       "      <td>USCABDU</td>\n",
       "      <td>San Bernardino Unit</td>\n",
       "      <td>CABDU</td>\n",
       "      <td>CDF - San Bernardino Unit</td>\n",
       "      <td>...</td>\n",
       "      <td>Southern and Baja California Pine-Oak Mountains</td>\n",
       "      <td>11.1</td>\n",
       "      <td>MEDITERRANEAN CALIFORNIA</td>\n",
       "      <td>11</td>\n",
       "      <td>MEDITERRANEAN CALIFORNIA</td>\n",
       "      <td>8  Southern California Mountains</td>\n",
       "      <td>11.1  MEDITERRANEAN CALIFORNIA</td>\n",
       "      <td>11  MEDITERRANEAN CALIFORNIA</td>\n",
       "      <td>1.118023e+06</td>\n",
       "      <td>1.207346e+10</td>\n",
       "    </tr>\n",
       "  </tbody>\n",
       "</table>\n",
       "<p>83912 rows × 73 columns</p>\n",
       "</div>"
      ],
      "text/plain": [
       "       OBJECTID     FOD_ID             FPA_ID SOURCE_SYSTEM_TYPE  \\\n",
       "0             1          1         FS-1418826                FED   \n",
       "1             8          8         FS-1418854                FED   \n",
       "2             9          9         FS-1418856                FED   \n",
       "3            77         78         FS-1419054                FED   \n",
       "4            88         89         FS-1419071                FED   \n",
       "...         ...        ...                ...                ...   \n",
       "83907   1880461  300348363  2015CAIRS29019636             NONFED   \n",
       "83908   1880462  300348373  2015CAIRS29217935             NONFED   \n",
       "83909   1880463  300348375  2015CAIRS28364460             NONFED   \n",
       "83910   1880464  300348377  2015CAIRS29218079             NONFED   \n",
       "83911   1880465  300348399  2015CAIRS26733926             NONFED   \n",
       "\n",
       "      SOURCE_SYSTEM NWCG_REPORTING_AGENCY NWCG_REPORTING_UNIT_ID  \\\n",
       "0       FS-FIRESTAT                    FS                USCAPNF   \n",
       "1       FS-FIRESTAT                    FS                USCASHF   \n",
       "2       FS-FIRESTAT                    FS                USCASHF   \n",
       "3       FS-FIRESTAT                    FS                USCASRF   \n",
       "4       FS-FIRESTAT                    FS                USCAANF   \n",
       "...             ...                   ...                    ...   \n",
       "83907      ST-CACDF                ST/C&L                USCASHU   \n",
       "83908      ST-CACDF                ST/C&L                USCATCU   \n",
       "83909      ST-CACDF                ST/C&L                USCATCU   \n",
       "83910      ST-CACDF                ST/C&L                USCATCU   \n",
       "83911      ST-CACDF                ST/C&L                USCABDU   \n",
       "\n",
       "             NWCG_REPORTING_UNIT_NAME SOURCE_REPORTING_UNIT  \\\n",
       "0              Plumas National Forest                  0511   \n",
       "1      Shasta-Trinity National Forest                  0514   \n",
       "2      Shasta-Trinity National Forest                  0514   \n",
       "3          Six Rivers National Forest                  0510   \n",
       "4             Angeles National Forest                  0501   \n",
       "...                               ...                   ...   \n",
       "83907             Shasta-Trinity Unit                 CASHU   \n",
       "83908         Tuolumne-Calaveras Unit                 CATCU   \n",
       "83909         Tuolumne-Calaveras Unit                 CATCU   \n",
       "83910         Tuolumne-Calaveras Unit                 CATCU   \n",
       "83911             San Bernardino Unit                 CABDU   \n",
       "\n",
       "           SOURCE_REPORTING_UNIT_NAME  ...  \\\n",
       "0              Plumas National Forest  ...   \n",
       "1      Shasta-Trinity National Forest  ...   \n",
       "2      Shasta-Trinity National Forest  ...   \n",
       "3          Six Rivers National Forest  ...   \n",
       "4             Angeles National Forest  ...   \n",
       "...                               ...  ...   \n",
       "83907             Shasta-Trinity Unit  ...   \n",
       "83908         Tuolumne-Calaveras Unit  ...   \n",
       "83909         Tuolumne-Calaveras Unit  ...   \n",
       "83910         Tuolumne-Calaveras Unit  ...   \n",
       "83911       CDF - San Bernardino Unit  ...   \n",
       "\n",
       "                                               NA_L3NAME NA_L2CODE  \\\n",
       "0                                          Sierra Nevada       6.2   \n",
       "1                                      Klamath Mountains       6.2   \n",
       "2                                      Klamath Mountains       6.2   \n",
       "3                                      Klamath Mountains       6.2   \n",
       "4        Southern and Baja California Pine-Oak Mountains      11.1   \n",
       "...                                                  ...       ...   \n",
       "83907  California Coastal Sage, Chaparral, and Oak Wo...      11.1   \n",
       "83908                          Central California Valley      11.1   \n",
       "83909                          Central California Valley      11.1   \n",
       "83910                          Central California Valley      11.1   \n",
       "83911    Southern and Baja California Pine-Oak Mountains      11.1   \n",
       "\n",
       "                      NA_L2NAME NA_L1CODE                        NA_L1NAME  \\\n",
       "0            WESTERN CORDILLERA         6  NORTHWESTERN FORESTED MOUNTAINS   \n",
       "1            WESTERN CORDILLERA         6  NORTHWESTERN FORESTED MOUNTAINS   \n",
       "2            WESTERN CORDILLERA         6  NORTHWESTERN FORESTED MOUNTAINS   \n",
       "3            WESTERN CORDILLERA         6  NORTHWESTERN FORESTED MOUNTAINS   \n",
       "4      MEDITERRANEAN CALIFORNIA        11         MEDITERRANEAN CALIFORNIA   \n",
       "...                         ...       ...                              ...   \n",
       "83907  MEDITERRANEAN CALIFORNIA        11         MEDITERRANEAN CALIFORNIA   \n",
       "83908  MEDITERRANEAN CALIFORNIA        11         MEDITERRANEAN CALIFORNIA   \n",
       "83909  MEDITERRANEAN CALIFORNIA        11         MEDITERRANEAN CALIFORNIA   \n",
       "83910  MEDITERRANEAN CALIFORNIA        11         MEDITERRANEAN CALIFORNIA   \n",
       "83911  MEDITERRANEAN CALIFORNIA        11         MEDITERRANEAN CALIFORNIA   \n",
       "\n",
       "                                                  L3_KEY  \\\n",
       "0                                       5  Sierra Nevada   \n",
       "1      78  Klamath Mountains/California High North Co...   \n",
       "2      78  Klamath Mountains/California High North Co...   \n",
       "3      78  Klamath Mountains/California High North Co...   \n",
       "4                       8  Southern California Mountains   \n",
       "...                                                  ...   \n",
       "83907  6  Central California Foothills and Coastal Mo...   \n",
       "83908                       7  Central California Valley   \n",
       "83909                       7  Central California Valley   \n",
       "83910                       7  Central California Valley   \n",
       "83911                   8  Southern California Mountains   \n",
       "\n",
       "                               L2_KEY                              L1_KEY  \\\n",
       "0             6.2  WESTERN CORDILLERA  6  NORTHWESTERN FORESTED MOUNTAINS   \n",
       "1             6.2  WESTERN CORDILLERA  6  NORTHWESTERN FORESTED MOUNTAINS   \n",
       "2             6.2  WESTERN CORDILLERA  6  NORTHWESTERN FORESTED MOUNTAINS   \n",
       "3             6.2  WESTERN CORDILLERA  6  NORTHWESTERN FORESTED MOUNTAINS   \n",
       "4      11.1  MEDITERRANEAN CALIFORNIA        11  MEDITERRANEAN CALIFORNIA   \n",
       "...                               ...                                 ...   \n",
       "83907  11.1  MEDITERRANEAN CALIFORNIA        11  MEDITERRANEAN CALIFORNIA   \n",
       "83908  11.1  MEDITERRANEAN CALIFORNIA        11  MEDITERRANEAN CALIFORNIA   \n",
       "83909  11.1  MEDITERRANEAN CALIFORNIA        11  MEDITERRANEAN CALIFORNIA   \n",
       "83910  11.1  MEDITERRANEAN CALIFORNIA        11  MEDITERRANEAN CALIFORNIA   \n",
       "83911  11.1  MEDITERRANEAN CALIFORNIA        11  MEDITERRANEAN CALIFORNIA   \n",
       "\n",
       "         Shape_Leng    Shape_Area  \n",
       "0      2.701704e+06  5.310270e+10  \n",
       "1      2.146616e+06  4.835824e+10  \n",
       "2      2.146616e+06  4.835824e+10  \n",
       "3      2.146616e+06  4.835824e+10  \n",
       "4      1.118023e+06  1.207346e+10  \n",
       "...             ...           ...  \n",
       "83907  6.969773e+06  7.665207e+10  \n",
       "83908  2.755557e+06  4.649020e+10  \n",
       "83909  2.755557e+06  4.649020e+10  \n",
       "83910  2.755557e+06  4.649020e+10  \n",
       "83911  1.118023e+06  1.207346e+10  \n",
       "\n",
       "[83912 rows x 73 columns]"
      ]
     },
     "execution_count": 114,
     "metadata": {},
     "output_type": "execute_result"
    }
   ],
   "source": [
    "%%time\n",
    "# subset of ecoregions columns to be joined:\n",
    "eco_columns = ['US_L3CODE', 'US_L3NAME', 'NA_L3CODE', 'NA_L3NAME', 'NA_L2CODE',\n",
    "       'NA_L2NAME', 'NA_L1CODE', 'NA_L1NAME', 'L3_KEY', 'L2_KEY', 'L1_KEY']\n",
    "\n",
    "#spatial join (based on location) of wildfires points to ecoregions polygons\n",
    "wildfires_gdf_ecojoin = gpd.tools.sjoin(wildfires_gdf, ecoregions_gdf, how=\"left\")\n",
    "wildfires_gdf_ecojoin"
   ]
  },
  {
   "cell_type": "code",
   "execution_count": 115,
   "metadata": {},
   "outputs": [],
   "source": [
    "wildfires_gdf = wildfires_gdf_ecojoin"
   ]
  },
  {
   "cell_type": "markdown",
   "metadata": {},
   "source": [
    "# FINAL REVIEW AND EXPORT"
   ]
  },
  {
   "cell_type": "markdown",
   "metadata": {},
   "source": [
    "I joined the following variables to the original wildfires dataset:\n",
    "* Joined variables (field name, units):\n",
    "    * Elevation (elevation, meters)\n",
    "    * Slope (slope, degrees)\n",
    "    * Aspect (aspect, degrees clockwise from north)\n",
    "    * Average daily max tempurature, prior week (max_temp, Celsius)\n",
    "    * Average daily dew point, prior week (dew_point, Celsius)\n",
    "    * Average monthly precipitation, prior year (mean_monthly_ppt, mm)\n",
    "    * Average wind speed, day of fire (wind_speed, meters/second)\n",
    "    * Vegetation Type\n",
    "        * Several columns\n",
    "    * Ecoregions\n",
    "        * Level I Ecoregion\n",
    "        * Level II Ecoregion\n",
    "        * Level III Ecoregion\n",
    "\n",
    "\n",
    "Here I complete a final review of the joined variables before exporting the final table as a CSV.\n",
    "* Confirm that all expected columns are in the final dataframe\n",
    "* Check null values for joined variables and confirm they are minimal. If they are, remove records with null values\n",
    "* Check summary statistics for each variable to determine if they are reasonable given the units they are in\n"
   ]
  },
  {
   "cell_type": "code",
   "execution_count": 116,
   "metadata": {},
   "outputs": [
    {
     "name": "stdout",
     "output_type": "stream",
     "text": [
      "<class 'geopandas.geodataframe.GeoDataFrame'>\n",
      "Int64Index: 83912 entries, 0 to 83911\n",
      "Data columns (total 73 columns):\n",
      " #   Column                      Non-Null Count  Dtype         \n",
      "---  ------                      --------------  -----         \n",
      " 0   OBJECTID                    83912 non-null  int64         \n",
      " 1   FOD_ID                      83912 non-null  int64         \n",
      " 2   FPA_ID                      83912 non-null  object        \n",
      " 3   SOURCE_SYSTEM_TYPE          83912 non-null  object        \n",
      " 4   SOURCE_SYSTEM               83912 non-null  object        \n",
      " 5   NWCG_REPORTING_AGENCY       83912 non-null  object        \n",
      " 6   NWCG_REPORTING_UNIT_ID      83912 non-null  object        \n",
      " 7   NWCG_REPORTING_UNIT_NAME    83912 non-null  object        \n",
      " 8   SOURCE_REPORTING_UNIT       83912 non-null  object        \n",
      " 9   SOURCE_REPORTING_UNIT_NAME  83912 non-null  object        \n",
      " 10  LOCAL_FIRE_REPORT_ID        29514 non-null  object        \n",
      " 11  LOCAL_INCIDENT_ID           69644 non-null  object        \n",
      " 12  FIRE_CODE                   30049 non-null  object        \n",
      " 13  FIRE_NAME                   72664 non-null  object        \n",
      " 14  ICS_209_INCIDENT_NUMBER     1853 non-null   object        \n",
      " 15  ICS_209_NAME                1853 non-null   object        \n",
      " 16  MTBS_ID                     559 non-null    object        \n",
      " 17  MTBS_FIRE_NAME              559 non-null    object        \n",
      " 18  COMPLEX_NAME                682 non-null    object        \n",
      " 19  FIRE_YEAR                   83912 non-null  int64         \n",
      " 20  DISCOVERY_DATE              83912 non-null  float64       \n",
      " 21  DISCOVERY_DOY               83912 non-null  int64         \n",
      " 22  DISCOVERY_TIME              62996 non-null  object        \n",
      " 23  STAT_CAUSE_CODE             83912 non-null  float64       \n",
      " 24  STAT_CAUSE_DESCR            83912 non-null  object        \n",
      " 25  CONT_DATE                   45149 non-null  float64       \n",
      " 26  CONT_DOY                    45149 non-null  float64       \n",
      " 27  CONT_TIME                   44607 non-null  object        \n",
      " 28  FIRE_SIZE                   83912 non-null  float64       \n",
      " 29  FIRE_SIZE_CLASS             83912 non-null  object        \n",
      " 30  LATITUDE                    83912 non-null  float64       \n",
      " 31  LONGITUDE                   83912 non-null  float64       \n",
      " 32  OWNER_CODE                  83912 non-null  float64       \n",
      " 33  OWNER_DESCR                 83912 non-null  object        \n",
      " 34  STATE                       83912 non-null  object        \n",
      " 35  COUNTY                      46021 non-null  object        \n",
      " 36  FIPS_CODE                   46021 non-null  object        \n",
      " 37  FIPS_NAME                   46021 non-null  object        \n",
      " 38  DISCOVERY_DT                83912 non-null  datetime64[ns]\n",
      " 39  geometry                    83912 non-null  geometry      \n",
      " 40  elevation                   83912 non-null  float64       \n",
      " 41  slope                       83912 non-null  float64       \n",
      " 42  aspect                      83912 non-null  float64       \n",
      " 43  mean_monthly_ppt            83909 non-null  float64       \n",
      " 44  dew_point                   83909 non-null  float64       \n",
      " 45  max_temp                    83909 non-null  float64       \n",
      " 46  wind_speed                  83912 non-null  float64       \n",
      " 47  VEG_CODE                    83912 non-null  int32         \n",
      " 48  WHRALL                      83816 non-null  object        \n",
      " 49  LIFE_FORM                   83816 non-null  object        \n",
      " 50  WHRNUM                      83816 non-null  float64       \n",
      " 51  WHRNAME                     83816 non-null  object        \n",
      " 52  WHRTYPE                     83816 non-null  object        \n",
      " 53  WHRSIZE                     83816 non-null  object        \n",
      " 54  WHRDENSITY                  83816 non-null  object        \n",
      " 55  WHR10NUM                    83816 non-null  float64       \n",
      " 56  WHR10NAME                   83816 non-null  object        \n",
      " 57  WHR13NUM                    83816 non-null  float64       \n",
      " 58  WHR13NAME                   83816 non-null  object        \n",
      " 59  index_right                 83806 non-null  float64       \n",
      " 60  US_L3CODE                   83806 non-null  object        \n",
      " 61  US_L3NAME                   83806 non-null  object        \n",
      " 62  NA_L3CODE                   83806 non-null  object        \n",
      " 63  NA_L3NAME                   83806 non-null  object        \n",
      " 64  NA_L2CODE                   83806 non-null  object        \n",
      " 65  NA_L2NAME                   83806 non-null  object        \n",
      " 66  NA_L1CODE                   83806 non-null  object        \n",
      " 67  NA_L1NAME                   83806 non-null  object        \n",
      " 68  L3_KEY                      83806 non-null  object        \n",
      " 69  L2_KEY                      83806 non-null  object        \n",
      " 70  L1_KEY                      83806 non-null  object        \n",
      " 71  Shape_Leng                  83806 non-null  float64       \n",
      " 72  Shape_Area                  83806 non-null  float64       \n",
      "dtypes: datetime64[ns](1), float64(21), geometry(1), int32(1), int64(4), object(45)\n",
      "memory usage: 47.1+ MB\n"
     ]
    }
   ],
   "source": [
    "wildfires_gdf.info()"
   ]
  },
  {
   "cell_type": "markdown",
   "metadata": {},
   "source": [
    "<b>Takeaways from .info():</b>\n",
    "* There are missing values in the fields from the original wildfires dataset. However, there are no values missing from the most important fields: DISCOVERY_DATE, FIRE_SIZE, FIRE_SIZE_CLASS, LATITUDE, LONGITUDE, and CAUSE\n",
    "* All fields appear to be in the expected data type\n",
    "* There are no missing values from the variables joined from GEE except for 3 records missing values from the precipitation, dew_point, and max_temp.\n",
    "* There are 96 rows missing values from the vegetation join and 106 missing values from the ecoregions join"
   ]
  },
  {
   "cell_type": "markdown",
   "metadata": {},
   "source": [
    "<b>Inspecting null weather variables</b>\n",
    "\n",
    "As these variables all come from the PRISM dataset which is clipped to CONUS, it is likely that these 3 wildfires do not overlap with any pixels in PRISM. Confirmed belowm will drop."
   ]
  },
  {
   "cell_type": "code",
   "execution_count": 118,
   "metadata": {},
   "outputs": [
    {
     "data": {
      "text/html": [
       "<div>\n",
       "<style scoped>\n",
       "    .dataframe tbody tr th:only-of-type {\n",
       "        vertical-align: middle;\n",
       "    }\n",
       "\n",
       "    .dataframe tbody tr th {\n",
       "        vertical-align: top;\n",
       "    }\n",
       "\n",
       "    .dataframe thead th {\n",
       "        text-align: right;\n",
       "    }\n",
       "</style>\n",
       "<table border=\"1\" class=\"dataframe\">\n",
       "  <thead>\n",
       "    <tr style=\"text-align: right;\">\n",
       "      <th></th>\n",
       "      <th>LATITUDE</th>\n",
       "      <th>LONGITUDE</th>\n",
       "      <th>dew_point</th>\n",
       "      <th>max_temp</th>\n",
       "      <th>mean_monthly_ppt</th>\n",
       "    </tr>\n",
       "  </thead>\n",
       "  <tbody>\n",
       "    <tr>\n",
       "      <th>10502</th>\n",
       "      <td>37.182561</td>\n",
       "      <td>-122.393861</td>\n",
       "      <td>NaN</td>\n",
       "      <td>NaN</td>\n",
       "      <td>NaN</td>\n",
       "    </tr>\n",
       "    <tr>\n",
       "      <th>17552</th>\n",
       "      <td>40.716700</td>\n",
       "      <td>-124.261400</td>\n",
       "      <td>NaN</td>\n",
       "      <td>NaN</td>\n",
       "      <td>NaN</td>\n",
       "    </tr>\n",
       "    <tr>\n",
       "      <th>65922</th>\n",
       "      <td>37.183333</td>\n",
       "      <td>-122.391000</td>\n",
       "      <td>NaN</td>\n",
       "      <td>NaN</td>\n",
       "      <td>NaN</td>\n",
       "    </tr>\n",
       "  </tbody>\n",
       "</table>\n",
       "</div>"
      ],
      "text/plain": [
       "        LATITUDE   LONGITUDE  dew_point  max_temp  mean_monthly_ppt\n",
       "10502  37.182561 -122.393861        NaN       NaN               NaN\n",
       "17552  40.716700 -124.261400        NaN       NaN               NaN\n",
       "65922  37.183333 -122.391000        NaN       NaN               NaN"
      ]
     },
     "execution_count": 118,
     "metadata": {},
     "output_type": "execute_result"
    }
   ],
   "source": [
    "#confirming that points with missing values are in boundary areas\n",
    "wildfires_missing_PRISM = wildfires_gdf[wildfires_gdf['dew_point'].isnull()]\n",
    "wildfires_missing_PRISM.loc[:,['LATITUDE','LONGITUDE','dew_point','max_temp','mean_monthly_ppt']]"
   ]
  },
  {
   "cell_type": "markdown",
   "metadata": {},
   "source": [
    "<b>Inspecting null vegetation variables</b>"
   ]
  },
  {
   "cell_type": "code",
   "execution_count": 127,
   "metadata": {},
   "outputs": [],
   "source": [
    "#selecting wildfires with missing vegetation attributes for inspecting in QGIS\n",
    "wildfires_missing_veg = wildfires_gdf[wildfires_gdf['WHRALL'].isnull()]\n",
    "wildfires_missing_veg = wildfires_missing_veg.loc[:,['LATITUDE','LONGITUDE','OBJECTID','geometry']]\n",
    "wildfires_missing_veg.to_file(\"Datasets/QA_shapefiles/wildfires_missing_veg.shp\")"
   ]
  },
  {
   "cell_type": "markdown",
   "metadata": {},
   "source": [
    "After inspecting the points in QGIS, it appears that these points were all incorrectly categorized in the original dataset as being in California, but their lat/long coordinates are actually just outside the state. Since the vegetation dataset only covers Califoria, these points recieved null values when sampling the vegetation raster. As these points are not actually in California, they will be dropped."
   ]
  },
  {
   "cell_type": "markdown",
   "metadata": {},
   "source": [
    "<b>Inspecting null ecoregion variables</b>"
   ]
  },
  {
   "cell_type": "code",
   "execution_count": 128,
   "metadata": {},
   "outputs": [],
   "source": [
    "#selecting wildfires with missing ecoregion attributes for inspecting in QGIS\n",
    "wildfires_missing_eco = wildfires_gdf[wildfires_gdf['US_L3CODE'].isnull()]\n",
    "wildfires_missing_eco = wildfires_missing_eco.loc[:,['LATITUDE','LONGITUDE','OBJECTID','geometry']]\n",
    "wildfires_missing_eco.to_file(\"Datasets/QA_shapefiles/wildfires_missing_eco.shp\")"
   ]
  },
  {
   "cell_type": "markdown",
   "metadata": {},
   "source": [
    "After inspecting the points in QGIS, it appears that these points are all on the coast, or on islands off the coast. Since the ecoregions shapefile does not include these areas, these points recieve null values. As these points are not in areas of concern and are a small proportion of the overall total, they will be dropped."
   ]
  },
  {
   "cell_type": "markdown",
   "metadata": {},
   "source": [
    "<b>Dropping rows with null values for weather, vegetation, or ecoregion variables</b>\n",
    "\n",
    "In total, 178 rows out of 83912 (0.21%) are dropped."
   ]
  },
  {
   "cell_type": "code",
   "execution_count": 155,
   "metadata": {},
   "outputs": [
    {
     "name": "stdout",
     "output_type": "stream",
     "text": [
      "<class 'geopandas.geodataframe.GeoDataFrame'>\n",
      "Int64Index: 83734 entries, 0 to 83911\n",
      "Data columns (total 73 columns):\n",
      " #   Column                      Non-Null Count  Dtype         \n",
      "---  ------                      --------------  -----         \n",
      " 0   OBJECTID                    83734 non-null  int64         \n",
      " 1   FOD_ID                      83734 non-null  int64         \n",
      " 2   FPA_ID                      83734 non-null  object        \n",
      " 3   SOURCE_SYSTEM_TYPE          83734 non-null  object        \n",
      " 4   SOURCE_SYSTEM               83734 non-null  object        \n",
      " 5   NWCG_REPORTING_AGENCY       83734 non-null  object        \n",
      " 6   NWCG_REPORTING_UNIT_ID      83734 non-null  object        \n",
      " 7   NWCG_REPORTING_UNIT_NAME    83734 non-null  object        \n",
      " 8   SOURCE_REPORTING_UNIT       83734 non-null  object        \n",
      " 9   SOURCE_REPORTING_UNIT_NAME  83734 non-null  object        \n",
      " 10  LOCAL_FIRE_REPORT_ID        29414 non-null  object        \n",
      " 11  LOCAL_INCIDENT_ID           69583 non-null  object        \n",
      " 12  FIRE_CODE                   29935 non-null  object        \n",
      " 13  FIRE_NAME                   72496 non-null  object        \n",
      " 14  ICS_209_INCIDENT_NUMBER     1849 non-null   object        \n",
      " 15  ICS_209_NAME                1849 non-null   object        \n",
      " 16  MTBS_ID                     558 non-null    object        \n",
      " 17  MTBS_FIRE_NAME              558 non-null    object        \n",
      " 18  COMPLEX_NAME                681 non-null    object        \n",
      " 19  FIRE_YEAR                   83734 non-null  int64         \n",
      " 20  DISCOVERY_DATE              83734 non-null  float64       \n",
      " 21  DISCOVERY_DOY               83734 non-null  int64         \n",
      " 22  DISCOVERY_TIME              62828 non-null  object        \n",
      " 23  STAT_CAUSE_CODE             83734 non-null  float64       \n",
      " 24  STAT_CAUSE_DESCR            83734 non-null  object        \n",
      " 25  CONT_DATE                   45009 non-null  float64       \n",
      " 26  CONT_DOY                    45009 non-null  float64       \n",
      " 27  CONT_TIME                   44468 non-null  object        \n",
      " 28  FIRE_SIZE                   83734 non-null  float64       \n",
      " 29  FIRE_SIZE_CLASS             83734 non-null  object        \n",
      " 30  LATITUDE                    83734 non-null  float64       \n",
      " 31  LONGITUDE                   83734 non-null  float64       \n",
      " 32  OWNER_CODE                  83734 non-null  float64       \n",
      " 33  OWNER_DESCR                 83734 non-null  object        \n",
      " 34  STATE                       83734 non-null  object        \n",
      " 35  COUNTY                      45960 non-null  object        \n",
      " 36  FIPS_CODE                   45960 non-null  object        \n",
      " 37  FIPS_NAME                   45960 non-null  object        \n",
      " 38  DISCOVERY_DT                83734 non-null  datetime64[ns]\n",
      " 39  geometry                    83734 non-null  geometry      \n",
      " 40  elevation                   83734 non-null  float64       \n",
      " 41  slope                       83734 non-null  float64       \n",
      " 42  aspect                      83734 non-null  float64       \n",
      " 43  mean_monthly_ppt            83734 non-null  float64       \n",
      " 44  dew_point                   83734 non-null  float64       \n",
      " 45  max_temp                    83734 non-null  float64       \n",
      " 46  wind_speed                  83734 non-null  float64       \n",
      " 47  VEG_CODE                    83734 non-null  int32         \n",
      " 48  WHRALL                      83734 non-null  object        \n",
      " 49  LIFE_FORM                   83734 non-null  object        \n",
      " 50  WHRNUM                      83734 non-null  float64       \n",
      " 51  WHRNAME                     83734 non-null  object        \n",
      " 52  WHRTYPE                     83734 non-null  object        \n",
      " 53  WHRSIZE                     83734 non-null  object        \n",
      " 54  WHRDENSITY                  83734 non-null  object        \n",
      " 55  WHR10NUM                    83734 non-null  float64       \n",
      " 56  WHR10NAME                   83734 non-null  object        \n",
      " 57  WHR13NUM                    83734 non-null  float64       \n",
      " 58  WHR13NAME                   83734 non-null  object        \n",
      " 59  index_right                 83734 non-null  float64       \n",
      " 60  US_L3CODE                   83734 non-null  object        \n",
      " 61  US_L3NAME                   83734 non-null  object        \n",
      " 62  NA_L3CODE                   83734 non-null  object        \n",
      " 63  NA_L3NAME                   83734 non-null  object        \n",
      " 64  NA_L2CODE                   83734 non-null  object        \n",
      " 65  NA_L2NAME                   83734 non-null  object        \n",
      " 66  NA_L1CODE                   83734 non-null  object        \n",
      " 67  NA_L1NAME                   83734 non-null  object        \n",
      " 68  L3_KEY                      83734 non-null  object        \n",
      " 69  L2_KEY                      83734 non-null  object        \n",
      " 70  L1_KEY                      83734 non-null  object        \n",
      " 71  Shape_Leng                  83734 non-null  float64       \n",
      " 72  Shape_Area                  83734 non-null  float64       \n",
      "dtypes: datetime64[ns](1), float64(21), geometry(1), int32(1), int64(4), object(45)\n",
      "memory usage: 47.0+ MB\n"
     ]
    }
   ],
   "source": [
    "#dropping wildfires with null values\n",
    "wildfires_gdf_final = wildfires_gdf.dropna(axis=0, subset=['dew_point','WHRALL','US_L3CODE'])\n",
    "\n",
    "#drop geometry column from GEE so geopandas doesn't confuse the columns\n",
    "\n",
    "wildfires_gdf_final.info()"
   ]
  },
  {
   "cell_type": "markdown",
   "metadata": {},
   "source": [
    "## Final Export\n",
    "\n",
    "Exporting dataframe with all joined variables and nulls dropped to CSV for use in next step."
   ]
  },
  {
   "cell_type": "code",
   "execution_count": 166,
   "metadata": {},
   "outputs": [],
   "source": [
    "#dropping geometry column (can be recreated from lat long columns in the next step)\n",
    "wildfires_gdf_final = wildfires_gdf_final.drop(['geometry'], axis='columns')\n",
    "\n",
    "wildfires_gdf_final.to_csv(\"Datasets/wildfires_withvars.csv\")"
   ]
  },
  {
   "cell_type": "markdown",
   "metadata": {},
   "source": [
    "## SCRATCH"
   ]
  },
  {
   "cell_type": "code",
   "execution_count": 172,
   "metadata": {},
   "outputs": [],
   "source": [
    "test_gdf = gpd.GeoDataFrame(test, geometry=gpd.points_from_xy(test.LONGITUDE, test.LATITUDE), crs='EPSG:4269')"
   ]
  },
  {
   "cell_type": "code",
   "execution_count": 173,
   "metadata": {},
   "outputs": [
    {
     "data": {
      "text/plain": [
       "<AxesSubplot:>"
      ]
     },
     "execution_count": 173,
     "metadata": {},
     "output_type": "execute_result"
    },
    {
     "data": {
      "image/png": "[encoded data removed]",
      "text/plain": [
       "<Figure size 432x288 with 1 Axes>"
      ]
     },
     "metadata": {
      "needs_background": "light"
     },
     "output_type": "display_data"
    }
   ],
   "source": [
    "test_gdf[test_gdf['FIRE_YEAR'] == 2005].plot()"
   ]
  }
 ],
 "metadata": {
  "kernelspec": {
   "display_name": "wildfire_project",
   "language": "python",
   "name": "wildfire_project"
  },
  "language_info": {
   "codemirror_mode": {
    "name": "ipython",
    "version": 3
   },
   "file_extension": ".py",
   "mimetype": "text/x-python",
   "name": "python",
   "nbconvert_exporter": "python",
   "pygments_lexer": "ipython3",
   "version": "3.8.5"
  }
 },
 "nbformat": 4,
 "nbformat_minor": 4
}
